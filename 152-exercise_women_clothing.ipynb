{
  "cells": [
    {
      "cell_type": "markdown",
      "metadata": {
        "id": "4iZhTJCu900D"
      },
      "source": [
        "# Women's clothing\n",
        "This is a women's clothing e-commerce dataset that contains reviews written by customers. Since this is genuine commercial data, it has been anonymized and references to the company in the review text and body have been replaced by \"dealer\".\n",
        "\n",
        "This dataset contains 23486 rows and 10 function variables. Each row corresponds to a customer rating and contains the following variables:\n",
        "\n",
        "* Clothing ID: ID that refers to the specific piece being rated.\n",
        "* Title: Title of the review.\n",
        "* Review Text: Review text.\n",
        "* Rating: Score assigned by the customer ranging from 1 (Worst) to 5 (Best).\n",
        "* Recommended IND: Indicates whether the customer recommends the product or not where 1 = recommended, 0 = not recommended.\n",
        "* Positive Feedback Count: The number of other customers who found this review positive.\n",
        "* Division Name: Name of the high-level product division.\n",
        "* Department Name: Name of the product department.\n",
        "* Class Name: Name of the product class.\n",
        "\n",
        "We want to predict the rating as a **regression problem**. "
      ]
    },
    {
      "cell_type": "code",
      "execution_count": 1,
      "metadata": {
        "colab": {
          "base_uri": "https://localhost:8080/"
        },
        "id": "hik9nDQtAFrc",
        "outputId": "640cf671-f92b-4a6d-99b9-19c6b28646d9"
      },
      "outputs": [
        {
          "name": "stdout",
          "output_type": "stream",
          "text": [
            "2.8.0\n"
          ]
        }
      ],
      "source": [
        "# Importing the necessary packages\n",
        "import numpy as np                                  # \"Scientific computing\"\n",
        "import scipy.stats as stats                         # Statistical tests\n",
        "\n",
        "import pandas as pd                                 # Data Frame\n",
        "from pandas.api.types import CategoricalDtype\n",
        "\n",
        "import matplotlib.pyplot as plt                     # Basic visualisation\n",
        "import seaborn as sns                               # Advanced data visualisation\n",
        "from sklearn.model_selection import cross_val_score\n",
        "from sklearn.compose import ColumnTransformer\n",
        "from sklearn.pipeline import Pipeline\n",
        "from sklearn.preprocessing import MinMaxScaler\n",
        "\n",
        "\n",
        "try:\n",
        "  # %tensorflow_version only exists in Colab.\n",
        "  %tensorflow_version 2.x\n",
        "except Exception:\n",
        "  pass\n",
        "\n",
        "# TensorFlow and tf.keras\n",
        "import tensorflow as tf\n",
        "from tensorflow import keras\n",
        "\n",
        "print(tf.__version__)\n",
        "\n",
        "# Helper libraries\n",
        "import numpy as np\n",
        "import matplotlib.pyplot as plt\n",
        "import sklearn as sk\n",
        "import pandas as pd\n",
        "\n",
        "# fix random seed for reproducibility\n",
        "seed = 2020\n",
        "np.random.seed(seed)  \n",
        "\n",
        "import sklearn as sk\n",
        "from sklearn.model_selection import train_test_split\n",
        "\n",
        "from tensorflow.keras.datasets import mnist\n",
        "from tensorflow.keras.models import Sequential\n",
        "from tensorflow.keras.layers import Dense, Dropout, Flatten, Embedding, Conv1D,  MaxPooling1D, GlobalMaxPooling1D\n",
        "from tensorflow.keras.optimizers import Adam\n",
        "from tensorflow.keras.constraints import max_norm\n",
        "from tensorflow.keras.models import load_model\n",
        "\n",
        "\n",
        "import nltk\n"
      ]
    },
    {
      "cell_type": "code",
      "execution_count": 2,
      "metadata": {
        "colab": {
          "base_uri": "https://localhost:8080/"
        },
        "id": "SAUWwKSaAI0q",
        "outputId": "1f777b27-bf9b-44e8-f492-9f48de41596c"
      },
      "outputs": [
        {
          "name": "stdout",
          "output_type": "stream",
          "text": [
            "You are not running on Google Colab\n"
          ]
        }
      ],
      "source": [
        "if 'google.colab' in str(get_ipython()):\n",
        "    colab = True\n",
        "    print ('You are running on Google Colab')\n",
        "else:\n",
        "    colab = False\n",
        "    print ('You are not running on Google Colab')\n",
        "\n",
        "if colab:\n",
        "    from google.colab import drive\n",
        "    drive.mount('/content/gdrive')"
      ]
    },
    {
      "cell_type": "markdown",
      "metadata": {
        "id": "hNaYwydBo-n3"
      },
      "source": [
        "Read the file"
      ]
    },
    {
      "cell_type": "code",
      "execution_count": 3,
      "metadata": {
        "colab": {
          "base_uri": "https://localhost:8080/",
          "height": 206
        },
        "id": "xTO2vRFi900I",
        "outputId": "ab750740-9716-45a7-eb42-5beb714731a7"
      },
      "outputs": [
        {
          "data": {
            "text/html": [
              "<div>\n",
              "<style scoped>\n",
              "    .dataframe tbody tr th:only-of-type {\n",
              "        vertical-align: middle;\n",
              "    }\n",
              "\n",
              "    .dataframe tbody tr th {\n",
              "        vertical-align: top;\n",
              "    }\n",
              "\n",
              "    .dataframe thead th {\n",
              "        text-align: right;\n",
              "    }\n",
              "</style>\n",
              "<table border=\"1\" class=\"dataframe\">\n",
              "  <thead>\n",
              "    <tr style=\"text-align: right;\">\n",
              "      <th></th>\n",
              "      <th>Unnamed: 0</th>\n",
              "      <th>Clothing ID</th>\n",
              "      <th>Age</th>\n",
              "      <th>Title</th>\n",
              "      <th>Review Text</th>\n",
              "      <th>Rating</th>\n",
              "      <th>Recommended IND</th>\n",
              "      <th>Positive Feedback Count</th>\n",
              "      <th>Division Name</th>\n",
              "      <th>Department Name</th>\n",
              "      <th>Class Name</th>\n",
              "    </tr>\n",
              "  </thead>\n",
              "  <tbody>\n",
              "    <tr>\n",
              "      <th>0</th>\n",
              "      <td>0</td>\n",
              "      <td>767</td>\n",
              "      <td>33</td>\n",
              "      <td>NaN</td>\n",
              "      <td>Absolutely wonderful - silky and sexy and comf...</td>\n",
              "      <td>4</td>\n",
              "      <td>1</td>\n",
              "      <td>0</td>\n",
              "      <td>Initmates</td>\n",
              "      <td>Intimate</td>\n",
              "      <td>Intimates</td>\n",
              "    </tr>\n",
              "    <tr>\n",
              "      <th>1</th>\n",
              "      <td>1</td>\n",
              "      <td>1080</td>\n",
              "      <td>34</td>\n",
              "      <td>NaN</td>\n",
              "      <td>Love this dress!  it's sooo pretty.  i happene...</td>\n",
              "      <td>5</td>\n",
              "      <td>1</td>\n",
              "      <td>4</td>\n",
              "      <td>General</td>\n",
              "      <td>Dresses</td>\n",
              "      <td>Dresses</td>\n",
              "    </tr>\n",
              "    <tr>\n",
              "      <th>2</th>\n",
              "      <td>2</td>\n",
              "      <td>1077</td>\n",
              "      <td>60</td>\n",
              "      <td>Some major design flaws</td>\n",
              "      <td>I had such high hopes for this dress and reall...</td>\n",
              "      <td>3</td>\n",
              "      <td>0</td>\n",
              "      <td>0</td>\n",
              "      <td>General</td>\n",
              "      <td>Dresses</td>\n",
              "      <td>Dresses</td>\n",
              "    </tr>\n",
              "    <tr>\n",
              "      <th>3</th>\n",
              "      <td>3</td>\n",
              "      <td>1049</td>\n",
              "      <td>50</td>\n",
              "      <td>My favorite buy!</td>\n",
              "      <td>I love, love, love this jumpsuit. it's fun, fl...</td>\n",
              "      <td>5</td>\n",
              "      <td>1</td>\n",
              "      <td>0</td>\n",
              "      <td>General Petite</td>\n",
              "      <td>Bottoms</td>\n",
              "      <td>Pants</td>\n",
              "    </tr>\n",
              "    <tr>\n",
              "      <th>4</th>\n",
              "      <td>4</td>\n",
              "      <td>847</td>\n",
              "      <td>47</td>\n",
              "      <td>Flattering shirt</td>\n",
              "      <td>This shirt is very flattering to all due to th...</td>\n",
              "      <td>5</td>\n",
              "      <td>1</td>\n",
              "      <td>6</td>\n",
              "      <td>General</td>\n",
              "      <td>Tops</td>\n",
              "      <td>Blouses</td>\n",
              "    </tr>\n",
              "  </tbody>\n",
              "</table>\n",
              "</div>"
            ],
            "text/plain": [
              "   Unnamed: 0  Clothing ID  Age                    Title  \\\n",
              "0           0          767   33                      NaN   \n",
              "1           1         1080   34                      NaN   \n",
              "2           2         1077   60  Some major design flaws   \n",
              "3           3         1049   50         My favorite buy!   \n",
              "4           4          847   47         Flattering shirt   \n",
              "\n",
              "                                         Review Text  Rating  Recommended IND  \\\n",
              "0  Absolutely wonderful - silky and sexy and comf...       4                1   \n",
              "1  Love this dress!  it's sooo pretty.  i happene...       5                1   \n",
              "2  I had such high hopes for this dress and reall...       3                0   \n",
              "3  I love, love, love this jumpsuit. it's fun, fl...       5                1   \n",
              "4  This shirt is very flattering to all due to th...       5                1   \n",
              "\n",
              "   Positive Feedback Count   Division Name Department Name Class Name  \n",
              "0                        0       Initmates        Intimate  Intimates  \n",
              "1                        4         General         Dresses    Dresses  \n",
              "2                        0         General         Dresses    Dresses  \n",
              "3                        0  General Petite         Bottoms      Pants  \n",
              "4                        6         General            Tops    Blouses  "
            ]
          },
          "execution_count": 3,
          "metadata": {},
          "output_type": "execute_result"
        }
      ],
      "source": [
        "# load dataset\n",
        "data = pd.read_csv('https://raw.githubusercontent.com/jdecorte/machinelearning/main/datasets/WomensClothingECommerceReviews.csv')\n",
        "data.head()"
      ]
    },
    {
      "cell_type": "code",
      "execution_count": 4,
      "metadata": {},
      "outputs": [
        {
          "data": {
            "text/html": [
              "<div>\n",
              "<style scoped>\n",
              "    .dataframe tbody tr th:only-of-type {\n",
              "        vertical-align: middle;\n",
              "    }\n",
              "\n",
              "    .dataframe tbody tr th {\n",
              "        vertical-align: top;\n",
              "    }\n",
              "\n",
              "    .dataframe thead th {\n",
              "        text-align: right;\n",
              "    }\n",
              "</style>\n",
              "<table border=\"1\" class=\"dataframe\">\n",
              "  <thead>\n",
              "    <tr style=\"text-align: right;\">\n",
              "      <th></th>\n",
              "      <th>Unnamed: 0</th>\n",
              "      <th>Clothing ID</th>\n",
              "      <th>Age</th>\n",
              "      <th>Rating</th>\n",
              "      <th>Recommended IND</th>\n",
              "      <th>Positive Feedback Count</th>\n",
              "    </tr>\n",
              "  </thead>\n",
              "  <tbody>\n",
              "    <tr>\n",
              "      <th>count</th>\n",
              "      <td>23486.000000</td>\n",
              "      <td>23486.000000</td>\n",
              "      <td>23486.000000</td>\n",
              "      <td>23486.000000</td>\n",
              "      <td>23486.000000</td>\n",
              "      <td>23486.000000</td>\n",
              "    </tr>\n",
              "    <tr>\n",
              "      <th>mean</th>\n",
              "      <td>11742.500000</td>\n",
              "      <td>918.118709</td>\n",
              "      <td>43.198544</td>\n",
              "      <td>4.196032</td>\n",
              "      <td>0.822362</td>\n",
              "      <td>2.535936</td>\n",
              "    </tr>\n",
              "    <tr>\n",
              "      <th>std</th>\n",
              "      <td>6779.968547</td>\n",
              "      <td>203.298980</td>\n",
              "      <td>12.279544</td>\n",
              "      <td>1.110031</td>\n",
              "      <td>0.382216</td>\n",
              "      <td>5.702202</td>\n",
              "    </tr>\n",
              "    <tr>\n",
              "      <th>min</th>\n",
              "      <td>0.000000</td>\n",
              "      <td>0.000000</td>\n",
              "      <td>18.000000</td>\n",
              "      <td>1.000000</td>\n",
              "      <td>0.000000</td>\n",
              "      <td>0.000000</td>\n",
              "    </tr>\n",
              "    <tr>\n",
              "      <th>25%</th>\n",
              "      <td>5871.250000</td>\n",
              "      <td>861.000000</td>\n",
              "      <td>34.000000</td>\n",
              "      <td>4.000000</td>\n",
              "      <td>1.000000</td>\n",
              "      <td>0.000000</td>\n",
              "    </tr>\n",
              "    <tr>\n",
              "      <th>50%</th>\n",
              "      <td>11742.500000</td>\n",
              "      <td>936.000000</td>\n",
              "      <td>41.000000</td>\n",
              "      <td>5.000000</td>\n",
              "      <td>1.000000</td>\n",
              "      <td>1.000000</td>\n",
              "    </tr>\n",
              "    <tr>\n",
              "      <th>75%</th>\n",
              "      <td>17613.750000</td>\n",
              "      <td>1078.000000</td>\n",
              "      <td>52.000000</td>\n",
              "      <td>5.000000</td>\n",
              "      <td>1.000000</td>\n",
              "      <td>3.000000</td>\n",
              "    </tr>\n",
              "    <tr>\n",
              "      <th>max</th>\n",
              "      <td>23485.000000</td>\n",
              "      <td>1205.000000</td>\n",
              "      <td>99.000000</td>\n",
              "      <td>5.000000</td>\n",
              "      <td>1.000000</td>\n",
              "      <td>122.000000</td>\n",
              "    </tr>\n",
              "  </tbody>\n",
              "</table>\n",
              "</div>"
            ],
            "text/plain": [
              "         Unnamed: 0   Clothing ID           Age        Rating  \\\n",
              "count  23486.000000  23486.000000  23486.000000  23486.000000   \n",
              "mean   11742.500000    918.118709     43.198544      4.196032   \n",
              "std     6779.968547    203.298980     12.279544      1.110031   \n",
              "min        0.000000      0.000000     18.000000      1.000000   \n",
              "25%     5871.250000    861.000000     34.000000      4.000000   \n",
              "50%    11742.500000    936.000000     41.000000      5.000000   \n",
              "75%    17613.750000   1078.000000     52.000000      5.000000   \n",
              "max    23485.000000   1205.000000     99.000000      5.000000   \n",
              "\n",
              "       Recommended IND  Positive Feedback Count  \n",
              "count     23486.000000             23486.000000  \n",
              "mean          0.822362                 2.535936  \n",
              "std           0.382216                 5.702202  \n",
              "min           0.000000                 0.000000  \n",
              "25%           1.000000                 0.000000  \n",
              "50%           1.000000                 1.000000  \n",
              "75%           1.000000                 3.000000  \n",
              "max           1.000000               122.000000  "
            ]
          },
          "execution_count": 4,
          "metadata": {},
          "output_type": "execute_result"
        }
      ],
      "source": [
        "data.describe()"
      ]
    },
    {
      "cell_type": "markdown",
      "metadata": {
        "id": "CWCAvi4PpFtf"
      },
      "source": [
        "Merge the Title and the Review Text into 1 column Total_Text\n"
      ]
    },
    {
      "cell_type": "code",
      "execution_count": 5,
      "metadata": {
        "id": "kKcOuNq9pEpA"
      },
      "outputs": [],
      "source": []
    },
    {
      "cell_type": "markdown",
      "metadata": {
        "id": "TdHTnQUnQ7xu"
      },
      "source": [
        "Is this a skewed dataset?"
      ]
    },
    {
      "cell_type": "code",
      "execution_count": 8,
      "metadata": {
        "colab": {
          "base_uri": "https://localhost:8080/"
        },
        "id": "oSmXi81BJGBH",
        "outputId": "d30f32c9-039c-4bc0-deef-f16a19350c76"
      },
      "outputs": [
        {
          "data": {
            "text/plain": [
              "5    13131\n",
              "4     5077\n",
              "3     2871\n",
              "2     1565\n",
              "1      842\n",
              "Name: Rating, dtype: int64"
            ]
          },
          "execution_count": 8,
          "metadata": {},
          "output_type": "execute_result"
        }
      ],
      "source": []
    },
    {
      "cell_type": "markdown",
      "metadata": {
        "id": "QD-dGK1NQ_c_"
      },
      "source": [
        "Rating 5 is oversized. Remove randomly 2/3 of the Reviews with Rating = 5"
      ]
    },
    {
      "cell_type": "code",
      "execution_count": 12,
      "metadata": {
        "id": "6ieyinxoJGBQ"
      },
      "outputs": [],
      "source": []
    },
    {
      "cell_type": "code",
      "execution_count": 13,
      "metadata": {
        "id": "fJmNijouJGBQ"
      },
      "outputs": [],
      "source": []
    },
    {
      "cell_type": "code",
      "execution_count": 14,
      "metadata": {
        "colab": {
          "base_uri": "https://localhost:8080/"
        },
        "id": "QVUo-TLfJGBQ",
        "outputId": "14d52824-db16-466c-c159-f1b2bf2c30c2"
      },
      "outputs": [
        {
          "data": {
            "text/plain": [
              "4    5077\n",
              "5    4291\n",
              "3    2871\n",
              "2    1565\n",
              "1     842\n",
              "Name: Rating, dtype: int64"
            ]
          },
          "execution_count": 14,
          "metadata": {},
          "output_type": "execute_result"
        }
      ],
      "source": []
    },
    {
      "cell_type": "markdown",
      "metadata": {
        "id": "YGQ2axNh900O"
      },
      "source": [
        "Remove stop words and punctuations."
      ]
    },
    {
      "cell_type": "code",
      "execution_count": 15,
      "metadata": {
        "colab": {
          "base_uri": "https://localhost:8080/"
        },
        "id": "DnH3DaVmTaui",
        "outputId": "22c78c1a-f69e-412f-905c-8ccb6417c24d"
      },
      "outputs": [
        {
          "name": "stderr",
          "output_type": "stream",
          "text": [
            "[nltk_data] Downloading package stopwords to\n",
            "[nltk_data]     C:\\Users\\jcor864\\AppData\\Roaming\\nltk_data...\n",
            "[nltk_data]   Package stopwords is already up-to-date!\n",
            "[nltk_data] Downloading package punkt to\n",
            "[nltk_data]     C:\\Users\\jcor864\\AppData\\Roaming\\nltk_data...\n",
            "[nltk_data]   Package punkt is already up-to-date!\n",
            "C:\\Users\\jcor864\\AppData\\Local\\Temp\\ipykernel_22580\\1434885647.py:28: SettingWithCopyWarning: \n",
            "A value is trying to be set on a copy of a slice from a DataFrame.\n",
            "Try using .loc[row_indexer,col_indexer] = value instead\n",
            "\n",
            "See the caveats in the documentation: https://pandas.pydata.org/pandas-docs/stable/user_guide/indexing.html#returning-a-view-versus-a-copy\n",
            "  data['Total_Text'] = data['Total_Text'].apply(remove_stopwords_nl)\n"
          ]
        }
      ],
      "source": []
    },
    {
      "cell_type": "code",
      "execution_count": 16,
      "metadata": {
        "colab": {
          "base_uri": "https://localhost:8080/",
          "height": 354
        },
        "id": "NhSvbcYd900U",
        "outputId": "dcd173eb-4191-4956-de8d-78a7925beee4"
      },
      "outputs": [
        {
          "data": {
            "text/html": [
              "<div>\n",
              "<style scoped>\n",
              "    .dataframe tbody tr th:only-of-type {\n",
              "        vertical-align: middle;\n",
              "    }\n",
              "\n",
              "    .dataframe tbody tr th {\n",
              "        vertical-align: top;\n",
              "    }\n",
              "\n",
              "    .dataframe thead th {\n",
              "        text-align: right;\n",
              "    }\n",
              "</style>\n",
              "<table border=\"1\" class=\"dataframe\">\n",
              "  <thead>\n",
              "    <tr style=\"text-align: right;\">\n",
              "      <th></th>\n",
              "      <th>Unnamed: 0</th>\n",
              "      <th>Clothing ID</th>\n",
              "      <th>Age</th>\n",
              "      <th>Title</th>\n",
              "      <th>Review Text</th>\n",
              "      <th>Rating</th>\n",
              "      <th>Recommended IND</th>\n",
              "      <th>Positive Feedback Count</th>\n",
              "      <th>Division Name</th>\n",
              "      <th>Department Name</th>\n",
              "      <th>Class Name</th>\n",
              "      <th>Total_Text</th>\n",
              "      <th>rnd</th>\n",
              "    </tr>\n",
              "  </thead>\n",
              "  <tbody>\n",
              "    <tr>\n",
              "      <th>0</th>\n",
              "      <td>0</td>\n",
              "      <td>767</td>\n",
              "      <td>33</td>\n",
              "      <td>NaN</td>\n",
              "      <td>Absolutely wonderful - silky and sexy and comf...</td>\n",
              "      <td>4</td>\n",
              "      <td>1</td>\n",
              "      <td>0</td>\n",
              "      <td>Initmates</td>\n",
              "      <td>Intimate</td>\n",
              "      <td>Intimates</td>\n",
              "      <td>absolutely wonderful silky sexy comfortable</td>\n",
              "      <td>1</td>\n",
              "    </tr>\n",
              "    <tr>\n",
              "      <th>2</th>\n",
              "      <td>2</td>\n",
              "      <td>1077</td>\n",
              "      <td>60</td>\n",
              "      <td>Some major design flaws</td>\n",
              "      <td>I had such high hopes for this dress and reall...</td>\n",
              "      <td>3</td>\n",
              "      <td>0</td>\n",
              "      <td>0</td>\n",
              "      <td>General</td>\n",
              "      <td>Dresses</td>\n",
              "      <td>Dresses</td>\n",
              "      <td>high hopes dress really wanted work initially ...</td>\n",
              "      <td>0</td>\n",
              "    </tr>\n",
              "    <tr>\n",
              "      <th>3</th>\n",
              "      <td>3</td>\n",
              "      <td>1049</td>\n",
              "      <td>50</td>\n",
              "      <td>My favorite buy!</td>\n",
              "      <td>I love, love, love this jumpsuit. it's fun, fl...</td>\n",
              "      <td>5</td>\n",
              "      <td>1</td>\n",
              "      <td>0</td>\n",
              "      <td>General Petite</td>\n",
              "      <td>Bottoms</td>\n",
              "      <td>Pants</td>\n",
              "      <td>love love love jumpsuit 's fun flirty fabulous...</td>\n",
              "      <td>0</td>\n",
              "    </tr>\n",
              "    <tr>\n",
              "      <th>5</th>\n",
              "      <td>5</td>\n",
              "      <td>1080</td>\n",
              "      <td>49</td>\n",
              "      <td>Not for the very petite</td>\n",
              "      <td>I love tracy reese dresses, but this one is no...</td>\n",
              "      <td>2</td>\n",
              "      <td>0</td>\n",
              "      <td>4</td>\n",
              "      <td>General</td>\n",
              "      <td>Dresses</td>\n",
              "      <td>Dresses</td>\n",
              "      <td>love tracy reese dresses one petite 5 feet tal...</td>\n",
              "      <td>1</td>\n",
              "    </tr>\n",
              "    <tr>\n",
              "      <th>6</th>\n",
              "      <td>6</td>\n",
              "      <td>858</td>\n",
              "      <td>39</td>\n",
              "      <td>Cagrcoal shimmer fun</td>\n",
              "      <td>I aded this in my basket at hte last mintue to...</td>\n",
              "      <td>5</td>\n",
              "      <td>1</td>\n",
              "      <td>1</td>\n",
              "      <td>General Petite</td>\n",
              "      <td>Tops</td>\n",
              "      <td>Knits</td>\n",
              "      <td>aded basket hte last mintue see would look lik...</td>\n",
              "      <td>0</td>\n",
              "    </tr>\n",
              "  </tbody>\n",
              "</table>\n",
              "</div>"
            ],
            "text/plain": [
              "   Unnamed: 0  Clothing ID  Age                    Title  \\\n",
              "0           0          767   33                      NaN   \n",
              "2           2         1077   60  Some major design flaws   \n",
              "3           3         1049   50         My favorite buy!   \n",
              "5           5         1080   49  Not for the very petite   \n",
              "6           6          858   39     Cagrcoal shimmer fun   \n",
              "\n",
              "                                         Review Text  Rating  Recommended IND  \\\n",
              "0  Absolutely wonderful - silky and sexy and comf...       4                1   \n",
              "2  I had such high hopes for this dress and reall...       3                0   \n",
              "3  I love, love, love this jumpsuit. it's fun, fl...       5                1   \n",
              "5  I love tracy reese dresses, but this one is no...       2                0   \n",
              "6  I aded this in my basket at hte last mintue to...       5                1   \n",
              "\n",
              "   Positive Feedback Count   Division Name Department Name Class Name  \\\n",
              "0                        0       Initmates        Intimate  Intimates   \n",
              "2                        0         General         Dresses    Dresses   \n",
              "3                        0  General Petite         Bottoms      Pants   \n",
              "5                        4         General         Dresses    Dresses   \n",
              "6                        1  General Petite            Tops      Knits   \n",
              "\n",
              "                                          Total_Text  rnd  \n",
              "0        absolutely wonderful silky sexy comfortable    1  \n",
              "2  high hopes dress really wanted work initially ...    0  \n",
              "3  love love love jumpsuit 's fun flirty fabulous...    0  \n",
              "5  love tracy reese dresses one petite 5 feet tal...    1  \n",
              "6  aded basket hte last mintue see would look lik...    0  "
            ]
          },
          "execution_count": 16,
          "metadata": {},
          "output_type": "execute_result"
        }
      ],
      "source": []
    },
    {
      "cell_type": "markdown",
      "metadata": {
        "id": "-_FsJr0kiNQM"
      },
      "source": [
        "## Using pre-trained word embeddings"
      ]
    },
    {
      "cell_type": "markdown",
      "metadata": {
        "id": "bEwn5TS7gXzr"
      },
      "source": [
        "What is the average length of the Text. This will be important when we need to truncate the sequences to a maximum length?  \n",
        "75% of the Text's consist of how many words?"
      ]
    },
    {
      "cell_type": "code",
      "execution_count": 17,
      "metadata": {
        "colab": {
          "base_uri": "https://localhost:8080/",
          "height": 354
        },
        "id": "k26dNc4dg1Qp",
        "outputId": "47fcde04-5101-4b74-a83a-922aa3eb8d4c"
      },
      "outputs": [
        {
          "name": "stderr",
          "output_type": "stream",
          "text": [
            "C:\\Users\\jcor864\\AppData\\Local\\Temp\\ipykernel_22580\\2857146654.py:2: SettingWithCopyWarning: \n",
            "A value is trying to be set on a copy of a slice from a DataFrame.\n",
            "Try using .loc[row_indexer,col_indexer] = value instead\n",
            "\n",
            "See the caveats in the documentation: https://pandas.pydata.org/pandas-docs/stable/user_guide/indexing.html#returning-a-view-versus-a-copy\n",
            "  data['numberOfWords'] = data.Total_Text.str.split().apply(len)\n"
          ]
        },
        {
          "data": {
            "text/html": [
              "<div>\n",
              "<style scoped>\n",
              "    .dataframe tbody tr th:only-of-type {\n",
              "        vertical-align: middle;\n",
              "    }\n",
              "\n",
              "    .dataframe tbody tr th {\n",
              "        vertical-align: top;\n",
              "    }\n",
              "\n",
              "    .dataframe thead th {\n",
              "        text-align: right;\n",
              "    }\n",
              "</style>\n",
              "<table border=\"1\" class=\"dataframe\">\n",
              "  <thead>\n",
              "    <tr style=\"text-align: right;\">\n",
              "      <th></th>\n",
              "      <th>Unnamed: 0</th>\n",
              "      <th>Clothing ID</th>\n",
              "      <th>Age</th>\n",
              "      <th>Title</th>\n",
              "      <th>Review Text</th>\n",
              "      <th>Rating</th>\n",
              "      <th>Recommended IND</th>\n",
              "      <th>Positive Feedback Count</th>\n",
              "      <th>Division Name</th>\n",
              "      <th>Department Name</th>\n",
              "      <th>Class Name</th>\n",
              "      <th>Total_Text</th>\n",
              "      <th>rnd</th>\n",
              "      <th>numberOfWords</th>\n",
              "    </tr>\n",
              "  </thead>\n",
              "  <tbody>\n",
              "    <tr>\n",
              "      <th>0</th>\n",
              "      <td>0</td>\n",
              "      <td>767</td>\n",
              "      <td>33</td>\n",
              "      <td>NaN</td>\n",
              "      <td>Absolutely wonderful - silky and sexy and comf...</td>\n",
              "      <td>4</td>\n",
              "      <td>1</td>\n",
              "      <td>0</td>\n",
              "      <td>Initmates</td>\n",
              "      <td>Intimate</td>\n",
              "      <td>Intimates</td>\n",
              "      <td>absolutely wonderful silky sexy comfortable</td>\n",
              "      <td>1</td>\n",
              "      <td>5</td>\n",
              "    </tr>\n",
              "    <tr>\n",
              "      <th>2</th>\n",
              "      <td>2</td>\n",
              "      <td>1077</td>\n",
              "      <td>60</td>\n",
              "      <td>Some major design flaws</td>\n",
              "      <td>I had such high hopes for this dress and reall...</td>\n",
              "      <td>3</td>\n",
              "      <td>0</td>\n",
              "      <td>0</td>\n",
              "      <td>General</td>\n",
              "      <td>Dresses</td>\n",
              "      <td>Dresses</td>\n",
              "      <td>high hopes dress really wanted work initially ...</td>\n",
              "      <td>0</td>\n",
              "      <td>52</td>\n",
              "    </tr>\n",
              "    <tr>\n",
              "      <th>3</th>\n",
              "      <td>3</td>\n",
              "      <td>1049</td>\n",
              "      <td>50</td>\n",
              "      <td>My favorite buy!</td>\n",
              "      <td>I love, love, love this jumpsuit. it's fun, fl...</td>\n",
              "      <td>5</td>\n",
              "      <td>1</td>\n",
              "      <td>0</td>\n",
              "      <td>General Petite</td>\n",
              "      <td>Bottoms</td>\n",
              "      <td>Pants</td>\n",
              "      <td>love love love jumpsuit 's fun flirty fabulous...</td>\n",
              "      <td>0</td>\n",
              "      <td>15</td>\n",
              "    </tr>\n",
              "    <tr>\n",
              "      <th>5</th>\n",
              "      <td>5</td>\n",
              "      <td>1080</td>\n",
              "      <td>49</td>\n",
              "      <td>Not for the very petite</td>\n",
              "      <td>I love tracy reese dresses, but this one is no...</td>\n",
              "      <td>2</td>\n",
              "      <td>0</td>\n",
              "      <td>4</td>\n",
              "      <td>General</td>\n",
              "      <td>Dresses</td>\n",
              "      <td>Dresses</td>\n",
              "      <td>love tracy reese dresses one petite 5 feet tal...</td>\n",
              "      <td>1</td>\n",
              "      <td>41</td>\n",
              "    </tr>\n",
              "    <tr>\n",
              "      <th>6</th>\n",
              "      <td>6</td>\n",
              "      <td>858</td>\n",
              "      <td>39</td>\n",
              "      <td>Cagrcoal shimmer fun</td>\n",
              "      <td>I aded this in my basket at hte last mintue to...</td>\n",
              "      <td>5</td>\n",
              "      <td>1</td>\n",
              "      <td>1</td>\n",
              "      <td>General Petite</td>\n",
              "      <td>Tops</td>\n",
              "      <td>Knits</td>\n",
              "      <td>aded basket hte last mintue see would look lik...</td>\n",
              "      <td>0</td>\n",
              "      <td>57</td>\n",
              "    </tr>\n",
              "  </tbody>\n",
              "</table>\n",
              "</div>"
            ],
            "text/plain": [
              "   Unnamed: 0  Clothing ID  Age                    Title  \\\n",
              "0           0          767   33                      NaN   \n",
              "2           2         1077   60  Some major design flaws   \n",
              "3           3         1049   50         My favorite buy!   \n",
              "5           5         1080   49  Not for the very petite   \n",
              "6           6          858   39     Cagrcoal shimmer fun   \n",
              "\n",
              "                                         Review Text  Rating  Recommended IND  \\\n",
              "0  Absolutely wonderful - silky and sexy and comf...       4                1   \n",
              "2  I had such high hopes for this dress and reall...       3                0   \n",
              "3  I love, love, love this jumpsuit. it's fun, fl...       5                1   \n",
              "5  I love tracy reese dresses, but this one is no...       2                0   \n",
              "6  I aded this in my basket at hte last mintue to...       5                1   \n",
              "\n",
              "   Positive Feedback Count   Division Name Department Name Class Name  \\\n",
              "0                        0       Initmates        Intimate  Intimates   \n",
              "2                        0         General         Dresses    Dresses   \n",
              "3                        0  General Petite         Bottoms      Pants   \n",
              "5                        4         General         Dresses    Dresses   \n",
              "6                        1  General Petite            Tops      Knits   \n",
              "\n",
              "                                          Total_Text  rnd  numberOfWords  \n",
              "0        absolutely wonderful silky sexy comfortable    1              5  \n",
              "2  high hopes dress really wanted work initially ...    0             52  \n",
              "3  love love love jumpsuit 's fun flirty fabulous...    0             15  \n",
              "5  love tracy reese dresses one petite 5 feet tal...    1             41  \n",
              "6  aded basket hte last mintue see would look lik...    0             57  "
            ]
          },
          "execution_count": 17,
          "metadata": {},
          "output_type": "execute_result"
        }
      ],
      "source": []
    },
    {
      "cell_type": "code",
      "execution_count": 18,
      "metadata": {
        "colab": {
          "base_uri": "https://localhost:8080/"
        },
        "id": "c5oro8fYgYC_",
        "outputId": "4427782d-88a3-41c9-9a3e-bbc68524ccbb"
      },
      "outputs": [
        {
          "data": {
            "text/plain": [
              "count    14646.000000\n",
              "mean        30.779667\n",
              "std         15.419957\n",
              "min          1.000000\n",
              "25%         18.000000\n",
              "50%         30.000000\n",
              "75%         45.000000\n",
              "max         73.000000\n",
              "Name: numberOfWords, dtype: float64"
            ]
          },
          "execution_count": 18,
          "metadata": {},
          "output_type": "execute_result"
        }
      ],
      "source": []
    },
    {
      "cell_type": "markdown",
      "metadata": {
        "id": "ppgvflqqnh0-"
      },
      "source": [
        "What is X_train, y_train, X_test, y_test?"
      ]
    },
    {
      "cell_type": "code",
      "execution_count": 20,
      "metadata": {
        "id": "CKsiVShZkP9K"
      },
      "outputs": [],
      "source": []
    },
    {
      "cell_type": "markdown",
      "metadata": {
        "id": "FIWgtlmmnuek"
      },
      "source": [
        "What is X_train, y_train, X_val, y_val?"
      ]
    },
    {
      "cell_type": "code",
      "execution_count": 21,
      "metadata": {
        "id": "ceIjK_G3n0nL"
      },
      "outputs": [],
      "source": []
    },
    {
      "cell_type": "markdown",
      "metadata": {
        "id": "G83ViT6hn3NE"
      },
      "source": [
        "What are the dimensions of X_train, X_val, X_test, y_train, y_val, y_test?"
      ]
    },
    {
      "cell_type": "code",
      "execution_count": 22,
      "metadata": {
        "colab": {
          "base_uri": "https://localhost:8080/"
        },
        "id": "tNhF4BKdn398",
        "outputId": "bd18490f-e781-4446-bf9e-a7c4cfb9464e"
      },
      "outputs": [
        {
          "name": "stdout",
          "output_type": "stream",
          "text": [
            "Shape of x_train: (9372,)\n",
            "Shape of x_test: (2930,)\n",
            "Shape of x_val: (2344,)\n",
            "Shape of y_train: (9372,)\n",
            "Shape of y_test: (2930,)\n",
            "Shape of y_val: (2344,)\n"
          ]
        }
      ],
      "source": []
    },
    {
      "cell_type": "markdown",
      "metadata": {
        "id": "gS6e2fBFoQbV"
      },
      "source": [
        "Transform X_train, X_val and X_test into an array"
      ]
    },
    {
      "cell_type": "code",
      "execution_count": 23,
      "metadata": {
        "colab": {
          "base_uri": "https://localhost:8080/"
        },
        "id": "fakcRHRCkP9K",
        "outputId": "28484f48-92f8-4cc8-a169-a3b9491d80e8"
      },
      "outputs": [
        {
          "name": "stdout",
          "output_type": "stream",
          "text": [
            "X_train shape: (9372,)\n",
            "<class 'numpy.ndarray'>\n"
          ]
        }
      ],
      "source": []
    },
    {
      "cell_type": "markdown",
      "metadata": {
        "id": "IEeYjwoIkP9L"
      },
      "source": [
        "### Create a vocabulary index\n",
        "\n",
        "Use the TextVectorization to index the vocabulary found in the dataset. Later, the same layer instance will be used to vectorize the samples.\n",
        "\n",
        "The layer will only consider the top 60,000 words, and will truncate or pad sequences to be actually how many ? tokens long."
      ]
    },
    {
      "cell_type": "code",
      "execution_count": 24,
      "metadata": {
        "id": "XX306h1bkP9L"
      },
      "outputs": [],
      "source": []
    },
    {
      "cell_type": "markdown",
      "metadata": {
        "id": "_HYmyLy0pAyb"
      },
      "source": [
        "You can retrieve the computed vocabulary via vectorizer.get_vocabulary().  \n",
        "Print the top 100 words"
      ]
    },
    {
      "cell_type": "code",
      "execution_count": 25,
      "metadata": {
        "id": "-GH702DRkP9L"
      },
      "outputs": [
        {
          "data": {
            "text/plain": [
              "['', '[UNK]', 'dress', 'nt', 'size', 'like', 'top', 's', 'love', 'fit']"
            ]
          },
          "execution_count": 25,
          "metadata": {},
          "output_type": "execute_result"
        }
      ],
      "source": []
    },
    {
      "cell_type": "code",
      "execution_count": 26,
      "metadata": {
        "id": "K2_-I9LDSKMt"
      },
      "outputs": [],
      "source": []
    },
    {
      "cell_type": "markdown",
      "metadata": {
        "id": "6rvAyS5YkP9M"
      },
      "source": [
        "### Load pre-trained word embeddings\n"
      ]
    },
    {
      "cell_type": "markdown",
      "metadata": {
        "id": "cJE1M43ukP9M"
      },
      "source": [
        "Make a dict mapping words (strings) to their NumPy vector representation. Use the 300-dimensional vectors.  "
      ]
    },
    {
      "cell_type": "code",
      "execution_count": 49,
      "metadata": {
        "colab": {
          "base_uri": "https://localhost:8080/"
        },
        "id": "0mvxd8KXkP9M",
        "outputId": "6f4b84fe-6355-43e2-b071-6b331493277a"
      },
      "outputs": [
        {
          "name": "stdout",
          "output_type": "stream",
          "text": [
            "Found 2196016 word vectors.\n"
          ]
        }
      ],
      "source": []
    },
    {
      "cell_type": "markdown",
      "metadata": {
        "id": "TWQdOBRIkP9M"
      },
      "source": [
        "Prepare a corresponding embedding matrix that can be ued in a Keras Embedding layer. It's a simple NumPy matrix where the entry at index i is the pre-trained vector for the word of index i in our vectorizer's vocabulary."
      ]
    },
    {
      "cell_type": "code",
      "execution_count": 56,
      "metadata": {
        "id": "GDClKnOdkP9N"
      },
      "outputs": [],
      "source": []
    },
    {
      "cell_type": "markdown",
      "metadata": {
        "id": "7_g0bRQgv_-f"
      },
      "source": [
        "What is the number of hits? What is the number of misses? Can you explain the sum of hits and misses?"
      ]
    },
    {
      "cell_type": "code",
      "execution_count": 51,
      "metadata": {
        "colab": {
          "base_uri": "https://localhost:8080/"
        },
        "id": "99eDWTYleiD7",
        "outputId": "ba378904-0622-4bf7-927d-81df929d4755"
      },
      "outputs": [
        {
          "name": "stdout",
          "output_type": "stream",
          "text": [
            "9478\n",
            "1623\n",
            "Converted 9478 words (1623 misses)\n"
          ]
        }
      ],
      "source": []
    },
    {
      "cell_type": "markdown",
      "metadata": {
        "id": "TMbEQRWdN16u"
      },
      "source": [
        "### Build the model\n",
        "\n",
        "First, convert our list-of-strings data to NumPy arrays of integer indices. The arrays are right-padded."
      ]
    },
    {
      "cell_type": "code",
      "execution_count": 52,
      "metadata": {
        "colab": {
          "base_uri": "https://localhost:8080/"
        },
        "id": "6CQGaIJu2rTu",
        "outputId": "de3a0003-2e70-4461-b51e-356d3ef101a2"
      },
      "outputs": [
        {
          "name": "stdout",
          "output_type": "stream",
          "text": [
            "(9372,)\n",
            "(2344,)\n",
            "(2930,)\n",
            "(9372, 50)\n",
            "(2344, 50)\n",
            "(2930, 50)\n"
          ]
        }
      ],
      "source": []
    },
    {
      "cell_type": "markdown",
      "metadata": {
        "id": "g7CgWtfGL3dP"
      },
      "source": [
        "Create a small ANN model to predict the rating (as a continuous number, not a class). \n",
        "\n",
        "Compile the model.\n",
        "\n",
        "Train the model.\n",
        "\n",
        "Evaluate the model"
      ]
    },
    {
      "cell_type": "code",
      "execution_count": 53,
      "metadata": {},
      "outputs": [],
      "source": [
        "keras.backend.clear_session()\n",
        "np.random.seed(42)\n",
        "tf.random.set_seed(42)"
      ]
    },
    {
      "cell_type": "code",
      "execution_count": 54,
      "metadata": {
        "id": "e79RKeMg1tKO"
      },
      "outputs": [],
      "source": [
        "\n"
      ]
    },
    {
      "cell_type": "code",
      "execution_count": 55,
      "metadata": {
        "colab": {
          "base_uri": "https://localhost:8080/"
        },
        "id": "uqhv-6fR1xT1",
        "outputId": "49be513e-7346-412b-daff-8396380d7d71"
      },
      "outputs": [
        {
          "name": "stdout",
          "output_type": "stream",
          "text": [
            "Epoch 1/30\n",
            "27/27 [==============================] - 1s 27ms/step - loss: 1.8810 - mean_absolute_error: 1.8810 - val_loss: 0.9902 - val_mean_absolute_error: 0.9902\n",
            "Epoch 2/30\n",
            "27/27 [==============================] - 1s 25ms/step - loss: 1.3338 - mean_absolute_error: 1.3338 - val_loss: 0.8738 - val_mean_absolute_error: 0.8738\n",
            "Epoch 3/30\n",
            "27/27 [==============================] - 1s 22ms/step - loss: 1.1972 - mean_absolute_error: 1.1972 - val_loss: 0.8324 - val_mean_absolute_error: 0.8324\n",
            "Epoch 4/30\n",
            "27/27 [==============================] - 1s 23ms/step - loss: 1.1168 - mean_absolute_error: 1.1168 - val_loss: 0.8242 - val_mean_absolute_error: 0.8242\n",
            "Epoch 5/30\n",
            "27/27 [==============================] - 1s 22ms/step - loss: 1.0651 - mean_absolute_error: 1.0651 - val_loss: 0.8185 - val_mean_absolute_error: 0.8185\n",
            "Epoch 6/30\n",
            "27/27 [==============================] - 1s 22ms/step - loss: 1.0253 - mean_absolute_error: 1.0253 - val_loss: 0.7935 - val_mean_absolute_error: 0.7935\n",
            "Epoch 7/30\n",
            "27/27 [==============================] - 1s 23ms/step - loss: 0.9951 - mean_absolute_error: 0.9951 - val_loss: 0.7919 - val_mean_absolute_error: 0.7919\n",
            "Epoch 8/30\n",
            "27/27 [==============================] - 1s 22ms/step - loss: 0.9310 - mean_absolute_error: 0.9310 - val_loss: 0.8053 - val_mean_absolute_error: 0.8053\n",
            "Epoch 9/30\n",
            "27/27 [==============================] - 1s 22ms/step - loss: 0.8960 - mean_absolute_error: 0.8960 - val_loss: 0.8008 - val_mean_absolute_error: 0.8008\n",
            "Epoch 10/30\n",
            "27/27 [==============================] - 1s 23ms/step - loss: 0.8638 - mean_absolute_error: 0.8638 - val_loss: 0.7730 - val_mean_absolute_error: 0.7730\n",
            "Epoch 11/30\n",
            "27/27 [==============================] - 1s 22ms/step - loss: 0.8241 - mean_absolute_error: 0.8241 - val_loss: 0.7923 - val_mean_absolute_error: 0.7923\n",
            "Epoch 12/30\n",
            "27/27 [==============================] - 1s 22ms/step - loss: 0.8035 - mean_absolute_error: 0.8035 - val_loss: 0.7734 - val_mean_absolute_error: 0.7734\n",
            "Epoch 13/30\n",
            "27/27 [==============================] - 1s 21ms/step - loss: 0.7712 - mean_absolute_error: 0.7712 - val_loss: 0.7983 - val_mean_absolute_error: 0.7983\n",
            "Epoch 14/30\n",
            "27/27 [==============================] - 1s 22ms/step - loss: 0.7537 - mean_absolute_error: 0.7537 - val_loss: 0.7907 - val_mean_absolute_error: 0.7907\n",
            "Epoch 15/30\n",
            "27/27 [==============================] - 1s 22ms/step - loss: 0.7488 - mean_absolute_error: 0.7488 - val_loss: 0.7737 - val_mean_absolute_error: 0.7737\n",
            "Epoch 16/30\n",
            "27/27 [==============================] - 1s 23ms/step - loss: 0.7010 - mean_absolute_error: 0.7010 - val_loss: 0.7704 - val_mean_absolute_error: 0.7704\n",
            "Epoch 17/30\n",
            "27/27 [==============================] - 1s 22ms/step - loss: 0.7012 - mean_absolute_error: 0.7012 - val_loss: 0.7828 - val_mean_absolute_error: 0.7828\n",
            "Epoch 18/30\n",
            "27/27 [==============================] - 1s 22ms/step - loss: 0.6892 - mean_absolute_error: 0.6892 - val_loss: 0.7717 - val_mean_absolute_error: 0.7717\n",
            "Epoch 19/30\n",
            "27/27 [==============================] - 1s 23ms/step - loss: 0.6627 - mean_absolute_error: 0.6627 - val_loss: 0.7800 - val_mean_absolute_error: 0.7800\n",
            "Epoch 20/30\n",
            "27/27 [==============================] - 1s 24ms/step - loss: 0.6619 - mean_absolute_error: 0.6619 - val_loss: 0.7743 - val_mean_absolute_error: 0.7743\n",
            "Epoch 21/30\n",
            "27/27 [==============================] - 1s 22ms/step - loss: 0.6459 - mean_absolute_error: 0.6459 - val_loss: 0.7715 - val_mean_absolute_error: 0.7715\n",
            "Epoch 22/30\n",
            "27/27 [==============================] - 1s 22ms/step - loss: 0.6477 - mean_absolute_error: 0.6477 - val_loss: 0.7770 - val_mean_absolute_error: 0.7770\n",
            "Epoch 23/30\n",
            "27/27 [==============================] - 1s 22ms/step - loss: 0.6346 - mean_absolute_error: 0.6346 - val_loss: 0.7845 - val_mean_absolute_error: 0.7845\n",
            "Epoch 24/30\n",
            "27/27 [==============================] - 1s 21ms/step - loss: 0.6281 - mean_absolute_error: 0.6281 - val_loss: 0.7796 - val_mean_absolute_error: 0.7796\n",
            "Epoch 25/30\n",
            "27/27 [==============================] - 1s 22ms/step - loss: 0.6212 - mean_absolute_error: 0.6212 - val_loss: 0.7811 - val_mean_absolute_error: 0.7811\n",
            "Epoch 26/30\n",
            "27/27 [==============================] - 1s 22ms/step - loss: 0.6105 - mean_absolute_error: 0.6105 - val_loss: 0.7806 - val_mean_absolute_error: 0.7806\n"
          ]
        }
      ],
      "source": []
    },
    {
      "cell_type": "code",
      "execution_count": 57,
      "metadata": {
        "colab": {
          "base_uri": "https://localhost:8080/"
        },
        "id": "Z96GN6nYLizH",
        "outputId": "633db7ae-c834-417f-c78f-74242aa8daa2"
      },
      "outputs": [
        {
          "data": {
            "text/plain": [
              "[0.7704012989997864, 0.7704012989997864]"
            ]
          },
          "execution_count": 57,
          "metadata": {},
          "output_type": "execute_result"
        }
      ],
      "source": []
    },
    {
      "cell_type": "markdown",
      "metadata": {
        "id": "jeCudsmYUL5L"
      },
      "source": [
        "Plot the history of the mean absolute error for each of the epochs"
      ]
    },
    {
      "cell_type": "code",
      "execution_count": 58,
      "metadata": {
        "colab": {
          "base_uri": "https://localhost:8080/",
          "height": 295
        },
        "id": "Yb8qHCrwOG5R",
        "outputId": "904dfac8-4d05-40d8-ab87-f1f286991a3b"
      },
      "outputs": [
        {
          "data": {
            "image/png": "[encoded data removed]",
            "text/plain": [
              "<Figure size 432x288 with 1 Axes>"
            ]
          },
          "metadata": {
            "needs_background": "light"
          },
          "output_type": "display_data"
        }
      ],
      "source": []
    },
    {
      "cell_type": "markdown",
      "metadata": {
        "id": "ttp1j0myUTGF"
      },
      "source": [
        "Evaluate the model on the test set"
      ]
    },
    {
      "cell_type": "code",
      "execution_count": 59,
      "metadata": {
        "colab": {
          "base_uri": "https://localhost:8080/"
        },
        "id": "Pq2wBEfTMBSX",
        "outputId": "85a17e9b-e3d4-4816-d411-2b756df5a539"
      },
      "outputs": [
        {
          "name": "stdout",
          "output_type": "stream",
          "text": [
            "MAE: 0.766\n"
          ]
        }
      ],
      "source": []
    }
  ],
  "metadata": {
    "celltoolbar": "Slideshow",
    "colab": {
      "collapsed_sections": [],
      "name": "ANN NLP Women Clothing Solution.ipynb",
      "provenance": []
    },
    "interpreter": {
      "hash": "11938c6bc6919ae2720b4d5011047913343b08a43b18698fd82dedb0d4417594"
    },
    "kernelspec": {
      "display_name": "Python 3.9.12 64-bit",
      "language": "python",
      "name": "python3"
    },
    "language_info": {
      "codemirror_mode": {
        "name": "ipython",
        "version": 3
      },
      "file_extension": ".py",
      "mimetype": "text/x-python",
      "name": "python",
      "nbconvert_exporter": "python",
      "pygments_lexer": "ipython3",
      "version": "3.9.12"
    }
  },
  "nbformat": 4,
  "nbformat_minor": 0
}
