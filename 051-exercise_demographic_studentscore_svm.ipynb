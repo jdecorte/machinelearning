{
  "cells": [
    {
      "cell_type": "code",
      "execution_count": 23,
      "metadata": {
        "id": "slCpcN-FThxB"
      },
      "outputs": [],
      "source": [
        "# Importing the necessary packages\n",
        "import numpy as np                                  # \"Scientific computing\"\n",
        "import scipy.stats as stats                         # Statistical tests\n",
        "\n",
        "import pandas as pd                                 # Data Frame\n",
        "\n",
        "import matplotlib.pyplot as plt                     # Basic visualisation\n",
        "import seaborn as sns                               # Advanced data visualisation\n",
        "\n",
        "from numpy import mean\n",
        "from numpy import std\n",
        "from numpy import absolute\n",
        "from pandas import read_csv\n",
        "from sklearn.model_selection import cross_val_score\n",
        "from sklearn.model_selection import KFold\n",
        "from sklearn.compose import ColumnTransformer\n",
        "from sklearn.pipeline import Pipeline\n",
        "from sklearn.preprocessing import OneHotEncoder\n",
        "from sklearn.preprocessing import MinMaxScaler"
      ]
    },
    {
      "cell_type": "markdown",
      "metadata": {
        "id": "CTz19HYdTBiO"
      },
      "source": [
        "The data provided contains information about individual study results for mathematics, together with demographic information about the student.\n",
        "Solve each subquest in one cell. Show, if applicable, at the end of each cell first 5 lines of your last result (s)."
      ]
    },
    {
      "cell_type": "code",
      "execution_count": 24,
      "metadata": {
        "colab": {
          "base_uri": "https://localhost:8080/",
          "height": 206
        },
        "id": "Eh3Wk6KxTBiV",
        "outputId": "2c833b13-c5c5-437e-f8a8-664e4ddbcc89"
      },
      "outputs": [
        {
          "data": {
            "text/html": [
              "<div>\n",
              "<style scoped>\n",
              "    .dataframe tbody tr th:only-of-type {\n",
              "        vertical-align: middle;\n",
              "    }\n",
              "\n",
              "    .dataframe tbody tr th {\n",
              "        vertical-align: top;\n",
              "    }\n",
              "\n",
              "    .dataframe thead th {\n",
              "        text-align: right;\n",
              "    }\n",
              "</style>\n",
              "<table border=\"1\" class=\"dataframe\">\n",
              "  <thead>\n",
              "    <tr style=\"text-align: right;\">\n",
              "      <th></th>\n",
              "      <th>StudentID</th>\n",
              "      <th>gender</th>\n",
              "      <th>race/ethnicity</th>\n",
              "      <th>parental level of education</th>\n",
              "    </tr>\n",
              "  </thead>\n",
              "  <tbody>\n",
              "    <tr>\n",
              "      <th>0</th>\n",
              "      <td>0</td>\n",
              "      <td>female</td>\n",
              "      <td>group B</td>\n",
              "      <td>bachelor's degree</td>\n",
              "    </tr>\n",
              "    <tr>\n",
              "      <th>1</th>\n",
              "      <td>1</td>\n",
              "      <td>female</td>\n",
              "      <td>group C</td>\n",
              "      <td>some college</td>\n",
              "    </tr>\n",
              "    <tr>\n",
              "      <th>2</th>\n",
              "      <td>2</td>\n",
              "      <td>female</td>\n",
              "      <td>group B</td>\n",
              "      <td>master's degree</td>\n",
              "    </tr>\n",
              "    <tr>\n",
              "      <th>3</th>\n",
              "      <td>3</td>\n",
              "      <td>male</td>\n",
              "      <td>group A</td>\n",
              "      <td>associate's degree</td>\n",
              "    </tr>\n",
              "    <tr>\n",
              "      <th>4</th>\n",
              "      <td>4</td>\n",
              "      <td>male</td>\n",
              "      <td>group C</td>\n",
              "      <td>some college</td>\n",
              "    </tr>\n",
              "  </tbody>\n",
              "</table>\n",
              "</div>"
            ],
            "text/plain": [
              "   StudentID  gender race/ethnicity parental level of education\n",
              "0          0  female        group B           bachelor's degree\n",
              "1          1  female        group C                some college\n",
              "2          2  female        group B             master's degree\n",
              "3          3    male        group A          associate's degree\n",
              "4          4    male        group C                some college"
            ]
          },
          "execution_count": 24,
          "metadata": {},
          "output_type": "execute_result"
        }
      ],
      "source": [
        "demographic = pd.read_csv('https://raw.githubusercontent.com/jdecorte/machinelearning/main/datasets/demographic.csv')\n",
        "demographic.head()"
      ]
    },
    {
      "cell_type": "markdown",
      "metadata": {
        "id": "yJ83DJF4TBiW"
      },
      "source": [
        "Show some general info about the dataset"
      ]
    },
    {
      "cell_type": "code",
      "execution_count": 25,
      "metadata": {
        "colab": {
          "base_uri": "https://localhost:8080/"
        },
        "id": "lWrQHkfGTBiW",
        "outputId": "a23829be-2f6e-48ea-a25d-17d875c591a8"
      },
      "outputs": [
        {
          "name": "stdout",
          "output_type": "stream",
          "text": [
            "<class 'pandas.core.frame.DataFrame'>\n",
            "RangeIndex: 1000 entries, 0 to 999\n",
            "Data columns (total 4 columns):\n",
            " #   Column                       Non-Null Count  Dtype \n",
            "---  ------                       --------------  ----- \n",
            " 0   StudentID                    1000 non-null   int64 \n",
            " 1   gender                       1000 non-null   object\n",
            " 2   race/ethnicity               1000 non-null   object\n",
            " 3   parental level of education  1000 non-null   object\n",
            "dtypes: int64(1), object(3)\n",
            "memory usage: 31.4+ KB\n"
          ]
        }
      ],
      "source": []
    },
    {
      "cell_type": "markdown",
      "metadata": {
        "id": "DOgFq5BITBiX"
      },
      "source": [
        "Read in the dataset studentscore.csv"
      ]
    },
    {
      "cell_type": "code",
      "execution_count": 26,
      "metadata": {
        "colab": {
          "base_uri": "https://localhost:8080/",
          "height": 206
        },
        "id": "v4VHliDzTBiY",
        "outputId": "aef8707f-d341-46cc-9e60-c04c532024d1"
      },
      "outputs": [
        {
          "data": {
            "text/html": [
              "<div>\n",
              "<style scoped>\n",
              "    .dataframe tbody tr th:only-of-type {\n",
              "        vertical-align: middle;\n",
              "    }\n",
              "\n",
              "    .dataframe tbody tr th {\n",
              "        vertical-align: top;\n",
              "    }\n",
              "\n",
              "    .dataframe thead th {\n",
              "        text-align: right;\n",
              "    }\n",
              "</style>\n",
              "<table border=\"1\" class=\"dataframe\">\n",
              "  <thead>\n",
              "    <tr style=\"text-align: right;\">\n",
              "      <th></th>\n",
              "      <th>StudentID</th>\n",
              "      <th>lunch</th>\n",
              "      <th>test preparation course</th>\n",
              "      <th>math score</th>\n",
              "    </tr>\n",
              "  </thead>\n",
              "  <tbody>\n",
              "    <tr>\n",
              "      <th>0</th>\n",
              "      <td>0</td>\n",
              "      <td>standard</td>\n",
              "      <td>none</td>\n",
              "      <td>72</td>\n",
              "    </tr>\n",
              "    <tr>\n",
              "      <th>1</th>\n",
              "      <td>1</td>\n",
              "      <td>standard</td>\n",
              "      <td>completed</td>\n",
              "      <td>69</td>\n",
              "    </tr>\n",
              "    <tr>\n",
              "      <th>2</th>\n",
              "      <td>2</td>\n",
              "      <td>standard</td>\n",
              "      <td>none</td>\n",
              "      <td>90</td>\n",
              "    </tr>\n",
              "    <tr>\n",
              "      <th>3</th>\n",
              "      <td>3</td>\n",
              "      <td>free/reduced</td>\n",
              "      <td>none</td>\n",
              "      <td>47</td>\n",
              "    </tr>\n",
              "    <tr>\n",
              "      <th>4</th>\n",
              "      <td>4</td>\n",
              "      <td>standard</td>\n",
              "      <td>none</td>\n",
              "      <td>76</td>\n",
              "    </tr>\n",
              "  </tbody>\n",
              "</table>\n",
              "</div>"
            ],
            "text/plain": [
              "   StudentID         lunch test preparation course  math score\n",
              "0          0      standard                    none          72\n",
              "1          1      standard               completed          69\n",
              "2          2      standard                    none          90\n",
              "3          3  free/reduced                    none          47\n",
              "4          4      standard                    none          76"
            ]
          },
          "execution_count": 26,
          "metadata": {},
          "output_type": "execute_result"
        }
      ],
      "source": [
        "student = pd.read_csv('https://raw.githubusercontent.com/jdecorte/machinelearning/main/datasets/studentscore.csv')\n",
        "student.head()"
      ]
    },
    {
      "cell_type": "markdown",
      "metadata": {
        "id": "CwGAUD4NTBiY"
      },
      "source": [
        "Show some general info about the dataset"
      ]
    },
    {
      "cell_type": "code",
      "execution_count": 27,
      "metadata": {
        "colab": {
          "base_uri": "https://localhost:8080/"
        },
        "id": "qbwTpd_OTBiZ",
        "outputId": "6250911c-eb56-4bf8-b68c-3f04be9220f3"
      },
      "outputs": [
        {
          "name": "stdout",
          "output_type": "stream",
          "text": [
            "<class 'pandas.core.frame.DataFrame'>\n",
            "RangeIndex: 1000 entries, 0 to 999\n",
            "Data columns (total 4 columns):\n",
            " #   Column                       Non-Null Count  Dtype \n",
            "---  ------                       --------------  ----- \n",
            " 0   StudentID                    1000 non-null   int64 \n",
            " 1   gender                       1000 non-null   object\n",
            " 2   race/ethnicity               1000 non-null   object\n",
            " 3   parental level of education  1000 non-null   object\n",
            "dtypes: int64(1), object(3)\n",
            "memory usage: 31.4+ KB\n"
          ]
        }
      ],
      "source": []
    },
    {
      "cell_type": "markdown",
      "metadata": {
        "id": "0kLmcm2hTBiZ"
      },
      "source": [
        "Merge both data frames so that you have one line left per student.  \n",
        "We are doing an **inner** join on student and demographic, using the column StudentID."
      ]
    },
    {
      "cell_type": "code",
      "execution_count": 28,
      "metadata": {
        "colab": {
          "base_uri": "https://localhost:8080/",
          "height": 206
        },
        "id": "rHKDbkHVTBia",
        "outputId": "a6bf0d91-e002-426f-9489-363f664000e5"
      },
      "outputs": [
        {
          "data": {
            "text/html": [
              "<div>\n",
              "<style scoped>\n",
              "    .dataframe tbody tr th:only-of-type {\n",
              "        vertical-align: middle;\n",
              "    }\n",
              "\n",
              "    .dataframe tbody tr th {\n",
              "        vertical-align: top;\n",
              "    }\n",
              "\n",
              "    .dataframe thead th {\n",
              "        text-align: right;\n",
              "    }\n",
              "</style>\n",
              "<table border=\"1\" class=\"dataframe\">\n",
              "  <thead>\n",
              "    <tr style=\"text-align: right;\">\n",
              "      <th></th>\n",
              "      <th>StudentID</th>\n",
              "      <th>lunch</th>\n",
              "      <th>test preparation course</th>\n",
              "      <th>math score</th>\n",
              "      <th>gender</th>\n",
              "      <th>race/ethnicity</th>\n",
              "      <th>parental level of education</th>\n",
              "    </tr>\n",
              "  </thead>\n",
              "  <tbody>\n",
              "    <tr>\n",
              "      <th>0</th>\n",
              "      <td>0</td>\n",
              "      <td>standard</td>\n",
              "      <td>none</td>\n",
              "      <td>72</td>\n",
              "      <td>female</td>\n",
              "      <td>group B</td>\n",
              "      <td>bachelor's degree</td>\n",
              "    </tr>\n",
              "    <tr>\n",
              "      <th>1</th>\n",
              "      <td>1</td>\n",
              "      <td>standard</td>\n",
              "      <td>completed</td>\n",
              "      <td>69</td>\n",
              "      <td>female</td>\n",
              "      <td>group C</td>\n",
              "      <td>some college</td>\n",
              "    </tr>\n",
              "    <tr>\n",
              "      <th>2</th>\n",
              "      <td>2</td>\n",
              "      <td>standard</td>\n",
              "      <td>none</td>\n",
              "      <td>90</td>\n",
              "      <td>female</td>\n",
              "      <td>group B</td>\n",
              "      <td>master's degree</td>\n",
              "    </tr>\n",
              "    <tr>\n",
              "      <th>3</th>\n",
              "      <td>3</td>\n",
              "      <td>free/reduced</td>\n",
              "      <td>none</td>\n",
              "      <td>47</td>\n",
              "      <td>male</td>\n",
              "      <td>group A</td>\n",
              "      <td>associate's degree</td>\n",
              "    </tr>\n",
              "    <tr>\n",
              "      <th>4</th>\n",
              "      <td>4</td>\n",
              "      <td>standard</td>\n",
              "      <td>none</td>\n",
              "      <td>76</td>\n",
              "      <td>male</td>\n",
              "      <td>group C</td>\n",
              "      <td>some college</td>\n",
              "    </tr>\n",
              "  </tbody>\n",
              "</table>\n",
              "</div>"
            ],
            "text/plain": [
              "   StudentID         lunch test preparation course  math score  gender  \\\n",
              "0          0      standard                    none          72  female   \n",
              "1          1      standard               completed          69  female   \n",
              "2          2      standard                    none          90  female   \n",
              "3          3  free/reduced                    none          47    male   \n",
              "4          4      standard                    none          76    male   \n",
              "\n",
              "  race/ethnicity parental level of education  \n",
              "0        group B           bachelor's degree  \n",
              "1        group C                some college  \n",
              "2        group B             master's degree  \n",
              "3        group A          associate's degree  \n",
              "4        group C                some college  "
            ]
          },
          "execution_count": 28,
          "metadata": {},
          "output_type": "execute_result"
        }
      ],
      "source": []
    },
    {
      "cell_type": "markdown",
      "metadata": {
        "id": "3DqywCVzTBic"
      },
      "source": [
        "Remove all lines that contain empty fields in some columns."
      ]
    },
    {
      "cell_type": "code",
      "execution_count": 29,
      "metadata": {
        "colab": {
          "base_uri": "https://localhost:8080/",
          "height": 206
        },
        "id": "7Fs2qCTBTBid",
        "outputId": "02f8c1fb-aaaa-49ad-ac93-0cb8bdbd2563"
      },
      "outputs": [
        {
          "data": {
            "text/html": [
              "<div>\n",
              "<style scoped>\n",
              "    .dataframe tbody tr th:only-of-type {\n",
              "        vertical-align: middle;\n",
              "    }\n",
              "\n",
              "    .dataframe tbody tr th {\n",
              "        vertical-align: top;\n",
              "    }\n",
              "\n",
              "    .dataframe thead th {\n",
              "        text-align: right;\n",
              "    }\n",
              "</style>\n",
              "<table border=\"1\" class=\"dataframe\">\n",
              "  <thead>\n",
              "    <tr style=\"text-align: right;\">\n",
              "      <th></th>\n",
              "      <th>StudentID</th>\n",
              "      <th>lunch</th>\n",
              "      <th>test preparation course</th>\n",
              "      <th>math score</th>\n",
              "      <th>gender</th>\n",
              "      <th>race/ethnicity</th>\n",
              "      <th>parental level of education</th>\n",
              "    </tr>\n",
              "  </thead>\n",
              "  <tbody>\n",
              "    <tr>\n",
              "      <th>0</th>\n",
              "      <td>0</td>\n",
              "      <td>standard</td>\n",
              "      <td>none</td>\n",
              "      <td>72</td>\n",
              "      <td>female</td>\n",
              "      <td>group B</td>\n",
              "      <td>bachelor's degree</td>\n",
              "    </tr>\n",
              "    <tr>\n",
              "      <th>1</th>\n",
              "      <td>1</td>\n",
              "      <td>standard</td>\n",
              "      <td>completed</td>\n",
              "      <td>69</td>\n",
              "      <td>female</td>\n",
              "      <td>group C</td>\n",
              "      <td>some college</td>\n",
              "    </tr>\n",
              "    <tr>\n",
              "      <th>2</th>\n",
              "      <td>2</td>\n",
              "      <td>standard</td>\n",
              "      <td>none</td>\n",
              "      <td>90</td>\n",
              "      <td>female</td>\n",
              "      <td>group B</td>\n",
              "      <td>master's degree</td>\n",
              "    </tr>\n",
              "    <tr>\n",
              "      <th>3</th>\n",
              "      <td>3</td>\n",
              "      <td>free/reduced</td>\n",
              "      <td>none</td>\n",
              "      <td>47</td>\n",
              "      <td>male</td>\n",
              "      <td>group A</td>\n",
              "      <td>associate's degree</td>\n",
              "    </tr>\n",
              "    <tr>\n",
              "      <th>4</th>\n",
              "      <td>4</td>\n",
              "      <td>standard</td>\n",
              "      <td>none</td>\n",
              "      <td>76</td>\n",
              "      <td>male</td>\n",
              "      <td>group C</td>\n",
              "      <td>some college</td>\n",
              "    </tr>\n",
              "  </tbody>\n",
              "</table>\n",
              "</div>"
            ],
            "text/plain": [
              "   StudentID         lunch test preparation course  math score  gender  \\\n",
              "0          0      standard                    none          72  female   \n",
              "1          1      standard               completed          69  female   \n",
              "2          2      standard                    none          90  female   \n",
              "3          3  free/reduced                    none          47    male   \n",
              "4          4      standard                    none          76    male   \n",
              "\n",
              "  race/ethnicity parental level of education  \n",
              "0        group B           bachelor's degree  \n",
              "1        group C                some college  \n",
              "2        group B             master's degree  \n",
              "3        group A          associate's degree  \n",
              "4        group C                some college  "
            ]
          },
          "execution_count": 29,
          "metadata": {},
          "output_type": "execute_result"
        }
      ],
      "source": []
    },
    {
      "cell_type": "markdown",
      "metadata": {
        "id": "eOpi6jTnXTBa"
      },
      "source": [
        "What are the unique values of luch, test preparation course, gender, race/ethnicity and parental level of education?"
      ]
    },
    {
      "cell_type": "code",
      "execution_count": 30,
      "metadata": {
        "colab": {
          "base_uri": "https://localhost:8080/"
        },
        "id": "Hs12dA8xYeJX",
        "outputId": "426e2645-cb20-4349-ff4b-4462abce0996"
      },
      "outputs": [
        {
          "data": {
            "text/plain": [
              "standard        645\n",
              "free/reduced    355\n",
              "Name: lunch, dtype: int64"
            ]
          },
          "execution_count": 30,
          "metadata": {},
          "output_type": "execute_result"
        }
      ],
      "source": []
    },
    {
      "cell_type": "code",
      "execution_count": 31,
      "metadata": {
        "colab": {
          "base_uri": "https://localhost:8080/"
        },
        "id": "2SggRsWIYeNi",
        "outputId": "7fa2f9d5-02d4-46f5-9133-8283b10e0674"
      },
      "outputs": [
        {
          "data": {
            "text/plain": [
              "none         642\n",
              "completed    358\n",
              "Name: test preparation course, dtype: int64"
            ]
          },
          "execution_count": 31,
          "metadata": {},
          "output_type": "execute_result"
        }
      ],
      "source": []
    },
    {
      "cell_type": "code",
      "execution_count": 32,
      "metadata": {
        "colab": {
          "base_uri": "https://localhost:8080/"
        },
        "id": "6ugGwC8aXSQi",
        "outputId": "d552af2d-3144-4f91-9969-8272eea36e72"
      },
      "outputs": [
        {
          "data": {
            "text/plain": [
              "female    518\n",
              "male      482\n",
              "Name: gender, dtype: int64"
            ]
          },
          "execution_count": 32,
          "metadata": {},
          "output_type": "execute_result"
        }
      ],
      "source": []
    },
    {
      "cell_type": "code",
      "execution_count": 33,
      "metadata": {
        "colab": {
          "base_uri": "https://localhost:8080/"
        },
        "id": "Wz8r0Ujj7m0k",
        "outputId": "06c303ba-2660-4ff5-c3d3-19580cc3073b"
      },
      "outputs": [
        {
          "data": {
            "text/plain": [
              "group C    319\n",
              "group D    262\n",
              "group B    190\n",
              "group E    140\n",
              "group A     89\n",
              "Name: race/ethnicity, dtype: int64"
            ]
          },
          "execution_count": 33,
          "metadata": {},
          "output_type": "execute_result"
        }
      ],
      "source": []
    },
    {
      "cell_type": "code",
      "execution_count": 34,
      "metadata": {
        "colab": {
          "base_uri": "https://localhost:8080/"
        },
        "id": "PUAZK3yb7t92",
        "outputId": "1b51e33e-e9b5-43e4-972c-5cdf1024efa7"
      },
      "outputs": [
        {
          "data": {
            "text/plain": [
              "some college          226\n",
              "associate's degree    222\n",
              "high school           196\n",
              "some high school      179\n",
              "bachelor's degree     118\n",
              "master's degree        59\n",
              "Name: parental level of education, dtype: int64"
            ]
          },
          "execution_count": 34,
          "metadata": {},
          "output_type": "execute_result"
        }
      ],
      "source": []
    },
    {
      "cell_type": "markdown",
      "metadata": {
        "id": "QQT-z3FJTBid"
      },
      "source": [
        "Replace the textual values of 'lunch', 'test preparation course' and 'gender' by numeric values 0 and 1."
      ]
    },
    {
      "cell_type": "code",
      "execution_count": 35,
      "metadata": {
        "colab": {
          "base_uri": "https://localhost:8080/",
          "height": 206
        },
        "id": "DvDxKStnTBid",
        "outputId": "f7eadbc7-d771-4c06-8625-3bb5e75ccf72"
      },
      "outputs": [
        {
          "data": {
            "text/html": [
              "<div>\n",
              "<style scoped>\n",
              "    .dataframe tbody tr th:only-of-type {\n",
              "        vertical-align: middle;\n",
              "    }\n",
              "\n",
              "    .dataframe tbody tr th {\n",
              "        vertical-align: top;\n",
              "    }\n",
              "\n",
              "    .dataframe thead th {\n",
              "        text-align: right;\n",
              "    }\n",
              "</style>\n",
              "<table border=\"1\" class=\"dataframe\">\n",
              "  <thead>\n",
              "    <tr style=\"text-align: right;\">\n",
              "      <th></th>\n",
              "      <th>StudentID</th>\n",
              "      <th>lunch</th>\n",
              "      <th>test preparation course</th>\n",
              "      <th>math score</th>\n",
              "      <th>gender</th>\n",
              "      <th>race/ethnicity</th>\n",
              "      <th>parental level of education</th>\n",
              "    </tr>\n",
              "  </thead>\n",
              "  <tbody>\n",
              "    <tr>\n",
              "      <th>0</th>\n",
              "      <td>0</td>\n",
              "      <td>0</td>\n",
              "      <td>0</td>\n",
              "      <td>72</td>\n",
              "      <td>1</td>\n",
              "      <td>group B</td>\n",
              "      <td>bachelor's degree</td>\n",
              "    </tr>\n",
              "    <tr>\n",
              "      <th>1</th>\n",
              "      <td>1</td>\n",
              "      <td>0</td>\n",
              "      <td>1</td>\n",
              "      <td>69</td>\n",
              "      <td>1</td>\n",
              "      <td>group C</td>\n",
              "      <td>some college</td>\n",
              "    </tr>\n",
              "    <tr>\n",
              "      <th>2</th>\n",
              "      <td>2</td>\n",
              "      <td>0</td>\n",
              "      <td>0</td>\n",
              "      <td>90</td>\n",
              "      <td>1</td>\n",
              "      <td>group B</td>\n",
              "      <td>master's degree</td>\n",
              "    </tr>\n",
              "    <tr>\n",
              "      <th>3</th>\n",
              "      <td>3</td>\n",
              "      <td>1</td>\n",
              "      <td>0</td>\n",
              "      <td>47</td>\n",
              "      <td>0</td>\n",
              "      <td>group A</td>\n",
              "      <td>associate's degree</td>\n",
              "    </tr>\n",
              "    <tr>\n",
              "      <th>4</th>\n",
              "      <td>4</td>\n",
              "      <td>0</td>\n",
              "      <td>0</td>\n",
              "      <td>76</td>\n",
              "      <td>0</td>\n",
              "      <td>group C</td>\n",
              "      <td>some college</td>\n",
              "    </tr>\n",
              "  </tbody>\n",
              "</table>\n",
              "</div>"
            ],
            "text/plain": [
              "   StudentID  lunch  test preparation course  math score  gender  \\\n",
              "0          0      0                        0          72       1   \n",
              "1          1      0                        1          69       1   \n",
              "2          2      0                        0          90       1   \n",
              "3          3      1                        0          47       0   \n",
              "4          4      0                        0          76       0   \n",
              "\n",
              "  race/ethnicity parental level of education  \n",
              "0        group B           bachelor's degree  \n",
              "1        group C                some college  \n",
              "2        group B             master's degree  \n",
              "3        group A          associate's degree  \n",
              "4        group C                some college  "
            ]
          },
          "execution_count": 35,
          "metadata": {},
          "output_type": "execute_result"
        }
      ],
      "source": []
    },
    {
      "cell_type": "markdown",
      "metadata": {
        "id": "eV9lyNWhA-yq"
      },
      "source": [
        "\n",
        "Later on we will make a prediction model for the 'math score'. Remove the column or columns that are not relevant for this purpose.\n"
      ]
    },
    {
      "cell_type": "code",
      "execution_count": 36,
      "metadata": {
        "colab": {
          "base_uri": "https://localhost:8080/",
          "height": 206
        },
        "id": "3c7UDSdBeQWi",
        "outputId": "6363e449-d0bc-47a7-f58c-b6b102df6baa"
      },
      "outputs": [
        {
          "data": {
            "text/html": [
              "<div>\n",
              "<style scoped>\n",
              "    .dataframe tbody tr th:only-of-type {\n",
              "        vertical-align: middle;\n",
              "    }\n",
              "\n",
              "    .dataframe tbody tr th {\n",
              "        vertical-align: top;\n",
              "    }\n",
              "\n",
              "    .dataframe thead th {\n",
              "        text-align: right;\n",
              "    }\n",
              "</style>\n",
              "<table border=\"1\" class=\"dataframe\">\n",
              "  <thead>\n",
              "    <tr style=\"text-align: right;\">\n",
              "      <th></th>\n",
              "      <th>lunch</th>\n",
              "      <th>test preparation course</th>\n",
              "      <th>math score</th>\n",
              "      <th>gender</th>\n",
              "      <th>race/ethnicity</th>\n",
              "      <th>parental level of education</th>\n",
              "    </tr>\n",
              "  </thead>\n",
              "  <tbody>\n",
              "    <tr>\n",
              "      <th>0</th>\n",
              "      <td>0</td>\n",
              "      <td>0</td>\n",
              "      <td>72</td>\n",
              "      <td>1</td>\n",
              "      <td>group B</td>\n",
              "      <td>bachelor's degree</td>\n",
              "    </tr>\n",
              "    <tr>\n",
              "      <th>1</th>\n",
              "      <td>0</td>\n",
              "      <td>1</td>\n",
              "      <td>69</td>\n",
              "      <td>1</td>\n",
              "      <td>group C</td>\n",
              "      <td>some college</td>\n",
              "    </tr>\n",
              "    <tr>\n",
              "      <th>2</th>\n",
              "      <td>0</td>\n",
              "      <td>0</td>\n",
              "      <td>90</td>\n",
              "      <td>1</td>\n",
              "      <td>group B</td>\n",
              "      <td>master's degree</td>\n",
              "    </tr>\n",
              "    <tr>\n",
              "      <th>3</th>\n",
              "      <td>1</td>\n",
              "      <td>0</td>\n",
              "      <td>47</td>\n",
              "      <td>0</td>\n",
              "      <td>group A</td>\n",
              "      <td>associate's degree</td>\n",
              "    </tr>\n",
              "    <tr>\n",
              "      <th>4</th>\n",
              "      <td>0</td>\n",
              "      <td>0</td>\n",
              "      <td>76</td>\n",
              "      <td>0</td>\n",
              "      <td>group C</td>\n",
              "      <td>some college</td>\n",
              "    </tr>\n",
              "  </tbody>\n",
              "</table>\n",
              "</div>"
            ],
            "text/plain": [
              "   lunch  test preparation course  math score  gender race/ethnicity  \\\n",
              "0      0                        0          72       1        group B   \n",
              "1      0                        1          69       1        group C   \n",
              "2      0                        0          90       1        group B   \n",
              "3      1                        0          47       0        group A   \n",
              "4      0                        0          76       0        group C   \n",
              "\n",
              "  parental level of education  \n",
              "0           bachelor's degree  \n",
              "1                some college  \n",
              "2             master's degree  \n",
              "3          associate's degree  \n",
              "4                some college  "
            ]
          },
          "execution_count": 36,
          "metadata": {},
          "output_type": "execute_result"
        }
      ],
      "source": []
    },
    {
      "cell_type": "markdown",
      "metadata": {
        "id": "00737uOHBOaH"
      },
      "source": [
        "What is X and what is y?"
      ]
    },
    {
      "cell_type": "code",
      "execution_count": 37,
      "metadata": {
        "id": "CWrrhqDiupjD"
      },
      "outputs": [],
      "source": []
    },
    {
      "cell_type": "markdown",
      "metadata": {
        "id": "JAUsFiMUBTeh"
      },
      "source": [
        "What is X_train, y_train, X_test, y_test?"
      ]
    },
    {
      "cell_type": "code",
      "execution_count": 38,
      "metadata": {
        "id": "hCFJ2JinujNv"
      },
      "outputs": [],
      "source": []
    },
    {
      "cell_type": "markdown",
      "metadata": {
        "id": "XeAYhjlFB5D1"
      },
      "source": [
        "What is the shape of X_train, y_train, X_test and y_test?"
      ]
    },
    {
      "cell_type": "code",
      "execution_count": 39,
      "metadata": {
        "colab": {
          "base_uri": "https://localhost:8080/"
        },
        "id": "kPNGQrvCvNK0",
        "outputId": "75966b4f-7681-4ec4-84c7-1993ed949bcf"
      },
      "outputs": [
        {
          "name": "stdout",
          "output_type": "stream",
          "text": [
            "(750, 5) (250, 5) (750,) (250,)\n"
          ]
        }
      ],
      "source": []
    },
    {
      "cell_type": "markdown",
      "metadata": {
        "id": "43UzjKXqCCXF"
      },
      "source": [
        "What are the columns containing numbers?"
      ]
    },
    {
      "cell_type": "code",
      "execution_count": 43,
      "metadata": {
        "colab": {
          "base_uri": "https://localhost:8080/"
        },
        "id": "9yRPEsdWsTMM",
        "outputId": "3281f3fd-01ea-4eb6-836c-024e77cd8802"
      },
      "outputs": [
        {
          "name": "stdout",
          "output_type": "stream",
          "text": [
            "Index(['lunch', 'test preparation course', 'gender'], dtype='object')\n"
          ]
        }
      ],
      "source": [
        "\n"
      ]
    },
    {
      "cell_type": "markdown",
      "metadata": {
        "id": "7wcba4xxCJMY"
      },
      "source": [
        "What are the columns containing text?"
      ]
    },
    {
      "cell_type": "code",
      "execution_count": 45,
      "metadata": {
        "colab": {
          "base_uri": "https://localhost:8080/"
        },
        "id": "rbjXTnxGCQ6w",
        "outputId": "91df6867-3c9b-42c1-b8fc-9058ea36d43f"
      },
      "outputs": [
        {
          "name": "stdout",
          "output_type": "stream",
          "text": [
            "Index(['race/ethnicity', 'parental level of education'], dtype='object')\n"
          ]
        }
      ],
      "source": []
    },
    {
      "cell_type": "markdown",
      "metadata": {
        "id": "vhl_xIO4CV1x"
      },
      "source": [
        "Define the ColumnTransformer for applying OneHotEncoder on both categorical columns.  \n",
        "Why is one-hot-encoding preferable over numeric values in this case?\n",
        "Set remainder='passthrough' to ensure that all columns not specified in the list of \"transformers\" will be passed through without transformation, instead of being dropped."
      ]
    },
    {
      "cell_type": "code",
      "execution_count": 46,
      "metadata": {
        "id": "R0tyYyg5sK2W"
      },
      "outputs": [],
      "source": []
    },
    {
      "cell_type": "markdown",
      "metadata": {
        "id": "KX_uLMgf8LU6"
      },
      "source": [
        "The dictionary below consists of the model Linear SVM Regression.  \n",
        "Add a model for SVM Regression, using a 2nd-degree polynomial kernel."
      ]
    },
    {
      "cell_type": "code",
      "execution_count": 1,
      "metadata": {
        "id": "defs6VcC7uvq"
      },
      "outputs": [],
      "source": [
        "from sklearn.svm import LinearSVR\n",
        "from sklearn.svm import SVR\n",
        "\n",
        "regressors = {\n",
        "    \"svm_reg\": LinearSVR(epsilon=1.5, random_state=42)\n",
        "}"
      ]
    },
    {
      "cell_type": "markdown",
      "metadata": {
        "id": "a5TOcYCA9iWA"
      },
      "source": [
        "For each of both models: \n",
        "* Define the data preparation and modeling pipeline\n",
        "* Train the model\n",
        "* What is the accuracy of the model, expressed as MAE? Use K-fold cross-validation with k = 3.\n",
        "\n",
        "svm_reg --> mae = 11.043956032438077  \n",
        "svm_poly_reg --> mae = 11.406481743196977"
      ]
    },
    {
      "cell_type": "code",
      "execution_count": 48,
      "metadata": {
        "colab": {
          "base_uri": "https://localhost:8080/"
        },
        "id": "tARvZsEa8u16",
        "outputId": "0d73044e-8b74-4ff2-cc34-e51a59cbff84"
      },
      "outputs": [
        {
          "name": "stdout",
          "output_type": "stream",
          "text": [
            "svm_reg --> mae = 11.043956032438077\n",
            "svm_poly_reg --> mae = 11.406481743196977\n"
          ]
        }
      ],
      "source": []
    },
    {
      "cell_type": "markdown",
      "metadata": {
        "id": "_vLu0JIL_jDh"
      },
      "source": [
        "In the example below is shown, how you can use GridSearchCV to find the best value for parameter epsilon for the linear model"
      ]
    },
    {
      "cell_type": "code",
      "execution_count": 50,
      "metadata": {
        "colab": {
          "base_uri": "https://localhost:8080/"
        },
        "id": "FntncW1dEOlN",
        "outputId": "ee67c7e3-68c3-4edd-c302-bbe85942bca0"
      },
      "outputs": [
        {
          "name": "stdout",
          "output_type": "stream",
          "text": [
            "best estimator = LinearSVR(epsilon=3.0, random_state=42)\n",
            "best score = -11.015022781135555\n"
          ]
        }
      ],
      "source": [
        "# Use GridSearchCV to find the best parameters.\n",
        "from sklearn.model_selection import GridSearchCV\n",
        "\n",
        "svr_params = {'epsilon': [0.1, 0.5, 1.0, 1.5, 2.0, 2.5, 3.0, 3.5]}\n",
        "grid_svc = GridSearchCV(LinearSVR(random_state=42), svr_params, scoring='neg_mean_absolute_error', cv=3)\n",
        "pipeline = Pipeline([('prep',col_transform), ('grid_svc', grid_svc)])\n",
        "pipeline.fit(X_train, y_train)\n",
        "\n",
        "# best estimator\n",
        "print(f\"best estimator = {grid_svc.best_estimator_}\")\n",
        "# best score\n",
        "print(f\"best score = {grid_svc.best_score_}\")\n"
      ]
    },
    {
      "cell_type": "markdown",
      "metadata": {
        "id": "44-HzDZfPvRN"
      },
      "source": [
        "We'd like to know the scores for each of the values of epsilon.  \n",
        "Make sure you understand the example code: use .cv_results_  to get all the results"
      ]
    },
    {
      "cell_type": "code",
      "execution_count": 51,
      "metadata": {
        "colab": {
          "base_uri": "https://localhost:8080/"
        },
        "id": "AJKS1w0zPMT8",
        "outputId": "47cbaffc-6c6d-4e54-f2d4-2ba95bf4d5e7"
      },
      "outputs": [
        {
          "name": "stdout",
          "output_type": "stream",
          "text": [
            "{'mean_fit_time': array([0.0016861 , 0.00099905, 0.00099627, 0.00131663, 0.00132751,\n",
            "       0.00134309, 0.00134389, 0.00131083]), 'std_fit_time': array([4.86060857e-04, 9.36094483e-06, 2.48026634e-06, 4.56164232e-04,\n",
            "       4.67661593e-04, 4.65955808e-04, 4.87276574e-04, 4.52349395e-04]), 'mean_score_time': array([0.00033832, 0.00066058, 0.00034324, 0.00067798, 0.        ,\n",
            "       0.00032075, 0.0003345 , 0.00033259]), 'std_score_time': array([0.00047845, 0.0009342 , 0.00048542, 0.00047961, 0.        ,\n",
            "       0.00045361, 0.00047306, 0.00047036]), 'param_epsilon': masked_array(data=[0.1, 0.5, 1.0, 1.5, 2.0, 2.5, 3.0, 3.5],\n",
            "             mask=[False, False, False, False, False, False, False, False],\n",
            "       fill_value='?',\n",
            "            dtype=object), 'params': [{'epsilon': 0.1}, {'epsilon': 0.5}, {'epsilon': 1.0}, {'epsilon': 1.5}, {'epsilon': 2.0}, {'epsilon': 2.5}, {'epsilon': 3.0}, {'epsilon': 3.5}], 'split0_test_score': array([-11.35864788, -11.28210227, -11.24218238, -11.15012043,\n",
            "       -11.16332319, -11.20218365, -11.16828152, -11.25338598]), 'split1_test_score': array([-10.88886856, -10.90286265, -10.93225604, -10.93054996,\n",
            "       -10.93988899, -10.92857176, -10.88819928, -10.89854887]), 'split2_test_score': array([-11.0564182 , -11.09669961, -11.04055294, -11.0511977 ,\n",
            "       -11.01903908, -11.03181391, -10.98858754, -10.96148202]), 'mean_test_score': array([-11.10131155, -11.09388817, -11.07166379, -11.04395603,\n",
            "       -11.04075042, -11.05418977, -11.01502278, -11.03780562]), 'std_test_score': array([0.19439601, 0.15483669, 0.12842507, 0.08978541, 0.09249954,\n",
            "       0.1128166 , 0.11586093, 0.1545883 ]), 'rank_test_score': array([8, 7, 6, 4, 3, 5, 1, 2])}\n",
            "Best index = 6\n",
            "Best score = -11.015022781135555\n",
            "Best model = {'epsilon': 3.0}\n"
          ]
        }
      ],
      "source": []
    },
    {
      "cell_type": "markdown",
      "metadata": {
        "id": "5IJEsKEwQylo"
      },
      "source": [
        "Make the following overview using results  \n",
        "![image.png](data:image/png;base64,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)"
      ]
    },
    {
      "cell_type": "code",
      "execution_count": null,
      "metadata": {
        "colab": {
          "base_uri": "https://localhost:8080/"
        },
        "id": "GDAn-fpKQ23w",
        "outputId": "e92774bd-6af6-48a4-d02e-d1e46b660d76"
      },
      "outputs": [
        {
          "name": "stdout",
          "output_type": "stream",
          "text": [
            "{'epsilon': 0.1} --> score = -11.10131154534676 + ranking = 8\n",
            "{'epsilon': 0.5} --> score = -11.093888174594902 + ranking = 7\n",
            "{'epsilon': 1.0} --> score = -11.071663786227802 + ranking = 6\n",
            "{'epsilon': 1.5} --> score = -11.043956032438077 + ranking = 4\n",
            "{'epsilon': 2.0} --> score = -11.040750417777978 + ranking = 3\n",
            "{'epsilon': 2.5} --> score = -11.054189774535994 + ranking = 5\n",
            "{'epsilon': 3.0} --> score = -11.015022781135555 + ranking = 1\n",
            "{'epsilon': 3.5} --> score = -11.037805620931701 + ranking = 2\n"
          ]
        }
      ],
      "source": []
    },
    {
      "cell_type": "markdown",
      "metadata": {
        "id": "WuetJPOPRUt-"
      },
      "source": [
        "Use GridSearchCV to find the best parameters for this non-linear regression task with little regularization (C is a large value)\n",
        "* epsilon = 0.1, 0.5, 1.0, 1.5, 2.0, 2.5, 3.0, 3.5 \n",
        "* kernel' = 'rbf', 'poly', 'sigmoid', 'linear'\n",
        "* degree = [1, 2, 3]\n",
        "\n",
        "\n"
      ]
    },
    {
      "cell_type": "code",
      "execution_count": 52,
      "metadata": {
        "id": "P2t9wPS893Kh"
      },
      "outputs": [],
      "source": [
        "\n"
      ]
    },
    {
      "cell_type": "markdown",
      "metadata": {
        "id": "Vdg3e9k6TTAd"
      },
      "source": [
        "Make the following overview\n",
        "\n",
        "Best index = 25  \n",
        "Best score = -10.636710047538656  \n",
        "Best model = {'degree': 1, 'epsilon': 3.0, 'kernel': 'poly'}"
      ]
    },
    {
      "cell_type": "code",
      "execution_count": null,
      "metadata": {
        "colab": {
          "base_uri": "https://localhost:8080/"
        },
        "id": "i5dlpNmzL6nW",
        "outputId": "02420cbf-4882-478b-91ac-d676aec022ca"
      },
      "outputs": [
        {
          "name": "stdout",
          "output_type": "stream",
          "text": [
            "Best index = 25\n",
            "Best score = -10.636710047538656\n",
            "Best model = {'degree': 1, 'epsilon': 3.0, 'kernel': 'poly'}\n"
          ]
        }
      ],
      "source": []
    },
    {
      "cell_type": "markdown",
      "metadata": {
        "id": "I-bAWm-LTZaP"
      },
      "source": [
        "Make the following overview\n",
        "\n",
        "![image.png](data:image/png;base64,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)"
      ]
    },
    {
      "cell_type": "code",
      "execution_count": 53,
      "metadata": {
        "colab": {
          "base_uri": "https://localhost:8080/"
        },
        "id": "rok4trCmDt3E",
        "outputId": "b0fc72c3-b65d-4de8-9833-0019489b610f"
      },
      "outputs": [
        {
          "name": "stdout",
          "output_type": "stream",
          "text": [
            "{'degree': 1, 'epsilon': 0.1, 'kernel': 'rbf'} --> score = -12.09523866764826 + ranking = 68\n",
            "{'degree': 1, 'epsilon': 0.1, 'kernel': 'poly'} --> score = -10.692387089126086 + ranking = 29\n",
            "{'degree': 1, 'epsilon': 0.1, 'kernel': 'sigmoid'} --> score = -320.47479630791247 + ranking = 76\n",
            "{'degree': 1, 'epsilon': 0.1, 'kernel': 'linear'} --> score = -10.692411107879414 + ranking = 30\n",
            "{'degree': 1, 'epsilon': 0.5, 'kernel': 'rbf'} --> score = -12.054063453110132 + ranking = 62\n",
            "{'degree': 1, 'epsilon': 0.5, 'kernel': 'poly'} --> score = -10.68214811184981 + ranking = 24\n",
            "{'degree': 1, 'epsilon': 0.5, 'kernel': 'sigmoid'} --> score = -324.6229016331346 + ranking = 79\n",
            "{'degree': 1, 'epsilon': 0.5, 'kernel': 'linear'} --> score = -10.682131953072908 + ranking = 21\n",
            "{'degree': 1, 'epsilon': 1.0, 'kernel': 'rbf'} --> score = -11.995922652557699 + ranking = 56\n",
            "{'degree': 1, 'epsilon': 1.0, 'kernel': 'poly'} --> score = -10.674794404293737 + ranking = 20\n",
            "{'degree': 1, 'epsilon': 1.0, 'kernel': 'sigmoid'} --> score = -316.5366596042762 + ranking = 73\n",
            "{'degree': 1, 'epsilon': 1.0, 'kernel': 'linear'} --> score = -10.674777014390813 + ranking = 17\n",
            "{'degree': 1, 'epsilon': 1.5, 'kernel': 'rbf'} --> score = -11.982348737676338 + ranking = 53\n",
            "{'degree': 1, 'epsilon': 1.5, 'kernel': 'poly'} --> score = -10.672836664229408 + ranking = 13\n",
            "{'degree': 1, 'epsilon': 1.5, 'kernel': 'sigmoid'} --> score = -331.6047611417249 + ranking = 82\n",
            "{'degree': 1, 'epsilon': 1.5, 'kernel': 'linear'} --> score = -10.672880301018642 + ranking = 14\n",
            "{'degree': 1, 'epsilon': 2.0, 'kernel': 'rbf'} --> score = -11.961244823460897 + ranking = 50\n",
            "{'degree': 1, 'epsilon': 2.0, 'kernel': 'poly'} --> score = -10.653507825164109 + ranking = 5\n",
            "{'degree': 1, 'epsilon': 2.0, 'kernel': 'sigmoid'} --> score = -343.7116436233649 + ranking = 94\n",
            "{'degree': 1, 'epsilon': 2.0, 'kernel': 'linear'} --> score = -10.655789501704366 + ranking = 6\n",
            "{'degree': 1, 'epsilon': 2.5, 'kernel': 'rbf'} --> score = -11.946835842425648 + ranking = 47\n",
            "{'degree': 1, 'epsilon': 2.5, 'kernel': 'poly'} --> score = -10.660285603431149 + ranking = 9\n",
            "{'degree': 1, 'epsilon': 2.5, 'kernel': 'sigmoid'} --> score = -341.4606680014596 + ranking = 91\n",
            "{'degree': 1, 'epsilon': 2.5, 'kernel': 'linear'} --> score = -10.660337933735544 + ranking = 10\n",
            "{'degree': 1, 'epsilon': 3.0, 'kernel': 'rbf'} --> score = -11.930392769872972 + ranking = 44\n",
            "{'degree': 1, 'epsilon': 3.0, 'kernel': 'poly'} --> score = -10.636710047538656 + ranking = 1\n",
            "{'degree': 1, 'epsilon': 3.0, 'kernel': 'sigmoid'} --> score = -335.93495621836354 + ranking = 88\n",
            "{'degree': 1, 'epsilon': 3.0, 'kernel': 'linear'} --> score = -10.63671875312624 + ranking = 2\n",
            "{'degree': 1, 'epsilon': 3.5, 'kernel': 'rbf'} --> score = -11.9271578503166 + ranking = 41\n",
            "{'degree': 1, 'epsilon': 3.5, 'kernel': 'poly'} --> score = -10.691309952017303 + ranking = 25\n",
            "{'degree': 1, 'epsilon': 3.5, 'kernel': 'sigmoid'} --> score = -335.6203172554759 + ranking = 85\n",
            "{'degree': 1, 'epsilon': 3.5, 'kernel': 'linear'} --> score = -10.691330068919228 + ranking = 26\n",
            "{'degree': 2, 'epsilon': 0.1, 'kernel': 'rbf'} --> score = -12.09523866764826 + ranking = 68\n",
            "{'degree': 2, 'epsilon': 0.1, 'kernel': 'poly'} --> score = -11.20514569133716 + ranking = 40\n",
            "{'degree': 2, 'epsilon': 0.1, 'kernel': 'sigmoid'} --> score = -320.47479630791247 + ranking = 76\n",
            "{'degree': 2, 'epsilon': 0.1, 'kernel': 'linear'} --> score = -10.692411107879414 + ranking = 30\n",
            "{'degree': 2, 'epsilon': 0.5, 'kernel': 'rbf'} --> score = -12.054063453110132 + ranking = 62\n",
            "{'degree': 2, 'epsilon': 0.5, 'kernel': 'poly'} --> score = -11.195968058094923 + ranking = 39\n",
            "{'degree': 2, 'epsilon': 0.5, 'kernel': 'sigmoid'} --> score = -324.6229016331346 + ranking = 79\n",
            "{'degree': 2, 'epsilon': 0.5, 'kernel': 'linear'} --> score = -10.682131953072908 + ranking = 21\n",
            "{'degree': 2, 'epsilon': 1.0, 'kernel': 'rbf'} --> score = -11.995922652557699 + ranking = 56\n",
            "{'degree': 2, 'epsilon': 1.0, 'kernel': 'poly'} --> score = -11.157447796191999 + ranking = 37\n",
            "{'degree': 2, 'epsilon': 1.0, 'kernel': 'sigmoid'} --> score = -316.5366596042762 + ranking = 73\n",
            "{'degree': 2, 'epsilon': 1.0, 'kernel': 'linear'} --> score = -10.674777014390813 + ranking = 17\n",
            "{'degree': 2, 'epsilon': 1.5, 'kernel': 'rbf'} --> score = -11.982348737676338 + ranking = 53\n",
            "{'degree': 2, 'epsilon': 1.5, 'kernel': 'poly'} --> score = -11.138996095024805 + ranking = 35\n",
            "{'degree': 2, 'epsilon': 1.5, 'kernel': 'sigmoid'} --> score = -331.6047611417249 + ranking = 82\n",
            "{'degree': 2, 'epsilon': 1.5, 'kernel': 'linear'} --> score = -10.672880301018642 + ranking = 14\n",
            "{'degree': 2, 'epsilon': 2.0, 'kernel': 'rbf'} --> score = -11.961244823460897 + ranking = 50\n",
            "{'degree': 2, 'epsilon': 2.0, 'kernel': 'poly'} --> score = -11.145444992945684 + ranking = 36\n",
            "{'degree': 2, 'epsilon': 2.0, 'kernel': 'sigmoid'} --> score = -343.7116436233649 + ranking = 94\n",
            "{'degree': 2, 'epsilon': 2.0, 'kernel': 'linear'} --> score = -10.655789501704366 + ranking = 6\n",
            "{'degree': 2, 'epsilon': 2.5, 'kernel': 'rbf'} --> score = -11.946835842425648 + ranking = 47\n",
            "{'degree': 2, 'epsilon': 2.5, 'kernel': 'poly'} --> score = -11.16745407062027 + ranking = 38\n",
            "{'degree': 2, 'epsilon': 2.5, 'kernel': 'sigmoid'} --> score = -341.4606680014596 + ranking = 91\n",
            "{'degree': 2, 'epsilon': 2.5, 'kernel': 'linear'} --> score = -10.660337933735544 + ranking = 10\n",
            "{'degree': 2, 'epsilon': 3.0, 'kernel': 'rbf'} --> score = -11.930392769872972 + ranking = 44\n",
            "{'degree': 2, 'epsilon': 3.0, 'kernel': 'poly'} --> score = -11.134433805506294 + ranking = 34\n",
            "{'degree': 2, 'epsilon': 3.0, 'kernel': 'sigmoid'} --> score = -335.93495621836354 + ranking = 88\n",
            "{'degree': 2, 'epsilon': 3.0, 'kernel': 'linear'} --> score = -10.63671875312624 + ranking = 2\n",
            "{'degree': 2, 'epsilon': 3.5, 'kernel': 'rbf'} --> score = -11.9271578503166 + ranking = 41\n",
            "{'degree': 2, 'epsilon': 3.5, 'kernel': 'poly'} --> score = -11.118524299581926 + ranking = 33\n",
            "{'degree': 2, 'epsilon': 3.5, 'kernel': 'sigmoid'} --> score = -335.6203172554759 + ranking = 85\n",
            "{'degree': 2, 'epsilon': 3.5, 'kernel': 'linear'} --> score = -10.691330068919228 + ranking = 26\n",
            "{'degree': 3, 'epsilon': 0.1, 'kernel': 'rbf'} --> score = -12.09523866764826 + ranking = 68\n",
            "{'degree': 3, 'epsilon': 0.1, 'kernel': 'poly'} --> score = -12.13564247558892 + ranking = 72\n",
            "{'degree': 3, 'epsilon': 0.1, 'kernel': 'sigmoid'} --> score = -320.47479630791247 + ranking = 76\n",
            "{'degree': 3, 'epsilon': 0.1, 'kernel': 'linear'} --> score = -10.692411107879414 + ranking = 30\n",
            "{'degree': 3, 'epsilon': 0.5, 'kernel': 'rbf'} --> score = -12.054063453110132 + ranking = 62\n",
            "{'degree': 3, 'epsilon': 0.5, 'kernel': 'poly'} --> score = -12.076877174325514 + ranking = 67\n",
            "{'degree': 3, 'epsilon': 0.5, 'kernel': 'sigmoid'} --> score = -324.6229016331346 + ranking = 79\n",
            "{'degree': 3, 'epsilon': 0.5, 'kernel': 'linear'} --> score = -10.682131953072908 + ranking = 21\n",
            "{'degree': 3, 'epsilon': 1.0, 'kernel': 'rbf'} --> score = -11.995922652557699 + ranking = 56\n",
            "{'degree': 3, 'epsilon': 1.0, 'kernel': 'poly'} --> score = -12.037202092566167 + ranking = 59\n",
            "{'degree': 3, 'epsilon': 1.0, 'kernel': 'sigmoid'} --> score = -316.5366596042762 + ranking = 73\n",
            "{'degree': 3, 'epsilon': 1.0, 'kernel': 'linear'} --> score = -10.674777014390813 + ranking = 17\n",
            "{'degree': 3, 'epsilon': 1.5, 'kernel': 'rbf'} --> score = -11.982348737676338 + ranking = 53\n",
            "{'degree': 3, 'epsilon': 1.5, 'kernel': 'poly'} --> score = -12.058999361408526 + ranking = 65\n",
            "{'degree': 3, 'epsilon': 1.5, 'kernel': 'sigmoid'} --> score = -331.6047611417249 + ranking = 82\n",
            "{'degree': 3, 'epsilon': 1.5, 'kernel': 'linear'} --> score = -10.672880301018642 + ranking = 14\n",
            "{'degree': 3, 'epsilon': 2.0, 'kernel': 'rbf'} --> score = -11.961244823460897 + ranking = 50\n",
            "{'degree': 3, 'epsilon': 2.0, 'kernel': 'poly'} --> score = -12.042842436634235 + ranking = 61\n",
            "{'degree': 3, 'epsilon': 2.0, 'kernel': 'sigmoid'} --> score = -343.7116436233649 + ranking = 94\n",
            "{'degree': 3, 'epsilon': 2.0, 'kernel': 'linear'} --> score = -10.655789501704366 + ranking = 6\n",
            "{'degree': 3, 'epsilon': 2.5, 'kernel': 'rbf'} --> score = -11.946835842425648 + ranking = 47\n",
            "{'degree': 3, 'epsilon': 2.5, 'kernel': 'poly'} --> score = -12.039894215311296 + ranking = 60\n",
            "{'degree': 3, 'epsilon': 2.5, 'kernel': 'sigmoid'} --> score = -341.4606680014596 + ranking = 91\n",
            "{'degree': 3, 'epsilon': 2.5, 'kernel': 'linear'} --> score = -10.660337933735544 + ranking = 10\n",
            "{'degree': 3, 'epsilon': 3.0, 'kernel': 'rbf'} --> score = -11.930392769872972 + ranking = 44\n",
            "{'degree': 3, 'epsilon': 3.0, 'kernel': 'poly'} --> score = -12.073504972775094 + ranking = 66\n",
            "{'degree': 3, 'epsilon': 3.0, 'kernel': 'sigmoid'} --> score = -335.93495621836354 + ranking = 88\n",
            "{'degree': 3, 'epsilon': 3.0, 'kernel': 'linear'} --> score = -10.63671875312624 + ranking = 2\n",
            "{'degree': 3, 'epsilon': 3.5, 'kernel': 'rbf'} --> score = -11.9271578503166 + ranking = 41\n",
            "{'degree': 3, 'epsilon': 3.5, 'kernel': 'poly'} --> score = -12.104181523446083 + ranking = 71\n",
            "{'degree': 3, 'epsilon': 3.5, 'kernel': 'sigmoid'} --> score = -335.6203172554759 + ranking = 85\n",
            "{'degree': 3, 'epsilon': 3.5, 'kernel': 'linear'} --> score = -10.691330068919228 + ranking = 26\n"
          ]
        }
      ],
      "source": []
    }
  ],
  "metadata": {
    "colab": {
      "collapsed_sections": [],
      "name": "Demographic Studentscore SVM Solution.ipynb",
      "provenance": []
    },
    "kernelspec": {
      "display_name": "Python 3",
      "language": "python",
      "name": "python3"
    },
    "language_info": {
      "codemirror_mode": {
        "name": "ipython",
        "version": 3
      },
      "file_extension": ".py",
      "mimetype": "text/x-python",
      "name": "python",
      "nbconvert_exporter": "python",
      "pygments_lexer": "ipython3",
      "version": "3.9.0"
    }
  },
  "nbformat": 4,
  "nbformat_minor": 0
}
