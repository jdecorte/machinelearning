{
  "cells": [
    {
      "cell_type": "markdown",
      "metadata": {},
      "source": [
        "## Pre-trained word embeddings: exercise YELP\n",
        "\n",
        "Yelp is a review website (see e.g. https://nl.yelp.be/search?find_desc=&find_loc=gent&ns=1)\n",
        "\n",
        "- The file yelp_labelled.txt contains reviews. \n",
        "- If Label = 0, it's a review with a negative sentiment. \n",
        "- If Label = 1, it's a review with a positive sentiment. \n",
        "\n",
        "Create an ANN model that predicts the sentiment.\n",
        "\n",
        "Filter out those reviews that aren't in English first."
      ]
    },
    {
      "cell_type": "code",
      "execution_count": 1,
      "metadata": {
        "colab": {
          "base_uri": "https://localhost:8080/"
        },
        "id": "CpMifYkx85is",
        "outputId": "67229ff1-0099-4f4b-a2a9-a8643e6bdd8a"
      },
      "outputs": [
        {
          "name": "stdout",
          "output_type": "stream",
          "text": [
            "2.8.0\n"
          ]
        }
      ],
      "source": [
        "try:\n",
        "  # %tensorflow_version only exists in Colab.\n",
        "  %tensorflow_version 2.x\n",
        "except Exception:\n",
        "  pass\n",
        "\n",
        "# TensorFlow and tf.keras\n",
        "import tensorflow as tf\n",
        "from tensorflow import keras\n",
        "\n",
        "print(tf.__version__)\n",
        "\n",
        "# Helper libraries\n",
        "import numpy as np\n",
        "import matplotlib.pyplot as plt\n",
        "import sklearn as sk\n",
        "import pandas as pd\n",
        "\n",
        "# fix random seed for reproducibility\n",
        "seed = 2020\n",
        "np.random.seed(seed)  \n",
        "\n",
        "import sklearn as sk\n",
        "from sklearn.model_selection import train_test_split\n",
        "\n",
        "from tensorflow.keras.datasets import mnist\n",
        "from tensorflow.keras.models import Sequential\n",
        "from tensorflow.keras.layers import Dense, Dropout, Flatten, Embedding, Conv1D,  MaxPooling1D, GlobalMaxPooling1D\n",
        "from tensorflow.keras.optimizers import Adam\n",
        "from tensorflow.keras.constraints import max_norm\n",
        "from tensorflow.keras.models import load_model\n",
        "\n",
        "\n",
        "import nltk\n"
      ]
    },
    {
      "cell_type": "code",
      "execution_count": 2,
      "metadata": {},
      "outputs": [],
      "source": [
        "# helper functions for visualisation\n",
        "# plotting the loss functions used in this notebook\n",
        "# we plot the loss we want to optimise on the left (in this case: accuracy)\n",
        "def plot_history(history):\n",
        "  plt.figure(figsize = (12,4))\n",
        "  plt.subplot(1,2,1)\n",
        "\n",
        "  plt.xlabel('Epoch')\n",
        "  plt.ylabel('Accuracy')\n",
        "  plt.plot(history.epoch, np.array(history.history['accuracy']),'g-',\n",
        "           label='Train accuracy')\n",
        "  plt.plot(history.epoch, np.array(history.history['val_accuracy']),'r-',\n",
        "           label = 'Validation accuracy')\n",
        "  plt.legend()\n",
        "\n",
        "  plt.subplot(1,2,2)\n",
        "  plt.xlabel('Epoch')\n",
        "  plt.ylabel('Loss minimised by model')\n",
        "  plt.plot(history.epoch, np.array(history.history['loss']),'g-',\n",
        "           label='Train loss')\n",
        "  plt.plot(history.epoch, np.array(history.history['val_loss']),'r-',\n",
        "           label = 'Validation loss')\n",
        "  plt.legend()"
      ]
    },
    {
      "cell_type": "code",
      "execution_count": 3,
      "metadata": {
        "colab": {
          "base_uri": "https://localhost:8080/",
          "height": 206
        },
        "id": "p-FrOQlg_Z-D",
        "outputId": "8c753253-7746-40b9-a070-4367d6cc5ccd"
      },
      "outputs": [
        {
          "data": {
            "text/html": [
              "<div>\n",
              "<style scoped>\n",
              "    .dataframe tbody tr th:only-of-type {\n",
              "        vertical-align: middle;\n",
              "    }\n",
              "\n",
              "    .dataframe tbody tr th {\n",
              "        vertical-align: top;\n",
              "    }\n",
              "\n",
              "    .dataframe thead th {\n",
              "        text-align: right;\n",
              "    }\n",
              "</style>\n",
              "<table border=\"1\" class=\"dataframe\">\n",
              "  <thead>\n",
              "    <tr style=\"text-align: right;\">\n",
              "      <th></th>\n",
              "      <th>Text</th>\n",
              "      <th>Label</th>\n",
              "    </tr>\n",
              "  </thead>\n",
              "  <tbody>\n",
              "    <tr>\n",
              "      <th>0</th>\n",
              "      <td>Wow... Loved this place.</td>\n",
              "      <td>1</td>\n",
              "    </tr>\n",
              "    <tr>\n",
              "      <th>1</th>\n",
              "      <td>Crust is not good.</td>\n",
              "      <td>0</td>\n",
              "    </tr>\n",
              "    <tr>\n",
              "      <th>2</th>\n",
              "      <td>Not tasty and the texture was just nasty.</td>\n",
              "      <td>0</td>\n",
              "    </tr>\n",
              "    <tr>\n",
              "      <th>3</th>\n",
              "      <td>Stopped by during the late May bank holiday of...</td>\n",
              "      <td>1</td>\n",
              "    </tr>\n",
              "    <tr>\n",
              "      <th>4</th>\n",
              "      <td>The selection on the menu was great and so wer...</td>\n",
              "      <td>1</td>\n",
              "    </tr>\n",
              "  </tbody>\n",
              "</table>\n",
              "</div>"
            ],
            "text/plain": [
              "                                                Text  Label\n",
              "0                           Wow... Loved this place.      1\n",
              "1                                 Crust is not good.      0\n",
              "2          Not tasty and the texture was just nasty.      0\n",
              "3  Stopped by during the late May bank holiday of...      1\n",
              "4  The selection on the menu was great and so wer...      1"
            ]
          },
          "execution_count": 3,
          "metadata": {},
          "output_type": "execute_result"
        }
      ],
      "source": [
        "data = pd.read_csv(\"https://raw.githubusercontent.com/jdecorte/machinelearning/main/datasets/yelp_labelled.txt\",sep=\"\\t\") \n",
        "data.head()\n"
      ]
    },
    {
      "cell_type": "markdown",
      "metadata": {
        "id": "rf3GiR7mNwI_"
      },
      "source": [
        "Show the statistical information about the data."
      ]
    },
    {
      "cell_type": "code",
      "execution_count": 4,
      "metadata": {
        "id": "8jeo1-3RGIFC"
      },
      "outputs": [
        {
          "data": {
            "text/html": [
              "<div>\n",
              "<style scoped>\n",
              "    .dataframe tbody tr th:only-of-type {\n",
              "        vertical-align: middle;\n",
              "    }\n",
              "\n",
              "    .dataframe tbody tr th {\n",
              "        vertical-align: top;\n",
              "    }\n",
              "\n",
              "    .dataframe thead th {\n",
              "        text-align: right;\n",
              "    }\n",
              "</style>\n",
              "<table border=\"1\" class=\"dataframe\">\n",
              "  <thead>\n",
              "    <tr style=\"text-align: right;\">\n",
              "      <th></th>\n",
              "      <th>Label</th>\n",
              "    </tr>\n",
              "  </thead>\n",
              "  <tbody>\n",
              "    <tr>\n",
              "      <th>count</th>\n",
              "      <td>1000.00000</td>\n",
              "    </tr>\n",
              "    <tr>\n",
              "      <th>mean</th>\n",
              "      <td>0.50000</td>\n",
              "    </tr>\n",
              "    <tr>\n",
              "      <th>std</th>\n",
              "      <td>0.50025</td>\n",
              "    </tr>\n",
              "    <tr>\n",
              "      <th>min</th>\n",
              "      <td>0.00000</td>\n",
              "    </tr>\n",
              "    <tr>\n",
              "      <th>25%</th>\n",
              "      <td>0.00000</td>\n",
              "    </tr>\n",
              "    <tr>\n",
              "      <th>50%</th>\n",
              "      <td>0.50000</td>\n",
              "    </tr>\n",
              "    <tr>\n",
              "      <th>75%</th>\n",
              "      <td>1.00000</td>\n",
              "    </tr>\n",
              "    <tr>\n",
              "      <th>max</th>\n",
              "      <td>1.00000</td>\n",
              "    </tr>\n",
              "  </tbody>\n",
              "</table>\n",
              "</div>"
            ],
            "text/plain": [
              "            Label\n",
              "count  1000.00000\n",
              "mean      0.50000\n",
              "std       0.50025\n",
              "min       0.00000\n",
              "25%       0.00000\n",
              "50%       0.50000\n",
              "75%       1.00000\n",
              "max       1.00000"
            ]
          },
          "execution_count": 4,
          "metadata": {},
          "output_type": "execute_result"
        }
      ],
      "source": [
        "data.describe()"
      ]
    },
    {
      "cell_type": "markdown",
      "metadata": {
        "id": "bsmn3I0YN1pQ"
      },
      "source": [
        "Is this a skewed dataset?"
      ]
    },
    {
      "cell_type": "code",
      "execution_count": 5,
      "metadata": {
        "id": "TxNkflR7N4un"
      },
      "outputs": [
        {
          "data": {
            "text/plain": [
              "1    500\n",
              "0    500\n",
              "Name: Label, dtype: int64"
            ]
          },
          "execution_count": 5,
          "metadata": {},
          "output_type": "execute_result"
        }
      ],
      "source": [
        "data['Label'].value_counts()"
      ]
    },
    {
      "cell_type": "code",
      "execution_count": 6,
      "metadata": {},
      "outputs": [
        {
          "name": "stdout",
          "output_type": "stream",
          "text": [
            "You are not running on Google Colab\n"
          ]
        }
      ],
      "source": [
        "if 'google.colab' in str(get_ipython()):\n",
        "    colab = True\n",
        "    print ('You are running on Google Colab')\n",
        "    !pip install langdetect\n",
        "else:\n",
        "    colab = False\n",
        "    print ('You are not running on Google Colab')"
      ]
    },
    {
      "cell_type": "markdown",
      "metadata": {
        "id": "bt3q6MbSONiW"
      },
      "source": [
        "Remove those Text's that are not in English."
      ]
    },
    {
      "cell_type": "code",
      "execution_count": 7,
      "metadata": {
        "id": "FcHe53RMRm50"
      },
      "outputs": [
        {
          "data": {
            "text/html": [
              "<div>\n",
              "<style scoped>\n",
              "    .dataframe tbody tr th:only-of-type {\n",
              "        vertical-align: middle;\n",
              "    }\n",
              "\n",
              "    .dataframe tbody tr th {\n",
              "        vertical-align: top;\n",
              "    }\n",
              "\n",
              "    .dataframe thead th {\n",
              "        text-align: right;\n",
              "    }\n",
              "</style>\n",
              "<table border=\"1\" class=\"dataframe\">\n",
              "  <thead>\n",
              "    <tr style=\"text-align: right;\">\n",
              "      <th></th>\n",
              "      <th>Text</th>\n",
              "      <th>Label</th>\n",
              "      <th>Lang</th>\n",
              "    </tr>\n",
              "  </thead>\n",
              "  <tbody>\n",
              "    <tr>\n",
              "      <th>19</th>\n",
              "      <td>did not like at all.</td>\n",
              "      <td>0</td>\n",
              "      <td>af</td>\n",
              "    </tr>\n",
              "    <tr>\n",
              "      <th>93</th>\n",
              "      <td>Best breakfast buffet!!!</td>\n",
              "      <td>1</td>\n",
              "      <td>no</td>\n",
              "    </tr>\n",
              "    <tr>\n",
              "      <th>94</th>\n",
              "      <td>say bye bye to your tip lady!</td>\n",
              "      <td>0</td>\n",
              "      <td>tl</td>\n",
              "    </tr>\n",
              "    <tr>\n",
              "      <th>109</th>\n",
              "      <td>Sooooo good!!</td>\n",
              "      <td>1</td>\n",
              "      <td>so</td>\n",
              "    </tr>\n",
              "    <tr>\n",
              "      <th>117</th>\n",
              "      <td>I've had better atmosphere.</td>\n",
              "      <td>0</td>\n",
              "      <td>no</td>\n",
              "    </tr>\n",
              "    <tr>\n",
              "      <th>131</th>\n",
              "      <td>Penne vodka excellent!</td>\n",
              "      <td>1</td>\n",
              "      <td>fr</td>\n",
              "    </tr>\n",
              "    <tr>\n",
              "      <th>133</th>\n",
              "      <td>The management is rude.</td>\n",
              "      <td>0</td>\n",
              "      <td>nl</td>\n",
              "    </tr>\n",
              "    <tr>\n",
              "      <th>140</th>\n",
              "      <td>Don't do it!!!!</td>\n",
              "      <td>0</td>\n",
              "      <td>nl</td>\n",
              "    </tr>\n",
              "    <tr>\n",
              "      <th>163</th>\n",
              "      <td>Avoid at all cost!</td>\n",
              "      <td>0</td>\n",
              "      <td>ca</td>\n",
              "    </tr>\n",
              "    <tr>\n",
              "      <th>165</th>\n",
              "      <td>DELICIOUS!!</td>\n",
              "      <td>1</td>\n",
              "      <td>de</td>\n",
              "    </tr>\n",
              "    <tr>\n",
              "      <th>246</th>\n",
              "      <td>Seriously flavorful delights, folks.</td>\n",
              "      <td>1</td>\n",
              "      <td>da</td>\n",
              "    </tr>\n",
              "    <tr>\n",
              "      <th>369</th>\n",
              "      <td>He deserves 5 stars.</td>\n",
              "      <td>1</td>\n",
              "      <td>nl</td>\n",
              "    </tr>\n",
              "    <tr>\n",
              "      <th>425</th>\n",
              "      <td>No complaints!</td>\n",
              "      <td>1</td>\n",
              "      <td>fr</td>\n",
              "    </tr>\n",
              "    <tr>\n",
              "      <th>427</th>\n",
              "      <td>Waiter was a jerk.</td>\n",
              "      <td>0</td>\n",
              "      <td>af</td>\n",
              "    </tr>\n",
              "    <tr>\n",
              "      <th>430</th>\n",
              "      <td>I never come again.</td>\n",
              "      <td>0</td>\n",
              "      <td>it</td>\n",
              "    </tr>\n",
              "    <tr>\n",
              "      <th>437</th>\n",
              "      <td>I like Steiners because it's dark and it feels...</td>\n",
              "      <td>1</td>\n",
              "      <td>af</td>\n",
              "    </tr>\n",
              "    <tr>\n",
              "      <th>440</th>\n",
              "      <td>I'll take my business dinner dollars elsewhere.</td>\n",
              "      <td>0</td>\n",
              "      <td>no</td>\n",
              "    </tr>\n",
              "    <tr>\n",
              "      <th>451</th>\n",
              "      <td>Food was so gooodd.</td>\n",
              "      <td>1</td>\n",
              "      <td>so</td>\n",
              "    </tr>\n",
              "    <tr>\n",
              "      <th>534</th>\n",
              "      <td>Terrible management.</td>\n",
              "      <td>0</td>\n",
              "      <td>fr</td>\n",
              "    </tr>\n",
              "    <tr>\n",
              "      <th>538</th>\n",
              "      <td>Worst martini ever!</td>\n",
              "      <td>0</td>\n",
              "      <td>da</td>\n",
              "    </tr>\n",
              "    <tr>\n",
              "      <th>551</th>\n",
              "      <td>Nice ambiance.</td>\n",
              "      <td>1</td>\n",
              "      <td>ro</td>\n",
              "    </tr>\n",
              "    <tr>\n",
              "      <th>614</th>\n",
              "      <td>An absolute must visit!</td>\n",
              "      <td>1</td>\n",
              "      <td>et</td>\n",
              "    </tr>\n",
              "    <tr>\n",
              "      <th>616</th>\n",
              "      <td>My friend did not like his Bloody Mary.</td>\n",
              "      <td>0</td>\n",
              "      <td>af</td>\n",
              "    </tr>\n",
              "    <tr>\n",
              "      <th>670</th>\n",
              "      <td>dont go here.</td>\n",
              "      <td>0</td>\n",
              "      <td>nl</td>\n",
              "    </tr>\n",
              "    <tr>\n",
              "      <th>684</th>\n",
              "      <td>Damn good steak.</td>\n",
              "      <td>1</td>\n",
              "      <td>af</td>\n",
              "    </tr>\n",
              "    <tr>\n",
              "      <th>718</th>\n",
              "      <td>After one bite, I was hooked.</td>\n",
              "      <td>1</td>\n",
              "      <td>af</td>\n",
              "    </tr>\n",
              "    <tr>\n",
              "      <th>720</th>\n",
              "      <td>Cute, quaint, simple, honest.</td>\n",
              "      <td>1</td>\n",
              "      <td>fr</td>\n",
              "    </tr>\n",
              "    <tr>\n",
              "      <th>765</th>\n",
              "      <td>Tasted like dirt.</td>\n",
              "      <td>0</td>\n",
              "      <td>af</td>\n",
              "    </tr>\n",
              "    <tr>\n",
              "      <th>778</th>\n",
              "      <td>My girlfriend's veal was very bad.</td>\n",
              "      <td>0</td>\n",
              "      <td>af</td>\n",
              "    </tr>\n",
              "    <tr>\n",
              "      <th>800</th>\n",
              "      <td>I'm super pissd.</td>\n",
              "      <td>0</td>\n",
              "      <td>ca</td>\n",
              "    </tr>\n",
              "    <tr>\n",
              "      <th>824</th>\n",
              "      <td>Awful service.</td>\n",
              "      <td>0</td>\n",
              "      <td>ro</td>\n",
              "    </tr>\n",
              "    <tr>\n",
              "      <th>911</th>\n",
              "      <td>Very, very sad.</td>\n",
              "      <td>0</td>\n",
              "      <td>af</td>\n",
              "    </tr>\n",
              "    <tr>\n",
              "      <th>929</th>\n",
              "      <td>Disappointing experience.</td>\n",
              "      <td>0</td>\n",
              "      <td>fr</td>\n",
              "    </tr>\n",
              "    <tr>\n",
              "      <th>966</th>\n",
              "      <td>But I don't like it.</td>\n",
              "      <td>0</td>\n",
              "      <td>sq</td>\n",
              "    </tr>\n",
              "  </tbody>\n",
              "</table>\n",
              "</div>"
            ],
            "text/plain": [
              "                                                  Text  Label Lang\n",
              "19                                did not like at all.      0   af\n",
              "93                            Best breakfast buffet!!!      1   no\n",
              "94                       say bye bye to your tip lady!      0   tl\n",
              "109                                      Sooooo good!!      1   so\n",
              "117                        I've had better atmosphere.      0   no\n",
              "131                             Penne vodka excellent!      1   fr\n",
              "133                            The management is rude.      0   nl\n",
              "140                                    Don't do it!!!!      0   nl\n",
              "163                                 Avoid at all cost!      0   ca\n",
              "165                                        DELICIOUS!!      1   de\n",
              "246               Seriously flavorful delights, folks.      1   da\n",
              "369                               He deserves 5 stars.      1   nl\n",
              "425                                     No complaints!      1   fr\n",
              "427                                 Waiter was a jerk.      0   af\n",
              "430                                I never come again.      0   it\n",
              "437  I like Steiners because it's dark and it feels...      1   af\n",
              "440    I'll take my business dinner dollars elsewhere.      0   no\n",
              "451                                Food was so gooodd.      1   so\n",
              "534                               Terrible management.      0   fr\n",
              "538                                Worst martini ever!      0   da\n",
              "551                                     Nice ambiance.      1   ro\n",
              "614                            An absolute must visit!      1   et\n",
              "616            My friend did not like his Bloody Mary.      0   af\n",
              "670                                      dont go here.      0   nl\n",
              "684                                   Damn good steak.      1   af\n",
              "718                      After one bite, I was hooked.      1   af\n",
              "720                      Cute, quaint, simple, honest.      1   fr\n",
              "765                                  Tasted like dirt.      0   af\n",
              "778                 My girlfriend's veal was very bad.      0   af\n",
              "800                                   I'm super pissd.      0   ca\n",
              "824                                     Awful service.      0   ro\n",
              "911                                    Very, very sad.      0   af\n",
              "929                          Disappointing experience.      0   fr\n",
              "966                               But I don't like it.      0   sq"
            ]
          },
          "execution_count": 7,
          "metadata": {},
          "output_type": "execute_result"
        }
      ],
      "source": [
        "from langdetect import detect\n",
        "data['Lang'] = data['Text'].apply(detect)\n",
        "data[data['Lang'] != 'en']"
      ]
    },
    {
      "cell_type": "code",
      "execution_count": 8,
      "metadata": {},
      "outputs": [
        {
          "name": "stdout",
          "output_type": "stream",
          "text": [
            "<class 'pandas.core.frame.DataFrame'>\n",
            "RangeIndex: 1000 entries, 0 to 999\n",
            "Data columns (total 3 columns):\n",
            " #   Column  Non-Null Count  Dtype \n",
            "---  ------  --------------  ----- \n",
            " 0   Text    1000 non-null   object\n",
            " 1   Label   1000 non-null   int64 \n",
            " 2   Lang    1000 non-null   object\n",
            "dtypes: int64(1), object(2)\n",
            "memory usage: 23.6+ KB\n"
          ]
        }
      ],
      "source": [
        "data.info()"
      ]
    },
    {
      "cell_type": "code",
      "execution_count": 9,
      "metadata": {
        "id": "i275DGW8OglR"
      },
      "outputs": [
        {
          "data": {
            "text/html": [
              "<div>\n",
              "<style scoped>\n",
              "    .dataframe tbody tr th:only-of-type {\n",
              "        vertical-align: middle;\n",
              "    }\n",
              "\n",
              "    .dataframe tbody tr th {\n",
              "        vertical-align: top;\n",
              "    }\n",
              "\n",
              "    .dataframe thead th {\n",
              "        text-align: right;\n",
              "    }\n",
              "</style>\n",
              "<table border=\"1\" class=\"dataframe\">\n",
              "  <thead>\n",
              "    <tr style=\"text-align: right;\">\n",
              "      <th></th>\n",
              "      <th>Text</th>\n",
              "      <th>Label</th>\n",
              "      <th>Lang</th>\n",
              "    </tr>\n",
              "  </thead>\n",
              "  <tbody>\n",
              "    <tr>\n",
              "      <th>0</th>\n",
              "      <td>Wow... Loved this place.</td>\n",
              "      <td>1</td>\n",
              "      <td>en</td>\n",
              "    </tr>\n",
              "    <tr>\n",
              "      <th>1</th>\n",
              "      <td>Crust is not good.</td>\n",
              "      <td>0</td>\n",
              "      <td>en</td>\n",
              "    </tr>\n",
              "    <tr>\n",
              "      <th>2</th>\n",
              "      <td>Not tasty and the texture was just nasty.</td>\n",
              "      <td>0</td>\n",
              "      <td>en</td>\n",
              "    </tr>\n",
              "    <tr>\n",
              "      <th>3</th>\n",
              "      <td>Stopped by during the late May bank holiday of...</td>\n",
              "      <td>1</td>\n",
              "      <td>en</td>\n",
              "    </tr>\n",
              "    <tr>\n",
              "      <th>4</th>\n",
              "      <td>The selection on the menu was great and so wer...</td>\n",
              "      <td>1</td>\n",
              "      <td>en</td>\n",
              "    </tr>\n",
              "  </tbody>\n",
              "</table>\n",
              "</div>"
            ],
            "text/plain": [
              "                                                Text  Label Lang\n",
              "0                           Wow... Loved this place.      1   en\n",
              "1                                 Crust is not good.      0   en\n",
              "2          Not tasty and the texture was just nasty.      0   en\n",
              "3  Stopped by during the late May bank holiday of...      1   en\n",
              "4  The selection on the menu was great and so wer...      1   en"
            ]
          },
          "execution_count": 9,
          "metadata": {},
          "output_type": "execute_result"
        }
      ],
      "source": [
        "data = data[data['Lang'] == 'en']\n",
        "data.head()"
      ]
    },
    {
      "cell_type": "markdown",
      "metadata": {
        "id": "Qv1Hwf1aOvaQ"
      },
      "source": [
        "How many records are left?"
      ]
    },
    {
      "cell_type": "code",
      "execution_count": 10,
      "metadata": {
        "id": "ZYAphDunOx-a"
      },
      "outputs": [
        {
          "data": {
            "text/plain": [
              "Text     966\n",
              "Label    966\n",
              "Lang     966\n",
              "dtype: int64"
            ]
          },
          "execution_count": 10,
          "metadata": {},
          "output_type": "execute_result"
        }
      ],
      "source": [
        "data.count()"
      ]
    },
    {
      "cell_type": "markdown",
      "metadata": {
        "id": "-_FsJr0kiNQM"
      },
      "source": [
        "## Using pre-trained word embeddings"
      ]
    },
    {
      "cell_type": "markdown",
      "metadata": {
        "id": "bEwn5TS7gXzr"
      },
      "source": [
        "What is the average length of the Text's (expressed as a number of words). This will be important when we need to truncate the sequences to a maximum length?  \n",
        "75% of the blogs consist of how many words?"
      ]
    },
    {
      "cell_type": "code",
      "execution_count": 11,
      "metadata": {
        "id": "X_sC6Q_sSBaG"
      },
      "outputs": [
        {
          "data": {
            "text/html": [
              "<div>\n",
              "<style scoped>\n",
              "    .dataframe tbody tr th:only-of-type {\n",
              "        vertical-align: middle;\n",
              "    }\n",
              "\n",
              "    .dataframe tbody tr th {\n",
              "        vertical-align: top;\n",
              "    }\n",
              "\n",
              "    .dataframe thead th {\n",
              "        text-align: right;\n",
              "    }\n",
              "</style>\n",
              "<table border=\"1\" class=\"dataframe\">\n",
              "  <thead>\n",
              "    <tr style=\"text-align: right;\">\n",
              "      <th></th>\n",
              "      <th>Text</th>\n",
              "      <th>Label</th>\n",
              "      <th>Lang</th>\n",
              "      <th>numberOfWords</th>\n",
              "    </tr>\n",
              "  </thead>\n",
              "  <tbody>\n",
              "    <tr>\n",
              "      <th>0</th>\n",
              "      <td>Wow... Loved this place.</td>\n",
              "      <td>1</td>\n",
              "      <td>en</td>\n",
              "      <td>4</td>\n",
              "    </tr>\n",
              "    <tr>\n",
              "      <th>1</th>\n",
              "      <td>Crust is not good.</td>\n",
              "      <td>0</td>\n",
              "      <td>en</td>\n",
              "      <td>4</td>\n",
              "    </tr>\n",
              "    <tr>\n",
              "      <th>2</th>\n",
              "      <td>Not tasty and the texture was just nasty.</td>\n",
              "      <td>0</td>\n",
              "      <td>en</td>\n",
              "      <td>8</td>\n",
              "    </tr>\n",
              "    <tr>\n",
              "      <th>3</th>\n",
              "      <td>Stopped by during the late May bank holiday of...</td>\n",
              "      <td>1</td>\n",
              "      <td>en</td>\n",
              "      <td>15</td>\n",
              "    </tr>\n",
              "    <tr>\n",
              "      <th>4</th>\n",
              "      <td>The selection on the menu was great and so wer...</td>\n",
              "      <td>1</td>\n",
              "      <td>en</td>\n",
              "      <td>12</td>\n",
              "    </tr>\n",
              "  </tbody>\n",
              "</table>\n",
              "</div>"
            ],
            "text/plain": [
              "                                                Text  Label Lang  \\\n",
              "0                           Wow... Loved this place.      1   en   \n",
              "1                                 Crust is not good.      0   en   \n",
              "2          Not tasty and the texture was just nasty.      0   en   \n",
              "3  Stopped by during the late May bank holiday of...      1   en   \n",
              "4  The selection on the menu was great and so wer...      1   en   \n",
              "\n",
              "   numberOfWords  \n",
              "0              4  \n",
              "1              4  \n",
              "2              8  \n",
              "3             15  \n",
              "4             12  "
            ]
          },
          "execution_count": 11,
          "metadata": {},
          "output_type": "execute_result"
        }
      ],
      "source": [
        "from nltk.tokenize import word_tokenize\n",
        "data[\"numberOfWords\"] = data[\"Text\"].str.split().map(len)\n",
        "data.head()"
      ]
    },
    {
      "cell_type": "code",
      "execution_count": 12,
      "metadata": {
        "id": "c5oro8fYgYC_"
      },
      "outputs": [
        {
          "data": {
            "text/plain": [
              "count    966.000000\n",
              "mean      11.136646\n",
              "std        6.219305\n",
              "min        2.000000\n",
              "25%        6.000000\n",
              "50%       10.000000\n",
              "75%       15.000000\n",
              "max       32.000000\n",
              "Name: numberOfWords, dtype: float64"
            ]
          },
          "execution_count": 12,
          "metadata": {},
          "output_type": "execute_result"
        }
      ],
      "source": [
        "data['numberOfWords'].describe()"
      ]
    },
    {
      "cell_type": "markdown",
      "metadata": {
        "id": "ppgvflqqnh0-"
      },
      "source": [
        "What is X_train, y_train, X_test, y_test?"
      ]
    },
    {
      "cell_type": "code",
      "execution_count": 13,
      "metadata": {
        "id": "CKsiVShZkP9K"
      },
      "outputs": [],
      "source": [
        "# Extract a training & validation split\n",
        "from sklearn.model_selection import train_test_split\n",
        "X = data.drop(['Lang','Label','numberOfWords'],axis=1)\n",
        "y = data['Label']\n",
        "X_train, X_test, y_train, y_test = train_test_split(X,y,test_size=0.20, random_state=42)"
      ]
    },
    {
      "cell_type": "markdown",
      "metadata": {
        "id": "FIWgtlmmnuek"
      },
      "source": [
        "What is X_train, y_train, X_val, y_val?"
      ]
    },
    {
      "cell_type": "code",
      "execution_count": 14,
      "metadata": {
        "id": "ceIjK_G3n0nL"
      },
      "outputs": [],
      "source": [
        "X_train, X_val, y_train, y_val = train_test_split(X_train, y_train, test_size=0.2, random_state=42)  "
      ]
    },
    {
      "cell_type": "markdown",
      "metadata": {
        "id": "G83ViT6hn3NE"
      },
      "source": [
        "What are the dimensions of X_train, X_val, X_test, y_train, y_val, y_test?"
      ]
    },
    {
      "cell_type": "code",
      "execution_count": 15,
      "metadata": {
        "id": "tNhF4BKdn398"
      },
      "outputs": [
        {
          "name": "stdout",
          "output_type": "stream",
          "text": [
            "Shape of x_train: (617, 1)\n",
            "Shape of x_test: (194, 1)\n",
            "Shape of x_val: (155, 1)\n",
            "Shape of y_train: (617,)\n",
            "Shape of y_test: (194,)\n",
            "Shape of y_val: (155,)\n"
          ]
        }
      ],
      "source": [
        "print(\"Shape of x_train:\", X_train.shape)\n",
        "print(\"Shape of x_test:\", X_test.shape)\n",
        "print(\"Shape of x_val:\", X_val.shape)\n",
        "print(\"Shape of y_train:\", y_train.shape)\n",
        "print(\"Shape of y_test:\", y_test.shape)\n",
        "print(\"Shape of y_val:\", y_val.shape)"
      ]
    },
    {
      "cell_type": "markdown",
      "metadata": {
        "id": "gS6e2fBFoQbV"
      },
      "source": [
        "Transform X_train, X_val and X_test into an array"
      ]
    },
    {
      "cell_type": "code",
      "execution_count": 16,
      "metadata": {
        "colab": {
          "base_uri": "https://localhost:8080/"
        },
        "id": "fakcRHRCkP9K",
        "outputId": "acc678b4-9de6-4d67-9594-8efda084f6eb"
      },
      "outputs": [
        {
          "name": "stdout",
          "output_type": "stream",
          "text": [
            "X_train shape: (617, 1)\n",
            "<class 'numpy.ndarray'>\n"
          ]
        }
      ],
      "source": [
        "X_train = np.asarray(X_train)\n",
        "X_val = np.asarray(X_val)\n",
        "X_test = np.asarray(X_test)\n",
        "\n",
        "print('X_train shape:', X_train.shape)\n",
        "print(type(X_train))"
      ]
    },
    {
      "cell_type": "markdown",
      "metadata": {
        "id": "xlLmJJTIoajl"
      },
      "source": [
        "Convert y_train, y_val and y_test to a vector with 1 zero and a single 1, corresponding to the right class."
      ]
    },
    {
      "cell_type": "code",
      "execution_count": null,
      "metadata": {
        "id": "X_VOoL7ao32N"
      },
      "outputs": [],
      "source": []
    },
    {
      "cell_type": "markdown",
      "metadata": {
        "id": "DeoSq0anotyA"
      },
      "source": [
        "Look at the new labels for the first sample."
      ]
    },
    {
      "cell_type": "code",
      "execution_count": null,
      "metadata": {
        "colab": {
          "base_uri": "https://localhost:8080/"
        },
        "id": "Zq-NlWNAkP9K",
        "outputId": "dcf60c8b-b2f1-4ca3-b7ce-f49ebc4ced7e"
      },
      "outputs": [],
      "source": []
    },
    {
      "cell_type": "markdown",
      "metadata": {
        "id": "IEeYjwoIkP9L"
      },
      "source": [
        "### Create a vocabulary index\n",
        "\n",
        "Use the TextVectorization to index the vocabulary found in the dataset. Later, the same layer instance will be used to vectorize the samples.\n",
        "\n",
        "The layer will only consider the top 20,000 words, and will truncate or pad sequences to be actually 15 tokens long (75% quartile)."
      ]
    },
    {
      "cell_type": "code",
      "execution_count": 17,
      "metadata": {
        "id": "XX306h1bkP9L"
      },
      "outputs": [],
      "source": [
        "from tensorflow.keras.layers.experimental.preprocessing import TextVectorization\n",
        "\n",
        "vectorizer = TextVectorization(max_tokens=20000, output_sequence_length=15)\n",
        "text_ds = tf.data.Dataset.from_tensor_slices(X_train)\n",
        "vectorizer.adapt(text_ds)\n"
      ]
    },
    {
      "cell_type": "markdown",
      "metadata": {
        "id": "_HYmyLy0pAyb"
      },
      "source": [
        "You can retrieve the computed vocabulary used via vectorizer.get_vocabulary().  \n",
        "Let's print the top 5 words"
      ]
    },
    {
      "cell_type": "code",
      "execution_count": 18,
      "metadata": {
        "colab": {
          "base_uri": "https://localhost:8080/"
        },
        "id": "-GH702DRkP9L",
        "outputId": "43f009ca-4fb1-4c6c-dc17-7fae8cd7dbc8"
      },
      "outputs": [
        {
          "data": {
            "text/plain": [
              "['', '[UNK]', 'the', 'and', 'i']"
            ]
          },
          "execution_count": 18,
          "metadata": {},
          "output_type": "execute_result"
        }
      ],
      "source": [
        "vectorizer.get_vocabulary()[:5]"
      ]
    },
    {
      "cell_type": "markdown",
      "metadata": {
        "id": "TI_5Vc0spFyz"
      },
      "source": [
        "Vectorize a small sentence \"the girl was unhappy\" "
      ]
    },
    {
      "cell_type": "code",
      "execution_count": 19,
      "metadata": {
        "colab": {
          "base_uri": "https://localhost:8080/"
        },
        "id": "4118Q5lukP9L",
        "outputId": "8fad8777-1127-4afc-da27-7e007484e185"
      },
      "outputs": [
        {
          "data": {
            "text/plain": [
              "array([4, 1, 2, 1, 5, 1, 0, 0], dtype=int64)"
            ]
          },
          "execution_count": 19,
          "metadata": {},
          "output_type": "execute_result"
        }
      ],
      "source": [
        "output = vectorizer([[\"i saw the girl was unhappy\"]])\n",
        "output.numpy()[0, :8]"
      ]
    },
    {
      "cell_type": "markdown",
      "metadata": {
        "id": "oIxA_Z2pkP9L"
      },
      "source": [
        "By which number is i represented? And girl? \n",
        "Give the dict mapping words to their indices."
      ]
    },
    {
      "cell_type": "code",
      "execution_count": 20,
      "metadata": {
        "id": "j9s_uUr4kP9L"
      },
      "outputs": [],
      "source": [
        "voc = vectorizer.get_vocabulary()\n",
        "word_index = dict(zip(voc, range(len(voc))))"
      ]
    },
    {
      "cell_type": "code",
      "execution_count": 21,
      "metadata": {},
      "outputs": [
        {
          "name": "stdout",
          "output_type": "stream",
          "text": [
            "4\n",
            "key not found\n"
          ]
        }
      ],
      "source": [
        "print(word_index.get('i','key not found'))\n",
        "print(word_index.get('girl','key not found'))"
      ]
    },
    {
      "cell_type": "markdown",
      "metadata": {
        "id": "6rvAyS5YkP9M"
      },
      "source": [
        "### Load pre-trained word embeddings\n"
      ]
    },
    {
      "cell_type": "markdown",
      "metadata": {
        "id": "cJE1M43ukP9M"
      },
      "source": [
        "Make a dict mapping words (strings) to their NumPy vector representation. Use the 100-dimensional vectors."
      ]
    },
    {
      "cell_type": "code",
      "execution_count": 22,
      "metadata": {
        "colab": {
          "base_uri": "https://localhost:8080/"
        },
        "id": "0mvxd8KXkP9M",
        "outputId": "396d68a9-fe25-4973-9091-0497b81f93fe"
      },
      "outputs": [
        {
          "name": "stdout",
          "output_type": "stream",
          "text": [
            "Found 400000 word vectors.\n"
          ]
        }
      ],
      "source": [
        "# we compute an index mapping words to known embeddings\n",
        "# by parsing the data dump of pre-trained embeddings:\n",
        "\n",
        "if colab: \n",
        "  path_to_glove_file = '/content/gdrive/My Drive/glove.6B.100d.txt'\n",
        "else:\n",
        "  path_to_glove_file = 'datasets/glove.6B.100d.txt'\n",
        "\n",
        "embeddings_index = {}\n",
        "\n",
        "with open(path_to_glove_file, encoding='utf-8') as f:\n",
        "    for line in f:\n",
        "      values = line.split()\n",
        "      word = values[0]\n",
        "      coefs = np.asarray(values[1:], dtype='float32')\n",
        "      embeddings_index[word] = coefs\n",
        "\n",
        "print(\"Found %s word vectors.\" % len(embeddings_index))"
      ]
    },
    {
      "cell_type": "markdown",
      "metadata": {
        "id": "V3-pNTHmvuKj"
      },
      "source": [
        "What is the embeddings_vector for the word girl?"
      ]
    },
    {
      "cell_type": "code",
      "execution_count": 23,
      "metadata": {
        "colab": {
          "base_uri": "https://localhost:8080/"
        },
        "id": "qEVhldJykP9M",
        "outputId": "02682b73-1cd2-4559-aa62-ad7e83229b63"
      },
      "outputs": [
        {
          "name": "stdout",
          "output_type": "stream",
          "text": [
            "[ 7.4582e-01  1.9531e-01  4.6831e-01 -1.0277e-01 -2.9927e-01  9.9653e-01\n",
            "  1.3940e-01  6.4173e-01  3.3129e-01  3.5322e-01 -3.0205e-01  3.4699e-01\n",
            "  5.3364e-01  6.2235e-01  4.3555e-01  5.4403e-01  3.9656e-01 -3.1789e-01\n",
            " -2.0172e-01  9.9636e-01  1.8479e-03 -1.4826e-01 -4.1845e-03  2.4953e-01\n",
            "  3.0177e-01  1.0043e+00 -4.4867e-01 -1.2911e+00 -1.2741e-01  9.0103e-01\n",
            "  1.1870e-01  2.7229e-01  9.7697e-01  1.9520e-02  4.0453e-01 -6.1585e-01\n",
            " -5.0483e-01 -3.1174e-02  7.0384e-01 -4.6058e-01 -4.3899e-01  4.2115e-01\n",
            " -1.7343e-01 -4.1879e-01  7.4560e-03  2.6609e-01 -7.8183e-01  4.5464e-01\n",
            "  9.0846e-01 -1.3126e-01 -4.8101e-01 -2.4726e-01  2.9251e-01  1.4122e+00\n",
            "  2.5368e-02 -1.9882e+00 -5.3257e-01  1.3427e-01  8.8987e-01  6.7416e-01\n",
            "  7.3902e-01  1.0998e+00 -7.6633e-01 -8.4833e-04  5.0982e-01  1.9587e-01\n",
            "  7.1845e-01  2.5045e-01 -2.9609e-01  1.9005e-01  1.9021e-01 -2.1668e-01\n",
            " -2.5819e-01  4.5417e-01  1.5185e-01  1.3500e+00  3.2284e-01 -2.3826e-01\n",
            " -6.9976e-01 -9.8157e-01 -3.9336e-01  5.2666e-01  6.0127e-01 -1.7520e-01\n",
            " -1.0014e+00 -1.0490e+00 -4.0113e-01 -1.9930e-01  3.4218e-02 -1.7069e-01\n",
            "  1.1801e-01  2.9238e-01  4.4989e-01 -2.1155e-01 -5.1509e-01  1.1215e-01\n",
            " -9.5016e-01 -1.9681e-01 -1.4621e-01 -3.0505e-01]\n"
          ]
        }
      ],
      "source": [
        "print(embeddings_index['girl'])"
      ]
    },
    {
      "cell_type": "markdown",
      "metadata": {
        "id": "TWQdOBRIkP9M"
      },
      "source": [
        "Prepare a corresponding embedding matrix that can be ued in a Keras Embedding layer. It's a simple NumPy matrix where the entry at index i is the pre-trained vector for the word of index i in our vectorizer's vocabulary."
      ]
    },
    {
      "cell_type": "code",
      "execution_count": 24,
      "metadata": {
        "colab": {
          "base_uri": "https://localhost:8080/"
        },
        "id": "GDClKnOdkP9N",
        "outputId": "00a7f10e-0aca-4a79-e2d4-bc7551d028d8"
      },
      "outputs": [
        {
          "name": "stdout",
          "output_type": "stream",
          "text": [
            "Converted 1528 words (61 misses)\n",
            "*** Missed words = words not in word_index ***\n",
            "['', '[UNK]', 'yaall', 'wouldve', 'workingeating', 'werent', 'wayyy', 'vinegrette', 'upway', 'topvery']\n",
            "\n"
          ]
        }
      ],
      "source": [
        "num_tokens = len(voc) + 2\n",
        "# each word is represented by a vector of 100 floats (glove.6B.100d.txt)\n",
        "embedding_dim = 100\n",
        "hits = 0\n",
        "misses = 0\n",
        "missed_words = []\n",
        "\n",
        "# Prepare embedding matrix\n",
        "embedding_matrix = np.zeros((num_tokens, embedding_dim))\n",
        "# word_index is a dictionary that maps each word to an index\n",
        "# we loop through all the words of word_index.items()\n",
        "for word, i in word_index.items():\n",
        "# we try to retrieve the vector of 100 floats for this word out of embeddings_index  \n",
        "    embedding_vector = embeddings_index.get(word)\n",
        "# if we found the corresponding vector of 100 floats    \n",
        "    if embedding_vector is not None:\n",
        "      # we put the vector on position i of embedding_matrix\n",
        "        embedding_matrix[i] = embedding_vector\n",
        "        hits += 1    \n",
        "    else:\n",
        "      # Words not found in embedding index will be all-zeros.    \n",
        "        misses += 1\n",
        "        missed_words.append(word)\n",
        "        \n",
        "print(\"Converted %d words (%d misses)\" % (hits, misses))\n",
        "\n",
        "print(\"*** Missed words = words not in word_index ***\")\n",
        "print(missed_words[0:10])\n",
        "print()\n"
      ]
    },
    {
      "cell_type": "markdown",
      "metadata": {
        "id": "5alBafGpLrS-"
      },
      "source": [
        "### Build the model\n",
        "First, convert our list-of-strings data to NumPy arrays of integer indices. The arrays are right-padded."
      ]
    },
    {
      "cell_type": "code",
      "execution_count": 25,
      "metadata": {
        "id": "6CQGaIJu2rTu"
      },
      "outputs": [
        {
          "name": "stdout",
          "output_type": "stream",
          "text": [
            "(617, 1)\n",
            "(155, 1)\n",
            "(194, 1)\n",
            "(617, 15)\n",
            "(155, 15)\n",
            "(194, 15)\n",
            "(617,)\n",
            "(155,)\n",
            "(194,)\n"
          ]
        }
      ],
      "source": [
        "X_train_final = vectorizer(np.array([s for s in X_train])).numpy()\n",
        "X_val_final =  vectorizer(np.array([s for s in X_val])).numpy()\n",
        "X_test_final = vectorizer(np.array([s for s in X_test])).numpy()\n",
        "\n",
        "y_train_final = np.array(y_train)\n",
        "y_val_final = np.array(y_val)\n",
        "y_test_final = np.array(y_test)\n",
        "\n",
        "print(X_train.shape)\n",
        "print(X_val.shape)\n",
        "print(X_test.shape)\n",
        "print(X_train_final.shape)\n",
        "print(X_val_final.shape)\n",
        "print(X_test_final.shape)\n",
        "print(y_train_final.shape)\n",
        "print(y_val_final.shape)\n",
        "print(y_test_final.shape)"
      ]
    },
    {
      "cell_type": "code",
      "execution_count": 26,
      "metadata": {},
      "outputs": [
        {
          "name": "stdout",
          "output_type": "stream",
          "text": [
            "[[   4  189   71    7   41   32    0    0    0    0    0    0    0    0\n",
            "     0]\n",
            " [  92 1096   34  205 1583    3    9    5    2   95    3  223   44   92\n",
            "   788]\n",
            " [   2   11    8   13  139   36   38   13    7   98  102  337  721 1163\n",
            "   427]\n",
            " [   2 1435   23   50    3   96    6   14  277    0    0    0    0    0\n",
            "     0]\n",
            " [   4   21  360 1170   16    9   17  205    2 1465   30  237  218    6\n",
            "   595]]\n"
          ]
        }
      ],
      "source": [
        "print(X_train_final[:5])"
      ]
    },
    {
      "cell_type": "markdown",
      "metadata": {
        "id": "g7CgWtfGL3dP"
      },
      "source": [
        "Create a small ANN model to predict the Label. Load the pre-trained word embeddings matrix into an Embedding layer.\n",
        "\n",
        "Compile the model.\n",
        "\n",
        "Train the model.\n",
        "\n",
        "Evaluate the model"
      ]
    },
    {
      "cell_type": "code",
      "execution_count": 50,
      "metadata": {
        "id": "e79RKeMg1tKO"
      },
      "outputs": [],
      "source": [
        "num_classes = 2\n",
        "\n",
        "def initial_model():\n",
        "    # we create a variable called model, and we set it equal to an instance of a Sequential object.\n",
        "    model = Sequential()\n",
        "\n",
        "    model.add(Embedding(input_dim=num_tokens, output_dim=embedding_dim, input_length=15,embeddings_initializer=keras.initializers.Constant(embedding_matrix),trainable=False))\n",
        "    model.add(keras.layers.Flatten(input_shape=[num_tokens, embedding_dim]))\n",
        "\n",
        "    model.add(keras.layers.Dense(100, activation=\"elu\", kernel_initializer=\"he_normal\"))\n",
        "    model.add(keras.layers.Dropout(rate=0.4))\n",
        "    model.add(keras.layers.Dense(100, activation=\"elu\", kernel_initializer=\"he_normal\"))\n",
        "    model.add(keras.layers.Dropout(rate=0.4))\n",
        "    model.add(keras.layers.Dense(100, activation=\"elu\", kernel_initializer=\"he_normal\"))\n",
        "    model.add(keras.layers.Dropout(rate=0.4))\n",
        "    model.add(keras.layers.Dense(100, activation=\"elu\", kernel_initializer=\"he_normal\"))\n",
        "    model.add(keras.layers.Dropout(rate=0.4))\n",
        "    model.add(Dense(num_classes, activation='softmax'))\n",
        "\n",
        "\n",
        "    # Before we can train our model, we must compile it\n",
        "    # To the compile() function, we are passing the optimizer, the loss function, and the metrics that we would like to see. \n",
        "    # Notice that the optimizer we have specified is called Adam. Adam is just a variant of SGD. \n",
        "    model.compile(loss=\"sparse_categorical_crossentropy\",\n",
        "                  optimizer= tf.keras.optimizers.Adam(learning_rate = 0.01),\n",
        "                  metrics=['accuracy']) \n",
        "    return model"
      ]
    },
    {
      "cell_type": "code",
      "execution_count": 51,
      "metadata": {},
      "outputs": [],
      "source": [
        "keras.backend.clear_session()\n",
        "np.random.seed(42)\n",
        "tf.random.set_seed(42)"
      ]
    },
    {
      "cell_type": "code",
      "execution_count": 52,
      "metadata": {
        "id": "hu-34XilLBEG"
      },
      "outputs": [
        {
          "name": "stdout",
          "output_type": "stream",
          "text": [
            "Epoch 1/20\n",
            "20/20 [==============================] - 0s 7ms/step - loss: 2.8572 - accuracy: 0.5186 - val_loss: 0.8335 - val_accuracy: 0.5613\n",
            "Epoch 2/20\n",
            "20/20 [==============================] - 0s 3ms/step - loss: 1.2054 - accuracy: 0.5251 - val_loss: 0.6973 - val_accuracy: 0.5161\n",
            "Epoch 3/20\n",
            "20/20 [==============================] - 0s 3ms/step - loss: 0.8336 - accuracy: 0.5122 - val_loss: 0.6781 - val_accuracy: 0.5613\n",
            "Epoch 4/20\n",
            "20/20 [==============================] - 0s 3ms/step - loss: 0.7497 - accuracy: 0.5559 - val_loss: 0.6769 - val_accuracy: 0.5613\n",
            "Epoch 5/20\n",
            "20/20 [==============================] - 0s 3ms/step - loss: 0.7044 - accuracy: 0.5770 - val_loss: 0.6690 - val_accuracy: 0.5548\n",
            "Epoch 6/20\n",
            "20/20 [==============================] - 0s 3ms/step - loss: 0.6938 - accuracy: 0.5705 - val_loss: 0.6676 - val_accuracy: 0.6000\n",
            "Epoch 7/20\n",
            "20/20 [==============================] - 0s 3ms/step - loss: 0.6563 - accuracy: 0.5964 - val_loss: 0.6496 - val_accuracy: 0.5806\n",
            "Epoch 8/20\n",
            "20/20 [==============================] - 0s 3ms/step - loss: 0.6417 - accuracy: 0.6694 - val_loss: 0.6622 - val_accuracy: 0.6194\n"
          ]
        }
      ],
      "source": [
        "model = initial_model()\n",
        "\n",
        "batch_size = 64\n",
        "epochs = 5\n",
        "\n",
        "early_stopping_cb = keras.callbacks.EarlyStopping(patience=1,\n",
        "                                                  restore_best_weights=True)\n",
        "\n",
        "history = model.fit(X_train_final, y_train_final,epochs=20, batch_size=32, \n",
        "                    validation_data=(X_val_final,y_val_final),\n",
        "                    callbacks=[early_stopping_cb])"
      ]
    },
    {
      "cell_type": "code",
      "execution_count": 53,
      "metadata": {
        "id": "T-zoD-36kP9O"
      },
      "outputs": [
        {
          "name": "stdout",
          "output_type": "stream",
          "text": [
            "Training set Accuracy:   0.73\n",
            "Training set Loss: 0.5397\n",
            "\n",
            "Validation set Accuracy:   0.58\n",
            "Validation set Loss: 0.6496\n",
            "\n"
          ]
        },
        {
          "data": {
            "image/png": "[encoded data removed]",
            "text/plain": [
              "<Figure size 864x288 with 2 Axes>"
            ]
          },
          "metadata": {
            "needs_background": "light"
          },
          "output_type": "display_data"
        }
      ],
      "source": [
        "[train_loss, train_accuracy] = model.evaluate(X_train_final, y_train_final, verbose=0)\n",
        "print(\"Training set Accuracy:{:7.2f}\".format(train_accuracy))\n",
        "print(\"Training set Loss:{:7.4f}\\n\".format(train_loss))\n",
        "\n",
        "[val_loss, val_accuracy] = model.evaluate(X_val_final, y_val_final, verbose=0)\n",
        "print(\"Validation set Accuracy:{:7.2f}\".format(val_accuracy))\n",
        "print(\"Validation set Loss:{:7.4f}\\n\".format(val_loss))\n",
        "\n",
        "#Now we visualise what happened during training\n",
        "plot_history(history)"
      ]
    }
  ],
  "metadata": {
    "colab": {
      "collapsed_sections": [],
      "name": "NLP Exercise Yelp Starter.ipynb",
      "provenance": []
    },
    "kernelspec": {
      "display_name": "Python 3",
      "language": "python",
      "name": "python3"
    },
    "language_info": {
      "codemirror_mode": {
        "name": "ipython",
        "version": 3
      },
      "file_extension": ".py",
      "mimetype": "text/x-python",
      "name": "python",
      "nbconvert_exporter": "python",
      "pygments_lexer": "ipython3",
      "version": "3.9.12"
    }
  },
  "nbformat": 4,
  "nbformat_minor": 0
}
