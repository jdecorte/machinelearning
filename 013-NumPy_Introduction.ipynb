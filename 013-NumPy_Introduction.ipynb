{
  "nbformat": 4,
  "nbformat_minor": 0,
  "metadata": {
    "kernelspec": {
      "display_name": "Python 3",
      "language": "python",
      "name": "python3"
    },
    "language_info": {
      "codemirror_mode": {
        "name": "ipython",
        "version": 3
      },
      "file_extension": ".py",
      "mimetype": "text/x-python",
      "name": "python",
      "nbconvert_exporter": "python",
      "pygments_lexer": "ipython3",
      "version": "3.8.3-final"
    },
    "colab": {
      "name": "NumPy_Introduction.ipynb",
      "provenance": []
    }
  },
  "cells": [
    {
      "cell_type": "markdown",
      "metadata": {
        "id": "aVJ30Wj9cBgV"
      },
      "source": [
        "## Numpy (short for Numerical Python)\n",
        "Numpy is the core library for scientific computing in Python. \n",
        "It provides a high-performance multidimensional array object, and tools for working with these arrays.\n",
        "Efficient storage and manipulation of numerical arrays is absolutely fundamental to the process of doing data science.\n",
        "\n",
        "\n",
        "### Arrays\n",
        "A numpy array is a grid of values, all of the same type, and is indexed by a tuple of nonnegative integers. \n",
        "The number of dimensions is the rank of the array; \n",
        "The shape of an array is a tuple of integers giving the size of the array along each dimension.\n",
        "\n",
        "We can initialize numpy arrays from nested Python lists, and access elements using square brackets:\n"
      ]
    },
    {
      "cell_type": "code",
      "metadata": {
        "id": "Nm3knVrzcBgW",
        "outputId": "01fad0f1-497f-492f-db16-cfb98cbfdf59"
      },
      "source": [
        "import numpy as np\n",
        "\n",
        "a = np.array([1, 2, 3])   # Create a rank 1 array\n",
        "print(type(a))            # Prints \"<class 'numpy.ndarray'>\"\n",
        "print(a.shape)            # Prints \"(3,)\"\n",
        "print(a[0], a[1], a[2])   # Prints \"1 2 3\"\n",
        "a[0] = 5                  # Change an element of the array\n",
        "print(a)                  # Prints \"[5, 2, 3]\"\n",
        "\n",
        "b = np.array([[1,2,3],[4,5,6]])    # Create a rank 2 array\n",
        "print(b.shape)                     # Prints \"(2, 3)\"\n",
        "print(b[0, 0], b[0, 1], b[1, 0])   # Prints \"1 2 4\""
      ],
      "execution_count": null,
      "outputs": [
        {
          "output_type": "stream",
          "text": [
            "<class 'numpy.ndarray'>\n",
            "(3,)\n",
            "1 2 3\n",
            "[5 2 3]\n",
            "(2, 3)\n",
            "1 2 4\n"
          ],
          "name": "stdout"
        }
      ]
    },
    {
      "cell_type": "markdown",
      "metadata": {
        "id": "E7Ch6oLecBge"
      },
      "source": [
        "### Array indexing\n",
        "Numpy offers several ways to index into arrays.\n",
        "\n",
        "Slicing: Similar to Python lists, numpy arrays can be sliced. \n",
        "Since arrays may be multidimensional, you must specify a slice for each dimension of the array:"
      ]
    },
    {
      "cell_type": "code",
      "metadata": {
        "id": "azuvV-qdcBgi",
        "outputId": "05f18336-d04c-4032-b401-5f257a3a5c44"
      },
      "source": [
        "import numpy as np\n",
        "\n",
        "# Create the following rank 2 array with shape (3, 4)\n",
        "# [[ 1  2  3  4]\n",
        "#  [ 5  6  7  8]\n",
        "#  [ 9 10 11 12]]\n",
        "a = np.array([[1,2,3,4], [5,6,7,8], [9,10,11,12]])\n",
        "\n",
        "# Use slicing to pull out the subarray consisting of the first 2 rows\n",
        "# and columns 1 and 2; b is the following array of shape (2, 2):\n",
        "# [[2 3]\n",
        "#  [6 7]]\n",
        "b = a[:2, 1:3]\n",
        "\n",
        "# A slice of an array is a view into the same data, so modifying it\n",
        "# will modify the original array.\n",
        "print(a[0, 1])   # Prints \"2\"\n",
        "b[0, 0] = 77     # b[0, 0] is the same piece of data as a[0, 1]\n",
        "print(a[0, 1])   # Prints \"77\""
      ],
      "execution_count": null,
      "outputs": [
        {
          "output_type": "stream",
          "text": [
            "2\n",
            "77\n"
          ],
          "name": "stdout"
        }
      ]
    },
    {
      "cell_type": "code",
      "metadata": {
        "id": "DpvvRsS3cBgm",
        "outputId": "eb05bfc3-5c36-4f80-cd33-e4b4dace0a40"
      },
      "source": [
        "# Array Creation\n",
        "# There are several ways to create arrays.\n",
        "# For example, you can create an array from a regular Python list or tuple using the array function. \n",
        "# The type of the resulting array is deduced from the type of the elements in the sequences.\n",
        "\n",
        "import numpy as np\n",
        "\n",
        "a = np.array([2,3,4])\n",
        "print(a) # [2, 3, 4]\n",
        "print(a.dtype) # dtype('int64')\n",
        "\n",
        "b = np.array([1.2, 3.5, 5.1])\n",
        "print(b.dtype) # dtype('float64')\n",
        "\n",
        "# Array transforms sequences of sequences into two-dimensional arrays, \n",
        "# sequences of sequences of sequences into three-dimensional arrays, and so on.\n",
        "c = np.array([(1.5,2,3), (4,5,6)])\n",
        "print(c)\n",
        "# [[ 1.5,  2. ,  3. ],\n",
        "#  [ 4. ,  5. ,  6. ]]\n",
        "\n",
        "# The type of the array can also be explicitly specified at creation time:\n",
        "d = np.array( [ [1,2], [3,4] ], dtype=complex )\n",
        "print(d)\n",
        "# [[ 1.+0.j,  2.+0.j],\n",
        "#  [ 3.+0.j,  4.+0.j]]\n",
        "\n",
        "e = np.arange(10, 30, 5) \n",
        "print(e) # [10, 15, 20, 25]\n",
        "\n",
        "f = np.arange(0, 2, 0.3) # it accepts float arguments\n",
        "print(f) # [ 0. ,  0.3,  0.6,  0.9,  1.2,  1.5,  1.8]\n",
        "\n",
        "\n",
        "g = np.arange(15).reshape(3, 5)\n",
        "print(g)\n",
        "# [[ 0,  1,  2,  3,  4],\n",
        "#  [ 5,  6,  7,  8,  9],\n",
        "#  [10, 11, 12, 13, 14]]\n",
        "print(g.shape) # (3, 5)\n",
        "print(g.ndim) # 2\n",
        "print(g.dtype.name) # 'int64'\n",
        "print(g.size) # 15\n",
        "print(type(g)) # <type 'numpy.ndarray'>\n",
        "\n",
        "h = np.array([6, 7, 8])\n",
        "print(h) # [6, 7, 8]\n",
        "print(type(h)) # <type 'numpy.ndarray'>\n"
      ],
      "execution_count": null,
      "outputs": [
        {
          "output_type": "stream",
          "text": [
            "[2 3 4]\n",
            "int32\n",
            "float64\n",
            "[[1.5 2.  3. ]\n",
            " [4.  5.  6. ]]\n",
            "[[1.+0.j 2.+0.j]\n",
            " [3.+0.j 4.+0.j]]\n",
            "[10 15 20 25]\n",
            "[0.  0.3 0.6 0.9 1.2 1.5 1.8]\n",
            "[[ 0  1  2  3  4]\n",
            " [ 5  6  7  8  9]\n",
            " [10 11 12 13 14]]\n",
            "(3, 5)\n",
            "2\n",
            "int32\n",
            "15\n",
            "<class 'numpy.ndarray'>\n",
            "[6 7 8]\n",
            "<class 'numpy.ndarray'>\n"
          ],
          "name": "stdout"
        }
      ]
    },
    {
      "cell_type": "code",
      "metadata": {
        "id": "o8XfxO9ucBiR",
        "outputId": "576b9ab3-03bb-49db-dd27-cfd364731b6f"
      },
      "source": [
        "# Using numpy.where(condition[, x, y])\n",
        "# Return elements, either from x or y, depending on condition.\n",
        "a = np.arange(9).reshape(3, 3)\n",
        "print(a)\n",
        "\n",
        "# Loop over all the elements. if the element < 5 => return the element, otherwise return -1\n",
        "a = np.where(a < 5, a, -1) \n",
        "print(a)"
      ],
      "execution_count": null,
      "outputs": [
        {
          "output_type": "stream",
          "text": [
            "[[0 1 2]\n",
            " [3 4 5]\n",
            " [6 7 8]]\n",
            "[[ 0  1  2]\n",
            " [ 3  4 -1]\n",
            " [-1 -1 -1]]\n"
          ],
          "name": "stdout"
        }
      ]
    },
    {
      "cell_type": "code",
      "metadata": {
        "id": "Fdhf6AErcBiW",
        "outputId": "64c61ff7-a2a4-40b6-e2c9-9a01513da5be"
      },
      "source": [
        "# How to get index locations that satisfy a given condition using np.where?\n",
        "a = np.array([8, 8, 3, 7, 7, 0, 4, 2, 5, 2])\n",
        "print(a)\n",
        "\n",
        "# Positions where value > 5\n",
        "index_gt5 = np.where(a > 5)\n",
        "print(\"Positions where value > 5: \", index_gt5)\n",
        "\n",
        "# Retrieve the corresponding values\n",
        "print(a[index_gt5])"
      ],
      "execution_count": null,
      "outputs": [
        {
          "output_type": "stream",
          "text": [
            "[8 8 3 7 7 0 4 2 5 2]\n",
            "Positions where value > 5:  (array([0, 1, 3, 4], dtype=int64),)\n",
            "[8 8 7 7]\n"
          ],
          "name": "stdout"
        }
      ]
    }
  ]
}