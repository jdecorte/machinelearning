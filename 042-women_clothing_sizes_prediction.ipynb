{
  "cells": [
    {
      "cell_type": "code",
      "execution_count": 1,
      "metadata": {
        "id": "slCpcN-FThxB"
      },
      "outputs": [],
      "source": [
        "# Importing the necessary packages\n",
        "import numpy as np                                  # \"Scientific computing\"\n",
        "\n",
        "\n",
        "import pandas as pd                                 # Data Frame\n",
        "\n",
        "import matplotlib.pyplot as plt                     # Basic visualisation\n",
        "import seaborn as sns                               # Advanced data visualisation\n",
        "\n",
        "from numpy import mean\n",
        "from numpy import std\n",
        "from numpy import absolute\n",
        "from pandas import read_csv\n",
        "from sklearn.model_selection import cross_val_score\n",
        "from sklearn.model_selection import KFold\n",
        "from sklearn.compose import ColumnTransformer\n",
        "from sklearn.pipeline import Pipeline\n",
        "from sklearn.preprocessing import OneHotEncoder\n",
        "from sklearn.preprocessing import MinMaxScaler"
      ]
    },
    {
      "cell_type": "code",
      "execution_count": null,
      "metadata": {
        "colab": {
          "base_uri": "https://localhost:8080/",
          "height": 206
        },
        "id": "0LmIWRV4OylW",
        "outputId": "233eac34-1731-457a-81ba-74e3755e7dec"
      },
      "outputs": [
        {
          "data": {
            "text/html": [
              "\n",
              "  <div id=\"df-c14c45c7-3f61-4468-b075-ce4552485a7d\">\n",
              "    <div class=\"colab-df-container\">\n",
              "      <div>\n",
              "<style scoped>\n",
              "    .dataframe tbody tr th:only-of-type {\n",
              "        vertical-align: middle;\n",
              "    }\n",
              "\n",
              "    .dataframe tbody tr th {\n",
              "        vertical-align: top;\n",
              "    }\n",
              "\n",
              "    .dataframe thead th {\n",
              "        text-align: right;\n",
              "    }\n",
              "</style>\n",
              "<table border=\"1\" class=\"dataframe\">\n",
              "  <thead>\n",
              "    <tr style=\"text-align: right;\">\n",
              "      <th></th>\n",
              "      <th>weight</th>\n",
              "      <th>age</th>\n",
              "      <th>height</th>\n",
              "      <th>size</th>\n",
              "    </tr>\n",
              "  </thead>\n",
              "  <tbody>\n",
              "    <tr>\n",
              "      <th>0</th>\n",
              "      <td>62</td>\n",
              "      <td>28.0</td>\n",
              "      <td>172.72</td>\n",
              "      <td>XL</td>\n",
              "    </tr>\n",
              "    <tr>\n",
              "      <th>1</th>\n",
              "      <td>59</td>\n",
              "      <td>36.0</td>\n",
              "      <td>167.64</td>\n",
              "      <td>L</td>\n",
              "    </tr>\n",
              "    <tr>\n",
              "      <th>2</th>\n",
              "      <td>61</td>\n",
              "      <td>34.0</td>\n",
              "      <td>165.10</td>\n",
              "      <td>M</td>\n",
              "    </tr>\n",
              "    <tr>\n",
              "      <th>3</th>\n",
              "      <td>65</td>\n",
              "      <td>27.0</td>\n",
              "      <td>175.26</td>\n",
              "      <td>L</td>\n",
              "    </tr>\n",
              "    <tr>\n",
              "      <th>4</th>\n",
              "      <td>62</td>\n",
              "      <td>45.0</td>\n",
              "      <td>172.72</td>\n",
              "      <td>M</td>\n",
              "    </tr>\n",
              "  </tbody>\n",
              "</table>\n",
              "</div>\n",
              "      <button class=\"colab-df-convert\" onclick=\"convertToInteractive('df-c14c45c7-3f61-4468-b075-ce4552485a7d')\"\n",
              "              title=\"Convert this dataframe to an interactive table.\"\n",
              "              style=\"display:none;\">\n",
              "        \n",
              "  <svg xmlns=\"http://www.w3.org/2000/svg\" height=\"24px\"viewBox=\"0 0 24 24\"\n",
              "       width=\"24px\">\n",
              "    <path d=\"M0 0h24v24H0V0z\" fill=\"none\"/>\n",
              "    <path d=\"M18.56 5.44l.94 2.06.94-2.06 2.06-.94-2.06-.94-.94-2.06-.94 2.06-2.06.94zm-11 1L8.5 8.5l.94-2.06 2.06-.94-2.06-.94L8.5 2.5l-.94 2.06-2.06.94zm10 10l.94 2.06.94-2.06 2.06-.94-2.06-.94-.94-2.06-.94 2.06-2.06.94z\"/><path d=\"M17.41 7.96l-1.37-1.37c-.4-.4-.92-.59-1.43-.59-.52 0-1.04.2-1.43.59L10.3 9.45l-7.72 7.72c-.78.78-.78 2.05 0 2.83L4 21.41c.39.39.9.59 1.41.59.51 0 1.02-.2 1.41-.59l7.78-7.78 2.81-2.81c.8-.78.8-2.07 0-2.86zM5.41 20L4 18.59l7.72-7.72 1.47 1.35L5.41 20z\"/>\n",
              "  </svg>\n",
              "      </button>\n",
              "      \n",
              "  <style>\n",
              "    .colab-df-container {\n",
              "      display:flex;\n",
              "      flex-wrap:wrap;\n",
              "      gap: 12px;\n",
              "    }\n",
              "\n",
              "    .colab-df-convert {\n",
              "      background-color: #E8F0FE;\n",
              "      border: none;\n",
              "      border-radius: 50%;\n",
              "      cursor: pointer;\n",
              "      display: none;\n",
              "      fill: #1967D2;\n",
              "      height: 32px;\n",
              "      padding: 0 0 0 0;\n",
              "      width: 32px;\n",
              "    }\n",
              "\n",
              "    .colab-df-convert:hover {\n",
              "      background-color: #E2EBFA;\n",
              "      box-shadow: 0px 1px 2px rgba(60, 64, 67, 0.3), 0px 1px 3px 1px rgba(60, 64, 67, 0.15);\n",
              "      fill: #174EA6;\n",
              "    }\n",
              "\n",
              "    [theme=dark] .colab-df-convert {\n",
              "      background-color: #3B4455;\n",
              "      fill: #D2E3FC;\n",
              "    }\n",
              "\n",
              "    [theme=dark] .colab-df-convert:hover {\n",
              "      background-color: #434B5C;\n",
              "      box-shadow: 0px 1px 3px 1px rgba(0, 0, 0, 0.15);\n",
              "      filter: drop-shadow(0px 1px 2px rgba(0, 0, 0, 0.3));\n",
              "      fill: #FFFFFF;\n",
              "    }\n",
              "  </style>\n",
              "\n",
              "      <script>\n",
              "        const buttonEl =\n",
              "          document.querySelector('#df-c14c45c7-3f61-4468-b075-ce4552485a7d button.colab-df-convert');\n",
              "        buttonEl.style.display =\n",
              "          google.colab.kernel.accessAllowed ? 'block' : 'none';\n",
              "\n",
              "        async function convertToInteractive(key) {\n",
              "          const element = document.querySelector('#df-c14c45c7-3f61-4468-b075-ce4552485a7d');\n",
              "          const dataTable =\n",
              "            await google.colab.kernel.invokeFunction('convertToInteractive',\n",
              "                                                     [key], {});\n",
              "          if (!dataTable) return;\n",
              "\n",
              "          const docLinkHtml = 'Like what you see? Visit the ' +\n",
              "            '<a target=\"_blank\" href=https://colab.research.google.com/notebooks/data_table.ipynb>data table notebook</a>'\n",
              "            + ' to learn more about interactive tables.';\n",
              "          element.innerHTML = '';\n",
              "          dataTable['output_type'] = 'display_data';\n",
              "          await google.colab.output.renderOutput(dataTable, element);\n",
              "          const docLink = document.createElement('div');\n",
              "          docLink.innerHTML = docLinkHtml;\n",
              "          element.appendChild(docLink);\n",
              "        }\n",
              "      </script>\n",
              "    </div>\n",
              "  </div>\n",
              "  "
            ],
            "text/plain": [
              "   weight   age  height size\n",
              "0      62  28.0  172.72   XL\n",
              "1      59  36.0  167.64    L\n",
              "2      61  34.0  165.10    M\n",
              "3      65  27.0  175.26    L\n",
              "4      62  45.0  172.72    M"
            ]
          },
          "execution_count": 198,
          "metadata": {},
          "output_type": "execute_result"
        }
      ],
      "source": [
        "# Read the dataset\n",
        "df = pd.read_csv('https://raw.githubusercontent.com/jdecorte/machinelearning/main/datasets//clothes_size_prediction.csv')\n",
        "df.head()"
      ]
    },
    {
      "cell_type": "markdown",
      "metadata": {
        "id": "Hnn-zePH-Gik"
      },
      "source": [
        "## Take a look at the dataset"
      ]
    },
    {
      "cell_type": "markdown",
      "metadata": {
        "id": "yJ83DJF4TBiW"
      },
      "source": [
        "Show some general info about the dataset"
      ]
    },
    {
      "cell_type": "code",
      "execution_count": null,
      "metadata": {
        "colab": {
          "base_uri": "https://localhost:8080/"
        },
        "id": "lWrQHkfGTBiW",
        "outputId": "7ee67a4d-1be0-4bcd-a73a-178a5cd3e4c8"
      },
      "outputs": [
        {
          "name": "stdout",
          "output_type": "stream",
          "text": [
            "<class 'pandas.core.frame.DataFrame'>\n",
            "RangeIndex: 119734 entries, 0 to 119733\n",
            "Data columns (total 4 columns):\n",
            " #   Column  Non-Null Count   Dtype  \n",
            "---  ------  --------------   -----  \n",
            " 0   weight  119734 non-null  int64  \n",
            " 1   age     119477 non-null  float64\n",
            " 2   height  119404 non-null  float64\n",
            " 3   size    119734 non-null  object \n",
            "dtypes: float64(2), int64(1), object(1)\n",
            "memory usage: 3.7+ MB\n"
          ]
        }
      ],
      "source": []
    },
    {
      "cell_type": "markdown",
      "metadata": {
        "id": "W-X1zud-ZHbu"
      },
      "source": [
        "Remove records with empty values"
      ]
    },
    {
      "cell_type": "code",
      "execution_count": null,
      "metadata": {
        "id": "k5tYhqYzZKPm"
      },
      "outputs": [],
      "source": []
    },
    {
      "cell_type": "markdown",
      "metadata": {
        "id": "PWZUrCXiWkZJ"
      },
      "source": [
        "What are number of records for each size?  \n",
        "\n",
        "M: 29575  \n",
        "S: 21829  \n",
        "XXXL: 21259  \n",
        "XL: 19033  \n",
        "L: 17481  \n",
        "XXS: 9907  \n",
        "XXL: 69"
      ]
    },
    {
      "cell_type": "code",
      "execution_count": null,
      "metadata": {
        "colab": {
          "base_uri": "https://localhost:8080/"
        },
        "id": "HgDpNxvVROuW",
        "outputId": "9cd26fa7-bb3b-494c-fbb2-18e81b608e6f"
      },
      "outputs": [
        {
          "data": {
            "text/plain": [
              "M       29575\n",
              "S       21829\n",
              "XXXL    21259\n",
              "XL      19033\n",
              "L       17481\n",
              "XXS      9907\n",
              "XXL        69\n",
              "Name: size, dtype: int64"
            ]
          },
          "execution_count": 201,
          "metadata": {},
          "output_type": "execute_result"
        }
      ],
      "source": []
    },
    {
      "cell_type": "markdown",
      "metadata": {
        "id": "NfZmQw2JW-Et"
      },
      "source": [
        "Because there are only very few records for XXL, remove those records from the dataset"
      ]
    },
    {
      "cell_type": "code",
      "execution_count": null,
      "metadata": {
        "id": "jUszmoODRysq"
      },
      "outputs": [],
      "source": []
    },
    {
      "cell_type": "markdown",
      "metadata": {
        "id": "E5r9Dgx6-ZQY"
      },
      "source": [
        "At first sight this seems quite a large dataset, but is this actually true?  \n",
        "First we are going to change the datatype of height from float to integer.\n"
      ]
    },
    {
      "cell_type": "code",
      "execution_count": null,
      "metadata": {
        "id": "HLMP4txL_etq"
      },
      "outputs": [],
      "source": []
    },
    {
      "cell_type": "markdown",
      "metadata": {
        "id": "rbfsYvb2GAlQ"
      },
      "source": [
        "It seems reasonable to round the ages to the nearest five-fold"
      ]
    },
    {
      "cell_type": "code",
      "execution_count": null,
      "metadata": {
        "id": "rdfqrdEFGA3q"
      },
      "outputs": [],
      "source": []
    },
    {
      "cell_type": "markdown",
      "metadata": {
        "id": "B815eJXu_fq2"
      },
      "source": [
        "Change the datatype of height from float to integer."
      ]
    },
    {
      "cell_type": "code",
      "execution_count": null,
      "metadata": {
        "id": "ZNYC6t5E_jX2"
      },
      "outputs": [],
      "source": []
    },
    {
      "cell_type": "markdown",
      "metadata": {
        "id": "VS2zmgZK_pN5"
      },
      "source": [
        "We drop duplicate rows in the dataset."
      ]
    },
    {
      "cell_type": "code",
      "execution_count": null,
      "metadata": {
        "id": "-86HykHO_wEh"
      },
      "outputs": [],
      "source": []
    },
    {
      "cell_type": "markdown",
      "metadata": {
        "id": "IwfhGKZM_3ig"
      },
      "source": [
        "How many records are left?"
      ]
    },
    {
      "cell_type": "code",
      "execution_count": null,
      "metadata": {
        "colab": {
          "base_uri": "https://localhost:8080/"
        },
        "id": "N_Cvev58_2-z",
        "outputId": "85e4ef47-eba7-4081-bb87-adc0a71ed0d5"
      },
      "outputs": [
        {
          "name": "stdout",
          "output_type": "stream",
          "text": [
            "<class 'pandas.core.frame.DataFrame'>\n",
            "Int64Index: 11306 entries, 19379 to 88415\n",
            "Data columns (total 4 columns):\n",
            " #   Column  Non-Null Count  Dtype \n",
            "---  ------  --------------  ----- \n",
            " 0   weight  11306 non-null  int64 \n",
            " 1   age     11306 non-null  int64 \n",
            " 2   height  11306 non-null  int64 \n",
            " 3   size    11306 non-null  object\n",
            "dtypes: int64(3), object(1)\n",
            "memory usage: 441.6+ KB\n"
          ]
        }
      ],
      "source": []
    },
    {
      "cell_type": "markdown",
      "metadata": {
        "id": "sxe52mRkGXtB"
      },
      "source": [
        "We want to know if there are any 'wrong duplicates' in the dataset, i.e. the same values for weight, age and height, but still another size. So we count the nunique"
      ]
    },
    {
      "cell_type": "code",
      "execution_count": null,
      "metadata": {
        "colab": {
          "base_uri": "https://localhost:8080/",
          "height": 206
        },
        "id": "5C8YMQOhGcIR",
        "outputId": "104b4481-ec3e-4b07-b878-eea5d18695f4"
      },
      "outputs": [
        {
          "data": {
            "text/html": [
              "\n",
              "  <div id=\"df-23b596ee-aa32-400e-9f88-44e6821094da\">\n",
              "    <div class=\"colab-df-container\">\n",
              "      <div>\n",
              "<style scoped>\n",
              "    .dataframe tbody tr th:only-of-type {\n",
              "        vertical-align: middle;\n",
              "    }\n",
              "\n",
              "    .dataframe tbody tr th {\n",
              "        vertical-align: top;\n",
              "    }\n",
              "\n",
              "    .dataframe thead th {\n",
              "        text-align: right;\n",
              "    }\n",
              "</style>\n",
              "<table border=\"1\" class=\"dataframe\">\n",
              "  <thead>\n",
              "    <tr style=\"text-align: right;\">\n",
              "      <th></th>\n",
              "      <th>weight</th>\n",
              "      <th>age</th>\n",
              "      <th>height</th>\n",
              "      <th>size</th>\n",
              "    </tr>\n",
              "  </thead>\n",
              "  <tbody>\n",
              "    <tr>\n",
              "      <th>0</th>\n",
              "      <td>22</td>\n",
              "      <td>30</td>\n",
              "      <td>167</td>\n",
              "      <td>2</td>\n",
              "    </tr>\n",
              "    <tr>\n",
              "      <th>1</th>\n",
              "      <td>22</td>\n",
              "      <td>45</td>\n",
              "      <td>152</td>\n",
              "      <td>1</td>\n",
              "    </tr>\n",
              "    <tr>\n",
              "      <th>2</th>\n",
              "      <td>26</td>\n",
              "      <td>45</td>\n",
              "      <td>172</td>\n",
              "      <td>1</td>\n",
              "    </tr>\n",
              "    <tr>\n",
              "      <th>3</th>\n",
              "      <td>31</td>\n",
              "      <td>35</td>\n",
              "      <td>175</td>\n",
              "      <td>1</td>\n",
              "    </tr>\n",
              "    <tr>\n",
              "      <th>4</th>\n",
              "      <td>35</td>\n",
              "      <td>20</td>\n",
              "      <td>182</td>\n",
              "      <td>1</td>\n",
              "    </tr>\n",
              "  </tbody>\n",
              "</table>\n",
              "</div>\n",
              "      <button class=\"colab-df-convert\" onclick=\"convertToInteractive('df-23b596ee-aa32-400e-9f88-44e6821094da')\"\n",
              "              title=\"Convert this dataframe to an interactive table.\"\n",
              "              style=\"display:none;\">\n",
              "        \n",
              "  <svg xmlns=\"http://www.w3.org/2000/svg\" height=\"24px\"viewBox=\"0 0 24 24\"\n",
              "       width=\"24px\">\n",
              "    <path d=\"M0 0h24v24H0V0z\" fill=\"none\"/>\n",
              "    <path d=\"M18.56 5.44l.94 2.06.94-2.06 2.06-.94-2.06-.94-.94-2.06-.94 2.06-2.06.94zm-11 1L8.5 8.5l.94-2.06 2.06-.94-2.06-.94L8.5 2.5l-.94 2.06-2.06.94zm10 10l.94 2.06.94-2.06 2.06-.94-2.06-.94-.94-2.06-.94 2.06-2.06.94z\"/><path d=\"M17.41 7.96l-1.37-1.37c-.4-.4-.92-.59-1.43-.59-.52 0-1.04.2-1.43.59L10.3 9.45l-7.72 7.72c-.78.78-.78 2.05 0 2.83L4 21.41c.39.39.9.59 1.41.59.51 0 1.02-.2 1.41-.59l7.78-7.78 2.81-2.81c.8-.78.8-2.07 0-2.86zM5.41 20L4 18.59l7.72-7.72 1.47 1.35L5.41 20z\"/>\n",
              "  </svg>\n",
              "      </button>\n",
              "      \n",
              "  <style>\n",
              "    .colab-df-container {\n",
              "      display:flex;\n",
              "      flex-wrap:wrap;\n",
              "      gap: 12px;\n",
              "    }\n",
              "\n",
              "    .colab-df-convert {\n",
              "      background-color: #E8F0FE;\n",
              "      border: none;\n",
              "      border-radius: 50%;\n",
              "      cursor: pointer;\n",
              "      display: none;\n",
              "      fill: #1967D2;\n",
              "      height: 32px;\n",
              "      padding: 0 0 0 0;\n",
              "      width: 32px;\n",
              "    }\n",
              "\n",
              "    .colab-df-convert:hover {\n",
              "      background-color: #E2EBFA;\n",
              "      box-shadow: 0px 1px 2px rgba(60, 64, 67, 0.3), 0px 1px 3px 1px rgba(60, 64, 67, 0.15);\n",
              "      fill: #174EA6;\n",
              "    }\n",
              "\n",
              "    [theme=dark] .colab-df-convert {\n",
              "      background-color: #3B4455;\n",
              "      fill: #D2E3FC;\n",
              "    }\n",
              "\n",
              "    [theme=dark] .colab-df-convert:hover {\n",
              "      background-color: #434B5C;\n",
              "      box-shadow: 0px 1px 3px 1px rgba(0, 0, 0, 0.15);\n",
              "      filter: drop-shadow(0px 1px 2px rgba(0, 0, 0, 0.3));\n",
              "      fill: #FFFFFF;\n",
              "    }\n",
              "  </style>\n",
              "\n",
              "      <script>\n",
              "        const buttonEl =\n",
              "          document.querySelector('#df-23b596ee-aa32-400e-9f88-44e6821094da button.colab-df-convert');\n",
              "        buttonEl.style.display =\n",
              "          google.colab.kernel.accessAllowed ? 'block' : 'none';\n",
              "\n",
              "        async function convertToInteractive(key) {\n",
              "          const element = document.querySelector('#df-23b596ee-aa32-400e-9f88-44e6821094da');\n",
              "          const dataTable =\n",
              "            await google.colab.kernel.invokeFunction('convertToInteractive',\n",
              "                                                     [key], {});\n",
              "          if (!dataTable) return;\n",
              "\n",
              "          const docLinkHtml = 'Like what you see? Visit the ' +\n",
              "            '<a target=\"_blank\" href=https://colab.research.google.com/notebooks/data_table.ipynb>data table notebook</a>'\n",
              "            + ' to learn more about interactive tables.';\n",
              "          element.innerHTML = '';\n",
              "          dataTable['output_type'] = 'display_data';\n",
              "          await google.colab.output.renderOutput(dataTable, element);\n",
              "          const docLink = document.createElement('div');\n",
              "          docLink.innerHTML = docLinkHtml;\n",
              "          element.appendChild(docLink);\n",
              "        }\n",
              "      </script>\n",
              "    </div>\n",
              "  </div>\n",
              "  "
            ],
            "text/plain": [
              "   weight  age  height  size\n",
              "0      22   30     167     2\n",
              "1      22   45     152     1\n",
              "2      26   45     172     1\n",
              "3      31   35     175     1\n",
              "4      35   20     182     1"
            ]
          },
          "execution_count": 208,
          "metadata": {},
          "output_type": "execute_result"
        }
      ],
      "source": []
    },
    {
      "cell_type": "markdown",
      "metadata": {
        "id": "uWGCd729GiQy"
      },
      "source": [
        "We want to know how many records there are with the same values for weight, age and height, but another value for size."
      ]
    },
    {
      "cell_type": "code",
      "execution_count": null,
      "metadata": {
        "colab": {
          "base_uri": "https://localhost:8080/"
        },
        "id": "9vsEG8o6GkZq",
        "outputId": "39a14c9a-2187-403c-f251-56e481127c73"
      },
      "outputs": [
        {
          "data": {
            "text/plain": [
              "weight    2723\n",
              "age       2723\n",
              "height    2723\n",
              "size      2723\n",
              "dtype: int64"
            ]
          },
          "execution_count": 209,
          "metadata": {},
          "output_type": "execute_result"
        }
      ],
      "source": []
    },
    {
      "cell_type": "markdown",
      "metadata": {
        "id": "3VgPtJILGmLe"
      },
      "source": [
        "We decide to remove those records and to keep the first one"
      ]
    },
    {
      "cell_type": "code",
      "execution_count": null,
      "metadata": {
        "id": "VrQrARK7GpDl"
      },
      "outputs": [],
      "source": []
    },
    {
      "cell_type": "markdown",
      "metadata": {
        "id": "sdhH8wG-GsNK"
      },
      "source": [
        "How many records are left?"
      ]
    },
    {
      "cell_type": "code",
      "execution_count": null,
      "metadata": {
        "colab": {
          "base_uri": "https://localhost:8080/"
        },
        "id": "-4rXpIyzGs0G",
        "outputId": "b825adf7-f83d-404d-b195-119fbac1bdcf"
      },
      "outputs": [
        {
          "name": "stdout",
          "output_type": "stream",
          "text": [
            "<class 'pandas.core.frame.DataFrame'>\n",
            "Int64Index: 5149 entries, 19379 to 88415\n",
            "Data columns (total 4 columns):\n",
            " #   Column  Non-Null Count  Dtype \n",
            "---  ------  --------------  ----- \n",
            " 0   weight  5149 non-null   int64 \n",
            " 1   age     5149 non-null   int64 \n",
            " 2   height  5149 non-null   int64 \n",
            " 3   size    5149 non-null   object\n",
            "dtypes: int64(3), object(1)\n",
            "memory usage: 201.1+ KB\n"
          ]
        }
      ],
      "source": []
    },
    {
      "cell_type": "markdown",
      "metadata": {
        "id": "I5bVxY_GJnEZ"
      },
      "source": [
        "Check if the dataset is heavily skewed."
      ]
    },
    {
      "cell_type": "code",
      "execution_count": null,
      "metadata": {
        "colab": {
          "base_uri": "https://localhost:8080/"
        },
        "id": "XXIkxYMLKAHI",
        "outputId": "76b52818-92bb-42a0-8af1-58f3029ca36a"
      },
      "outputs": [
        {
          "data": {
            "text/plain": [
              "XXXL    1747\n",
              "L       1695\n",
              "M        672\n",
              "XL       517\n",
              "S        377\n",
              "XXS      141\n",
              "Name: size, dtype: int64"
            ]
          },
          "execution_count": 212,
          "metadata": {},
          "output_type": "execute_result"
        }
      ],
      "source": []
    },
    {
      "cell_type": "markdown",
      "metadata": {
        "id": "xIAYrJRAKIGS"
      },
      "source": [
        "Find a way to reduce the number of records with size = XXXL and L to 1/3"
      ]
    },
    {
      "cell_type": "code",
      "execution_count": null,
      "metadata": {
        "colab": {
          "base_uri": "https://localhost:8080/",
          "height": 784
        },
        "id": "5PgbtDzeKTwY",
        "outputId": "e94bc25f-1dbc-449f-a8ef-22f2ed9cf031"
      },
      "outputs": [
        {
          "name": "stderr",
          "output_type": "stream",
          "text": [
            "/usr/local/lib/python3.7/dist-packages/ipykernel_launcher.py:2: SettingWithCopyWarning: \n",
            "A value is trying to be set on a copy of a slice from a DataFrame.\n",
            "Try using .loc[row_indexer,col_indexer] = value instead\n",
            "\n",
            "See the caveats in the documentation: https://pandas.pydata.org/pandas-docs/stable/user_guide/indexing.html#returning-a-view-versus-a-copy\n",
            "  \n"
          ]
        },
        {
          "data": {
            "text/html": [
              "\n",
              "  <div id=\"df-b97e5bae-a86c-4608-b6e8-a51b0e84005a\">\n",
              "    <div class=\"colab-df-container\">\n",
              "      <div>\n",
              "<style scoped>\n",
              "    .dataframe tbody tr th:only-of-type {\n",
              "        vertical-align: middle;\n",
              "    }\n",
              "\n",
              "    .dataframe tbody tr th {\n",
              "        vertical-align: top;\n",
              "    }\n",
              "\n",
              "    .dataframe thead th {\n",
              "        text-align: right;\n",
              "    }\n",
              "</style>\n",
              "<table border=\"1\" class=\"dataframe\">\n",
              "  <thead>\n",
              "    <tr style=\"text-align: right;\">\n",
              "      <th></th>\n",
              "      <th>weight</th>\n",
              "      <th>age</th>\n",
              "      <th>height</th>\n",
              "      <th>size</th>\n",
              "      <th>random</th>\n",
              "    </tr>\n",
              "  </thead>\n",
              "  <tbody>\n",
              "    <tr>\n",
              "      <th>19379</th>\n",
              "      <td>22</td>\n",
              "      <td>30</td>\n",
              "      <td>167</td>\n",
              "      <td>L</td>\n",
              "      <td>2</td>\n",
              "    </tr>\n",
              "    <tr>\n",
              "      <th>9986</th>\n",
              "      <td>22</td>\n",
              "      <td>45</td>\n",
              "      <td>152</td>\n",
              "      <td>XXXL</td>\n",
              "      <td>1</td>\n",
              "    </tr>\n",
              "    <tr>\n",
              "      <th>69879</th>\n",
              "      <td>26</td>\n",
              "      <td>45</td>\n",
              "      <td>172</td>\n",
              "      <td>XXXL</td>\n",
              "      <td>1</td>\n",
              "    </tr>\n",
              "    <tr>\n",
              "      <th>11986</th>\n",
              "      <td>31</td>\n",
              "      <td>35</td>\n",
              "      <td>175</td>\n",
              "      <td>XXXL</td>\n",
              "      <td>2</td>\n",
              "    </tr>\n",
              "    <tr>\n",
              "      <th>40013</th>\n",
              "      <td>35</td>\n",
              "      <td>20</td>\n",
              "      <td>182</td>\n",
              "      <td>XXXL</td>\n",
              "      <td>0</td>\n",
              "    </tr>\n",
              "    <tr>\n",
              "      <th>81610</th>\n",
              "      <td>36</td>\n",
              "      <td>20</td>\n",
              "      <td>157</td>\n",
              "      <td>XXS</td>\n",
              "      <td>1</td>\n",
              "    </tr>\n",
              "    <tr>\n",
              "      <th>88001</th>\n",
              "      <td>38</td>\n",
              "      <td>20</td>\n",
              "      <td>147</td>\n",
              "      <td>XXS</td>\n",
              "      <td>2</td>\n",
              "    </tr>\n",
              "    <tr>\n",
              "      <th>79608</th>\n",
              "      <td>38</td>\n",
              "      <td>30</td>\n",
              "      <td>152</td>\n",
              "      <td>XXS</td>\n",
              "      <td>1</td>\n",
              "    </tr>\n",
              "    <tr>\n",
              "      <th>105639</th>\n",
              "      <td>39</td>\n",
              "      <td>25</td>\n",
              "      <td>160</td>\n",
              "      <td>XXS</td>\n",
              "      <td>2</td>\n",
              "    </tr>\n",
              "    <tr>\n",
              "      <th>104382</th>\n",
              "      <td>39</td>\n",
              "      <td>35</td>\n",
              "      <td>160</td>\n",
              "      <td>S</td>\n",
              "      <td>1</td>\n",
              "    </tr>\n",
              "    <tr>\n",
              "      <th>88633</th>\n",
              "      <td>39</td>\n",
              "      <td>55</td>\n",
              "      <td>154</td>\n",
              "      <td>XXS</td>\n",
              "      <td>0</td>\n",
              "    </tr>\n",
              "    <tr>\n",
              "      <th>10370</th>\n",
              "      <td>40</td>\n",
              "      <td>20</td>\n",
              "      <td>147</td>\n",
              "      <td>S</td>\n",
              "      <td>1</td>\n",
              "    </tr>\n",
              "    <tr>\n",
              "      <th>924</th>\n",
              "      <td>40</td>\n",
              "      <td>20</td>\n",
              "      <td>160</td>\n",
              "      <td>XXS</td>\n",
              "      <td>0</td>\n",
              "    </tr>\n",
              "    <tr>\n",
              "      <th>64560</th>\n",
              "      <td>40</td>\n",
              "      <td>25</td>\n",
              "      <td>152</td>\n",
              "      <td>M</td>\n",
              "      <td>1</td>\n",
              "    </tr>\n",
              "    <tr>\n",
              "      <th>68639</th>\n",
              "      <td>40</td>\n",
              "      <td>25</td>\n",
              "      <td>157</td>\n",
              "      <td>XXS</td>\n",
              "      <td>0</td>\n",
              "    </tr>\n",
              "    <tr>\n",
              "      <th>35380</th>\n",
              "      <td>40</td>\n",
              "      <td>25</td>\n",
              "      <td>160</td>\n",
              "      <td>XXS</td>\n",
              "      <td>2</td>\n",
              "    </tr>\n",
              "    <tr>\n",
              "      <th>31945</th>\n",
              "      <td>40</td>\n",
              "      <td>25</td>\n",
              "      <td>165</td>\n",
              "      <td>S</td>\n",
              "      <td>0</td>\n",
              "    </tr>\n",
              "    <tr>\n",
              "      <th>10423</th>\n",
              "      <td>40</td>\n",
              "      <td>30</td>\n",
              "      <td>142</td>\n",
              "      <td>S</td>\n",
              "      <td>2</td>\n",
              "    </tr>\n",
              "    <tr>\n",
              "      <th>94171</th>\n",
              "      <td>40</td>\n",
              "      <td>30</td>\n",
              "      <td>149</td>\n",
              "      <td>S</td>\n",
              "      <td>2</td>\n",
              "    </tr>\n",
              "    <tr>\n",
              "      <th>30201</th>\n",
              "      <td>40</td>\n",
              "      <td>30</td>\n",
              "      <td>152</td>\n",
              "      <td>XXS</td>\n",
              "      <td>2</td>\n",
              "    </tr>\n",
              "  </tbody>\n",
              "</table>\n",
              "</div>\n",
              "      <button class=\"colab-df-convert\" onclick=\"convertToInteractive('df-b97e5bae-a86c-4608-b6e8-a51b0e84005a')\"\n",
              "              title=\"Convert this dataframe to an interactive table.\"\n",
              "              style=\"display:none;\">\n",
              "        \n",
              "  <svg xmlns=\"http://www.w3.org/2000/svg\" height=\"24px\"viewBox=\"0 0 24 24\"\n",
              "       width=\"24px\">\n",
              "    <path d=\"M0 0h24v24H0V0z\" fill=\"none\"/>\n",
              "    <path d=\"M18.56 5.44l.94 2.06.94-2.06 2.06-.94-2.06-.94-.94-2.06-.94 2.06-2.06.94zm-11 1L8.5 8.5l.94-2.06 2.06-.94-2.06-.94L8.5 2.5l-.94 2.06-2.06.94zm10 10l.94 2.06.94-2.06 2.06-.94-2.06-.94-.94-2.06-.94 2.06-2.06.94z\"/><path d=\"M17.41 7.96l-1.37-1.37c-.4-.4-.92-.59-1.43-.59-.52 0-1.04.2-1.43.59L10.3 9.45l-7.72 7.72c-.78.78-.78 2.05 0 2.83L4 21.41c.39.39.9.59 1.41.59.51 0 1.02-.2 1.41-.59l7.78-7.78 2.81-2.81c.8-.78.8-2.07 0-2.86zM5.41 20L4 18.59l7.72-7.72 1.47 1.35L5.41 20z\"/>\n",
              "  </svg>\n",
              "      </button>\n",
              "      \n",
              "  <style>\n",
              "    .colab-df-container {\n",
              "      display:flex;\n",
              "      flex-wrap:wrap;\n",
              "      gap: 12px;\n",
              "    }\n",
              "\n",
              "    .colab-df-convert {\n",
              "      background-color: #E8F0FE;\n",
              "      border: none;\n",
              "      border-radius: 50%;\n",
              "      cursor: pointer;\n",
              "      display: none;\n",
              "      fill: #1967D2;\n",
              "      height: 32px;\n",
              "      padding: 0 0 0 0;\n",
              "      width: 32px;\n",
              "    }\n",
              "\n",
              "    .colab-df-convert:hover {\n",
              "      background-color: #E2EBFA;\n",
              "      box-shadow: 0px 1px 2px rgba(60, 64, 67, 0.3), 0px 1px 3px 1px rgba(60, 64, 67, 0.15);\n",
              "      fill: #174EA6;\n",
              "    }\n",
              "\n",
              "    [theme=dark] .colab-df-convert {\n",
              "      background-color: #3B4455;\n",
              "      fill: #D2E3FC;\n",
              "    }\n",
              "\n",
              "    [theme=dark] .colab-df-convert:hover {\n",
              "      background-color: #434B5C;\n",
              "      box-shadow: 0px 1px 3px 1px rgba(0, 0, 0, 0.15);\n",
              "      filter: drop-shadow(0px 1px 2px rgba(0, 0, 0, 0.3));\n",
              "      fill: #FFFFFF;\n",
              "    }\n",
              "  </style>\n",
              "\n",
              "      <script>\n",
              "        const buttonEl =\n",
              "          document.querySelector('#df-b97e5bae-a86c-4608-b6e8-a51b0e84005a button.colab-df-convert');\n",
              "        buttonEl.style.display =\n",
              "          google.colab.kernel.accessAllowed ? 'block' : 'none';\n",
              "\n",
              "        async function convertToInteractive(key) {\n",
              "          const element = document.querySelector('#df-b97e5bae-a86c-4608-b6e8-a51b0e84005a');\n",
              "          const dataTable =\n",
              "            await google.colab.kernel.invokeFunction('convertToInteractive',\n",
              "                                                     [key], {});\n",
              "          if (!dataTable) return;\n",
              "\n",
              "          const docLinkHtml = 'Like what you see? Visit the ' +\n",
              "            '<a target=\"_blank\" href=https://colab.research.google.com/notebooks/data_table.ipynb>data table notebook</a>'\n",
              "            + ' to learn more about interactive tables.';\n",
              "          element.innerHTML = '';\n",
              "          dataTable['output_type'] = 'display_data';\n",
              "          await google.colab.output.renderOutput(dataTable, element);\n",
              "          const docLink = document.createElement('div');\n",
              "          docLink.innerHTML = docLinkHtml;\n",
              "          element.appendChild(docLink);\n",
              "        }\n",
              "      </script>\n",
              "    </div>\n",
              "  </div>\n",
              "  "
            ],
            "text/plain": [
              "        weight  age  height  size  random\n",
              "19379       22   30     167     L       2\n",
              "9986        22   45     152  XXXL       1\n",
              "69879       26   45     172  XXXL       1\n",
              "11986       31   35     175  XXXL       2\n",
              "40013       35   20     182  XXXL       0\n",
              "81610       36   20     157   XXS       1\n",
              "88001       38   20     147   XXS       2\n",
              "79608       38   30     152   XXS       1\n",
              "105639      39   25     160   XXS       2\n",
              "104382      39   35     160     S       1\n",
              "88633       39   55     154   XXS       0\n",
              "10370       40   20     147     S       1\n",
              "924         40   20     160   XXS       0\n",
              "64560       40   25     152     M       1\n",
              "68639       40   25     157   XXS       0\n",
              "35380       40   25     160   XXS       2\n",
              "31945       40   25     165     S       0\n",
              "10423       40   30     142     S       2\n",
              "94171       40   30     149     S       2\n",
              "30201       40   30     152   XXS       2"
            ]
          },
          "execution_count": 213,
          "metadata": {},
          "output_type": "execute_result"
        }
      ],
      "source": []
    },
    {
      "cell_type": "code",
      "execution_count": null,
      "metadata": {
        "colab": {
          "base_uri": "https://localhost:8080/"
        },
        "id": "Nl_vkpaaLCck",
        "outputId": "63833cd8-2e7c-4806-b703-9bc48575ca84"
      },
      "outputs": [
        {
          "data": {
            "text/plain": [
              "M       672\n",
              "XXXL    610\n",
              "L       602\n",
              "XL      517\n",
              "S       377\n",
              "XXS     141\n",
              "Name: size, dtype: int64"
            ]
          },
          "execution_count": 214,
          "metadata": {},
          "output_type": "execute_result"
        }
      ],
      "source": []
    },
    {
      "cell_type": "markdown",
      "metadata": {
        "id": "z8g9y6HMMU-x"
      },
      "source": [
        "Drop the column you won't need any more"
      ]
    },
    {
      "cell_type": "code",
      "execution_count": null,
      "metadata": {
        "id": "MgobOBSkMUYZ"
      },
      "outputs": [],
      "source": []
    },
    {
      "cell_type": "markdown",
      "metadata": {
        "id": "-HcB0Es4XENt"
      },
      "source": [
        "Because we want to apply regression first, map the sizes to numbers as follows:  \n",
        "'XXS' : 0, 'S' : 1, 'M': 2, 'L': 3,'XL':4,'XXXL': 5"
      ]
    },
    {
      "cell_type": "code",
      "execution_count": null,
      "metadata": {
        "colab": {
          "base_uri": "https://localhost:8080/",
          "height": 206
        },
        "id": "uEFSGyWRO6um",
        "outputId": "c21b05c7-6c9c-41a6-ec26-8f02d3be21c2"
      },
      "outputs": [
        {
          "data": {
            "text/html": [
              "\n",
              "  <div id=\"df-9b046567-bf71-4506-a766-eae579d77de8\">\n",
              "    <div class=\"colab-df-container\">\n",
              "      <div>\n",
              "<style scoped>\n",
              "    .dataframe tbody tr th:only-of-type {\n",
              "        vertical-align: middle;\n",
              "    }\n",
              "\n",
              "    .dataframe tbody tr th {\n",
              "        vertical-align: top;\n",
              "    }\n",
              "\n",
              "    .dataframe thead th {\n",
              "        text-align: right;\n",
              "    }\n",
              "</style>\n",
              "<table border=\"1\" class=\"dataframe\">\n",
              "  <thead>\n",
              "    <tr style=\"text-align: right;\">\n",
              "      <th></th>\n",
              "      <th>weight</th>\n",
              "      <th>age</th>\n",
              "      <th>height</th>\n",
              "      <th>size</th>\n",
              "    </tr>\n",
              "  </thead>\n",
              "  <tbody>\n",
              "    <tr>\n",
              "      <th>40013</th>\n",
              "      <td>35</td>\n",
              "      <td>20</td>\n",
              "      <td>182</td>\n",
              "      <td>5</td>\n",
              "    </tr>\n",
              "    <tr>\n",
              "      <th>81610</th>\n",
              "      <td>36</td>\n",
              "      <td>20</td>\n",
              "      <td>157</td>\n",
              "      <td>0</td>\n",
              "    </tr>\n",
              "    <tr>\n",
              "      <th>88001</th>\n",
              "      <td>38</td>\n",
              "      <td>20</td>\n",
              "      <td>147</td>\n",
              "      <td>0</td>\n",
              "    </tr>\n",
              "    <tr>\n",
              "      <th>79608</th>\n",
              "      <td>38</td>\n",
              "      <td>30</td>\n",
              "      <td>152</td>\n",
              "      <td>0</td>\n",
              "    </tr>\n",
              "    <tr>\n",
              "      <th>105639</th>\n",
              "      <td>39</td>\n",
              "      <td>25</td>\n",
              "      <td>160</td>\n",
              "      <td>0</td>\n",
              "    </tr>\n",
              "  </tbody>\n",
              "</table>\n",
              "</div>\n",
              "      <button class=\"colab-df-convert\" onclick=\"convertToInteractive('df-9b046567-bf71-4506-a766-eae579d77de8')\"\n",
              "              title=\"Convert this dataframe to an interactive table.\"\n",
              "              style=\"display:none;\">\n",
              "        \n",
              "  <svg xmlns=\"http://www.w3.org/2000/svg\" height=\"24px\"viewBox=\"0 0 24 24\"\n",
              "       width=\"24px\">\n",
              "    <path d=\"M0 0h24v24H0V0z\" fill=\"none\"/>\n",
              "    <path d=\"M18.56 5.44l.94 2.06.94-2.06 2.06-.94-2.06-.94-.94-2.06-.94 2.06-2.06.94zm-11 1L8.5 8.5l.94-2.06 2.06-.94-2.06-.94L8.5 2.5l-.94 2.06-2.06.94zm10 10l.94 2.06.94-2.06 2.06-.94-2.06-.94-.94-2.06-.94 2.06-2.06.94z\"/><path d=\"M17.41 7.96l-1.37-1.37c-.4-.4-.92-.59-1.43-.59-.52 0-1.04.2-1.43.59L10.3 9.45l-7.72 7.72c-.78.78-.78 2.05 0 2.83L4 21.41c.39.39.9.59 1.41.59.51 0 1.02-.2 1.41-.59l7.78-7.78 2.81-2.81c.8-.78.8-2.07 0-2.86zM5.41 20L4 18.59l7.72-7.72 1.47 1.35L5.41 20z\"/>\n",
              "  </svg>\n",
              "      </button>\n",
              "      \n",
              "  <style>\n",
              "    .colab-df-container {\n",
              "      display:flex;\n",
              "      flex-wrap:wrap;\n",
              "      gap: 12px;\n",
              "    }\n",
              "\n",
              "    .colab-df-convert {\n",
              "      background-color: #E8F0FE;\n",
              "      border: none;\n",
              "      border-radius: 50%;\n",
              "      cursor: pointer;\n",
              "      display: none;\n",
              "      fill: #1967D2;\n",
              "      height: 32px;\n",
              "      padding: 0 0 0 0;\n",
              "      width: 32px;\n",
              "    }\n",
              "\n",
              "    .colab-df-convert:hover {\n",
              "      background-color: #E2EBFA;\n",
              "      box-shadow: 0px 1px 2px rgba(60, 64, 67, 0.3), 0px 1px 3px 1px rgba(60, 64, 67, 0.15);\n",
              "      fill: #174EA6;\n",
              "    }\n",
              "\n",
              "    [theme=dark] .colab-df-convert {\n",
              "      background-color: #3B4455;\n",
              "      fill: #D2E3FC;\n",
              "    }\n",
              "\n",
              "    [theme=dark] .colab-df-convert:hover {\n",
              "      background-color: #434B5C;\n",
              "      box-shadow: 0px 1px 3px 1px rgba(0, 0, 0, 0.15);\n",
              "      filter: drop-shadow(0px 1px 2px rgba(0, 0, 0, 0.3));\n",
              "      fill: #FFFFFF;\n",
              "    }\n",
              "  </style>\n",
              "\n",
              "      <script>\n",
              "        const buttonEl =\n",
              "          document.querySelector('#df-9b046567-bf71-4506-a766-eae579d77de8 button.colab-df-convert');\n",
              "        buttonEl.style.display =\n",
              "          google.colab.kernel.accessAllowed ? 'block' : 'none';\n",
              "\n",
              "        async function convertToInteractive(key) {\n",
              "          const element = document.querySelector('#df-9b046567-bf71-4506-a766-eae579d77de8');\n",
              "          const dataTable =\n",
              "            await google.colab.kernel.invokeFunction('convertToInteractive',\n",
              "                                                     [key], {});\n",
              "          if (!dataTable) return;\n",
              "\n",
              "          const docLinkHtml = 'Like what you see? Visit the ' +\n",
              "            '<a target=\"_blank\" href=https://colab.research.google.com/notebooks/data_table.ipynb>data table notebook</a>'\n",
              "            + ' to learn more about interactive tables.';\n",
              "          element.innerHTML = '';\n",
              "          dataTable['output_type'] = 'display_data';\n",
              "          await google.colab.output.renderOutput(dataTable, element);\n",
              "          const docLink = document.createElement('div');\n",
              "          docLink.innerHTML = docLinkHtml;\n",
              "          element.appendChild(docLink);\n",
              "        }\n",
              "      </script>\n",
              "    </div>\n",
              "  </div>\n",
              "  "
            ],
            "text/plain": [
              "        weight  age  height  size\n",
              "40013       35   20     182     5\n",
              "81610       36   20     157     0\n",
              "88001       38   20     147     0\n",
              "79608       38   30     152     0\n",
              "105639      39   25     160     0"
            ]
          },
          "execution_count": 216,
          "metadata": {},
          "output_type": "execute_result"
        }
      ],
      "source": []
    },
    {
      "cell_type": "markdown",
      "metadata": {
        "id": "00737uOHBOaH"
      },
      "source": [
        "What is X and what is y?"
      ]
    },
    {
      "cell_type": "code",
      "execution_count": null,
      "metadata": {
        "id": "CWrrhqDiupjD"
      },
      "outputs": [],
      "source": [
        " "
      ]
    },
    {
      "cell_type": "markdown",
      "metadata": {
        "id": "JAUsFiMUBTeh"
      },
      "source": [
        "What is X_train, y_train, X_test, y_test?"
      ]
    },
    {
      "cell_type": "code",
      "execution_count": null,
      "metadata": {
        "id": "hCFJ2JinujNv"
      },
      "outputs": [],
      "source": []
    },
    {
      "cell_type": "markdown",
      "metadata": {
        "id": "XeAYhjlFB5D1"
      },
      "source": [
        "What is the shape of X_train, y_train, X_test and y_test?"
      ]
    },
    {
      "cell_type": "code",
      "execution_count": null,
      "metadata": {
        "colab": {
          "base_uri": "https://localhost:8080/"
        },
        "id": "kPNGQrvCvNK0",
        "outputId": "29c50721-3788-41dd-d80a-bcc9edc0371b"
      },
      "outputs": [
        {
          "name": "stdout",
          "output_type": "stream",
          "text": [
            "(2189, 3) (730, 3) (2189,) (730,)\n"
          ]
        }
      ],
      "source": []
    },
    {
      "cell_type": "markdown",
      "metadata": {
        "id": "Lk72Zi0vXbzg"
      },
      "source": [
        "What are columns of X containing text?"
      ]
    },
    {
      "cell_type": "code",
      "execution_count": null,
      "metadata": {
        "colab": {
          "base_uri": "https://localhost:8080/"
        },
        "id": "u1-7g_X8XbNn",
        "outputId": "f56d8c13-3ccb-43f2-c9cf-afbf59afed1e"
      },
      "outputs": [
        {
          "name": "stdout",
          "output_type": "stream",
          "text": [
            "Index([], dtype='object')\n"
          ]
        }
      ],
      "source": []
    },
    {
      "cell_type": "markdown",
      "metadata": {
        "id": "43UzjKXqCCXF"
      },
      "source": [
        "What are the columns of X containing numbers?"
      ]
    },
    {
      "cell_type": "code",
      "execution_count": null,
      "metadata": {
        "colab": {
          "base_uri": "https://localhost:8080/"
        },
        "id": "9yRPEsdWsTMM",
        "outputId": "b8891ad9-482e-441a-c4c1-e8897dde7069"
      },
      "outputs": [
        {
          "name": "stdout",
          "output_type": "stream",
          "text": [
            "Index(['weight', 'age', 'height'], dtype='object')\n"
          ]
        }
      ],
      "source": []
    },
    {
      "cell_type": "markdown",
      "metadata": {
        "id": "vhl_xIO4CV1x"
      },
      "source": [
        "Define the ColumnTransformer for applying MinMaxScaling on all numeric columns.  "
      ]
    },
    {
      "cell_type": "code",
      "execution_count": null,
      "metadata": {
        "id": "rooh5bXdPlYx"
      },
      "outputs": [],
      "source": []
    },
    {
      "cell_type": "markdown",
      "metadata": {
        "id": "9sR6tCtdsUVB"
      },
      "source": [
        "## Regression"
      ]
    },
    {
      "cell_type": "markdown",
      "metadata": {
        "id": "SNeciDY5Csbt"
      },
      "source": [
        "Define the model LinearRegression  "
      ]
    },
    {
      "cell_type": "code",
      "execution_count": null,
      "metadata": {
        "id": "MQE5N0X26eY5"
      },
      "outputs": [],
      "source": []
    },
    {
      "cell_type": "markdown",
      "metadata": {
        "id": "g4D1W9J5X_um"
      },
      "source": [
        "Define the data preparation and modeling pipeline"
      ]
    },
    {
      "cell_type": "code",
      "execution_count": null,
      "metadata": {
        "id": "GxweZ1Ii6jQm"
      },
      "outputs": [],
      "source": []
    },
    {
      "cell_type": "markdown",
      "metadata": {
        "id": "VZ8fdiqDYGsj"
      },
      "source": [
        "Train the model"
      ]
    },
    {
      "cell_type": "code",
      "execution_count": null,
      "metadata": {
        "colab": {
          "base_uri": "https://localhost:8080/"
        },
        "id": "znZU-va06zTy",
        "outputId": "5d262198-fec5-45ee-da72-3d677ff94229"
      },
      "outputs": [
        {
          "data": {
            "text/plain": [
              "Pipeline(steps=[('prep',\n",
              "                 ColumnTransformer(transformers=[('minmax_scaler',\n",
              "                                                  StandardScaler(),\n",
              "                                                  Index(['weight', 'age', 'height'], dtype='object'))])),\n",
              "                ('lin_reg', LinearRegression())])"
            ]
          },
          "execution_count": 225,
          "metadata": {},
          "output_type": "execute_result"
        }
      ],
      "source": []
    },
    {
      "cell_type": "markdown",
      "metadata": {
        "id": "b41tWJ6IE9km"
      },
      "source": [
        "What is the accuracy of the model?  \n",
        "Use K-fold cross-validation with k = 3.  \n",
        "Find an appropriate value for the attribute scoring on [metrics and scoring](https://scikit-learn.org/stable/modules/model_evaluation.html) "
      ]
    },
    {
      "cell_type": "code",
      "execution_count": null,
      "metadata": {
        "colab": {
          "base_uri": "https://localhost:8080/"
        },
        "id": "Rn4EhiI1Ej4H",
        "outputId": "f0565008-d432-4f46-8ef9-43ac3555a9c8"
      },
      "outputs": [
        {
          "data": {
            "text/plain": [
              "-0.6977588154511789"
            ]
          },
          "execution_count": 226,
          "metadata": {},
          "output_type": "execute_result"
        }
      ],
      "source": []
    },
    {
      "cell_type": "markdown",
      "metadata": {
        "id": "WPLF3iBgFHuJ"
      },
      "source": [
        "What are the values for intercept and the coefficients.  \n",
        "Why are there 3 coefficients?  \n",
        "What is the most important coefficient?"
      ]
    },
    {
      "cell_type": "code",
      "execution_count": null,
      "metadata": {
        "colab": {
          "base_uri": "https://localhost:8080/"
        },
        "id": "w7SvkK0c7JKF",
        "outputId": "2979d80f-b9c0-4e97-a42d-803d788ce060"
      },
      "outputs": [
        {
          "data": {
            "text/plain": [
              "(2.9643672910004564, array([1.15717300e+00, 1.78781346e-01, 1.80885474e-05]))"
            ]
          },
          "execution_count": 227,
          "metadata": {},
          "output_type": "execute_result"
        }
      ],
      "source": []
    },
    {
      "cell_type": "markdown",
      "metadata": {
        "id": "Qf5e_ZVkDM-E"
      },
      "source": [
        "Apply the model to the test set.  "
      ]
    },
    {
      "cell_type": "code",
      "execution_count": null,
      "metadata": {
        "id": "ciIckJl39dkn"
      },
      "outputs": [],
      "source": []
    },
    {
      "cell_type": "markdown",
      "metadata": {
        "id": "Gss_h5WCFpD6"
      },
      "source": [
        "Calculate the Mean Absolute Error.  \n",
        "Calculate the Mean Squared Error.\n",
        "\n",
        "The mean squared error is 0.7890903524851298  \n",
        "The mean absolute error is 0.6786894481965615"
      ]
    },
    {
      "cell_type": "code",
      "execution_count": null,
      "metadata": {
        "colab": {
          "base_uri": "https://localhost:8080/"
        },
        "id": "lo3WncHh-tlA",
        "outputId": "87731174-115e-48d3-ce04-d818aa4f5eae"
      },
      "outputs": [
        {
          "name": "stdout",
          "output_type": "stream",
          "text": [
            "The mean squared error is 0.810473821110321\n",
            "The mean absolute error is 0.6879995201155924\n"
          ]
        }
      ],
      "source": []
    },
    {
      "cell_type": "markdown",
      "metadata": {
        "id": "DnUiTPFSIjot"
      },
      "source": [
        "Change the previous code, so you get the following overview for 3 models instead of only the linear regression\n",
        "\n",
        "![image.png](data:image/png;base64,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)"
      ]
    },
    {
      "cell_type": "code",
      "execution_count": null,
      "metadata": {
        "colab": {
          "base_uri": "https://localhost:8080/"
        },
        "id": "O6XBSLKxHinj",
        "outputId": "81fdce18-f3b7-4280-bf4d-380df8720799"
      },
      "outputs": [
        {
          "name": "stdout",
          "output_type": "stream",
          "text": [
            "lin_reg \tMAE-cross validation = -0.6977588154511789 \tMAE-test set = 0.6879995201155924\n",
            "ridge_reg \tMAE-cross validation = -0.6978119094643617 \tMAE-test set = 0.6880451907647683\n",
            "sgd_reg \tMAE-cross validation = -0.6948621594107195 \tMAE-test set = 0.6885320641092566\n"
          ]
        }
      ],
      "source": []
    },
    {
      "cell_type": "markdown",
      "metadata": {
        "id": "PizVtI0mM_lr"
      },
      "source": [
        "Create the following overview for the values 1 .. 10 for the degree of Polynomial regression.\n",
        "\n",
        "![image.png](data:image/png;base64,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)"
      ]
    },
    {
      "cell_type": "code",
      "execution_count": null,
      "metadata": {
        "colab": {
          "base_uri": "https://localhost:8080/"
        },
        "id": "HYysEwy7LcJI",
        "outputId": "a1af01a8-ebc7-41fe-e3b8-5f226a153c9c"
      },
      "outputs": [
        {
          "name": "stdout",
          "output_type": "stream",
          "text": [
            "degree = 1 \tMAE-cross validation = -0.6977588154511789 \tMAE-test set = 0.6880008512289375\n",
            "degree = 2 \tMAE-cross validation = -0.593091873965248 \tMAE-test set = 0.5760588367371542\n",
            "degree = 3 \tMAE-cross validation = -0.5862333557674282 \tMAE-test set = 0.5666246152160033\n",
            "degree = 4 \tMAE-cross validation = -0.580259367414438 \tMAE-test set = 0.557179464913155\n",
            "degree = 5 \tMAE-cross validation = -0.5835875716192375 \tMAE-test set = 0.5459829019138515\n",
            "degree = 6 \tMAE-cross validation = -0.6128513860317166 \tMAE-test set = 0.5290289649110124\n",
            "degree = 7 \tMAE-cross validation = -0.884095284606436 \tMAE-test set = 0.5170450884922667\n",
            "degree = 8 \tMAE-cross validation = -1.1253380725891988 \tMAE-test set = 0.5069831507489878\n",
            "degree = 9 \tMAE-cross validation = -8.554375371610641 \tMAE-test set = 0.5009538736721728\n"
          ]
        }
      ],
      "source": [
        "\n"
      ]
    },
    {
      "cell_type": "markdown",
      "metadata": {
        "id": "qp3_CJvmsa7n"
      },
      "source": [
        "##Classification\n",
        "\n",
        "Use the softmax classifier to try to predict the class (0, 1, 2, 3, 4, 5).  \n",
        "What is the accuracy score?\n",
        "\n",
        "accuracy score is 0.5361684377998432"
      ]
    },
    {
      "cell_type": "code",
      "execution_count": null,
      "metadata": {
        "colab": {
          "base_uri": "https://localhost:8080/"
        },
        "id": "F7ZK9dVXsy0w",
        "outputId": "cb0c1541-8867-4dc1-dd84-dabe07acf602"
      },
      "outputs": [
        {
          "name": "stdout",
          "output_type": "stream",
          "text": [
            "accuracy score is 0.5527582038321087\n"
          ]
        }
      ],
      "source": []
    },
    {
      "cell_type": "markdown",
      "metadata": {
        "id": "k2GQl9oHs3jI"
      },
      "source": [
        "Create and show the confusion matrix for the test set.\n",
        "\n",
        "![image.png](data:image/png;base64,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)"
      ]
    },
    {
      "cell_type": "code",
      "execution_count": null,
      "metadata": {
        "colab": {
          "base_uri": "https://localhost:8080/"
        },
        "id": "-JStDtHMs83I",
        "outputId": "7baca196-d9c4-46ce-d17d-5cc41fae88e0"
      },
      "outputs": [
        {
          "name": "stdout",
          "output_type": "stream",
          "text": [
            "[[  0  28   1   0   0   2]\n",
            " [  0  67  32   5   2   1]\n",
            " [  0  41  70  26  16   4]\n",
            " [  0   4  50  68  29   3]\n",
            " [  0   0  10  26  71  25]\n",
            " [  0   0   1   1  33 114]]\n"
          ]
        }
      ],
      "source": []
    },
    {
      "cell_type": "code",
      "execution_count": null,
      "metadata": {
        "colab": {
          "base_uri": "https://localhost:8080/",
          "height": 297
        },
        "id": "fipOxLD9vT51",
        "outputId": "e3d521ff-3476-4bc6-d58e-cb3a353f4c3e"
      },
      "outputs": [
        {
          "data": {
            "text/plain": [
              "Text(91.68, 0.5, 'Actual class')"
            ]
          },
          "execution_count": 234,
          "metadata": {},
          "output_type": "execute_result"
        },
        {
          "data": {
            "image/png": "[encoded data removed]",
            "text/plain": [
              "<Figure size 432x288 with 1 Axes>"
            ]
          },
          "metadata": {
            "needs_background": "light"
          },
          "output_type": "display_data"
        }
      ],
      "source": []
    },
    {
      "cell_type": "markdown",
      "metadata": {
        "id": "_NxDVScUtIFL"
      },
      "source": [
        "The accuracy of the classifier is really low.  \n",
        "Calculate how many times \n",
        "* the classifier was correct\n",
        "* the classifier predicted the size to be one size higher than the actual size\n",
        "* the classifier predicted the size to be one size smaller than the actual size\n",
        "\n"
      ]
    },
    {
      "cell_type": "code",
      "execution_count": null,
      "metadata": {
        "colab": {
          "base_uri": "https://localhost:8080/"
        },
        "id": "hSJur4KBuAC9",
        "outputId": "d66d757a-039d-4c27-ba54-de4e3115baa5"
      },
      "outputs": [
        {
          "name": "stdout",
          "output_type": "stream",
          "text": [
            "correct = 390\n",
            "oneSizeTooHigh = 140\n",
            "oneSizeTooSmall = 150\n",
            "Total number of predictions = 730\n"
          ]
        }
      ],
      "source": []
    },
    {
      "cell_type": "markdown",
      "metadata": {
        "id": "edt404q4HM8v"
      },
      "source": [
        "Make a copy of this completed notebook.  \n",
        "Drop the column age and make all the necessary changes at the beginning of the notebook. \n",
        "Does this have a big effect on the accuracy of the model?  \n",
        "Is this surprising or not?  \n",
        "What else can be changed to improve the accuracy?"
      ]
    }
  ],
  "metadata": {
    "colab": {
      "collapsed_sections": [],
      "name": "Women clothing sizes Prediction Solution.ipynb",
      "provenance": []
    },
    "kernelspec": {
      "display_name": "Python 3",
      "language": "python",
      "name": "python3"
    },
    "language_info": {
      "codemirror_mode": {
        "name": "ipython",
        "version": 3
      },
      "file_extension": ".py",
      "mimetype": "text/x-python",
      "name": "python",
      "nbconvert_exporter": "python",
      "pygments_lexer": "ipython3",
      "version": "3.9.0"
    }
  },
  "nbformat": 4,
  "nbformat_minor": 0
}
