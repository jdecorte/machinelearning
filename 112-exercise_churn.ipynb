{
  "cells": [
    {
      "cell_type": "markdown",
      "metadata": {
        "id": "sKkJxTKxriAC"
      },
      "source": [
        "# Churn problem \n",
        "\n",
        "A bank is investigating a very high rate of customer leaving the bank. Here is a 10.000 records dataset to investigate and predict which of the customers are more likely to leave the bank soon."
      ]
    },
    {
      "cell_type": "code",
      "execution_count": 28,
      "metadata": {
        "colab": {
          "base_uri": "https://localhost:8080/"
        },
        "id": "qz-EnOORrhEb",
        "outputId": "8e2bcb32-015d-463d-c9aa-0a541238c5de"
      },
      "outputs": [],
      "source": [
        "# Importing the necessary packages\n",
        "import numpy as np                                  # \"Scientific computing\"\n",
        "import scipy.stats as stats                         # Statistical tests\n",
        "\n",
        "import pandas as pd                                 # Data Frame\n",
        "from pandas.api.types import CategoricalDtype\n",
        "\n",
        "import matplotlib.pyplot as plt                     # Basic visualisation\n",
        "import seaborn as sns                               # Advanced data visualisation\n",
        "\n",
        "%matplotlib inline"
      ]
    },
    {
      "cell_type": "markdown",
      "metadata": {
        "id": "t5wkD-a9uzhg"
      },
      "source": [
        "Read the file Churn_Modelling.csv.  \n",
        "Show the first few records."
      ]
    },
    {
      "cell_type": "code",
      "execution_count": 29,
      "metadata": {
        "colab": {
          "base_uri": "https://localhost:8080/",
          "height": 206
        },
        "id": "D2NiiqSsulls",
        "outputId": "3a75ba68-29a6-4a5c-ed4f-c06561309d44"
      },
      "outputs": [
        {
          "data": {
            "text/html": [
              "<div>\n",
              "<style scoped>\n",
              "    .dataframe tbody tr th:only-of-type {\n",
              "        vertical-align: middle;\n",
              "    }\n",
              "\n",
              "    .dataframe tbody tr th {\n",
              "        vertical-align: top;\n",
              "    }\n",
              "\n",
              "    .dataframe thead th {\n",
              "        text-align: right;\n",
              "    }\n",
              "</style>\n",
              "<table border=\"1\" class=\"dataframe\">\n",
              "  <thead>\n",
              "    <tr style=\"text-align: right;\">\n",
              "      <th></th>\n",
              "      <th>RowNumber</th>\n",
              "      <th>CustomerId</th>\n",
              "      <th>Surname</th>\n",
              "      <th>CreditScore</th>\n",
              "      <th>Geography</th>\n",
              "      <th>Gender</th>\n",
              "      <th>Age</th>\n",
              "      <th>Tenure</th>\n",
              "      <th>Balance</th>\n",
              "      <th>NumOfProducts</th>\n",
              "      <th>HasCrCard</th>\n",
              "      <th>IsActiveMember</th>\n",
              "      <th>EstimatedSalary</th>\n",
              "      <th>Exited</th>\n",
              "    </tr>\n",
              "  </thead>\n",
              "  <tbody>\n",
              "    <tr>\n",
              "      <th>0</th>\n",
              "      <td>1</td>\n",
              "      <td>15634602</td>\n",
              "      <td>Hargrave</td>\n",
              "      <td>619</td>\n",
              "      <td>France</td>\n",
              "      <td>Female</td>\n",
              "      <td>42</td>\n",
              "      <td>2</td>\n",
              "      <td>0.00</td>\n",
              "      <td>1</td>\n",
              "      <td>1</td>\n",
              "      <td>1</td>\n",
              "      <td>101348.88</td>\n",
              "      <td>1</td>\n",
              "    </tr>\n",
              "    <tr>\n",
              "      <th>1</th>\n",
              "      <td>2</td>\n",
              "      <td>15647311</td>\n",
              "      <td>Hill</td>\n",
              "      <td>608</td>\n",
              "      <td>Spain</td>\n",
              "      <td>Female</td>\n",
              "      <td>41</td>\n",
              "      <td>1</td>\n",
              "      <td>83807.86</td>\n",
              "      <td>1</td>\n",
              "      <td>0</td>\n",
              "      <td>1</td>\n",
              "      <td>112542.58</td>\n",
              "      <td>0</td>\n",
              "    </tr>\n",
              "    <tr>\n",
              "      <th>2</th>\n",
              "      <td>3</td>\n",
              "      <td>15619304</td>\n",
              "      <td>Onio</td>\n",
              "      <td>502</td>\n",
              "      <td>France</td>\n",
              "      <td>Female</td>\n",
              "      <td>42</td>\n",
              "      <td>8</td>\n",
              "      <td>159660.80</td>\n",
              "      <td>3</td>\n",
              "      <td>1</td>\n",
              "      <td>0</td>\n",
              "      <td>113931.57</td>\n",
              "      <td>1</td>\n",
              "    </tr>\n",
              "    <tr>\n",
              "      <th>3</th>\n",
              "      <td>4</td>\n",
              "      <td>15701354</td>\n",
              "      <td>Boni</td>\n",
              "      <td>699</td>\n",
              "      <td>France</td>\n",
              "      <td>Female</td>\n",
              "      <td>39</td>\n",
              "      <td>1</td>\n",
              "      <td>0.00</td>\n",
              "      <td>2</td>\n",
              "      <td>0</td>\n",
              "      <td>0</td>\n",
              "      <td>93826.63</td>\n",
              "      <td>0</td>\n",
              "    </tr>\n",
              "    <tr>\n",
              "      <th>4</th>\n",
              "      <td>5</td>\n",
              "      <td>15737888</td>\n",
              "      <td>Mitchell</td>\n",
              "      <td>850</td>\n",
              "      <td>Spain</td>\n",
              "      <td>Female</td>\n",
              "      <td>43</td>\n",
              "      <td>2</td>\n",
              "      <td>125510.82</td>\n",
              "      <td>1</td>\n",
              "      <td>1</td>\n",
              "      <td>1</td>\n",
              "      <td>79084.10</td>\n",
              "      <td>0</td>\n",
              "    </tr>\n",
              "  </tbody>\n",
              "</table>\n",
              "</div>"
            ],
            "text/plain": [
              "   RowNumber  CustomerId   Surname  CreditScore Geography  Gender  Age  \\\n",
              "0          1    15634602  Hargrave          619    France  Female   42   \n",
              "1          2    15647311      Hill          608     Spain  Female   41   \n",
              "2          3    15619304      Onio          502    France  Female   42   \n",
              "3          4    15701354      Boni          699    France  Female   39   \n",
              "4          5    15737888  Mitchell          850     Spain  Female   43   \n",
              "\n",
              "   Tenure    Balance  NumOfProducts  HasCrCard  IsActiveMember  \\\n",
              "0       2       0.00              1          1               1   \n",
              "1       1   83807.86              1          0               1   \n",
              "2       8  159660.80              3          1               0   \n",
              "3       1       0.00              2          0               0   \n",
              "4       2  125510.82              1          1               1   \n",
              "\n",
              "   EstimatedSalary  Exited  \n",
              "0        101348.88       1  \n",
              "1        112542.58       0  \n",
              "2        113931.57       1  \n",
              "3         93826.63       0  \n",
              "4         79084.10       0  "
            ]
          },
          "execution_count": 29,
          "metadata": {},
          "output_type": "execute_result"
        }
      ],
      "source": [
        "df = pd.read_csv('https://raw.githubusercontent.com/jdecorte/machinelearning/main/datasets/churn_modelling.csv')\n",
        "df.head()"
      ]
    },
    {
      "cell_type": "markdown",
      "metadata": {
        "id": "PoZMt4fBu_7R"
      },
      "source": [
        "What are the dimensions of the datasets?"
      ]
    },
    {
      "cell_type": "code",
      "execution_count": 30,
      "metadata": {
        "colab": {
          "base_uri": "https://localhost:8080/"
        },
        "id": "gu96SUXIvtVp",
        "outputId": "2771d8d7-1636-4b1b-9466-583bc713d4a2"
      },
      "outputs": [
        {
          "name": "stdout",
          "output_type": "stream",
          "text": [
            "Shape of DF: (10000, 14)\n"
          ]
        }
      ],
      "source": [
        "print(\"Shape of DF:\", df.shape)"
      ]
    },
    {
      "cell_type": "markdown",
      "metadata": {
        "id": "gRPEvj9Fz0v1"
      },
      "source": [
        "Is this a skewed dataset?"
      ]
    },
    {
      "cell_type": "code",
      "execution_count": 31,
      "metadata": {
        "colab": {
          "base_uri": "https://localhost:8080/"
        },
        "id": "fUVf9c2Pz4Fq",
        "outputId": "bddbb4bf-7ff6-4d9c-cc4d-e204cb5a3ae7"
      },
      "outputs": [
        {
          "data": {
            "text/plain": [
              "0    7963\n",
              "1    2037\n",
              "Name: Exited, dtype: int64"
            ]
          },
          "execution_count": 31,
          "metadata": {},
          "output_type": "execute_result"
        }
      ],
      "source": [
        "df['Exited'].value_counts()"
      ]
    },
    {
      "cell_type": "markdown",
      "metadata": {
        "id": "u_Okz9HpVwrs"
      },
      "source": [
        "Drop the columns RowNumber, CustomerId and Surname"
      ]
    },
    {
      "cell_type": "code",
      "execution_count": 32,
      "metadata": {
        "id": "COu29D2QVv49"
      },
      "outputs": [],
      "source": [
        "df = df.drop(['RowNumber', 'CustomerId', 'Surname'], axis = 1)"
      ]
    },
    {
      "cell_type": "markdown",
      "metadata": {
        "id": "6rwj9YHWWEKF"
      },
      "source": [
        "What are the different values for Geography?"
      ]
    },
    {
      "cell_type": "code",
      "execution_count": 33,
      "metadata": {
        "colab": {
          "base_uri": "https://localhost:8080/"
        },
        "id": "HjwJQqlsWCN4",
        "outputId": "8174727f-874e-40a8-a128-80ee7e404ae4"
      },
      "outputs": [
        {
          "data": {
            "text/plain": [
              "France     5014\n",
              "Germany    2509\n",
              "Spain      2477\n",
              "Name: Geography, dtype: int64"
            ]
          },
          "execution_count": 33,
          "metadata": {},
          "output_type": "execute_result"
        }
      ],
      "source": [
        "df['Geography'].value_counts()"
      ]
    },
    {
      "cell_type": "markdown",
      "metadata": {
        "id": "bgSmTrrTWedU"
      },
      "source": [
        "Use one-hot encoding to replace Gender and Geography."
      ]
    },
    {
      "cell_type": "code",
      "execution_count": 34,
      "metadata": {
        "colab": {
          "base_uri": "https://localhost:8080/",
          "height": 206
        },
        "id": "u9u3w17IWdvf",
        "outputId": "202b2a84-0b18-4bf7-fa3a-94b96b69ea1a"
      },
      "outputs": [
        {
          "data": {
            "text/html": [
              "<div>\n",
              "<style scoped>\n",
              "    .dataframe tbody tr th:only-of-type {\n",
              "        vertical-align: middle;\n",
              "    }\n",
              "\n",
              "    .dataframe tbody tr th {\n",
              "        vertical-align: top;\n",
              "    }\n",
              "\n",
              "    .dataframe thead th {\n",
              "        text-align: right;\n",
              "    }\n",
              "</style>\n",
              "<table border=\"1\" class=\"dataframe\">\n",
              "  <thead>\n",
              "    <tr style=\"text-align: right;\">\n",
              "      <th></th>\n",
              "      <th>CreditScore</th>\n",
              "      <th>Gender</th>\n",
              "      <th>Age</th>\n",
              "      <th>Tenure</th>\n",
              "      <th>Balance</th>\n",
              "      <th>NumOfProducts</th>\n",
              "      <th>HasCrCard</th>\n",
              "      <th>IsActiveMember</th>\n",
              "      <th>EstimatedSalary</th>\n",
              "      <th>Exited</th>\n",
              "      <th>Geography_France</th>\n",
              "      <th>Geography_Germany</th>\n",
              "      <th>Geography_Spain</th>\n",
              "    </tr>\n",
              "  </thead>\n",
              "  <tbody>\n",
              "    <tr>\n",
              "      <th>0</th>\n",
              "      <td>619</td>\n",
              "      <td>Female</td>\n",
              "      <td>42</td>\n",
              "      <td>2</td>\n",
              "      <td>0.00</td>\n",
              "      <td>1</td>\n",
              "      <td>1</td>\n",
              "      <td>1</td>\n",
              "      <td>101348.88</td>\n",
              "      <td>1</td>\n",
              "      <td>1</td>\n",
              "      <td>0</td>\n",
              "      <td>0</td>\n",
              "    </tr>\n",
              "    <tr>\n",
              "      <th>1</th>\n",
              "      <td>608</td>\n",
              "      <td>Female</td>\n",
              "      <td>41</td>\n",
              "      <td>1</td>\n",
              "      <td>83807.86</td>\n",
              "      <td>1</td>\n",
              "      <td>0</td>\n",
              "      <td>1</td>\n",
              "      <td>112542.58</td>\n",
              "      <td>0</td>\n",
              "      <td>0</td>\n",
              "      <td>0</td>\n",
              "      <td>1</td>\n",
              "    </tr>\n",
              "    <tr>\n",
              "      <th>2</th>\n",
              "      <td>502</td>\n",
              "      <td>Female</td>\n",
              "      <td>42</td>\n",
              "      <td>8</td>\n",
              "      <td>159660.80</td>\n",
              "      <td>3</td>\n",
              "      <td>1</td>\n",
              "      <td>0</td>\n",
              "      <td>113931.57</td>\n",
              "      <td>1</td>\n",
              "      <td>1</td>\n",
              "      <td>0</td>\n",
              "      <td>0</td>\n",
              "    </tr>\n",
              "    <tr>\n",
              "      <th>3</th>\n",
              "      <td>699</td>\n",
              "      <td>Female</td>\n",
              "      <td>39</td>\n",
              "      <td>1</td>\n",
              "      <td>0.00</td>\n",
              "      <td>2</td>\n",
              "      <td>0</td>\n",
              "      <td>0</td>\n",
              "      <td>93826.63</td>\n",
              "      <td>0</td>\n",
              "      <td>1</td>\n",
              "      <td>0</td>\n",
              "      <td>0</td>\n",
              "    </tr>\n",
              "    <tr>\n",
              "      <th>4</th>\n",
              "      <td>850</td>\n",
              "      <td>Female</td>\n",
              "      <td>43</td>\n",
              "      <td>2</td>\n",
              "      <td>125510.82</td>\n",
              "      <td>1</td>\n",
              "      <td>1</td>\n",
              "      <td>1</td>\n",
              "      <td>79084.10</td>\n",
              "      <td>0</td>\n",
              "      <td>0</td>\n",
              "      <td>0</td>\n",
              "      <td>1</td>\n",
              "    </tr>\n",
              "  </tbody>\n",
              "</table>\n",
              "</div>"
            ],
            "text/plain": [
              "   CreditScore  Gender  Age  Tenure    Balance  NumOfProducts  HasCrCard  \\\n",
              "0          619  Female   42       2       0.00              1          1   \n",
              "1          608  Female   41       1   83807.86              1          0   \n",
              "2          502  Female   42       8  159660.80              3          1   \n",
              "3          699  Female   39       1       0.00              2          0   \n",
              "4          850  Female   43       2  125510.82              1          1   \n",
              "\n",
              "   IsActiveMember  EstimatedSalary  Exited  Geography_France  \\\n",
              "0               1        101348.88       1                 1   \n",
              "1               1        112542.58       0                 0   \n",
              "2               0        113931.57       1                 1   \n",
              "3               0         93826.63       0                 1   \n",
              "4               1         79084.10       0                 0   \n",
              "\n",
              "   Geography_Germany  Geography_Spain  \n",
              "0                  0                0  \n",
              "1                  0                1  \n",
              "2                  0                0  \n",
              "3                  0                0  \n",
              "4                  0                1  "
            ]
          },
          "execution_count": 34,
          "metadata": {},
          "output_type": "execute_result"
        }
      ],
      "source": [
        "df = pd.get_dummies(df,prefix=['Geography'], columns = ['Geography'])\n",
        "df.head()"
      ]
    },
    {
      "cell_type": "code",
      "execution_count": 35,
      "metadata": {
        "colab": {
          "base_uri": "https://localhost:8080/",
          "height": 270
        },
        "id": "qfrkXeHSW4S9",
        "outputId": "294b1270-4bd3-4297-fb55-6bdcd1ac6593"
      },
      "outputs": [
        {
          "data": {
            "text/html": [
              "<div>\n",
              "<style scoped>\n",
              "    .dataframe tbody tr th:only-of-type {\n",
              "        vertical-align: middle;\n",
              "    }\n",
              "\n",
              "    .dataframe tbody tr th {\n",
              "        vertical-align: top;\n",
              "    }\n",
              "\n",
              "    .dataframe thead th {\n",
              "        text-align: right;\n",
              "    }\n",
              "</style>\n",
              "<table border=\"1\" class=\"dataframe\">\n",
              "  <thead>\n",
              "    <tr style=\"text-align: right;\">\n",
              "      <th></th>\n",
              "      <th>CreditScore</th>\n",
              "      <th>Age</th>\n",
              "      <th>Tenure</th>\n",
              "      <th>Balance</th>\n",
              "      <th>NumOfProducts</th>\n",
              "      <th>HasCrCard</th>\n",
              "      <th>IsActiveMember</th>\n",
              "      <th>EstimatedSalary</th>\n",
              "      <th>Exited</th>\n",
              "      <th>Geography_France</th>\n",
              "      <th>Geography_Germany</th>\n",
              "      <th>Geography_Spain</th>\n",
              "      <th>Gender_Female</th>\n",
              "      <th>Gender_Male</th>\n",
              "    </tr>\n",
              "  </thead>\n",
              "  <tbody>\n",
              "    <tr>\n",
              "      <th>0</th>\n",
              "      <td>619</td>\n",
              "      <td>42</td>\n",
              "      <td>2</td>\n",
              "      <td>0.00</td>\n",
              "      <td>1</td>\n",
              "      <td>1</td>\n",
              "      <td>1</td>\n",
              "      <td>101348.88</td>\n",
              "      <td>1</td>\n",
              "      <td>1</td>\n",
              "      <td>0</td>\n",
              "      <td>0</td>\n",
              "      <td>1</td>\n",
              "      <td>0</td>\n",
              "    </tr>\n",
              "    <tr>\n",
              "      <th>1</th>\n",
              "      <td>608</td>\n",
              "      <td>41</td>\n",
              "      <td>1</td>\n",
              "      <td>83807.86</td>\n",
              "      <td>1</td>\n",
              "      <td>0</td>\n",
              "      <td>1</td>\n",
              "      <td>112542.58</td>\n",
              "      <td>0</td>\n",
              "      <td>0</td>\n",
              "      <td>0</td>\n",
              "      <td>1</td>\n",
              "      <td>1</td>\n",
              "      <td>0</td>\n",
              "    </tr>\n",
              "    <tr>\n",
              "      <th>2</th>\n",
              "      <td>502</td>\n",
              "      <td>42</td>\n",
              "      <td>8</td>\n",
              "      <td>159660.80</td>\n",
              "      <td>3</td>\n",
              "      <td>1</td>\n",
              "      <td>0</td>\n",
              "      <td>113931.57</td>\n",
              "      <td>1</td>\n",
              "      <td>1</td>\n",
              "      <td>0</td>\n",
              "      <td>0</td>\n",
              "      <td>1</td>\n",
              "      <td>0</td>\n",
              "    </tr>\n",
              "    <tr>\n",
              "      <th>3</th>\n",
              "      <td>699</td>\n",
              "      <td>39</td>\n",
              "      <td>1</td>\n",
              "      <td>0.00</td>\n",
              "      <td>2</td>\n",
              "      <td>0</td>\n",
              "      <td>0</td>\n",
              "      <td>93826.63</td>\n",
              "      <td>0</td>\n",
              "      <td>1</td>\n",
              "      <td>0</td>\n",
              "      <td>0</td>\n",
              "      <td>1</td>\n",
              "      <td>0</td>\n",
              "    </tr>\n",
              "    <tr>\n",
              "      <th>4</th>\n",
              "      <td>850</td>\n",
              "      <td>43</td>\n",
              "      <td>2</td>\n",
              "      <td>125510.82</td>\n",
              "      <td>1</td>\n",
              "      <td>1</td>\n",
              "      <td>1</td>\n",
              "      <td>79084.10</td>\n",
              "      <td>0</td>\n",
              "      <td>0</td>\n",
              "      <td>0</td>\n",
              "      <td>1</td>\n",
              "      <td>1</td>\n",
              "      <td>0</td>\n",
              "    </tr>\n",
              "  </tbody>\n",
              "</table>\n",
              "</div>"
            ],
            "text/plain": [
              "   CreditScore  Age  Tenure    Balance  NumOfProducts  HasCrCard  \\\n",
              "0          619   42       2       0.00              1          1   \n",
              "1          608   41       1   83807.86              1          0   \n",
              "2          502   42       8  159660.80              3          1   \n",
              "3          699   39       1       0.00              2          0   \n",
              "4          850   43       2  125510.82              1          1   \n",
              "\n",
              "   IsActiveMember  EstimatedSalary  Exited  Geography_France  \\\n",
              "0               1        101348.88       1                 1   \n",
              "1               1        112542.58       0                 0   \n",
              "2               0        113931.57       1                 1   \n",
              "3               0         93826.63       0                 1   \n",
              "4               1         79084.10       0                 0   \n",
              "\n",
              "   Geography_Germany  Geography_Spain  Gender_Female  Gender_Male  \n",
              "0                  0                0              1            0  \n",
              "1                  0                1              1            0  \n",
              "2                  0                0              1            0  \n",
              "3                  0                0              1            0  \n",
              "4                  0                1              1            0  "
            ]
          },
          "execution_count": 35,
          "metadata": {},
          "output_type": "execute_result"
        }
      ],
      "source": [
        "df = pd.get_dummies(df,prefix=['Gender'], columns = ['Gender'])\n",
        "df.head()"
      ]
    },
    {
      "cell_type": "markdown",
      "metadata": {},
      "source": [
        "Make sure you understand this function. We will use is later on to evaluate the ANN."
      ]
    },
    {
      "cell_type": "code",
      "execution_count": 36,
      "metadata": {
        "id": "o_2arcO2yiR2"
      },
      "outputs": [],
      "source": [
        "def plot_history(history):\n",
        "  plt.figure(figsize = (12,4))\n",
        "  plt.subplot(1,2,1)\n",
        "\n",
        "  plt.xlabel('Epoch')\n",
        "  plt.ylabel('Accuracy')\n",
        "  plt.plot(history.epoch, np.array(history.history['accuracy']),'g-',\n",
        "           label='Train accuracy')\n",
        "  plt.plot(history.epoch, np.array(history.history['val_accuracy']),'r-',\n",
        "           label = 'Validation accuracy')\n",
        "  plt.legend()\n",
        "\n",
        "  plt.subplot(1,2,2)\n",
        "  plt.xlabel('Epoch')\n",
        "  plt.ylabel('Loss minimised by model')\n",
        "  plt.plot(history.epoch, np.array(history.history['loss']),'g-',\n",
        "           label='Train loss')\n",
        "  plt.plot(history.epoch, np.array(history.history['val_loss']),'r-',\n",
        "           label = 'Validation loss')\n",
        "  plt.legend()"
      ]
    },
    {
      "cell_type": "markdown",
      "metadata": {
        "id": "O3gSSfm9WkLQ"
      },
      "source": [
        "What is X and what is y?"
      ]
    },
    {
      "cell_type": "code",
      "execution_count": 37,
      "metadata": {
        "id": "Kr9_Xm8OJs8F"
      },
      "outputs": [],
      "source": [
        "X = df.drop([\"Exited\"], axis = 1)\n",
        "y = df['Exited']   "
      ]
    },
    {
      "cell_type": "markdown",
      "metadata": {
        "id": "s7n0sO0PWov_"
      },
      "source": [
        "What is X_train, y_train, X_test, y_test?"
      ]
    },
    {
      "cell_type": "code",
      "execution_count": 38,
      "metadata": {
        "id": "IA_DKfYRKsq3"
      },
      "outputs": [],
      "source": [
        "from sklearn.model_selection import train_test_split    \n",
        "X_train, X_test, y_train, y_test = train_test_split(X, y, test_size=0.2, random_state=42)  "
      ]
    },
    {
      "cell_type": "markdown",
      "metadata": {
        "id": "XCHe3JqRWrFX"
      },
      "source": [
        "What is X_train, y_train, X_val, y_val?"
      ]
    },
    {
      "cell_type": "code",
      "execution_count": 39,
      "metadata": {
        "id": "mrAdQRBHK0sH"
      },
      "outputs": [],
      "source": [
        "X_train, X_val, y_train, y_val = train_test_split(X_train, y_train, test_size=0.2, random_state=42)  "
      ]
    },
    {
      "cell_type": "markdown",
      "metadata": {
        "id": "u4ts-oEUWyMm"
      },
      "source": [
        "What are the dimensions of X_train, X_val, X_test, y_train, y_val, y_test?"
      ]
    },
    {
      "cell_type": "code",
      "execution_count": 40,
      "metadata": {
        "colab": {
          "base_uri": "https://localhost:8080/"
        },
        "id": "5xtda5DVK98F",
        "outputId": "2e2f2c58-eb4d-4ab0-8378-ca68f652f0af"
      },
      "outputs": [
        {
          "name": "stdout",
          "output_type": "stream",
          "text": [
            "Shape of x_train: (6400, 13)\n",
            "Shape of x_test: (2000, 13)\n",
            "Shape of x_val: (1600, 13)\n",
            "Shape of y_train: (6400,)\n",
            "Shape of y_test: (2000,)\n",
            "Shape of y_val: (1600,)\n"
          ]
        }
      ],
      "source": [
        "print(\"Shape of x_train:\", X_train.shape)\n",
        "print(\"Shape of x_test:\", X_test.shape)\n",
        "print(\"Shape of x_val:\", X_val.shape)\n",
        "print(\"Shape of y_train:\", y_train.shape)\n",
        "print(\"Shape of y_test:\", y_test.shape)\n",
        "print(\"Shape of y_val:\", y_val.shape)"
      ]
    },
    {
      "cell_type": "markdown",
      "metadata": {
        "id": "vL83lw5TXgSp"
      },
      "source": [
        "Standardize the data before providing it as training data.  \n",
        "You should only use the training data to fit the scaler transformation\n",
        "and use the same fitted object to transform the validation and test input\n",
        "data."
      ]
    },
    {
      "cell_type": "code",
      "execution_count": 41,
      "metadata": {
        "id": "7TgXTCmYLtat"
      },
      "outputs": [],
      "source": [
        "from sklearn.preprocessing import StandardScaler\n",
        "scaler = StandardScaler()\n",
        "scaler.fit(X_train)\n",
        "X_train_scaled = scaler.transform(X_train)\n",
        "X_val_scaled = scaler.transform(X_val)\n",
        "X_test_scaled = scaler.transform(X_test)"
      ]
    },
    {
      "cell_type": "markdown",
      "metadata": {
        "id": "o4Le__cyMD7o"
      },
      "source": [
        "* First create a small ANN model.  \n",
        "* Add BatchNormalization\n",
        "* Add Dropout\n",
        "* Evaluate the results after each fine tuning.\n"
      ]
    },
    {
      "cell_type": "code",
      "execution_count": 65,
      "metadata": {},
      "outputs": [],
      "source": [
        "import tensorflow as tf\n",
        "from tensorflow import keras\n",
        "model = keras.models.Sequential()\n",
        "model.add(keras.layers.Dense(128, activation=\"relu\", input_dim = X_train_scaled.shape[1]))\n",
        "model.add(keras.layers.Dropout(rate=0.2))\n",
        "model.add(keras.layers.BatchNormalization())\n",
        "model.add(keras.layers.Dense(64, activation=\"relu\"))\n",
        "model.add(keras.layers.Dropout(rate=0.2))\n",
        "model.add(keras.layers.BatchNormalization())\n",
        "model.add(keras.layers.Dense(64, activation=\"relu\"))\n",
        "model.add(keras.layers.Dropout(rate=0.2))\n",
        "model.add(keras.layers.BatchNormalization())\n",
        "model.add(keras.layers.Dense(1, activation=\"sigmoid\"))"
      ]
    },
    {
      "cell_type": "code",
      "execution_count": 66,
      "metadata": {},
      "outputs": [],
      "source": [
        "model.compile(loss=\"binary_crossentropy\",\n",
        "              optimizer=\"sgd\",\n",
        "              metrics=[\"accuracy\"])"
      ]
    },
    {
      "cell_type": "code",
      "execution_count": 67,
      "metadata": {},
      "outputs": [
        {
          "name": "stdout",
          "output_type": "stream",
          "text": [
            "Epoch 1/20\n",
            "100/100 [==============================] - 1s 4ms/step - loss: 0.7061 - accuracy: 0.6034 - val_loss: 0.5321 - val_accuracy: 0.8000\n",
            "Epoch 2/20\n",
            "100/100 [==============================] - 0s 3ms/step - loss: 0.5565 - accuracy: 0.7269 - val_loss: 0.4549 - val_accuracy: 0.8075\n",
            "Epoch 3/20\n",
            "100/100 [==============================] - 0s 3ms/step - loss: 0.5105 - accuracy: 0.7663 - val_loss: 0.4243 - val_accuracy: 0.8150\n",
            "Epoch 4/20\n",
            "100/100 [==============================] - 0s 3ms/step - loss: 0.4853 - accuracy: 0.7872 - val_loss: 0.4075 - val_accuracy: 0.8156\n",
            "Epoch 5/20\n",
            "100/100 [==============================] - 0s 2ms/step - loss: 0.4699 - accuracy: 0.7937 - val_loss: 0.3986 - val_accuracy: 0.8244\n",
            "Epoch 6/20\n",
            "100/100 [==============================] - 0s 2ms/step - loss: 0.4705 - accuracy: 0.7922 - val_loss: 0.3922 - val_accuracy: 0.8275\n",
            "Epoch 7/20\n",
            "100/100 [==============================] - 0s 2ms/step - loss: 0.4591 - accuracy: 0.8016 - val_loss: 0.3858 - val_accuracy: 0.8313\n",
            "Epoch 8/20\n",
            "100/100 [==============================] - 0s 2ms/step - loss: 0.4452 - accuracy: 0.8033 - val_loss: 0.3806 - val_accuracy: 0.8375\n",
            "Epoch 9/20\n",
            "100/100 [==============================] - 0s 2ms/step - loss: 0.4360 - accuracy: 0.8128 - val_loss: 0.3771 - val_accuracy: 0.8400\n",
            "Epoch 10/20\n",
            "100/100 [==============================] - 0s 2ms/step - loss: 0.4355 - accuracy: 0.8111 - val_loss: 0.3739 - val_accuracy: 0.8388\n",
            "Epoch 11/20\n",
            "100/100 [==============================] - 0s 2ms/step - loss: 0.4322 - accuracy: 0.8141 - val_loss: 0.3710 - val_accuracy: 0.8431\n",
            "Epoch 12/20\n",
            "100/100 [==============================] - 0s 2ms/step - loss: 0.4266 - accuracy: 0.8173 - val_loss: 0.3682 - val_accuracy: 0.8462\n",
            "Epoch 13/20\n",
            "100/100 [==============================] - 0s 2ms/step - loss: 0.4129 - accuracy: 0.8244 - val_loss: 0.3644 - val_accuracy: 0.8500\n",
            "Epoch 14/20\n",
            "100/100 [==============================] - 0s 2ms/step - loss: 0.4244 - accuracy: 0.8147 - val_loss: 0.3619 - val_accuracy: 0.8531\n",
            "Epoch 15/20\n",
            "100/100 [==============================] - 0s 2ms/step - loss: 0.4177 - accuracy: 0.8225 - val_loss: 0.3593 - val_accuracy: 0.8531\n",
            "Epoch 16/20\n",
            "100/100 [==============================] - 0s 2ms/step - loss: 0.4147 - accuracy: 0.8230 - val_loss: 0.3586 - val_accuracy: 0.8525\n",
            "Epoch 17/20\n",
            "100/100 [==============================] - 0s 2ms/step - loss: 0.4039 - accuracy: 0.8234 - val_loss: 0.3564 - val_accuracy: 0.8500\n",
            "Epoch 18/20\n",
            "100/100 [==============================] - 0s 2ms/step - loss: 0.4087 - accuracy: 0.8259 - val_loss: 0.3563 - val_accuracy: 0.8531\n",
            "Epoch 19/20\n",
            "100/100 [==============================] - 0s 2ms/step - loss: 0.4066 - accuracy: 0.8250 - val_loss: 0.3544 - val_accuracy: 0.8544\n",
            "Epoch 20/20\n",
            "100/100 [==============================] - 0s 3ms/step - loss: 0.3987 - accuracy: 0.8300 - val_loss: 0.3526 - val_accuracy: 0.8537\n"
          ]
        }
      ],
      "source": [
        "history = model.fit(X_train_scaled, y_train, epochs=20, batch_size=64,\n",
        "                    validation_data=(X_val_scaled, y_val))"
      ]
    },
    {
      "cell_type": "code",
      "execution_count": 64,
      "metadata": {},
      "outputs": [
        {
          "data": {
            "image/png": "[encoded data removed]",
            "text/plain": [
              "<Figure size 864x288 with 2 Axes>"
            ]
          },
          "metadata": {
            "needs_background": "light"
          },
          "output_type": "display_data"
        }
      ],
      "source": [
        "plot_history(history)"
      ]
    },
    {
      "cell_type": "code",
      "execution_count": 56,
      "metadata": {},
      "outputs": [
        {
          "name": "stdout",
          "output_type": "stream",
          "text": [
            "Epoch 1/20\n",
            "100/100 [==============================] - 3s 12ms/step - loss: 3.1742 - accuracy: 0.0000e+00 - val_loss: 3.1525 - val_accuracy: 0.0000e+00\n",
            "Epoch 2/20\n",
            "100/100 [==============================] - 1s 7ms/step - loss: 3.1742 - accuracy: 0.0000e+00 - val_loss: 3.1525 - val_accuracy: 0.0000e+00\n",
            "Epoch 3/20\n",
            "100/100 [==============================] - 1s 7ms/step - loss: 3.1742 - accuracy: 0.0000e+00 - val_loss: 3.1525 - val_accuracy: 0.0000e+00\n",
            "Epoch 4/20\n",
            "100/100 [==============================] - 1s 7ms/step - loss: 3.1742 - accuracy: 0.0000e+00 - val_loss: 3.1525 - val_accuracy: 0.0000e+00\n",
            "Epoch 5/20\n",
            "100/100 [==============================] - 1s 7ms/step - loss: 3.1742 - accuracy: 0.0000e+00 - val_loss: 3.1525 - val_accuracy: 0.0000e+00\n",
            "Epoch 6/20\n",
            "100/100 [==============================] - 1s 6ms/step - loss: 3.1742 - accuracy: 0.0000e+00 - val_loss: 3.1525 - val_accuracy: 0.0000e+00\n",
            "Epoch 7/20\n",
            "100/100 [==============================] - 1s 7ms/step - loss: 3.1742 - accuracy: 0.0000e+00 - val_loss: 3.1525 - val_accuracy: 0.0000e+00\n",
            "Epoch 8/20\n",
            "100/100 [==============================] - 1s 7ms/step - loss: 3.1742 - accuracy: 0.0000e+00 - val_loss: 3.1525 - val_accuracy: 0.0000e+00\n",
            "Epoch 9/20\n",
            "100/100 [==============================] - 1s 7ms/step - loss: 3.1742 - accuracy: 0.0000e+00 - val_loss: 3.1525 - val_accuracy: 0.0000e+00\n",
            "Epoch 10/20\n",
            "100/100 [==============================] - 1s 7ms/step - loss: 3.1742 - accuracy: 0.0000e+00 - val_loss: 3.1525 - val_accuracy: 0.0000e+00\n",
            "Epoch 11/20\n",
            "100/100 [==============================] - 1s 7ms/step - loss: 3.1742 - accuracy: 0.0000e+00 - val_loss: 3.1525 - val_accuracy: 0.0000e+00\n",
            "Epoch 12/20\n",
            "100/100 [==============================] - 1s 7ms/step - loss: 3.1742 - accuracy: 0.0000e+00 - val_loss: 3.1525 - val_accuracy: 0.0000e+00\n",
            "Epoch 13/20\n",
            "100/100 [==============================] - 1s 7ms/step - loss: 3.1742 - accuracy: 0.0000e+00 - val_loss: 3.1525 - val_accuracy: 0.0000e+00\n",
            "Epoch 14/20\n",
            "100/100 [==============================] - 1s 7ms/step - loss: 3.1742 - accuracy: 0.0000e+00 - val_loss: 3.1525 - val_accuracy: 0.0000e+00\n",
            "Epoch 15/20\n",
            "100/100 [==============================] - 1s 7ms/step - loss: 3.1742 - accuracy: 0.0000e+00 - val_loss: 3.1525 - val_accuracy: 0.0000e+00\n",
            "Epoch 16/20\n",
            "100/100 [==============================] - 1s 6ms/step - loss: 3.1742 - accuracy: 0.0000e+00 - val_loss: 3.1525 - val_accuracy: 0.0000e+00\n",
            "Epoch 17/20\n",
            "100/100 [==============================] - 1s 6ms/step - loss: 3.1742 - accuracy: 0.0000e+00 - val_loss: 3.1525 - val_accuracy: 0.0000e+00\n",
            "Epoch 18/20\n",
            "100/100 [==============================] - 1s 6ms/step - loss: 3.1742 - accuracy: 0.0000e+00 - val_loss: 3.1525 - val_accuracy: 0.0000e+00\n",
            "Epoch 19/20\n",
            "100/100 [==============================] - 1s 6ms/step - loss: 3.1742 - accuracy: 0.0000e+00 - val_loss: 3.1525 - val_accuracy: 0.0000e+00\n",
            "Epoch 20/20\n",
            "100/100 [==============================] - 1s 7ms/step - loss: 3.1742 - accuracy: 0.0000e+00 - val_loss: 3.1525 - val_accuracy: 0.0000e+00\n"
          ]
        },
        {
          "data": {
            "image/png": "[encoded data removed]",
            "text/plain": [
              "<Figure size 864x288 with 2 Axes>"
            ]
          },
          "metadata": {
            "needs_background": "light"
          },
          "output_type": "display_data"
        }
      ],
      "source": [
        "keras.backend.clear_session()\n",
        "np.random.seed(42)\n",
        "tf.random.set_seed(42)\n",
        "\n",
        "model = keras.models.Sequential()\n",
        "model.add(keras.layers.Dense(128, activation=\"relu\", input_dim = X_train_scaled.shape[1]))\n",
        "\n",
        "for layer in range(99):\n",
        "    model.add(keras.layers.Dense(64, activation=\"relu\"))\n",
        "\n",
        "\n",
        "model.compile(loss=\"binary_crossentropy\",\n",
        "              optimizer=\"sgd\",\n",
        "              metrics=[\"accuracy\"])\n",
        "\n",
        "history = model.fit(X_train_scaled, y_train, epochs=20, batch_size=64,\n",
        "                    validation_data=(X_val_scaled, y_val))\n",
        "\n",
        "plot_history(history)"
      ]
    },
    {
      "cell_type": "code",
      "execution_count": 53,
      "metadata": {},
      "outputs": [],
      "source": []
    },
    {
      "cell_type": "code",
      "execution_count": null,
      "metadata": {
        "id": "XnOouYlZODlF"
      },
      "outputs": [],
      "source": [
        "model = keras.models.Sequential()\n",
        "model.add(RegularizedDense(64, input_dim = X_train_scaled.shape[1]))\n",
        "# model.add(keras.layers.BatchNormalization())\n",
        "model.add(keras.layers.Dropout(rate = 0.2))\n",
        "model.add(RegularizedDense(64))\n",
        "# model.add(keras.layers.BatchNormalization())\n",
        "# model.add(keras.layers.Dropout(rate = 0.2))\n",
        "# model.add(RegularizedDense(8))\n",
        "# model.add(keras.layers.BatchNormalization())\n",
        "model.add(keras.layers.Dropout(rate = 0.2))\n",
        "model.add(RegularizedDense(1, activation='sigmoid')) "
      ]
    },
    {
      "cell_type": "code",
      "execution_count": null,
      "metadata": {
        "id": "QcJZBSGROqVY"
      },
      "outputs": [],
      "source": [
        "model.compile(optimizer = 'adam', loss = 'binary_crossentropy', metrics = ['accuracy'])"
      ]
    },
    {
      "cell_type": "code",
      "execution_count": null,
      "metadata": {
        "colab": {
          "base_uri": "https://localhost:8080/"
        },
        "id": "usaKcRcJNxzY",
        "outputId": "17c8a343-213b-4e9d-d611-73e90f249d3c"
      },
      "outputs": [
        {
          "name": "stdout",
          "output_type": "stream",
          "text": [
            "Epoch 1/20\n",
            "100/100 [==============================] - 1s 4ms/step - loss: 0.6088 - accuracy: 0.7277 - val_loss: 0.4198 - val_accuracy: 0.8037\n",
            "Epoch 2/20\n",
            "100/100 [==============================] - 0s 3ms/step - loss: 0.4812 - accuracy: 0.7973 - val_loss: 0.4031 - val_accuracy: 0.8200\n",
            "Epoch 3/20\n",
            "100/100 [==============================] - 0s 3ms/step - loss: 0.4486 - accuracy: 0.8098 - val_loss: 0.3897 - val_accuracy: 0.8275\n",
            "Epoch 4/20\n",
            "100/100 [==============================] - 0s 3ms/step - loss: 0.4364 - accuracy: 0.8148 - val_loss: 0.3801 - val_accuracy: 0.8344\n",
            "Epoch 5/20\n",
            "100/100 [==============================] - 0s 3ms/step - loss: 0.4192 - accuracy: 0.8230 - val_loss: 0.3690 - val_accuracy: 0.8450\n",
            "Epoch 6/20\n",
            "100/100 [==============================] - 0s 3ms/step - loss: 0.4096 - accuracy: 0.8286 - val_loss: 0.3643 - val_accuracy: 0.8444\n",
            "Epoch 7/20\n",
            "100/100 [==============================] - 0s 3ms/step - loss: 0.4023 - accuracy: 0.8328 - val_loss: 0.3556 - val_accuracy: 0.8531\n",
            "Epoch 8/20\n",
            "100/100 [==============================] - 0s 3ms/step - loss: 0.3992 - accuracy: 0.8319 - val_loss: 0.3543 - val_accuracy: 0.8531\n",
            "Epoch 9/20\n",
            "100/100 [==============================] - 0s 2ms/step - loss: 0.3967 - accuracy: 0.8363 - val_loss: 0.3508 - val_accuracy: 0.8556\n",
            "Epoch 10/20\n",
            "100/100 [==============================] - 0s 3ms/step - loss: 0.3869 - accuracy: 0.8402 - val_loss: 0.3483 - val_accuracy: 0.8569\n",
            "Epoch 11/20\n",
            "100/100 [==============================] - 0s 3ms/step - loss: 0.3858 - accuracy: 0.8356 - val_loss: 0.3500 - val_accuracy: 0.8575\n",
            "Epoch 12/20\n",
            "100/100 [==============================] - 0s 3ms/step - loss: 0.3758 - accuracy: 0.8467 - val_loss: 0.3477 - val_accuracy: 0.8587\n",
            "Epoch 13/20\n",
            "100/100 [==============================] - 0s 2ms/step - loss: 0.3787 - accuracy: 0.8416 - val_loss: 0.3439 - val_accuracy: 0.8600\n",
            "Epoch 14/20\n",
            "100/100 [==============================] - 0s 2ms/step - loss: 0.3770 - accuracy: 0.8459 - val_loss: 0.3444 - val_accuracy: 0.8581\n",
            "Epoch 15/20\n",
            "100/100 [==============================] - 0s 3ms/step - loss: 0.3745 - accuracy: 0.8425 - val_loss: 0.3487 - val_accuracy: 0.8575\n",
            "Epoch 16/20\n",
            "100/100 [==============================] - 0s 3ms/step - loss: 0.3725 - accuracy: 0.8458 - val_loss: 0.3447 - val_accuracy: 0.8562\n",
            "Epoch 17/20\n",
            "100/100 [==============================] - 0s 3ms/step - loss: 0.3665 - accuracy: 0.8445 - val_loss: 0.3434 - val_accuracy: 0.8594\n",
            "Epoch 18/20\n",
            "100/100 [==============================] - 0s 3ms/step - loss: 0.3714 - accuracy: 0.8441 - val_loss: 0.3449 - val_accuracy: 0.8581\n",
            "Epoch 19/20\n",
            "100/100 [==============================] - 0s 3ms/step - loss: 0.3656 - accuracy: 0.8492 - val_loss: 0.3437 - val_accuracy: 0.8569\n",
            "Epoch 20/20\n",
            "100/100 [==============================] - 0s 3ms/step - loss: 0.3628 - accuracy: 0.8523 - val_loss: 0.3410 - val_accuracy: 0.8587\n"
          ]
        }
      ],
      "source": [
        "history = model.fit(X_train_scaled, y_train, epochs=20, batch_size=64,\n",
        "                    validation_data=(X_val_scaled, y_val))"
      ]
    },
    {
      "cell_type": "code",
      "execution_count": null,
      "metadata": {
        "colab": {
          "base_uri": "https://localhost:8080/",
          "height": 383
        },
        "id": "xrxxjpuHOYAG",
        "outputId": "bc9e95be-20de-42f5-f358-b29448466e0c"
      },
      "outputs": [
        {
          "name": "stdout",
          "output_type": "stream",
          "text": [
            "Training set Accuracy:   0.87\n",
            "Training set Loss: 0.3278\n",
            "\n",
            "Validation set Accuracy:   0.86\n",
            "Validation set Loss: 0.3395\n",
            "\n"
          ]
        },
        {
          "data": {
            "image/png": "[encoded data removed]",
            "text/plain": [
              "<Figure size 864x288 with 2 Axes>"
            ]
          },
          "metadata": {
            "needs_background": "light"
          },
          "output_type": "display_data"
        }
      ],
      "source": [
        "[train_loss, train_accuracy] = model.evaluate(X_train_scaled, y_train, verbose=0)\n",
        "print(\"Training set Accuracy:{:7.2f}\".format(train_accuracy))\n",
        "print(\"Training set Loss:{:7.4f}\\n\".format(train_loss))\n",
        "\n",
        "[val_loss, val_accuracy] = model.evaluate(X_val_scaled, y_val, verbose=0)\n",
        "print(\"Validation set Accuracy:{:7.2f}\".format(val_accuracy))\n",
        "print(\"Validation set Loss:{:7.4f}\\n\".format(val_loss))\n",
        "\n",
        "#Now we visualise what happened during training\n",
        "plot_history(history)"
      ]
    }
  ],
  "metadata": {
    "colab": {
      "collapsed_sections": [],
      "name": "Chapter 11 Exercise Churn Modelling Solution.ipynb",
      "provenance": []
    },
    "kernelspec": {
      "display_name": "Python 3",
      "name": "python3"
    },
    "language_info": {
      "codemirror_mode": {
        "name": "ipython",
        "version": 3
      },
      "file_extension": ".py",
      "mimetype": "text/x-python",
      "name": "python",
      "nbconvert_exporter": "python",
      "pygments_lexer": "ipython3",
      "version": "3.9.12"
    }
  },
  "nbformat": 4,
  "nbformat_minor": 0
}
