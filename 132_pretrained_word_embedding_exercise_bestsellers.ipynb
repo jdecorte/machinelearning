{
  "cells": [
    {
      "cell_type": "markdown",
      "metadata": {},
      "source": [
        "We create an ANN to predict het Genre (Non Fiction or Fiction) based on the Title of a book."
      ]
    },
    {
      "cell_type": "code",
      "execution_count": 1,
      "metadata": {
        "colab": {
          "base_uri": "https://localhost:8080/"
        },
        "collapsed": true,
        "id": "QsAx8QhH-Lhi",
        "outputId": "beff5b2a-b110-4f32-874a-f1b9e5628049"
      },
      "outputs": [
        {
          "name": "stdout",
          "output_type": "stream",
          "text": [
            "2.8.0\n"
          ]
        }
      ],
      "source": [
        "# Importing the necessary packages\n",
        "import numpy as np                                  # \"Scientific computing\"\n",
        "import scipy.stats as stats                         # Statistical tests\n",
        "\n",
        "import pandas as pd                                 # Data Frame\n",
        "from pandas.api.types import CategoricalDtype\n",
        "\n",
        "import matplotlib.pyplot as plt                     # Basic visualisation\n",
        "import seaborn as sns                               # Advanced data visualisation\n",
        "from sklearn.model_selection import cross_val_score\n",
        "from sklearn.compose import ColumnTransformer\n",
        "from sklearn.pipeline import Pipeline\n",
        "from sklearn.preprocessing import MinMaxScaler\n",
        "\n",
        "\n",
        "try:\n",
        "  # %tensorflow_version only exists in Colab.\n",
        "  %tensorflow_version 2.x\n",
        "except Exception:\n",
        "  pass\n",
        "\n",
        "# TensorFlow and tf.keras\n",
        "import tensorflow as tf\n",
        "from tensorflow import keras\n",
        "\n",
        "print(tf.__version__)\n",
        "\n",
        "# Helper libraries\n",
        "import numpy as np\n",
        "import matplotlib.pyplot as plt\n",
        "import sklearn as sk\n",
        "import pandas as pd\n",
        "\n",
        "# fix random seed for reproducibility\n",
        "seed = 2020\n",
        "np.random.seed(seed)  \n",
        "\n",
        "import sklearn as sk\n",
        "from sklearn.model_selection import train_test_split\n",
        "\n",
        "from tensorflow.keras.datasets import mnist\n",
        "from tensorflow.keras.models import Sequential\n",
        "from tensorflow.keras.layers import Dense, Dropout, Flatten, Embedding, Conv1D,  MaxPooling1D, GlobalMaxPooling1D\n",
        "from tensorflow.keras.optimizers import Adam\n",
        "from tensorflow.keras.constraints import max_norm\n",
        "from tensorflow.keras.models import load_model\n",
        "\n",
        "\n",
        "import nltk\n"
      ]
    },
    {
      "cell_type": "markdown",
      "metadata": {
        "id": "JbamKaXrGFeI"
      },
      "source": [
        "Read the file bestsellers with categories.csv"
      ]
    },
    {
      "cell_type": "code",
      "execution_count": 2,
      "metadata": {
        "colab": {
          "base_uri": "https://localhost:8080/",
          "height": 206
        },
        "id": "qaW8QWCg-Lhk",
        "outputId": "93862aa7-a3dc-4415-e9a2-93bcf8548a8d"
      },
      "outputs": [
        {
          "data": {
            "text/html": [
              "<div>\n",
              "<style scoped>\n",
              "    .dataframe tbody tr th:only-of-type {\n",
              "        vertical-align: middle;\n",
              "    }\n",
              "\n",
              "    .dataframe tbody tr th {\n",
              "        vertical-align: top;\n",
              "    }\n",
              "\n",
              "    .dataframe thead th {\n",
              "        text-align: right;\n",
              "    }\n",
              "</style>\n",
              "<table border=\"1\" class=\"dataframe\">\n",
              "  <thead>\n",
              "    <tr style=\"text-align: right;\">\n",
              "      <th></th>\n",
              "      <th>Name</th>\n",
              "      <th>Author</th>\n",
              "      <th>User Rating</th>\n",
              "      <th>Reviews</th>\n",
              "      <th>Price</th>\n",
              "      <th>Year</th>\n",
              "      <th>Genre</th>\n",
              "    </tr>\n",
              "  </thead>\n",
              "  <tbody>\n",
              "    <tr>\n",
              "      <th>0</th>\n",
              "      <td>10-Day Green Smoothie Cleanse</td>\n",
              "      <td>JJ Smith</td>\n",
              "      <td>4.7</td>\n",
              "      <td>17350</td>\n",
              "      <td>8</td>\n",
              "      <td>2016</td>\n",
              "      <td>Non Fiction</td>\n",
              "    </tr>\n",
              "    <tr>\n",
              "      <th>1</th>\n",
              "      <td>11/22/63: A Novel</td>\n",
              "      <td>Stephen King</td>\n",
              "      <td>4.6</td>\n",
              "      <td>2052</td>\n",
              "      <td>22</td>\n",
              "      <td>2011</td>\n",
              "      <td>Fiction</td>\n",
              "    </tr>\n",
              "    <tr>\n",
              "      <th>2</th>\n",
              "      <td>12 Rules for Life: An Antidote to Chaos</td>\n",
              "      <td>Jordan B. Peterson</td>\n",
              "      <td>4.7</td>\n",
              "      <td>18979</td>\n",
              "      <td>15</td>\n",
              "      <td>2018</td>\n",
              "      <td>Non Fiction</td>\n",
              "    </tr>\n",
              "    <tr>\n",
              "      <th>3</th>\n",
              "      <td>1984 (Signet Classics)</td>\n",
              "      <td>George Orwell</td>\n",
              "      <td>4.7</td>\n",
              "      <td>21424</td>\n",
              "      <td>6</td>\n",
              "      <td>2017</td>\n",
              "      <td>Fiction</td>\n",
              "    </tr>\n",
              "    <tr>\n",
              "      <th>4</th>\n",
              "      <td>5,000 Awesome Facts (About Everything!) (Natio...</td>\n",
              "      <td>National Geographic Kids</td>\n",
              "      <td>4.8</td>\n",
              "      <td>7665</td>\n",
              "      <td>12</td>\n",
              "      <td>2019</td>\n",
              "      <td>Non Fiction</td>\n",
              "    </tr>\n",
              "    <tr>\n",
              "      <th>5</th>\n",
              "      <td>A Dance with Dragons (A Song of Ice and Fire)</td>\n",
              "      <td>George R. R. Martin</td>\n",
              "      <td>4.4</td>\n",
              "      <td>12643</td>\n",
              "      <td>11</td>\n",
              "      <td>2011</td>\n",
              "      <td>Fiction</td>\n",
              "    </tr>\n",
              "    <tr>\n",
              "      <th>6</th>\n",
              "      <td>A Game of Thrones / A Clash of Kings / A Storm...</td>\n",
              "      <td>George R. R. Martin</td>\n",
              "      <td>4.7</td>\n",
              "      <td>19735</td>\n",
              "      <td>30</td>\n",
              "      <td>2014</td>\n",
              "      <td>Fiction</td>\n",
              "    </tr>\n",
              "    <tr>\n",
              "      <th>7</th>\n",
              "      <td>A Gentleman in Moscow: A Novel</td>\n",
              "      <td>Amor Towles</td>\n",
              "      <td>4.7</td>\n",
              "      <td>19699</td>\n",
              "      <td>15</td>\n",
              "      <td>2017</td>\n",
              "      <td>Fiction</td>\n",
              "    </tr>\n",
              "    <tr>\n",
              "      <th>8</th>\n",
              "      <td>A Higher Loyalty: Truth, Lies, and Leadership</td>\n",
              "      <td>James Comey</td>\n",
              "      <td>4.7</td>\n",
              "      <td>5983</td>\n",
              "      <td>3</td>\n",
              "      <td>2018</td>\n",
              "      <td>Non Fiction</td>\n",
              "    </tr>\n",
              "    <tr>\n",
              "      <th>9</th>\n",
              "      <td>A Man Called Ove: A Novel</td>\n",
              "      <td>Fredrik Backman</td>\n",
              "      <td>4.6</td>\n",
              "      <td>23848</td>\n",
              "      <td>8</td>\n",
              "      <td>2016</td>\n",
              "      <td>Fiction</td>\n",
              "    </tr>\n",
              "    <tr>\n",
              "      <th>10</th>\n",
              "      <td>A Man Called Ove: A Novel</td>\n",
              "      <td>Fredrik Backman</td>\n",
              "      <td>4.6</td>\n",
              "      <td>23848</td>\n",
              "      <td>8</td>\n",
              "      <td>2017</td>\n",
              "      <td>Fiction</td>\n",
              "    </tr>\n",
              "    <tr>\n",
              "      <th>11</th>\n",
              "      <td>A Patriot's History of the United States: From...</td>\n",
              "      <td>Larry Schweikart</td>\n",
              "      <td>4.6</td>\n",
              "      <td>460</td>\n",
              "      <td>2</td>\n",
              "      <td>2010</td>\n",
              "      <td>Non Fiction</td>\n",
              "    </tr>\n",
              "    <tr>\n",
              "      <th>12</th>\n",
              "      <td>A Stolen Life: A Memoir</td>\n",
              "      <td>Jaycee Dugard</td>\n",
              "      <td>4.6</td>\n",
              "      <td>4149</td>\n",
              "      <td>32</td>\n",
              "      <td>2011</td>\n",
              "      <td>Non Fiction</td>\n",
              "    </tr>\n",
              "    <tr>\n",
              "      <th>13</th>\n",
              "      <td>A Wrinkle in Time (Time Quintet)</td>\n",
              "      <td>Madeleine L'Engle</td>\n",
              "      <td>4.5</td>\n",
              "      <td>5153</td>\n",
              "      <td>5</td>\n",
              "      <td>2018</td>\n",
              "      <td>Fiction</td>\n",
              "    </tr>\n",
              "    <tr>\n",
              "      <th>14</th>\n",
              "      <td>Act Like a Lady, Think Like a Man: What Men Re...</td>\n",
              "      <td>Steve Harvey</td>\n",
              "      <td>4.6</td>\n",
              "      <td>5013</td>\n",
              "      <td>17</td>\n",
              "      <td>2009</td>\n",
              "      <td>Non Fiction</td>\n",
              "    </tr>\n",
              "    <tr>\n",
              "      <th>15</th>\n",
              "      <td>Adult Coloring Book Designs: Stress Relief Col...</td>\n",
              "      <td>Adult Coloring Book Designs</td>\n",
              "      <td>4.5</td>\n",
              "      <td>2313</td>\n",
              "      <td>4</td>\n",
              "      <td>2016</td>\n",
              "      <td>Non Fiction</td>\n",
              "    </tr>\n",
              "    <tr>\n",
              "      <th>16</th>\n",
              "      <td>Adult Coloring Book: Stress Relieving Animal D...</td>\n",
              "      <td>Blue Star Coloring</td>\n",
              "      <td>4.6</td>\n",
              "      <td>2925</td>\n",
              "      <td>6</td>\n",
              "      <td>2015</td>\n",
              "      <td>Non Fiction</td>\n",
              "    </tr>\n",
              "    <tr>\n",
              "      <th>17</th>\n",
              "      <td>Adult Coloring Book: Stress Relieving Patterns</td>\n",
              "      <td>Blue Star Coloring</td>\n",
              "      <td>4.4</td>\n",
              "      <td>2951</td>\n",
              "      <td>6</td>\n",
              "      <td>2015</td>\n",
              "      <td>Non Fiction</td>\n",
              "    </tr>\n",
              "    <tr>\n",
              "      <th>18</th>\n",
              "      <td>Adult Coloring Books: A Coloring Book for Adul...</td>\n",
              "      <td>Coloring Books for Adults</td>\n",
              "      <td>4.5</td>\n",
              "      <td>2426</td>\n",
              "      <td>8</td>\n",
              "      <td>2015</td>\n",
              "      <td>Non Fiction</td>\n",
              "    </tr>\n",
              "    <tr>\n",
              "      <th>19</th>\n",
              "      <td>Alexander Hamilton</td>\n",
              "      <td>Ron Chernow</td>\n",
              "      <td>4.8</td>\n",
              "      <td>9198</td>\n",
              "      <td>13</td>\n",
              "      <td>2016</td>\n",
              "      <td>Non Fiction</td>\n",
              "    </tr>\n",
              "  </tbody>\n",
              "</table>\n",
              "</div>"
            ],
            "text/plain": [
              "                                                 Name  \\\n",
              "0                       10-Day Green Smoothie Cleanse   \n",
              "1                                   11/22/63: A Novel   \n",
              "2             12 Rules for Life: An Antidote to Chaos   \n",
              "3                              1984 (Signet Classics)   \n",
              "4   5,000 Awesome Facts (About Everything!) (Natio...   \n",
              "5       A Dance with Dragons (A Song of Ice and Fire)   \n",
              "6   A Game of Thrones / A Clash of Kings / A Storm...   \n",
              "7                      A Gentleman in Moscow: A Novel   \n",
              "8       A Higher Loyalty: Truth, Lies, and Leadership   \n",
              "9                           A Man Called Ove: A Novel   \n",
              "10                          A Man Called Ove: A Novel   \n",
              "11  A Patriot's History of the United States: From...   \n",
              "12                            A Stolen Life: A Memoir   \n",
              "13                   A Wrinkle in Time (Time Quintet)   \n",
              "14  Act Like a Lady, Think Like a Man: What Men Re...   \n",
              "15  Adult Coloring Book Designs: Stress Relief Col...   \n",
              "16  Adult Coloring Book: Stress Relieving Animal D...   \n",
              "17     Adult Coloring Book: Stress Relieving Patterns   \n",
              "18  Adult Coloring Books: A Coloring Book for Adul...   \n",
              "19                                 Alexander Hamilton   \n",
              "\n",
              "                         Author  User Rating  Reviews  Price  Year  \\\n",
              "0                      JJ Smith          4.7    17350      8  2016   \n",
              "1                  Stephen King          4.6     2052     22  2011   \n",
              "2            Jordan B. Peterson          4.7    18979     15  2018   \n",
              "3                 George Orwell          4.7    21424      6  2017   \n",
              "4      National Geographic Kids          4.8     7665     12  2019   \n",
              "5           George R. R. Martin          4.4    12643     11  2011   \n",
              "6           George R. R. Martin          4.7    19735     30  2014   \n",
              "7                   Amor Towles          4.7    19699     15  2017   \n",
              "8                   James Comey          4.7     5983      3  2018   \n",
              "9               Fredrik Backman          4.6    23848      8  2016   \n",
              "10              Fredrik Backman          4.6    23848      8  2017   \n",
              "11             Larry Schweikart          4.6      460      2  2010   \n",
              "12                Jaycee Dugard          4.6     4149     32  2011   \n",
              "13            Madeleine L'Engle          4.5     5153      5  2018   \n",
              "14                 Steve Harvey          4.6     5013     17  2009   \n",
              "15  Adult Coloring Book Designs          4.5     2313      4  2016   \n",
              "16           Blue Star Coloring          4.6     2925      6  2015   \n",
              "17           Blue Star Coloring          4.4     2951      6  2015   \n",
              "18    Coloring Books for Adults          4.5     2426      8  2015   \n",
              "19                  Ron Chernow          4.8     9198     13  2016   \n",
              "\n",
              "          Genre  \n",
              "0   Non Fiction  \n",
              "1       Fiction  \n",
              "2   Non Fiction  \n",
              "3       Fiction  \n",
              "4   Non Fiction  \n",
              "5       Fiction  \n",
              "6       Fiction  \n",
              "7       Fiction  \n",
              "8   Non Fiction  \n",
              "9       Fiction  \n",
              "10      Fiction  \n",
              "11  Non Fiction  \n",
              "12  Non Fiction  \n",
              "13      Fiction  \n",
              "14  Non Fiction  \n",
              "15  Non Fiction  \n",
              "16  Non Fiction  \n",
              "17  Non Fiction  \n",
              "18  Non Fiction  \n",
              "19  Non Fiction  "
            ]
          },
          "execution_count": 2,
          "metadata": {},
          "output_type": "execute_result"
        }
      ],
      "source": [
        "data = pd.read_csv(\"https://raw.githubusercontent.com/jdecorte/machinelearning/main/datasets/bestsellers.csv\") \n",
        "data.head(20)\n"
      ]
    },
    {
      "cell_type": "markdown",
      "metadata": {
        "id": "QDp1IW7B-Lhm"
      },
      "source": [
        "What are the names of the columns?"
      ]
    },
    {
      "cell_type": "code",
      "execution_count": 3,
      "metadata": {
        "colab": {
          "base_uri": "https://localhost:8080/"
        },
        "id": "zrgy7p3p-Lhn",
        "outputId": "56eecc4d-2833-40e7-f6fc-590308790ddb"
      },
      "outputs": [
        {
          "data": {
            "text/plain": [
              "Index(['Name', 'Author', 'User Rating', 'Reviews', 'Price', 'Year', 'Genre'], dtype='object')"
            ]
          },
          "execution_count": 3,
          "metadata": {},
          "output_type": "execute_result"
        }
      ],
      "source": [
        "data.columns"
      ]
    },
    {
      "cell_type": "markdown",
      "metadata": {
        "id": "L_ltc_mw-Lhn"
      },
      "source": [
        "Give some general info about the numeric columns (mean, std, ...)"
      ]
    },
    {
      "cell_type": "code",
      "execution_count": 4,
      "metadata": {
        "colab": {
          "base_uri": "https://localhost:8080/",
          "height": 300
        },
        "id": "Zk7Td2Dl-Lhn",
        "outputId": "660b7a25-6123-48ec-ca46-8911291d477e"
      },
      "outputs": [
        {
          "data": {
            "text/html": [
              "<div>\n",
              "<style scoped>\n",
              "    .dataframe tbody tr th:only-of-type {\n",
              "        vertical-align: middle;\n",
              "    }\n",
              "\n",
              "    .dataframe tbody tr th {\n",
              "        vertical-align: top;\n",
              "    }\n",
              "\n",
              "    .dataframe thead th {\n",
              "        text-align: right;\n",
              "    }\n",
              "</style>\n",
              "<table border=\"1\" class=\"dataframe\">\n",
              "  <thead>\n",
              "    <tr style=\"text-align: right;\">\n",
              "      <th></th>\n",
              "      <th>User Rating</th>\n",
              "      <th>Reviews</th>\n",
              "      <th>Price</th>\n",
              "      <th>Year</th>\n",
              "    </tr>\n",
              "  </thead>\n",
              "  <tbody>\n",
              "    <tr>\n",
              "      <th>count</th>\n",
              "      <td>550.000000</td>\n",
              "      <td>550.000000</td>\n",
              "      <td>550.000000</td>\n",
              "      <td>550.000000</td>\n",
              "    </tr>\n",
              "    <tr>\n",
              "      <th>mean</th>\n",
              "      <td>4.618364</td>\n",
              "      <td>11953.281818</td>\n",
              "      <td>13.100000</td>\n",
              "      <td>2014.000000</td>\n",
              "    </tr>\n",
              "    <tr>\n",
              "      <th>std</th>\n",
              "      <td>0.226980</td>\n",
              "      <td>11731.132017</td>\n",
              "      <td>10.842262</td>\n",
              "      <td>3.165156</td>\n",
              "    </tr>\n",
              "    <tr>\n",
              "      <th>min</th>\n",
              "      <td>3.300000</td>\n",
              "      <td>37.000000</td>\n",
              "      <td>0.000000</td>\n",
              "      <td>2009.000000</td>\n",
              "    </tr>\n",
              "    <tr>\n",
              "      <th>25%</th>\n",
              "      <td>4.500000</td>\n",
              "      <td>4058.000000</td>\n",
              "      <td>7.000000</td>\n",
              "      <td>2011.000000</td>\n",
              "    </tr>\n",
              "    <tr>\n",
              "      <th>50%</th>\n",
              "      <td>4.700000</td>\n",
              "      <td>8580.000000</td>\n",
              "      <td>11.000000</td>\n",
              "      <td>2014.000000</td>\n",
              "    </tr>\n",
              "    <tr>\n",
              "      <th>75%</th>\n",
              "      <td>4.800000</td>\n",
              "      <td>17253.250000</td>\n",
              "      <td>16.000000</td>\n",
              "      <td>2017.000000</td>\n",
              "    </tr>\n",
              "    <tr>\n",
              "      <th>max</th>\n",
              "      <td>4.900000</td>\n",
              "      <td>87841.000000</td>\n",
              "      <td>105.000000</td>\n",
              "      <td>2019.000000</td>\n",
              "    </tr>\n",
              "  </tbody>\n",
              "</table>\n",
              "</div>"
            ],
            "text/plain": [
              "       User Rating       Reviews       Price         Year\n",
              "count   550.000000    550.000000  550.000000   550.000000\n",
              "mean      4.618364  11953.281818   13.100000  2014.000000\n",
              "std       0.226980  11731.132017   10.842262     3.165156\n",
              "min       3.300000     37.000000    0.000000  2009.000000\n",
              "25%       4.500000   4058.000000    7.000000  2011.000000\n",
              "50%       4.700000   8580.000000   11.000000  2014.000000\n",
              "75%       4.800000  17253.250000   16.000000  2017.000000\n",
              "max       4.900000  87841.000000  105.000000  2019.000000"
            ]
          },
          "execution_count": 4,
          "metadata": {},
          "output_type": "execute_result"
        }
      ],
      "source": [
        "data.describe()"
      ]
    },
    {
      "cell_type": "markdown",
      "metadata": {
        "id": "uPTNtGUc-Lho"
      },
      "source": [
        "What are all the possible values for Genre?"
      ]
    },
    {
      "cell_type": "code",
      "execution_count": 5,
      "metadata": {
        "colab": {
          "base_uri": "https://localhost:8080/"
        },
        "id": "hUqvDxqX-Lho",
        "outputId": "8f0e871b-491d-45a5-e94f-b2db6b4557e2"
      },
      "outputs": [
        {
          "data": {
            "text/plain": [
              "array(['Non Fiction', 'Fiction'], dtype=object)"
            ]
          },
          "execution_count": 5,
          "metadata": {},
          "output_type": "execute_result"
        }
      ],
      "source": [
        "data['Genre'].unique()"
      ]
    },
    {
      "cell_type": "markdown",
      "metadata": {
        "id": "gSyXC16Ozrp8"
      },
      "source": [
        "Some books appear more than 1 time in the list. Remove the books with the same Name, Author, User Rating and Reviews.\n",
        "\n",
        "How many rows are left?\n"
      ]
    },
    {
      "cell_type": "code",
      "execution_count": 6,
      "metadata": {
        "colab": {
          "base_uri": "https://localhost:8080/"
        },
        "id": "e2N55m8V-Lhp",
        "outputId": "a3ad22e4-1709-47d5-c747-48b5dd7dd2cb"
      },
      "outputs": [
        {
          "data": {
            "text/plain": [
              "Name           352\n",
              "Author         352\n",
              "User Rating    352\n",
              "Reviews        352\n",
              "Price          352\n",
              "Year           352\n",
              "Genre          352\n",
              "dtype: int64"
            ]
          },
          "execution_count": 6,
          "metadata": {},
          "output_type": "execute_result"
        }
      ],
      "source": [
        "data = data.drop_duplicates(subset=['Name', 'Author','User Rating','Reviews'], keep='first')\n",
        "data.count()"
      ]
    },
    {
      "cell_type": "markdown",
      "metadata": {
        "id": "p1-fzbGp0Mjp"
      },
      "source": [
        "Suppose the number of reviews would be an indicator of the number of books that were sold (the more people that read the book, the more people that review the book). What would be the top 10 of sold books? "
      ]
    },
    {
      "cell_type": "code",
      "execution_count": 7,
      "metadata": {
        "colab": {
          "base_uri": "https://localhost:8080/"
        },
        "id": "Ugsh5cDQ-Lhr",
        "outputId": "2b2e837f-91bd-4c8f-b5e2-b0e680f71743"
      },
      "outputs": [
        {
          "data": {
            "text/plain": [
              "Name\n",
              "Where the Crawdads Sing                                                                     87841\n",
              "The Girl on the Train                                                                       79446\n",
              "Becoming                                                                                    61133\n",
              "Gone Girl                                                                                   57271\n",
              "The Fault in Our Stars                                                                      50482\n",
              "The Nightingale: A Novel                                                                    49288\n",
              "Fifty Shades of Grey: Book One of the Fifty Shades Trilogy (Fifty Shades of Grey Series)    47265\n",
              "The Martian                                                                                 39459\n",
              "All the Light We Cannot See                                                                 36348\n",
              "The Alchemist                                                                               35799\n",
              "Name: Reviews, dtype: int64"
            ]
          },
          "execution_count": 7,
          "metadata": {},
          "output_type": "execute_result"
        }
      ],
      "source": [
        "data.groupby('Name')['Reviews'].sum().sort_values(ascending=False).head(10)"
      ]
    },
    {
      "cell_type": "markdown",
      "metadata": {
        "id": "t12sbctx0QEY"
      },
      "source": [
        "What is the average rating per title and per year. Sort in a descending way on the rating."
      ]
    },
    {
      "cell_type": "code",
      "execution_count": 8,
      "metadata": {
        "colab": {
          "base_uri": "https://localhost:8080/"
        },
        "id": "-lzzs-jC-Lhr",
        "outputId": "8fd8b77a-a8e0-4a48-bb05-de825c9ccbfc"
      },
      "outputs": [
        {
          "data": {
            "text/plain": [
              "Name                                                                                             Year\n",
              "Dog Man: A Tale of Two Kitties: From the Creator of Captain Underpants (Dog Man #3)              2017    4.9\n",
              "Humans of New York : Stories                                                                     2015    4.9\n",
              "Goodnight, Goodnight Construction Site (Hardcover Books for Toddlers, Preschool Books for Kids)  2012    4.9\n",
              "Rush Revere and the First Patriots: Time-Travel Adventures With Exceptional Americans (2)        2014    4.9\n",
              "Brown Bear, Brown Bear, What Do You See?                                                         2017    4.9\n",
              "                                                                                                        ... \n",
              "The Goldfinch: A Novel (Pulitzer Prize for Fiction)                                              2013    3.9\n",
              "Allegiant                                                                                        2013    3.9\n",
              "Fifty Shades of Grey: Book One of the Fifty Shades Trilogy (Fifty Shades of Grey Series)         2012    3.8\n",
              "Go Set a Watchman: A Novel                                                                       2015    3.6\n",
              "The Casual Vacancy                                                                               2012    3.3\n",
              "Name: User Rating, Length: 352, dtype: float64"
            ]
          },
          "execution_count": 8,
          "metadata": {},
          "output_type": "execute_result"
        }
      ],
      "source": [
        "data.groupby(['Name','Year'])['User Rating'].mean().sort_values(ascending=False)"
      ]
    },
    {
      "cell_type": "markdown",
      "metadata": {
        "id": "iE1Gv67z1DLj"
      },
      "source": [
        "Are Non Fictional books more often reviewed than Fictional books?\n",
        "\n",
        "Calculate the percentage share of reviews\n",
        "\n",
        "Make the overview below\n",
        "\n",
        "![image.png](data:image/png;base64,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)"
      ]
    },
    {
      "cell_type": "code",
      "execution_count": 9,
      "metadata": {
        "colab": {
          "base_uri": "https://localhost:8080/",
          "height": 112
        },
        "id": "vGfg7wsn-Lhr",
        "outputId": "be4310a4-8ce0-4ccf-a9b2-51c52ef2133c"
      },
      "outputs": [
        {
          "data": {
            "text/html": [
              "<div>\n",
              "<style scoped>\n",
              "    .dataframe tbody tr th:only-of-type {\n",
              "        vertical-align: middle;\n",
              "    }\n",
              "\n",
              "    .dataframe tbody tr th {\n",
              "        vertical-align: top;\n",
              "    }\n",
              "\n",
              "    .dataframe thead th {\n",
              "        text-align: right;\n",
              "    }\n",
              "</style>\n",
              "<table border=\"1\" class=\"dataframe\">\n",
              "  <thead>\n",
              "    <tr style=\"text-align: right;\">\n",
              "      <th></th>\n",
              "      <th>Genre</th>\n",
              "      <th>NumberOfReviews</th>\n",
              "      <th>NumberOfReviews (in %)</th>\n",
              "    </tr>\n",
              "  </thead>\n",
              "  <tbody>\n",
              "    <tr>\n",
              "      <th>0</th>\n",
              "      <td>Fiction</td>\n",
              "      <td>2097771</td>\n",
              "      <td>0.609036</td>\n",
              "    </tr>\n",
              "    <tr>\n",
              "      <th>1</th>\n",
              "      <td>Non Fiction</td>\n",
              "      <td>1346643</td>\n",
              "      <td>0.390964</td>\n",
              "    </tr>\n",
              "  </tbody>\n",
              "</table>\n",
              "</div>"
            ],
            "text/plain": [
              "         Genre  NumberOfReviews  NumberOfReviews (in %)\n",
              "0      Fiction          2097771                0.609036\n",
              "1  Non Fiction          1346643                0.390964"
            ]
          },
          "execution_count": 9,
          "metadata": {},
          "output_type": "execute_result"
        }
      ],
      "source": [
        "extra = data.groupby('Genre')['Reviews'].sum().reset_index(name='NumberOfReviews')\n",
        "totalNumberOfReviews = data['Reviews'].sum()\n",
        "extra['NumberOfReviews (in %)'] = extra['NumberOfReviews'].apply(lambda x: x / totalNumberOfReviews)\n",
        "extra.head(50)"
      ]
    },
    {
      "cell_type": "markdown",
      "metadata": {
        "id": "B1LPM4iq1TWV"
      },
      "source": [
        "Are there any authors that both have written Fictional and Non Fictional books?\n",
        "\n",
        "![image.png](data:image/png;base64,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)"
      ]
    },
    {
      "cell_type": "code",
      "execution_count": 10,
      "metadata": {
        "colab": {
          "base_uri": "https://localhost:8080/",
          "height": 143
        },
        "id": "Hbdp1FDV-Lhs",
        "outputId": "195c4a9b-f338-4084-969e-a68bd285680c"
      },
      "outputs": [
        {
          "data": {
            "text/html": [
              "<div>\n",
              "<style scoped>\n",
              "    .dataframe tbody tr th:only-of-type {\n",
              "        vertical-align: middle;\n",
              "    }\n",
              "\n",
              "    .dataframe tbody tr th {\n",
              "        vertical-align: top;\n",
              "    }\n",
              "\n",
              "    .dataframe thead th {\n",
              "        text-align: right;\n",
              "    }\n",
              "</style>\n",
              "<table border=\"1\" class=\"dataframe\">\n",
              "  <thead>\n",
              "    <tr style=\"text-align: right;\">\n",
              "      <th>Genre</th>\n",
              "      <th>Fiction</th>\n",
              "      <th>Non Fiction</th>\n",
              "    </tr>\n",
              "    <tr>\n",
              "      <th>Author</th>\n",
              "      <th></th>\n",
              "      <th></th>\n",
              "    </tr>\n",
              "  </thead>\n",
              "  <tbody>\n",
              "    <tr>\n",
              "      <th>DK</th>\n",
              "      <td>1.0</td>\n",
              "      <td>1.0</td>\n",
              "    </tr>\n",
              "    <tr>\n",
              "      <th>Scholastic</th>\n",
              "      <td>1.0</td>\n",
              "      <td>1.0</td>\n",
              "    </tr>\n",
              "  </tbody>\n",
              "</table>\n",
              "</div>"
            ],
            "text/plain": [
              "Genre       Fiction  Non Fiction\n",
              "Author                          \n",
              "DK              1.0          1.0\n",
              "Scholastic      1.0          1.0"
            ]
          },
          "execution_count": 10,
          "metadata": {},
          "output_type": "execute_result"
        }
      ],
      "source": [
        "table = pd.pivot_table(data, values='Name', index='Author',columns='Genre',aggfunc='count').fillna(0)\n",
        "table[(table['Fiction'] >= 1) & (table['Non Fiction'] >= 1)]"
      ]
    },
    {
      "cell_type": "markdown",
      "metadata": {
        "id": "J1c_o5__JNlw"
      },
      "source": [
        "We want to create an ANN to try to predict het Genre (Non Fiction or Fiction) based on the Title of the book.\n",
        "\n",
        "We only want to do this for the books in english. Remove the other books."
      ]
    },
    {
      "cell_type": "code",
      "execution_count": 30,
      "metadata": {},
      "outputs": [
        {
          "name": "stdout",
          "output_type": "stream",
          "text": [
            "You are not running on Google Colab\n"
          ]
        }
      ],
      "source": [
        "if 'google.colab' in str(get_ipython()):\n",
        "    colab = True\n",
        "    print ('You are running on Google Colab')\n",
        "    !pip install langdetect\n",
        "else:\n",
        "    colab = False\n",
        "    print ('You are not running on Google Colab')"
      ]
    },
    {
      "cell_type": "code",
      "execution_count": 11,
      "metadata": {
        "colab": {
          "base_uri": "https://localhost:8080/",
          "height": 206
        },
        "id": "0DnYxY_RJuvh",
        "outputId": "81eb8ab8-c044-4681-d43c-d1a04c2f8c35"
      },
      "outputs": [
        {
          "data": {
            "text/html": [
              "<div>\n",
              "<style scoped>\n",
              "    .dataframe tbody tr th:only-of-type {\n",
              "        vertical-align: middle;\n",
              "    }\n",
              "\n",
              "    .dataframe tbody tr th {\n",
              "        vertical-align: top;\n",
              "    }\n",
              "\n",
              "    .dataframe thead th {\n",
              "        text-align: right;\n",
              "    }\n",
              "</style>\n",
              "<table border=\"1\" class=\"dataframe\">\n",
              "  <thead>\n",
              "    <tr style=\"text-align: right;\">\n",
              "      <th></th>\n",
              "      <th>Name</th>\n",
              "      <th>Author</th>\n",
              "      <th>User Rating</th>\n",
              "      <th>Reviews</th>\n",
              "      <th>Price</th>\n",
              "      <th>Year</th>\n",
              "      <th>Genre</th>\n",
              "      <th>Lang</th>\n",
              "    </tr>\n",
              "  </thead>\n",
              "  <tbody>\n",
              "    <tr>\n",
              "      <th>0</th>\n",
              "      <td>10-Day Green Smoothie Cleanse</td>\n",
              "      <td>JJ Smith</td>\n",
              "      <td>4.7</td>\n",
              "      <td>17350</td>\n",
              "      <td>8</td>\n",
              "      <td>2016</td>\n",
              "      <td>Non Fiction</td>\n",
              "      <td>en</td>\n",
              "    </tr>\n",
              "    <tr>\n",
              "      <th>1</th>\n",
              "      <td>11/22/63: A Novel</td>\n",
              "      <td>Stephen King</td>\n",
              "      <td>4.6</td>\n",
              "      <td>2052</td>\n",
              "      <td>22</td>\n",
              "      <td>2011</td>\n",
              "      <td>Fiction</td>\n",
              "      <td>hu</td>\n",
              "    </tr>\n",
              "    <tr>\n",
              "      <th>2</th>\n",
              "      <td>12 Rules for Life: An Antidote to Chaos</td>\n",
              "      <td>Jordan B. Peterson</td>\n",
              "      <td>4.7</td>\n",
              "      <td>18979</td>\n",
              "      <td>15</td>\n",
              "      <td>2018</td>\n",
              "      <td>Non Fiction</td>\n",
              "      <td>en</td>\n",
              "    </tr>\n",
              "    <tr>\n",
              "      <th>3</th>\n",
              "      <td>1984 (Signet Classics)</td>\n",
              "      <td>George Orwell</td>\n",
              "      <td>4.7</td>\n",
              "      <td>21424</td>\n",
              "      <td>6</td>\n",
              "      <td>2017</td>\n",
              "      <td>Fiction</td>\n",
              "      <td>en</td>\n",
              "    </tr>\n",
              "    <tr>\n",
              "      <th>4</th>\n",
              "      <td>5,000 Awesome Facts (About Everything!) (Natio...</td>\n",
              "      <td>National Geographic Kids</td>\n",
              "      <td>4.8</td>\n",
              "      <td>7665</td>\n",
              "      <td>12</td>\n",
              "      <td>2019</td>\n",
              "      <td>Non Fiction</td>\n",
              "      <td>en</td>\n",
              "    </tr>\n",
              "    <tr>\n",
              "      <th>5</th>\n",
              "      <td>A Dance with Dragons (A Song of Ice and Fire)</td>\n",
              "      <td>George R. R. Martin</td>\n",
              "      <td>4.4</td>\n",
              "      <td>12643</td>\n",
              "      <td>11</td>\n",
              "      <td>2011</td>\n",
              "      <td>Fiction</td>\n",
              "      <td>en</td>\n",
              "    </tr>\n",
              "    <tr>\n",
              "      <th>6</th>\n",
              "      <td>A Game of Thrones / A Clash of Kings / A Storm...</td>\n",
              "      <td>George R. R. Martin</td>\n",
              "      <td>4.7</td>\n",
              "      <td>19735</td>\n",
              "      <td>30</td>\n",
              "      <td>2014</td>\n",
              "      <td>Fiction</td>\n",
              "      <td>en</td>\n",
              "    </tr>\n",
              "    <tr>\n",
              "      <th>7</th>\n",
              "      <td>A Gentleman in Moscow: A Novel</td>\n",
              "      <td>Amor Towles</td>\n",
              "      <td>4.7</td>\n",
              "      <td>19699</td>\n",
              "      <td>15</td>\n",
              "      <td>2017</td>\n",
              "      <td>Fiction</td>\n",
              "      <td>en</td>\n",
              "    </tr>\n",
              "    <tr>\n",
              "      <th>8</th>\n",
              "      <td>A Higher Loyalty: Truth, Lies, and Leadership</td>\n",
              "      <td>James Comey</td>\n",
              "      <td>4.7</td>\n",
              "      <td>5983</td>\n",
              "      <td>3</td>\n",
              "      <td>2018</td>\n",
              "      <td>Non Fiction</td>\n",
              "      <td>en</td>\n",
              "    </tr>\n",
              "    <tr>\n",
              "      <th>9</th>\n",
              "      <td>A Man Called Ove: A Novel</td>\n",
              "      <td>Fredrik Backman</td>\n",
              "      <td>4.6</td>\n",
              "      <td>23848</td>\n",
              "      <td>8</td>\n",
              "      <td>2016</td>\n",
              "      <td>Fiction</td>\n",
              "      <td>en</td>\n",
              "    </tr>\n",
              "    <tr>\n",
              "      <th>11</th>\n",
              "      <td>A Patriot's History of the United States: From...</td>\n",
              "      <td>Larry Schweikart</td>\n",
              "      <td>4.6</td>\n",
              "      <td>460</td>\n",
              "      <td>2</td>\n",
              "      <td>2010</td>\n",
              "      <td>Non Fiction</td>\n",
              "      <td>en</td>\n",
              "    </tr>\n",
              "    <tr>\n",
              "      <th>12</th>\n",
              "      <td>A Stolen Life: A Memoir</td>\n",
              "      <td>Jaycee Dugard</td>\n",
              "      <td>4.6</td>\n",
              "      <td>4149</td>\n",
              "      <td>32</td>\n",
              "      <td>2011</td>\n",
              "      <td>Non Fiction</td>\n",
              "      <td>hu</td>\n",
              "    </tr>\n",
              "    <tr>\n",
              "      <th>13</th>\n",
              "      <td>A Wrinkle in Time (Time Quintet)</td>\n",
              "      <td>Madeleine L'Engle</td>\n",
              "      <td>4.5</td>\n",
              "      <td>5153</td>\n",
              "      <td>5</td>\n",
              "      <td>2018</td>\n",
              "      <td>Fiction</td>\n",
              "      <td>de</td>\n",
              "    </tr>\n",
              "    <tr>\n",
              "      <th>14</th>\n",
              "      <td>Act Like a Lady, Think Like a Man: What Men Re...</td>\n",
              "      <td>Steve Harvey</td>\n",
              "      <td>4.6</td>\n",
              "      <td>5013</td>\n",
              "      <td>17</td>\n",
              "      <td>2009</td>\n",
              "      <td>Non Fiction</td>\n",
              "      <td>en</td>\n",
              "    </tr>\n",
              "    <tr>\n",
              "      <th>15</th>\n",
              "      <td>Adult Coloring Book Designs: Stress Relief Col...</td>\n",
              "      <td>Adult Coloring Book Designs</td>\n",
              "      <td>4.5</td>\n",
              "      <td>2313</td>\n",
              "      <td>4</td>\n",
              "      <td>2016</td>\n",
              "      <td>Non Fiction</td>\n",
              "      <td>en</td>\n",
              "    </tr>\n",
              "    <tr>\n",
              "      <th>16</th>\n",
              "      <td>Adult Coloring Book: Stress Relieving Animal D...</td>\n",
              "      <td>Blue Star Coloring</td>\n",
              "      <td>4.6</td>\n",
              "      <td>2925</td>\n",
              "      <td>6</td>\n",
              "      <td>2015</td>\n",
              "      <td>Non Fiction</td>\n",
              "      <td>en</td>\n",
              "    </tr>\n",
              "    <tr>\n",
              "      <th>17</th>\n",
              "      <td>Adult Coloring Book: Stress Relieving Patterns</td>\n",
              "      <td>Blue Star Coloring</td>\n",
              "      <td>4.4</td>\n",
              "      <td>2951</td>\n",
              "      <td>6</td>\n",
              "      <td>2015</td>\n",
              "      <td>Non Fiction</td>\n",
              "      <td>en</td>\n",
              "    </tr>\n",
              "    <tr>\n",
              "      <th>18</th>\n",
              "      <td>Adult Coloring Books: A Coloring Book for Adul...</td>\n",
              "      <td>Coloring Books for Adults</td>\n",
              "      <td>4.5</td>\n",
              "      <td>2426</td>\n",
              "      <td>8</td>\n",
              "      <td>2015</td>\n",
              "      <td>Non Fiction</td>\n",
              "      <td>en</td>\n",
              "    </tr>\n",
              "    <tr>\n",
              "      <th>19</th>\n",
              "      <td>Alexander Hamilton</td>\n",
              "      <td>Ron Chernow</td>\n",
              "      <td>4.8</td>\n",
              "      <td>9198</td>\n",
              "      <td>13</td>\n",
              "      <td>2016</td>\n",
              "      <td>Non Fiction</td>\n",
              "      <td>de</td>\n",
              "    </tr>\n",
              "    <tr>\n",
              "      <th>20</th>\n",
              "      <td>All the Light We Cannot See</td>\n",
              "      <td>Anthony Doerr</td>\n",
              "      <td>4.6</td>\n",
              "      <td>36348</td>\n",
              "      <td>14</td>\n",
              "      <td>2014</td>\n",
              "      <td>Fiction</td>\n",
              "      <td>en</td>\n",
              "    </tr>\n",
              "    <tr>\n",
              "      <th>22</th>\n",
              "      <td>Allegiant</td>\n",
              "      <td>Veronica Roth</td>\n",
              "      <td>3.9</td>\n",
              "      <td>6310</td>\n",
              "      <td>13</td>\n",
              "      <td>2013</td>\n",
              "      <td>Fiction</td>\n",
              "      <td>it</td>\n",
              "    </tr>\n",
              "    <tr>\n",
              "      <th>23</th>\n",
              "      <td>American Sniper: The Autobiography of the Most...</td>\n",
              "      <td>Chris Kyle</td>\n",
              "      <td>4.6</td>\n",
              "      <td>15921</td>\n",
              "      <td>9</td>\n",
              "      <td>2015</td>\n",
              "      <td>Non Fiction</td>\n",
              "      <td>en</td>\n",
              "    </tr>\n",
              "    <tr>\n",
              "      <th>24</th>\n",
              "      <td>And the Mountains Echoed</td>\n",
              "      <td>Khaled Hosseini</td>\n",
              "      <td>4.3</td>\n",
              "      <td>12159</td>\n",
              "      <td>13</td>\n",
              "      <td>2013</td>\n",
              "      <td>Fiction</td>\n",
              "      <td>en</td>\n",
              "    </tr>\n",
              "    <tr>\n",
              "      <th>25</th>\n",
              "      <td>Arguing with Idiots: How to Stop Small Minds a...</td>\n",
              "      <td>Glenn Beck</td>\n",
              "      <td>4.6</td>\n",
              "      <td>798</td>\n",
              "      <td>5</td>\n",
              "      <td>2009</td>\n",
              "      <td>Non Fiction</td>\n",
              "      <td>en</td>\n",
              "    </tr>\n",
              "    <tr>\n",
              "      <th>26</th>\n",
              "      <td>Astrophysics for People in a Hurry</td>\n",
              "      <td>Neil deGrasse Tyson</td>\n",
              "      <td>4.7</td>\n",
              "      <td>9374</td>\n",
              "      <td>9</td>\n",
              "      <td>2017</td>\n",
              "      <td>Non Fiction</td>\n",
              "      <td>en</td>\n",
              "    </tr>\n",
              "    <tr>\n",
              "      <th>27</th>\n",
              "      <td>Autobiography of Mark Twain, Vol. 1</td>\n",
              "      <td>Mark Twain</td>\n",
              "      <td>4.2</td>\n",
              "      <td>491</td>\n",
              "      <td>14</td>\n",
              "      <td>2010</td>\n",
              "      <td>Non Fiction</td>\n",
              "      <td>en</td>\n",
              "    </tr>\n",
              "    <tr>\n",
              "      <th>28</th>\n",
              "      <td>Baby Touch and Feel: Animals</td>\n",
              "      <td>DK</td>\n",
              "      <td>4.6</td>\n",
              "      <td>5360</td>\n",
              "      <td>5</td>\n",
              "      <td>2015</td>\n",
              "      <td>Non Fiction</td>\n",
              "      <td>en</td>\n",
              "    </tr>\n",
              "    <tr>\n",
              "      <th>29</th>\n",
              "      <td>Balance (Angie's Extreme Stress Menders)</td>\n",
              "      <td>Angie Grace</td>\n",
              "      <td>4.6</td>\n",
              "      <td>1909</td>\n",
              "      <td>11</td>\n",
              "      <td>2015</td>\n",
              "      <td>Non Fiction</td>\n",
              "      <td>de</td>\n",
              "    </tr>\n",
              "    <tr>\n",
              "      <th>30</th>\n",
              "      <td>Barefoot Contessa Foolproof: Recipes You Can T...</td>\n",
              "      <td>Ina Garten</td>\n",
              "      <td>4.8</td>\n",
              "      <td>1296</td>\n",
              "      <td>24</td>\n",
              "      <td>2012</td>\n",
              "      <td>Non Fiction</td>\n",
              "      <td>en</td>\n",
              "    </tr>\n",
              "    <tr>\n",
              "      <th>31</th>\n",
              "      <td>Barefoot Contessa, How Easy Is That?: Fabulous...</td>\n",
              "      <td>Ina Garten</td>\n",
              "      <td>4.7</td>\n",
              "      <td>615</td>\n",
              "      <td>21</td>\n",
              "      <td>2010</td>\n",
              "      <td>Non Fiction</td>\n",
              "      <td>en</td>\n",
              "    </tr>\n",
              "  </tbody>\n",
              "</table>\n",
              "</div>"
            ],
            "text/plain": [
              "                                                 Name  \\\n",
              "0                       10-Day Green Smoothie Cleanse   \n",
              "1                                   11/22/63: A Novel   \n",
              "2             12 Rules for Life: An Antidote to Chaos   \n",
              "3                              1984 (Signet Classics)   \n",
              "4   5,000 Awesome Facts (About Everything!) (Natio...   \n",
              "5       A Dance with Dragons (A Song of Ice and Fire)   \n",
              "6   A Game of Thrones / A Clash of Kings / A Storm...   \n",
              "7                      A Gentleman in Moscow: A Novel   \n",
              "8       A Higher Loyalty: Truth, Lies, and Leadership   \n",
              "9                           A Man Called Ove: A Novel   \n",
              "11  A Patriot's History of the United States: From...   \n",
              "12                            A Stolen Life: A Memoir   \n",
              "13                   A Wrinkle in Time (Time Quintet)   \n",
              "14  Act Like a Lady, Think Like a Man: What Men Re...   \n",
              "15  Adult Coloring Book Designs: Stress Relief Col...   \n",
              "16  Adult Coloring Book: Stress Relieving Animal D...   \n",
              "17     Adult Coloring Book: Stress Relieving Patterns   \n",
              "18  Adult Coloring Books: A Coloring Book for Adul...   \n",
              "19                                 Alexander Hamilton   \n",
              "20                        All the Light We Cannot See   \n",
              "22                                          Allegiant   \n",
              "23  American Sniper: The Autobiography of the Most...   \n",
              "24                           And the Mountains Echoed   \n",
              "25  Arguing with Idiots: How to Stop Small Minds a...   \n",
              "26                 Astrophysics for People in a Hurry   \n",
              "27                Autobiography of Mark Twain, Vol. 1   \n",
              "28                       Baby Touch and Feel: Animals   \n",
              "29           Balance (Angie's Extreme Stress Menders)   \n",
              "30  Barefoot Contessa Foolproof: Recipes You Can T...   \n",
              "31  Barefoot Contessa, How Easy Is That?: Fabulous...   \n",
              "\n",
              "                         Author  User Rating  Reviews  Price  Year  \\\n",
              "0                      JJ Smith          4.7    17350      8  2016   \n",
              "1                  Stephen King          4.6     2052     22  2011   \n",
              "2            Jordan B. Peterson          4.7    18979     15  2018   \n",
              "3                 George Orwell          4.7    21424      6  2017   \n",
              "4      National Geographic Kids          4.8     7665     12  2019   \n",
              "5           George R. R. Martin          4.4    12643     11  2011   \n",
              "6           George R. R. Martin          4.7    19735     30  2014   \n",
              "7                   Amor Towles          4.7    19699     15  2017   \n",
              "8                   James Comey          4.7     5983      3  2018   \n",
              "9               Fredrik Backman          4.6    23848      8  2016   \n",
              "11             Larry Schweikart          4.6      460      2  2010   \n",
              "12                Jaycee Dugard          4.6     4149     32  2011   \n",
              "13            Madeleine L'Engle          4.5     5153      5  2018   \n",
              "14                 Steve Harvey          4.6     5013     17  2009   \n",
              "15  Adult Coloring Book Designs          4.5     2313      4  2016   \n",
              "16           Blue Star Coloring          4.6     2925      6  2015   \n",
              "17           Blue Star Coloring          4.4     2951      6  2015   \n",
              "18    Coloring Books for Adults          4.5     2426      8  2015   \n",
              "19                  Ron Chernow          4.8     9198     13  2016   \n",
              "20                Anthony Doerr          4.6    36348     14  2014   \n",
              "22                Veronica Roth          3.9     6310     13  2013   \n",
              "23                   Chris Kyle          4.6    15921      9  2015   \n",
              "24              Khaled Hosseini          4.3    12159     13  2013   \n",
              "25                   Glenn Beck          4.6      798      5  2009   \n",
              "26          Neil deGrasse Tyson          4.7     9374      9  2017   \n",
              "27                   Mark Twain          4.2      491     14  2010   \n",
              "28                           DK          4.6     5360      5  2015   \n",
              "29                  Angie Grace          4.6     1909     11  2015   \n",
              "30                   Ina Garten          4.8     1296     24  2012   \n",
              "31                   Ina Garten          4.7      615     21  2010   \n",
              "\n",
              "          Genre Lang  \n",
              "0   Non Fiction   en  \n",
              "1       Fiction   hu  \n",
              "2   Non Fiction   en  \n",
              "3       Fiction   en  \n",
              "4   Non Fiction   en  \n",
              "5       Fiction   en  \n",
              "6       Fiction   en  \n",
              "7       Fiction   en  \n",
              "8   Non Fiction   en  \n",
              "9       Fiction   en  \n",
              "11  Non Fiction   en  \n",
              "12  Non Fiction   hu  \n",
              "13      Fiction   de  \n",
              "14  Non Fiction   en  \n",
              "15  Non Fiction   en  \n",
              "16  Non Fiction   en  \n",
              "17  Non Fiction   en  \n",
              "18  Non Fiction   en  \n",
              "19  Non Fiction   de  \n",
              "20      Fiction   en  \n",
              "22      Fiction   it  \n",
              "23  Non Fiction   en  \n",
              "24      Fiction   en  \n",
              "25  Non Fiction   en  \n",
              "26  Non Fiction   en  \n",
              "27  Non Fiction   en  \n",
              "28  Non Fiction   en  \n",
              "29  Non Fiction   de  \n",
              "30  Non Fiction   en  \n",
              "31  Non Fiction   en  "
            ]
          },
          "execution_count": 11,
          "metadata": {},
          "output_type": "execute_result"
        }
      ],
      "source": [
        "from langdetect import detect\n",
        "data['Lang'] = data['Name'].apply(detect)\n",
        "data.head(30)"
      ]
    },
    {
      "cell_type": "code",
      "execution_count": 12,
      "metadata": {
        "colab": {
          "base_uri": "https://localhost:8080/",
          "height": 206
        },
        "id": "PR6t0MxeWWy1",
        "outputId": "dce795cf-fc88-465c-d8ee-fa9cb05b7eb9"
      },
      "outputs": [
        {
          "data": {
            "text/html": [
              "<div>\n",
              "<style scoped>\n",
              "    .dataframe tbody tr th:only-of-type {\n",
              "        vertical-align: middle;\n",
              "    }\n",
              "\n",
              "    .dataframe tbody tr th {\n",
              "        vertical-align: top;\n",
              "    }\n",
              "\n",
              "    .dataframe thead th {\n",
              "        text-align: right;\n",
              "    }\n",
              "</style>\n",
              "<table border=\"1\" class=\"dataframe\">\n",
              "  <thead>\n",
              "    <tr style=\"text-align: right;\">\n",
              "      <th></th>\n",
              "      <th>Name</th>\n",
              "      <th>Author</th>\n",
              "      <th>User Rating</th>\n",
              "      <th>Reviews</th>\n",
              "      <th>Price</th>\n",
              "      <th>Year</th>\n",
              "      <th>Genre</th>\n",
              "      <th>Lang</th>\n",
              "    </tr>\n",
              "  </thead>\n",
              "  <tbody>\n",
              "    <tr>\n",
              "      <th>0</th>\n",
              "      <td>10-Day Green Smoothie Cleanse</td>\n",
              "      <td>JJ Smith</td>\n",
              "      <td>4.7</td>\n",
              "      <td>17350</td>\n",
              "      <td>8</td>\n",
              "      <td>2016</td>\n",
              "      <td>Non Fiction</td>\n",
              "      <td>en</td>\n",
              "    </tr>\n",
              "    <tr>\n",
              "      <th>2</th>\n",
              "      <td>12 Rules for Life: An Antidote to Chaos</td>\n",
              "      <td>Jordan B. Peterson</td>\n",
              "      <td>4.7</td>\n",
              "      <td>18979</td>\n",
              "      <td>15</td>\n",
              "      <td>2018</td>\n",
              "      <td>Non Fiction</td>\n",
              "      <td>en</td>\n",
              "    </tr>\n",
              "    <tr>\n",
              "      <th>3</th>\n",
              "      <td>1984 (Signet Classics)</td>\n",
              "      <td>George Orwell</td>\n",
              "      <td>4.7</td>\n",
              "      <td>21424</td>\n",
              "      <td>6</td>\n",
              "      <td>2017</td>\n",
              "      <td>Fiction</td>\n",
              "      <td>en</td>\n",
              "    </tr>\n",
              "    <tr>\n",
              "      <th>4</th>\n",
              "      <td>5,000 Awesome Facts (About Everything!) (Natio...</td>\n",
              "      <td>National Geographic Kids</td>\n",
              "      <td>4.8</td>\n",
              "      <td>7665</td>\n",
              "      <td>12</td>\n",
              "      <td>2019</td>\n",
              "      <td>Non Fiction</td>\n",
              "      <td>en</td>\n",
              "    </tr>\n",
              "    <tr>\n",
              "      <th>5</th>\n",
              "      <td>A Dance with Dragons (A Song of Ice and Fire)</td>\n",
              "      <td>George R. R. Martin</td>\n",
              "      <td>4.4</td>\n",
              "      <td>12643</td>\n",
              "      <td>11</td>\n",
              "      <td>2011</td>\n",
              "      <td>Fiction</td>\n",
              "      <td>en</td>\n",
              "    </tr>\n",
              "  </tbody>\n",
              "</table>\n",
              "</div>"
            ],
            "text/plain": [
              "                                                Name  \\\n",
              "0                      10-Day Green Smoothie Cleanse   \n",
              "2            12 Rules for Life: An Antidote to Chaos   \n",
              "3                             1984 (Signet Classics)   \n",
              "4  5,000 Awesome Facts (About Everything!) (Natio...   \n",
              "5      A Dance with Dragons (A Song of Ice and Fire)   \n",
              "\n",
              "                     Author  User Rating  Reviews  Price  Year        Genre  \\\n",
              "0                  JJ Smith          4.7    17350      8  2016  Non Fiction   \n",
              "2        Jordan B. Peterson          4.7    18979     15  2018  Non Fiction   \n",
              "3             George Orwell          4.7    21424      6  2017      Fiction   \n",
              "4  National Geographic Kids          4.8     7665     12  2019  Non Fiction   \n",
              "5       George R. R. Martin          4.4    12643     11  2011      Fiction   \n",
              "\n",
              "  Lang  \n",
              "0   en  \n",
              "2   en  \n",
              "3   en  \n",
              "4   en  \n",
              "5   en  "
            ]
          },
          "execution_count": 12,
          "metadata": {},
          "output_type": "execute_result"
        }
      ],
      "source": [
        "data = data[data['Lang'] == 'en']\n",
        "data.head()"
      ]
    },
    {
      "cell_type": "code",
      "execution_count": 13,
      "metadata": {},
      "outputs": [
        {
          "data": {
            "text/plain": [
              "315"
            ]
          },
          "execution_count": 13,
          "metadata": {},
          "output_type": "execute_result"
        }
      ],
      "source": [
        "len(data)"
      ]
    },
    {
      "cell_type": "markdown",
      "metadata": {
        "id": "YlesDOjfJvFZ"
      },
      "source": [
        "Remove stopwords and put the entire name of the book in lower case."
      ]
    },
    {
      "cell_type": "code",
      "execution_count": 14,
      "metadata": {
        "colab": {
          "base_uri": "https://localhost:8080/"
        },
        "id": "9KUZkn7EJ69f",
        "outputId": "b5513181-8049-4d35-9fe6-53c5535dfc39"
      },
      "outputs": [
        {
          "name": "stderr",
          "output_type": "stream",
          "text": [
            "[nltk_data] Downloading package stopwords to\n",
            "[nltk_data]     C:\\Users\\jcor864\\AppData\\Roaming\\nltk_data...\n",
            "[nltk_data]   Package stopwords is already up-to-date!\n"
          ]
        }
      ],
      "source": [
        "nltk.download('stopwords')\n",
        "# nltk.download('punkt')\n",
        "from nltk.corpus import stopwords \n",
        "from nltk.tokenize import word_tokenize \n",
        "import string\n",
        "stop_words_en = set(stopwords.words('english'))     \n",
        "\n",
        "def remove_stopwords_en(text):\n",
        "\n",
        "    punctuations=\"?:!.,;<>/\\+-\"\n",
        "    # turn the string into a list of words based on separators (blank, comma, etc.)\n",
        "    word_tokens = word_tokenize(text.lower())\n",
        "    # create a list of all words that are neither stopwords nor punctuations\n",
        "    result = [x for x in word_tokens if x not in stop_words_en and x not in punctuations]\n",
        "    \n",
        "    # create a new string of all remaining words\n",
        "    seperator = ' '\n",
        "    return seperator.join(result)"
      ]
    },
    {
      "cell_type": "code",
      "execution_count": 15,
      "metadata": {
        "colab": {
          "base_uri": "https://localhost:8080/"
        },
        "id": "YvOc6Ns8WiR4",
        "outputId": "3e6e3752-521b-4510-aede-48ab7695a812"
      },
      "outputs": [],
      "source": [
        "data['Name'] = data['Name'].apply(remove_stopwords_en)"
      ]
    },
    {
      "cell_type": "markdown",
      "metadata": {
        "id": "f2SSQH8MJ7GY"
      },
      "source": [
        "Replace Fiction by 0 and Non Fiction by 1"
      ]
    },
    {
      "cell_type": "code",
      "execution_count": 16,
      "metadata": {
        "id": "Bvu3EayGWvgQ"
      },
      "outputs": [],
      "source": [
        "data['Genre'] = np.where(data['Genre'] == 'Fiction', 0 , 1)"
      ]
    },
    {
      "cell_type": "markdown",
      "metadata": {
        "id": "-_FsJr0kiNQM"
      },
      "source": [
        "## Using pre-trained word embeddings"
      ]
    },
    {
      "cell_type": "markdown",
      "metadata": {
        "id": "bEwn5TS7gXzr"
      },
      "source": [
        "What is the average length of the Text's. This will be important when we need to truncate the sequences to a maximum length?  \n",
        "75% of the blogs consist of how many words?"
      ]
    },
    {
      "cell_type": "code",
      "execution_count": 17,
      "metadata": {
        "colab": {
          "base_uri": "https://localhost:8080/",
          "height": 206
        },
        "id": "X_sC6Q_sSBaG",
        "outputId": "36d0776a-052a-4191-b55e-eb5b9cd3cd66"
      },
      "outputs": [
        {
          "data": {
            "text/html": [
              "<div>\n",
              "<style scoped>\n",
              "    .dataframe tbody tr th:only-of-type {\n",
              "        vertical-align: middle;\n",
              "    }\n",
              "\n",
              "    .dataframe tbody tr th {\n",
              "        vertical-align: top;\n",
              "    }\n",
              "\n",
              "    .dataframe thead th {\n",
              "        text-align: right;\n",
              "    }\n",
              "</style>\n",
              "<table border=\"1\" class=\"dataframe\">\n",
              "  <thead>\n",
              "    <tr style=\"text-align: right;\">\n",
              "      <th></th>\n",
              "      <th>Name</th>\n",
              "      <th>Author</th>\n",
              "      <th>User Rating</th>\n",
              "      <th>Reviews</th>\n",
              "      <th>Price</th>\n",
              "      <th>Year</th>\n",
              "      <th>Genre</th>\n",
              "      <th>Lang</th>\n",
              "      <th>numberOfWords</th>\n",
              "    </tr>\n",
              "  </thead>\n",
              "  <tbody>\n",
              "    <tr>\n",
              "      <th>0</th>\n",
              "      <td>10-day green smoothie cleanse</td>\n",
              "      <td>JJ Smith</td>\n",
              "      <td>4.7</td>\n",
              "      <td>17350</td>\n",
              "      <td>8</td>\n",
              "      <td>2016</td>\n",
              "      <td>1</td>\n",
              "      <td>en</td>\n",
              "      <td>4</td>\n",
              "    </tr>\n",
              "    <tr>\n",
              "      <th>2</th>\n",
              "      <td>12 rules life antidote chaos</td>\n",
              "      <td>Jordan B. Peterson</td>\n",
              "      <td>4.7</td>\n",
              "      <td>18979</td>\n",
              "      <td>15</td>\n",
              "      <td>2018</td>\n",
              "      <td>1</td>\n",
              "      <td>en</td>\n",
              "      <td>5</td>\n",
              "    </tr>\n",
              "    <tr>\n",
              "      <th>3</th>\n",
              "      <td>1984 ( signet classics )</td>\n",
              "      <td>George Orwell</td>\n",
              "      <td>4.7</td>\n",
              "      <td>21424</td>\n",
              "      <td>6</td>\n",
              "      <td>2017</td>\n",
              "      <td>0</td>\n",
              "      <td>en</td>\n",
              "      <td>5</td>\n",
              "    </tr>\n",
              "    <tr>\n",
              "      <th>4</th>\n",
              "      <td>5,000 awesome facts ( everything ) ( national ...</td>\n",
              "      <td>National Geographic Kids</td>\n",
              "      <td>4.8</td>\n",
              "      <td>7665</td>\n",
              "      <td>12</td>\n",
              "      <td>2019</td>\n",
              "      <td>1</td>\n",
              "      <td>en</td>\n",
              "      <td>11</td>\n",
              "    </tr>\n",
              "    <tr>\n",
              "      <th>5</th>\n",
              "      <td>dance dragons ( song ice fire )</td>\n",
              "      <td>George R. R. Martin</td>\n",
              "      <td>4.4</td>\n",
              "      <td>12643</td>\n",
              "      <td>11</td>\n",
              "      <td>2011</td>\n",
              "      <td>0</td>\n",
              "      <td>en</td>\n",
              "      <td>7</td>\n",
              "    </tr>\n",
              "  </tbody>\n",
              "</table>\n",
              "</div>"
            ],
            "text/plain": [
              "                                                Name  \\\n",
              "0                      10-day green smoothie cleanse   \n",
              "2                       12 rules life antidote chaos   \n",
              "3                           1984 ( signet classics )   \n",
              "4  5,000 awesome facts ( everything ) ( national ...   \n",
              "5                    dance dragons ( song ice fire )   \n",
              "\n",
              "                     Author  User Rating  Reviews  Price  Year  Genre Lang  \\\n",
              "0                  JJ Smith          4.7    17350      8  2016      1   en   \n",
              "2        Jordan B. Peterson          4.7    18979     15  2018      1   en   \n",
              "3             George Orwell          4.7    21424      6  2017      0   en   \n",
              "4  National Geographic Kids          4.8     7665     12  2019      1   en   \n",
              "5       George R. R. Martin          4.4    12643     11  2011      0   en   \n",
              "\n",
              "   numberOfWords  \n",
              "0              4  \n",
              "2              5  \n",
              "3              5  \n",
              "4             11  \n",
              "5              7  "
            ]
          },
          "execution_count": 17,
          "metadata": {},
          "output_type": "execute_result"
        }
      ],
      "source": [
        "# from nltk.tokenize import word_tokenize\n",
        "data[\"numberOfWords\"] = data[\"Name\"].str.split().map(len)\n",
        "data.head()"
      ]
    },
    {
      "cell_type": "code",
      "execution_count": 18,
      "metadata": {
        "colab": {
          "base_uri": "https://localhost:8080/"
        },
        "id": "c5oro8fYgYC_",
        "outputId": "51132560-4041-493e-c45d-b3213eb9cb91"
      },
      "outputs": [
        {
          "data": {
            "text/plain": [
              "count    315.000000\n",
              "mean       7.076190\n",
              "std        3.949591\n",
              "min        1.000000\n",
              "25%        4.000000\n",
              "50%        7.000000\n",
              "75%       10.000000\n",
              "max       18.000000\n",
              "Name: numberOfWords, dtype: float64"
            ]
          },
          "execution_count": 18,
          "metadata": {},
          "output_type": "execute_result"
        }
      ],
      "source": [
        "data['numberOfWords'].describe()"
      ]
    },
    {
      "cell_type": "markdown",
      "metadata": {
        "id": "ppgvflqqnh0-"
      },
      "source": [
        "What is X_train, y_train, X_test, y_test?"
      ]
    },
    {
      "cell_type": "code",
      "execution_count": 19,
      "metadata": {
        "id": "CKsiVShZkP9K"
      },
      "outputs": [],
      "source": [
        "# Extract a training & validation split\n",
        "from sklearn.model_selection import train_test_split\n",
        "X = data['Name']\n",
        "y = data['Genre']\n",
        "X_train, X_test, y_train, y_test = train_test_split(X,y,test_size=0.20, random_state=42)"
      ]
    },
    {
      "cell_type": "markdown",
      "metadata": {
        "id": "FIWgtlmmnuek"
      },
      "source": [
        "What is X_train, y_train, X_val, y_val?"
      ]
    },
    {
      "cell_type": "code",
      "execution_count": 20,
      "metadata": {
        "id": "ceIjK_G3n0nL"
      },
      "outputs": [],
      "source": [
        "X_train, X_val, y_train, y_val = train_test_split(X_train, y_train, test_size=0.2, random_state=42)  "
      ]
    },
    {
      "cell_type": "markdown",
      "metadata": {
        "id": "G83ViT6hn3NE"
      },
      "source": [
        "What are the dimensions of X_train, X_val, X_test, y_train, y_val, y_test?"
      ]
    },
    {
      "cell_type": "code",
      "execution_count": 21,
      "metadata": {
        "colab": {
          "base_uri": "https://localhost:8080/"
        },
        "id": "tNhF4BKdn398",
        "outputId": "50c26106-1919-4606-daa3-14141efedca1"
      },
      "outputs": [
        {
          "name": "stdout",
          "output_type": "stream",
          "text": [
            "Shape of x_train: (201,)\n",
            "Shape of x_test: (63,)\n",
            "Shape of x_val: (51,)\n",
            "Shape of y_train: (201,)\n",
            "Shape of y_test: (63,)\n",
            "Shape of y_val: (51,)\n"
          ]
        }
      ],
      "source": [
        "print(\"Shape of x_train:\", X_train.shape)\n",
        "print(\"Shape of x_test:\", X_test.shape)\n",
        "print(\"Shape of x_val:\", X_val.shape)\n",
        "print(\"Shape of y_train:\", y_train.shape)\n",
        "print(\"Shape of y_test:\", y_test.shape)\n",
        "print(\"Shape of y_val:\", y_val.shape)"
      ]
    },
    {
      "cell_type": "markdown",
      "metadata": {
        "id": "gS6e2fBFoQbV"
      },
      "source": [
        "Transform X_train, X_val and X_test into an array"
      ]
    },
    {
      "cell_type": "code",
      "execution_count": 22,
      "metadata": {
        "colab": {
          "base_uri": "https://localhost:8080/"
        },
        "id": "fakcRHRCkP9K",
        "outputId": "a33b06e4-f77c-4ff6-a14c-e517e1ddd767"
      },
      "outputs": [
        {
          "name": "stdout",
          "output_type": "stream",
          "text": [
            "X_train shape: (201,)\n",
            "<class 'numpy.ndarray'>\n"
          ]
        }
      ],
      "source": [
        "X_train = np.asarray(X_train)\n",
        "X_val = np.asarray(X_val)\n",
        "X_test = np.asarray(X_test)\n",
        "\n",
        "print('X_train shape:', X_train.shape)\n",
        "print(type(X_train))"
      ]
    },
    {
      "cell_type": "markdown",
      "metadata": {
        "id": "xlLmJJTIoajl"
      },
      "source": [
        "Convert y_train, y_val and y_test to a vector with 1 zero and a single 1, corresponding to the right class."
      ]
    },
    {
      "cell_type": "code",
      "execution_count": null,
      "metadata": {
        "id": "X_VOoL7ao32N"
      },
      "outputs": [],
      "source": [
        "num_classes = 2\n",
        "#y_train = keras.utils.to_categorical(y_train, num_classes)\n",
        "#y_val = keras.utils.to_categorical(y_val, num_classes)\n",
        "#y_test = keras.utils.to_categorical(y_test, num_classes)\n"
      ]
    },
    {
      "cell_type": "markdown",
      "metadata": {
        "id": "DeoSq0anotyA"
      },
      "source": [
        "Look at the new labels for the first sample."
      ]
    },
    {
      "cell_type": "code",
      "execution_count": 23,
      "metadata": {
        "colab": {
          "base_uri": "https://localhost:8080/"
        },
        "id": "Zq-NlWNAkP9K",
        "outputId": "71d6cc4e-7128-4ec4-d010-b1f2624d7b6a"
      },
      "outputs": [
        {
          "ename": "KeyError",
          "evalue": "0",
          "output_type": "error",
          "traceback": [
            "\u001b[1;31m---------------------------------------------------------------------------\u001b[0m",
            "\u001b[1;31mKeyError\u001b[0m                                  Traceback (most recent call last)",
            "File \u001b[1;32m~\\AppData\\Roaming\\Python\\Python39\\site-packages\\pandas\\core\\indexes\\base.py:3621\u001b[0m, in \u001b[0;36mIndex.get_loc\u001b[1;34m(self, key, method, tolerance)\u001b[0m\n\u001b[0;32m   <a href='file:///c%3A/Users/jcor864/AppData/Roaming/Python/Python39/site-packages/pandas/core/indexes/base.py?line=3619'>3620</a>\u001b[0m \u001b[39mtry\u001b[39;00m:\n\u001b[1;32m-> <a href='file:///c%3A/Users/jcor864/AppData/Roaming/Python/Python39/site-packages/pandas/core/indexes/base.py?line=3620'>3621</a>\u001b[0m     \u001b[39mreturn\u001b[39;00m \u001b[39mself\u001b[39;49m\u001b[39m.\u001b[39;49m_engine\u001b[39m.\u001b[39;49mget_loc(casted_key)\n\u001b[0;32m   <a href='file:///c%3A/Users/jcor864/AppData/Roaming/Python/Python39/site-packages/pandas/core/indexes/base.py?line=3621'>3622</a>\u001b[0m \u001b[39mexcept\u001b[39;00m \u001b[39mKeyError\u001b[39;00m \u001b[39mas\u001b[39;00m err:\n",
            "File \u001b[1;32m~\\AppData\\Roaming\\Python\\Python39\\site-packages\\pandas\\_libs\\index.pyx:136\u001b[0m, in \u001b[0;36mpandas._libs.index.IndexEngine.get_loc\u001b[1;34m()\u001b[0m\n",
            "File \u001b[1;32m~\\AppData\\Roaming\\Python\\Python39\\site-packages\\pandas\\_libs\\index.pyx:163\u001b[0m, in \u001b[0;36mpandas._libs.index.IndexEngine.get_loc\u001b[1;34m()\u001b[0m\n",
            "File \u001b[1;32mpandas\\_libs\\hashtable_class_helper.pxi:2131\u001b[0m, in \u001b[0;36mpandas._libs.hashtable.Int64HashTable.get_item\u001b[1;34m()\u001b[0m\n",
            "File \u001b[1;32mpandas\\_libs\\hashtable_class_helper.pxi:2140\u001b[0m, in \u001b[0;36mpandas._libs.hashtable.Int64HashTable.get_item\u001b[1;34m()\u001b[0m\n",
            "\u001b[1;31mKeyError\u001b[0m: 0",
            "\nThe above exception was the direct cause of the following exception:\n",
            "\u001b[1;31mKeyError\u001b[0m                                  Traceback (most recent call last)",
            "\u001b[1;32mc:\\Users\\jcor864\\Documents\\machinelearning\\132_pretrained_word_embedding_exercise_bestsellers.ipynb Cell 45'\u001b[0m in \u001b[0;36m<cell line: 1>\u001b[1;34m()\u001b[0m\n\u001b[1;32m----> <a href='vscode-notebook-cell:/c%3A/Users/jcor864/Documents/machinelearning/132_pretrained_word_embedding_exercise_bestsellers.ipynb#ch0000044?line=0'>1</a>\u001b[0m \u001b[39mprint\u001b[39m(y_test[\u001b[39m0\u001b[39;49m])\n",
            "File \u001b[1;32m~\\AppData\\Roaming\\Python\\Python39\\site-packages\\pandas\\core\\series.py:958\u001b[0m, in \u001b[0;36mSeries.__getitem__\u001b[1;34m(self, key)\u001b[0m\n\u001b[0;32m    <a href='file:///c%3A/Users/jcor864/AppData/Roaming/Python/Python39/site-packages/pandas/core/series.py?line=954'>955</a>\u001b[0m     \u001b[39mreturn\u001b[39;00m \u001b[39mself\u001b[39m\u001b[39m.\u001b[39m_values[key]\n\u001b[0;32m    <a href='file:///c%3A/Users/jcor864/AppData/Roaming/Python/Python39/site-packages/pandas/core/series.py?line=956'>957</a>\u001b[0m \u001b[39melif\u001b[39;00m key_is_scalar:\n\u001b[1;32m--> <a href='file:///c%3A/Users/jcor864/AppData/Roaming/Python/Python39/site-packages/pandas/core/series.py?line=957'>958</a>\u001b[0m     \u001b[39mreturn\u001b[39;00m \u001b[39mself\u001b[39;49m\u001b[39m.\u001b[39;49m_get_value(key)\n\u001b[0;32m    <a href='file:///c%3A/Users/jcor864/AppData/Roaming/Python/Python39/site-packages/pandas/core/series.py?line=959'>960</a>\u001b[0m \u001b[39mif\u001b[39;00m is_hashable(key):\n\u001b[0;32m    <a href='file:///c%3A/Users/jcor864/AppData/Roaming/Python/Python39/site-packages/pandas/core/series.py?line=960'>961</a>\u001b[0m     \u001b[39m# Otherwise index.get_value will raise InvalidIndexError\u001b[39;00m\n\u001b[0;32m    <a href='file:///c%3A/Users/jcor864/AppData/Roaming/Python/Python39/site-packages/pandas/core/series.py?line=961'>962</a>\u001b[0m     \u001b[39mtry\u001b[39;00m:\n\u001b[0;32m    <a href='file:///c%3A/Users/jcor864/AppData/Roaming/Python/Python39/site-packages/pandas/core/series.py?line=962'>963</a>\u001b[0m         \u001b[39m# For labels that don't resolve as scalars like tuples and frozensets\u001b[39;00m\n",
            "File \u001b[1;32m~\\AppData\\Roaming\\Python\\Python39\\site-packages\\pandas\\core\\series.py:1069\u001b[0m, in \u001b[0;36mSeries._get_value\u001b[1;34m(self, label, takeable)\u001b[0m\n\u001b[0;32m   <a href='file:///c%3A/Users/jcor864/AppData/Roaming/Python/Python39/site-packages/pandas/core/series.py?line=1065'>1066</a>\u001b[0m     \u001b[39mreturn\u001b[39;00m \u001b[39mself\u001b[39m\u001b[39m.\u001b[39m_values[label]\n\u001b[0;32m   <a href='file:///c%3A/Users/jcor864/AppData/Roaming/Python/Python39/site-packages/pandas/core/series.py?line=1067'>1068</a>\u001b[0m \u001b[39m# Similar to Index.get_value, but we do not fall back to positional\u001b[39;00m\n\u001b[1;32m-> <a href='file:///c%3A/Users/jcor864/AppData/Roaming/Python/Python39/site-packages/pandas/core/series.py?line=1068'>1069</a>\u001b[0m loc \u001b[39m=\u001b[39m \u001b[39mself\u001b[39;49m\u001b[39m.\u001b[39;49mindex\u001b[39m.\u001b[39;49mget_loc(label)\n\u001b[0;32m   <a href='file:///c%3A/Users/jcor864/AppData/Roaming/Python/Python39/site-packages/pandas/core/series.py?line=1069'>1070</a>\u001b[0m \u001b[39mreturn\u001b[39;00m \u001b[39mself\u001b[39m\u001b[39m.\u001b[39mindex\u001b[39m.\u001b[39m_get_values_for_loc(\u001b[39mself\u001b[39m, loc, label)\n",
            "File \u001b[1;32m~\\AppData\\Roaming\\Python\\Python39\\site-packages\\pandas\\core\\indexes\\base.py:3623\u001b[0m, in \u001b[0;36mIndex.get_loc\u001b[1;34m(self, key, method, tolerance)\u001b[0m\n\u001b[0;32m   <a href='file:///c%3A/Users/jcor864/AppData/Roaming/Python/Python39/site-packages/pandas/core/indexes/base.py?line=3620'>3621</a>\u001b[0m     \u001b[39mreturn\u001b[39;00m \u001b[39mself\u001b[39m\u001b[39m.\u001b[39m_engine\u001b[39m.\u001b[39mget_loc(casted_key)\n\u001b[0;32m   <a href='file:///c%3A/Users/jcor864/AppData/Roaming/Python/Python39/site-packages/pandas/core/indexes/base.py?line=3621'>3622</a>\u001b[0m \u001b[39mexcept\u001b[39;00m \u001b[39mKeyError\u001b[39;00m \u001b[39mas\u001b[39;00m err:\n\u001b[1;32m-> <a href='file:///c%3A/Users/jcor864/AppData/Roaming/Python/Python39/site-packages/pandas/core/indexes/base.py?line=3622'>3623</a>\u001b[0m     \u001b[39mraise\u001b[39;00m \u001b[39mKeyError\u001b[39;00m(key) \u001b[39mfrom\u001b[39;00m \u001b[39merr\u001b[39;00m\n\u001b[0;32m   <a href='file:///c%3A/Users/jcor864/AppData/Roaming/Python/Python39/site-packages/pandas/core/indexes/base.py?line=3623'>3624</a>\u001b[0m \u001b[39mexcept\u001b[39;00m \u001b[39mTypeError\u001b[39;00m:\n\u001b[0;32m   <a href='file:///c%3A/Users/jcor864/AppData/Roaming/Python/Python39/site-packages/pandas/core/indexes/base.py?line=3624'>3625</a>\u001b[0m     \u001b[39m# If we have a listlike key, _check_indexing_error will raise\u001b[39;00m\n\u001b[0;32m   <a href='file:///c%3A/Users/jcor864/AppData/Roaming/Python/Python39/site-packages/pandas/core/indexes/base.py?line=3625'>3626</a>\u001b[0m     \u001b[39m#  InvalidIndexError. Otherwise we fall through and re-raise\u001b[39;00m\n\u001b[0;32m   <a href='file:///c%3A/Users/jcor864/AppData/Roaming/Python/Python39/site-packages/pandas/core/indexes/base.py?line=3626'>3627</a>\u001b[0m     \u001b[39m#  the TypeError.\u001b[39;00m\n\u001b[0;32m   <a href='file:///c%3A/Users/jcor864/AppData/Roaming/Python/Python39/site-packages/pandas/core/indexes/base.py?line=3627'>3628</a>\u001b[0m     \u001b[39mself\u001b[39m\u001b[39m.\u001b[39m_check_indexing_error(key)\n",
            "\u001b[1;31mKeyError\u001b[0m: 0"
          ]
        }
      ],
      "source": [
        "#print(y_test[0])\n"
      ]
    },
    {
      "cell_type": "markdown",
      "metadata": {
        "id": "IEeYjwoIkP9L"
      },
      "source": [
        "### Create a vocabulary index\n",
        "\n",
        "Use the TextVectorization to index the vocabulary found in the dataset. Later, the same layer instance will be used to vectorize the samples.\n",
        "\n",
        "The layer will only consider the top 20,000 words. Truncate or pad sequences according to the 75% quartile of the number of words."
      ]
    },
    {
      "cell_type": "code",
      "execution_count": 24,
      "metadata": {
        "id": "XX306h1bkP9L"
      },
      "outputs": [],
      "source": [
        "from tensorflow.keras.layers.experimental.preprocessing import TextVectorization\n",
        "\n",
        "vectorizer = TextVectorization(max_tokens=20000, output_sequence_length=10)\n",
        "text_ds = tf.data.Dataset.from_tensor_slices(X_train).batch(128)\n",
        "vectorizer.adapt(text_ds)\n"
      ]
    },
    {
      "cell_type": "markdown",
      "metadata": {
        "id": "_HYmyLy0pAyb"
      },
      "source": [
        "You can retrieve the computed vocabulary used via vectorizer.get_vocabulary().  \n",
        "Let's print the top 5 words"
      ]
    },
    {
      "cell_type": "code",
      "execution_count": 25,
      "metadata": {
        "colab": {
          "base_uri": "https://localhost:8080/"
        },
        "id": "-GH702DRkP9L",
        "outputId": "e2b93113-2d1d-4eb2-bd86-221858363d95"
      },
      "outputs": [
        {
          "data": {
            "text/plain": [
              "['', '[UNK]', 'book', 's', 'novel']"
            ]
          },
          "execution_count": 25,
          "metadata": {},
          "output_type": "execute_result"
        }
      ],
      "source": [
        "vectorizer.get_vocabulary()[:5]"
      ]
    },
    {
      "cell_type": "markdown",
      "metadata": {
        "id": "TI_5Vc0spFyz"
      },
      "source": [
        "Vectorize a small sentence \"the girl was unhappy\" "
      ]
    },
    {
      "cell_type": "code",
      "execution_count": 26,
      "metadata": {
        "colab": {
          "base_uri": "https://localhost:8080/"
        },
        "id": "4118Q5lukP9L",
        "outputId": "58b0b7d7-e03f-498e-d07a-9433c5dba84a"
      },
      "outputs": [
        {
          "data": {
            "text/plain": [
              "array([ 1,  1,  1, 35,  1,  1,  0,  0], dtype=int64)"
            ]
          },
          "execution_count": 26,
          "metadata": {},
          "output_type": "execute_result"
        }
      ],
      "source": [
        "output = vectorizer([[\"i saw the girl was unhappy\"]])\n",
        "output.numpy()[0, :8]"
      ]
    },
    {
      "cell_type": "markdown",
      "metadata": {
        "id": "oIxA_Z2pkP9L"
      },
      "source": [
        "By which number is i represented? And girl? \n",
        "Give the dict mapping words to their indices."
      ]
    },
    {
      "cell_type": "code",
      "execution_count": 27,
      "metadata": {
        "id": "j9s_uUr4kP9L"
      },
      "outputs": [],
      "source": [
        "voc = vectorizer.get_vocabulary()\n",
        "word_index = dict(zip(voc, range(len(voc))))"
      ]
    },
    {
      "cell_type": "markdown",
      "metadata": {
        "id": "6rvAyS5YkP9M"
      },
      "source": [
        "### Load pre-trained word embeddings\n"
      ]
    },
    {
      "cell_type": "markdown",
      "metadata": {
        "id": "cJE1M43ukP9M"
      },
      "source": [
        "Make a dict mapping words (strings) to their NumPy vector representation. Use the 100-dimensional vectors."
      ]
    },
    {
      "cell_type": "code",
      "execution_count": 32,
      "metadata": {
        "colab": {
          "base_uri": "https://localhost:8080/"
        },
        "id": "0mvxd8KXkP9M",
        "outputId": "fe695aaa-bc4b-46e8-e85c-e02c98e2b738"
      },
      "outputs": [
        {
          "name": "stdout",
          "output_type": "stream",
          "text": [
            "Found 400000 word vectors.\n"
          ]
        }
      ],
      "source": [
        "if colab: \n",
        "  path_to_glove_file = '/content/gdrive/My Drive/glove.6B.100d.txt'\n",
        "else:\n",
        "  path_to_glove_file = 'datasets/glove.6B.100d.txt'\n",
        "\n",
        "embeddings_index = {}\n",
        "with open(path_to_glove_file, encoding='utf-8') as f:\n",
        "    for line in f:\n",
        "      values = line.split()\n",
        "      word = values[0]\n",
        "      coefs = np.asarray(values[1:], dtype='float32')\n",
        "      embeddings_index[word] = coefs\n",
        "\n",
        "print(\"Found %s word vectors.\" % len(embeddings_index))"
      ]
    },
    {
      "cell_type": "markdown",
      "metadata": {
        "id": "TWQdOBRIkP9M"
      },
      "source": [
        "Prepare a corresponding embedding matrix that can be ued in a Keras Embedding layer. It's a simple NumPy matrix where the entry at index i is the pre-trained vector for the word of index i in our vectorizer's vocabulary."
      ]
    },
    {
      "cell_type": "code",
      "execution_count": 33,
      "metadata": {
        "colab": {
          "base_uri": "https://localhost:8080/"
        },
        "id": "GDClKnOdkP9N",
        "outputId": "20e64e7b-6307-4c41-950e-1442944bfaac"
      },
      "outputs": [
        {
          "name": "stdout",
          "output_type": "stream",
          "text": [
            "Converted 740 words (27 misses)\n",
            "*** Missed words = words not in word_index ***\n",
            "['', '[UNK]', 'oreilly', 'stackhousetrue', 'bundo', 'ultrahealthy', 'stepbystep', 'spiritual…', 'solve…', 'shamefree']\n",
            "\n"
          ]
        }
      ],
      "source": [
        "num_tokens = len(voc) + 2\n",
        "# each word is represented by a vector of 100 floats (glove.6B.100d.txt)\n",
        "embedding_dim = 100\n",
        "hits = 0\n",
        "misses = 0\n",
        "missed_words = []\n",
        "\n",
        "# Prepare embedding matrix\n",
        "embedding_matrix = np.zeros((num_tokens, embedding_dim))\n",
        "# word_index is a dictionary that maps each word to an index\n",
        "# we loop through all the words of word_index.items()\n",
        "for word, i in word_index.items():\n",
        "# we try to retrieve the vector of 100 floats for this word out of embeddings_index  \n",
        "    embedding_vector = embeddings_index.get(word)\n",
        "# if we found the corresponding vector of 100 floats    \n",
        "    if embedding_vector is not None:\n",
        "      # we put the vector on position i of embedding_matrix\n",
        "        embedding_matrix[i] = embedding_vector\n",
        "        hits += 1    \n",
        "    else:\n",
        "      # Words not found in embedding index will be all-zeros.    \n",
        "        misses += 1\n",
        "        missed_words.append(word)\n",
        "        \n",
        "print(\"Converted %d words (%d misses)\" % (hits, misses))\n",
        "\n",
        "print(\"*** Missed words = words not in word_index ***\")\n",
        "print(missed_words[0:10])\n",
        "print()\n"
      ]
    },
    {
      "cell_type": "markdown",
      "metadata": {
        "id": "5alBafGpLrS-"
      },
      "source": [
        "### Build the model\n",
        "First, convert our list-of-strings data to NumPy arrays of integer indices. The arrays are right-padded."
      ]
    },
    {
      "cell_type": "code",
      "execution_count": 34,
      "metadata": {
        "colab": {
          "base_uri": "https://localhost:8080/"
        },
        "id": "6CQGaIJu2rTu",
        "outputId": "e57c77c2-3537-4a59-d866-becdcc884fd2"
      },
      "outputs": [
        {
          "name": "stdout",
          "output_type": "stream",
          "text": [
            "(201,)\n",
            "(51,)\n",
            "(63,)\n",
            "(201, 10)\n",
            "(51, 10)\n",
            "(63, 10)\n",
            "(201,)\n",
            "(51,)\n",
            "(63,)\n"
          ]
        }
      ],
      "source": [
        "X_train_final = vectorizer(np.array([s for s in X_train])).numpy()\n",
        "X_val_final =  vectorizer(np.array([s for s in X_val])).numpy()\n",
        "X_test_final = vectorizer(np.array([s for s in X_test])).numpy()\n",
        "\n",
        "y_train_final = np.array(y_train)\n",
        "y_val_final = np.array(y_val)\n",
        "y_test_final = np.array(y_test)\n",
        "\n",
        "print(X_train.shape)\n",
        "print(X_val.shape)\n",
        "print(X_test.shape)\n",
        "print(X_train_final.shape)\n",
        "print(X_val_final.shape)\n",
        "print(X_test_final.shape)\n",
        "print(y_train_final.shape)\n",
        "print(y_val_final.shape)\n",
        "print(y_test_final.shape)"
      ]
    },
    {
      "cell_type": "markdown",
      "metadata": {
        "id": "g7CgWtfGL3dP"
      },
      "source": [
        "Create a small ANN model to predict the Label. Load the pre-trained word embeddings matrix into an Embedding layer.\n",
        "\n",
        "Compile the model.\n",
        "\n",
        "Train the model.\n",
        "\n",
        "Evaluate the model"
      ]
    },
    {
      "cell_type": "code",
      "execution_count": 35,
      "metadata": {
        "id": "vT5MenImMhUG"
      },
      "outputs": [],
      "source": [
        "# helper functions for visualisation\n",
        "# plotting the loss functions used in this notebook\n",
        "# we plot the loss we want to optimise on the left (in this case: accuracy)\n",
        "def plot_history(history):\n",
        "  plt.figure(figsize = (12,4))\n",
        "  plt.subplot(1,2,1)\n",
        "\n",
        "  plt.xlabel('Epoch')\n",
        "  plt.ylabel('Accuracy')\n",
        "  plt.plot(history.epoch, np.array(history.history['accuracy']),'g-',\n",
        "           label='Train accuracy')\n",
        "  plt.plot(history.epoch, np.array(history.history['val_accuracy']),'r-',\n",
        "           label = 'Validation accuracy')\n",
        "  plt.legend()\n",
        "\n",
        "  plt.subplot(1,2,2)\n",
        "  plt.xlabel('Epoch')\n",
        "  plt.ylabel('Loss minimised by model')\n",
        "  plt.plot(history.epoch, np.array(history.history['loss']),'g-',\n",
        "           label='Train loss')\n",
        "  plt.plot(history.epoch, np.array(history.history['val_loss']),'r-',\n",
        "           label = 'Validation loss')\n",
        "  plt.legend()"
      ]
    },
    {
      "cell_type": "code",
      "execution_count": 36,
      "metadata": {
        "id": "e79RKeMg1tKO"
      },
      "outputs": [],
      "source": [
        "num_classes = 2\n",
        "\n",
        "def initial_model():\n",
        "    # we create a variable called model, and we set it equal to an instance of a Sequential object.\n",
        "    model = Sequential()\n",
        "\n",
        "    model.add(Embedding(input_dim=num_tokens, output_dim=embedding_dim, input_length=10,embeddings_initializer=keras.initializers.Constant(embedding_matrix),trainable=False))\n",
        "    model.add(keras.layers.Flatten(input_shape=[num_tokens, embedding_dim]))\n",
        "\n",
        "    model.add(keras.layers.Dense(64, activation=\"relu\", kernel_initializer=\"he_uniform\"))\n",
        "    model.add(keras.layers.Dropout(rate=0.4))\n",
        "    model.add(keras.layers.Dense(32, activation=\"relu\", kernel_initializer=\"he_uniform\"))\n",
        "    model.add(keras.layers.Dropout(rate=0.4))\n",
        "    model.add(Dense(num_classes, activation='softmax'))\n",
        "\n",
        "\n",
        "    # Before we can train our model, we must compile it\n",
        "    # To the compile() function, we are passing the optimizer, the loss function, and the metrics that we would like to see. \n",
        "    # Notice that the optimizer we have specified is called Adam. Adam is just a variant of SGD. \n",
        "    model.compile(loss=\"sparse_categorical_crossentropy\",\n",
        "                  optimizer= tf.keras.optimizers.Adam(learning_rate = 0.01),\n",
        "                  metrics=['accuracy']) \n",
        "    return model\n"
      ]
    },
    {
      "cell_type": "code",
      "execution_count": 40,
      "metadata": {
        "colab": {
          "base_uri": "https://localhost:8080/"
        },
        "id": "hu-34XilLBEG",
        "outputId": "788fc29f-4a27-496a-fb37-46f654a3d448"
      },
      "outputs": [
        {
          "name": "stdout",
          "output_type": "stream",
          "text": [
            "Epoch 1/20\n",
            "7/7 [==============================] - 0s 15ms/step - loss: 0.7372 - accuracy: 0.5622 - val_loss: 0.6381 - val_accuracy: 0.6275\n",
            "Epoch 2/20\n",
            "7/7 [==============================] - 0s 3ms/step - loss: 0.4314 - accuracy: 0.7910 - val_loss: 0.5670 - val_accuracy: 0.7059\n",
            "Epoch 3/20\n",
            "7/7 [==============================] - 0s 4ms/step - loss: 0.2687 - accuracy: 0.8955 - val_loss: 0.7839 - val_accuracy: 0.6471\n",
            "Epoch 4/20\n",
            "7/7 [==============================] - 0s 4ms/step - loss: 0.2831 - accuracy: 0.8806 - val_loss: 0.7084 - val_accuracy: 0.6667\n",
            "Epoch 5/20\n",
            "7/7 [==============================] - 0s 4ms/step - loss: 0.1390 - accuracy: 0.9502 - val_loss: 0.5687 - val_accuracy: 0.7059\n",
            "Epoch 6/20\n",
            "7/7 [==============================] - 0s 4ms/step - loss: 0.1344 - accuracy: 0.9403 - val_loss: 0.6081 - val_accuracy: 0.7255\n",
            "Epoch 7/20\n",
            "7/7 [==============================] - 0s 4ms/step - loss: 0.1074 - accuracy: 0.9453 - val_loss: 0.7672 - val_accuracy: 0.6275\n",
            "Epoch 8/20\n",
            "7/7 [==============================] - 0s 4ms/step - loss: 0.0352 - accuracy: 0.9950 - val_loss: 0.9313 - val_accuracy: 0.6471\n",
            "Epoch 9/20\n",
            "7/7 [==============================] - 0s 4ms/step - loss: 0.0422 - accuracy: 0.9851 - val_loss: 0.9718 - val_accuracy: 0.6471\n",
            "Epoch 10/20\n",
            "7/7 [==============================] - 0s 4ms/step - loss: 0.0598 - accuracy: 0.9751 - val_loss: 1.0956 - val_accuracy: 0.6667\n",
            "Epoch 11/20\n",
            "7/7 [==============================] - 0s 5ms/step - loss: 0.0209 - accuracy: 0.9900 - val_loss: 1.5570 - val_accuracy: 0.6275\n",
            "Epoch 12/20\n",
            "7/7 [==============================] - 0s 5ms/step - loss: 0.1179 - accuracy: 0.9751 - val_loss: 1.1126 - val_accuracy: 0.6275\n",
            "Epoch 13/20\n",
            "7/7 [==============================] - 0s 4ms/step - loss: 0.0531 - accuracy: 0.9801 - val_loss: 0.7888 - val_accuracy: 0.6863\n",
            "Epoch 14/20\n",
            "7/7 [==============================] - 0s 5ms/step - loss: 0.0208 - accuracy: 0.9950 - val_loss: 0.7398 - val_accuracy: 0.7255\n",
            "Epoch 15/20\n",
            "7/7 [==============================] - 0s 5ms/step - loss: 0.0175 - accuracy: 0.9950 - val_loss: 0.8018 - val_accuracy: 0.7059\n",
            "Epoch 16/20\n",
            "7/7 [==============================] - 0s 5ms/step - loss: 0.0172 - accuracy: 0.9950 - val_loss: 0.9117 - val_accuracy: 0.6863\n",
            "Epoch 17/20\n",
            "7/7 [==============================] - 0s 4ms/step - loss: 0.0124 - accuracy: 1.0000 - val_loss: 1.1482 - val_accuracy: 0.6471\n",
            "Epoch 18/20\n",
            "7/7 [==============================] - 0s 4ms/step - loss: 0.0123 - accuracy: 0.9950 - val_loss: 1.2514 - val_accuracy: 0.6471\n",
            "Epoch 19/20\n",
            "7/7 [==============================] - 0s 4ms/step - loss: 0.0173 - accuracy: 0.9950 - val_loss: 1.2471 - val_accuracy: 0.6471\n",
            "Epoch 20/20\n",
            "7/7 [==============================] - 0s 5ms/step - loss: 0.0089 - accuracy: 0.9950 - val_loss: 1.2241 - val_accuracy: 0.6667\n"
          ]
        }
      ],
      "source": [
        "model = initial_model()\n",
        "\n",
        "batch_size = 64\n",
        "epochs = 10\n",
        "\n",
        "history = model.fit(X_train_final, y_train_final,epochs=20, batch_size=32, validation_data=(X_val_final,y_val_final))\n"
      ]
    },
    {
      "cell_type": "code",
      "execution_count": 41,
      "metadata": {
        "colab": {
          "base_uri": "https://localhost:8080/",
          "height": 401
        },
        "id": "T-zoD-36kP9O",
        "outputId": "7bdcfdcb-8dcd-4154-cb3e-60adc348e664"
      },
      "outputs": [
        {
          "name": "stdout",
          "output_type": "stream",
          "text": [
            "Training set Accuracy:   1.00\n",
            "Training set Loss: 0.0001\n",
            "\n",
            "Validation set Accuracy:   0.67\n",
            "Validation set Loss: 1.2241\n",
            "\n"
          ]
        },
        {
          "data": {
            "image/png": "[encoded data removed]",
            "text/plain": [
              "<Figure size 864x288 with 2 Axes>"
            ]
          },
          "metadata": {
            "needs_background": "light"
          },
          "output_type": "display_data"
        }
      ],
      "source": [
        "[train_loss, train_accuracy] = model.evaluate(X_train_final, y_train_final, verbose=0)\n",
        "print(\"Training set Accuracy:{:7.2f}\".format(train_accuracy))\n",
        "print(\"Training set Loss:{:7.4f}\\n\".format(train_loss))\n",
        "\n",
        "[val_loss, val_accuracy] = model.evaluate(X_val_final, y_val_final, verbose=0)\n",
        "print(\"Validation set Accuracy:{:7.2f}\".format(val_accuracy))\n",
        "print(\"Validation set Loss:{:7.4f}\\n\".format(val_loss))\n",
        "\n",
        "#Now we visualise what happened during training\n",
        "plot_history(history)"
      ]
    },
    {
      "cell_type": "markdown",
      "metadata": {
        "id": "svpOX_dEKFao"
      },
      "source": [
        "Give an overview of the incorrect predictions."
      ]
    },
    {
      "cell_type": "code",
      "execution_count": 39,
      "metadata": {
        "colab": {
          "base_uri": "https://localhost:8080/"
        },
        "id": "Pd-1ZreeKhCI",
        "outputId": "92fa34b8-410e-4161-f749-39ef7dea792c"
      },
      "outputs": [],
      "source": [
        "incorrect_predictions = []\n",
        "predictions = []\n",
        "real_values = []\n",
        "\n",
        "for i, (p, e) in enumerate(zip(X_test, y_test_final)):\n",
        "    predicted, expected = np.argmax(p), np.argmax(e)\n",
        "    predictions.append(predicted)\n",
        "    real_values.append(expected)\n",
        "\n",
        "    if predicted != expected:  # prediction was incorrect\n",
        "        incorrect_predictions.append((X_test[i], predicted, expected))\n",
        "\n",
        "for r in incorrect_predictions:\n",
        "  print(r)"
      ]
    },
    {
      "cell_type": "markdown",
      "metadata": {
        "id": "kiFbZXtkKU_Y"
      },
      "source": [
        "Create a confusion matrix."
      ]
    },
    {
      "cell_type": "code",
      "execution_count": null,
      "metadata": {
        "colab": {
          "base_uri": "https://localhost:8080/",
          "height": 292
        },
        "id": "0CC2CynyKh3x",
        "outputId": "6d5978e3-9498-42a7-d11a-4494a6b74428"
      },
      "outputs": [
        {
          "data": {
            "image/png": "[encoded data removed]",
            "text/plain": [
              "<Figure size 432x288 with 1 Axes>"
            ]
          },
          "metadata": {},
          "output_type": "display_data"
        }
      ],
      "source": [
        "from sklearn.metrics import confusion_matrix\n",
        "import matplotlib.pyplot as plt\n",
        "\n",
        "plt.style.use('classic')\n",
        "%matplotlib inline\n",
        "import seaborn as sns; sns.set()\n",
        "\n",
        "mat = confusion_matrix(real_values, predictions)\n",
        "\n",
        "labels = [0, 1]\n",
        "\n",
        "sns.heatmap(mat.T, square=True, annot=True, fmt='d', cbar=False,xticklabels=labels, yticklabels=labels)\n",
        "plt.xlabel('true category')\n",
        "plt.ylabel('predicted category');\n"
      ]
    }
  ],
  "metadata": {
    "colab": {
      "collapsed_sections": [],
      "name": "NLP Exercise Bestsellers Solution.ipynb",
      "provenance": []
    },
    "interpreter": {
      "hash": "11938c6bc6919ae2720b4d5011047913343b08a43b18698fd82dedb0d4417594"
    },
    "kernelspec": {
      "display_name": "Python 3.9.12 64-bit",
      "language": "python",
      "name": "python3"
    },
    "language_info": {
      "codemirror_mode": {
        "name": "ipython",
        "version": 3
      },
      "file_extension": ".py",
      "mimetype": "text/x-python",
      "name": "python",
      "nbconvert_exporter": "python",
      "pygments_lexer": "ipython3",
      "version": "3.9.12"
    }
  },
  "nbformat": 4,
  "nbformat_minor": 0
}
