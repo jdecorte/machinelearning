{
 "cells": [
  {
   "cell_type": "markdown",
   "metadata": {
    "slideshow": {
     "slide_type": "-"
    }
   },
   "source": [
    "\n",
    "# Machine Learning\n",
    "#### Johan Decorte - Sabine De Vreese\n",
    "\n",
    ">_The development of full artificial intelligence could spell_\n",
    ">_the end of the human race….It would take off on its own,_ \n",
    ">_and re-design itself at an ever-increasing rate._ \n",
    ">_Humans, who are limited by slow biological evolution,_ \n",
    ">_couldn’t compete, and would be superseded.”_\n",
    ">\n",
    ">Stephen Hawking, BBC\n",
    "    \n",
    "\n",
    "## INTRODUCTION\n",
    "\n",
    "This course is based on the following book. \n",
    "![Hands-on Machine Learning with Scikit-Learn, Keras, and TensorFlow](img/book.png).  \n",
    "This book is an integral part of the course and is as such mandatory lecture. \n",
    "\n",
    "## Table of Contents\n",
    "0. [Introduction](001-introduction.pdf)\n",
    "1. The Machine Learning Landscape\n",
    "    1. [Slides](010-the_machine_learning_landscape.pdf)  \n",
    "    1. [Notebook](011-the_machine_learning_landscape.ipynb)\n",
    "    1. [Project Musti](012-project_musti.pdf)\n",
    "    1. Numpy\n",
    "        1. [Arrays](013-0-numpy_arrays.ipynb)\n",
    "        1. [Indexing and Selection](013-1-numpy_indexing-and_selection.ipynb)\n",
    "        1. [Operations](013-2-numpy_operations.ipynb)\n",
    "    1. [Pandas en Matplotlib](014-pandas_matplotlib_introduction_case_corona.ipynb)\n",
    "1. End-toEnd Machine Learning Project\n",
    "    1. [Notebook](020-end_to_end_machine_learning_project.ipynb)  \n",
    "    1. [Excercise \"Building OAT\"](021-exercise_building_oat.ipynb)\n",
    "1. Classification\n",
    "    1. [Notebook](030-classification.ipynb)\n",
    "    1. [Exercise \"Heart Disease\"](031-exercise_heart_disease.ipynb)\n",
    "1. Training Models\n",
    "    1. [Notebook](040-training_models.ipynb)\n",
    "    1. [Introduction to Linear Algebra](041-introduction_to_linear_algebra.pdf) (optional)\n",
    "    1. [Exercise \"Women Clothing Sizes Prediction\"](042-women_clothing_sizes_prediction.ipynb)\n",
    "    1. [Exercise \"Breast Cancer](043-exercise_breast_cancer.ipynb)\n",
    "1. Support Vector Machines\n",
    "    1. [Notebook](050-support_vector_machines.ipynb)\n",
    "    1. [Exercise \"Students score\"](051-exercise_demographic_studentscore_svm.ipynb)\n",
    "1. Decision Trees\n",
    "    1. [Notebook](060-decision_trees.ipynb)\n",
    "    1. [Exercise \"Penguins\"](061-exercise_penguins.ipynb)\n",
    "1. Ensemble Learning and Random Forests\n",
    "    1. [Notebook](070-ensemble_learning_and_random_forests.ipynb)\n",
    "    2. [Exercise](071-exercise-ensembles_breast_cancer.ipynb)\n",
    "2. We skip this chapter\n",
    "3. We skip this chapter\n",
    "4. Introduction to artificial neural networks with Keras\n",
    "   1. [Notebook](100-neural_nets_with_keras.ipynb)\n",
    "   2. [Exercises \"Penguins\" and \"Breast Cancer\"](101-exercise_penguins_breast_cancer.ipynb)\n",
    "5. Training Deep neural networks\n",
    "   1. [Notebook](110-training_deep_neural_networks.ipynb)\n",
    "   3. [Exercise \"Churn\"](111-exercise_churn.ipynb)\n",
    "   2. [Exercise \"Diabetes\"](112-exercise_diabetes.ipynb)\n",
    "6. We skip this chapter\n",
    "7. Document Classification and NLP\n",
    "   1. [Notebook](130_document_classification_and_nlp.ipynb)\n",
    "   2. [Case](131_pretrained_word_embeddings_case_spam.ipynb)\n",
    "   3. [Exercise \"Yelp\"](132_pretrained_word_embedding_exercise_yelp.ipynb)\n",
    "   4. [Exercise \"E-mail classification\"](133-exercise_email_classification.ipynb)\n",
    "8. Deep Computer Vision Using Convolutional Neural Networks\n",
    "   1. [Notebook](140-deep_computer_vision_with_cnns.ipynb)\n",
    "   2. [Exercise \"MNIST\"](141-deep_computer_vision_with_cnns_exercise_mnist.ipynb)\n",
    "9. Extra exercises\n",
    "   1. [E-mail classification with TfidVectorizer and voting](150-exercise_email_classification_tfid_voting.ipynb)\n",
    "   2. [Abalone age prediction](151-exercise_abalone.ipynb)\n",
    "   3. [Women clothing reviews](152-exercise_women_clothing.ipynb)\n",
    "\n",
    "\n",
    "### SOLUTIONS\n",
    "\n",
    "- [Building OAT](solutions/021-exercise_building_oat_solution.ipynb)\n",
    "- [Heart Disease](solutions/031-exercise_heart_disease_solution.ipynb)\n",
    "- [Decision Trees](solutions/061-exercise_penguins_solution.ipynb)\n",
    "- [Ensembles Breast Cancer](solutions/071-exercise-ensembles_breast_cancer_solution.ipynb)\n",
    "- [NN - penguins/breast cancer](solutions/061-exercise_penguins_solution.ipynb)\n",
    "- [NN - churn](solutions/111-exercise_churn_solution.ipynb)\n",
    "- [NN - yelp](solutions/132_pretrained_word_embedding_exercise_yelp_solution.ipynb)\n",
    "- [NN - e-mail](solutions/133-exercise_email_classification_solution.ipynb)\n",
    "- [CNN - MNIST](solutions/141-deep_computer_vision_with_cnns_exercise_mnist_solution.ipynb)"
   ]
  }
 ],
 "metadata": {
  "celltoolbar": "Slideshow",
  "kernelspec": {
   "display_name": "Python 3",
   "language": "python",
   "name": "python3"
  },
  "language_info": {
   "codemirror_mode": {
    "name": "ipython",
    "version": 3
   },
   "file_extension": ".py",
   "mimetype": "text/x-python",
   "name": "python",
   "nbconvert_exporter": "python",
   "pygments_lexer": "ipython3",
   "version": "3.8.3"
  },
  "nbTranslate": {
   "displayLangs": [
    "*"
   ],
   "hotkey": "alt-t",
   "langInMainMenu": true,
   "sourceLang": "en",
   "targetLang": "fr",
   "useGoogleTranslate": true
  },
  "rise": {
   "scroll": true
  }
 },
 "nbformat": 4,
 "nbformat_minor": 2
}
