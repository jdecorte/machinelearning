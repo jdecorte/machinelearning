{
 "cells": [
  {
   "cell_type": "markdown",
   "metadata": {
    "slideshow": {
     "slide_type": "-"
    }
   },
   "source": [
    "\n",
    "# Machine Learning\n",
    "#### Johan Decorte - Sabine De Vreese\n",
    "\n",
    ">_The development of full artificial intelligence could spell_\n",
    ">_the end of the human race….It would take off on its own,_ \n",
    ">_and re-design itself at an ever-increasing rate._ \n",
    ">_Humans, who are limited by slow biological evolution,_ \n",
    ">_couldn’t compete, and would be superseded.”_\n",
    ">\n",
    ">Stephen Hawking, BBC\n",
    "    \n",
    "\n",
    "## INTRODUCTION\n",
    "\n",
    "This course is based on the book The fundamentals of Machine Learning from the book ![Hands-on Machine Learning with Scikit-Learn, Keras, and TensorFlow](img/book.png). This book is an integral part of the course and is as such mandatory lecture. \n",
    "\n",
    "## Table of Contents\n",
    "1. [Introduction](001-Introduction.pdf)\n",
    "1. The Machine Learning Landscape\n",
    "    1. [Slides](010-The_Machine_Learning_Landscape.pdf)  \n",
    "    1. [Notebook](https://github.com/jdecorte/machinelearning/blob/main/011-The_Machine_Learning_Landscape.ipynb)\n",
    "    1. [Project Musti](012-Project_Musti.pdf)\n",
    "    1. [Numpy](013-NumPy_Introduction.ipynb)\n",
    "    1. [Pandas](014-Pandas_Matplotlib_Introduction_Case_Corona.ipynb)\n",
    "1. End-toEnd Machine Learning Project\n",
    "    1. [Notebook](notebooks/2_End2End_ML_project.ipynb)  \n",
    "    1. [Excericse]()\n",
    "1. Classification\n",
    "    1. [Notebook]()\n"
   ]
  }
 ],
 "metadata": {
  "celltoolbar": "Slideshow",
  "kernelspec": {
   "display_name": "Python 3",
   "language": "python",
   "name": "python3"
  },
  "language_info": {
   "codemirror_mode": {
    "name": "ipython",
    "version": 3
   },
   "file_extension": ".py",
   "mimetype": "text/x-python",
   "name": "python",
   "nbconvert_exporter": "python",
   "pygments_lexer": "ipython3",
   "version": "3.8.3"
  },
  "nbTranslate": {
   "displayLangs": [
    "*"
   ],
   "hotkey": "alt-t",
   "langInMainMenu": true,
   "sourceLang": "en",
   "targetLang": "fr",
   "useGoogleTranslate": true
  },
  "rise": {
   "scroll": true
  }
 },
 "nbformat": 4,
 "nbformat_minor": 2
}
