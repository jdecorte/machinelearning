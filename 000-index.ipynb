{
 "cells": [
  {
   "cell_type": "markdown",
   "metadata": {
    "slideshow": {
     "slide_type": "-"
    }
   },
   "source": [
    "\n",
    "# Machine Learning\n",
    "#### Johan Decorte - Sabine De Vreese\n",
    "\n",
    ">_The development of full artificial intelligence could spell_\n",
    ">_the end of the human race….It would take off on its own,_ \n",
    ">_and re-design itself at an ever-increasing rate._ \n",
    ">_Humans, who are limited by slow biological evolution,_ \n",
    ">_couldn’t compete, and would be superseded.”_\n",
    ">\n",
    ">Stephen Hawking, BBC\n",
    "    \n",
    "\n",
    "## INTRODUCTION\n",
    "\n",
    "This course is based on the book The fundamentals of Machine Learning. ![Hands-on Machine Learning with Scikit-Learn, Keras, and TensorFlow](img/book.png).  \n",
    "This book is an integral part of the course and is as such mandatory lecture. \n",
    "\n",
    "## Table of Contents\n",
    "1. [Introduction](001-introduction.pdf)\n",
    "1. The Machine Learning Landscape\n",
    "    1. [Slides](010-the_machine_learning_landscape.pdf)  \n",
    "    1. [Notebook](011-the_machine_learning_landscape.ipynb)\n",
    "    1. [Project Musti](012-project_musti.pdf)\n",
    "    1. [Numpy](013-numpy_introduction.ipynb)\n",
    "    1. [Pandas](014-pandas_matplotlib_introduction_case_corona.ipynb)\n",
    "1. End-toEnd Machine Learning Project\n",
    "    1. [Notebook](020-end_to_end_machine_learning_project.ipynb)  \n",
    "    1. [Excercise]()\n",
    "1. Classification\n",
    "    1. [Notebook]()\n"
   ]
  }
 ],
 "metadata": {
  "celltoolbar": "Slideshow",
  "kernelspec": {
   "display_name": "Python 3",
   "language": "python",
   "name": "python3"
  },
  "language_info": {
   "codemirror_mode": {
    "name": "ipython",
    "version": 3
   },
   "file_extension": ".py",
   "mimetype": "text/x-python",
   "name": "python",
   "nbconvert_exporter": "python",
   "pygments_lexer": "ipython3",
   "version": "3.8.3"
  },
  "nbTranslate": {
   "displayLangs": [
    "*"
   ],
   "hotkey": "alt-t",
   "langInMainMenu": true,
   "sourceLang": "en",
   "targetLang": "fr",
   "useGoogleTranslate": true
  },
  "rise": {
   "scroll": true
  }
 },
 "nbformat": 4,
 "nbformat_minor": 2
}
