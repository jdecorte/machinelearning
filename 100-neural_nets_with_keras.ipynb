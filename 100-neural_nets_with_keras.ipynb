{
 "cells": [
  {
   "cell_type": "markdown",
   "metadata": {},
   "source": [
    "**Chapter 10 – Introduction to Artificial Neural Networks with Keras**\n",
    "\n",
    "_This notebook contains all the sample code and solutions to the exercises in chapter 10._"
   ]
  },
  {
   "cell_type": "markdown",
   "metadata": {},
   "source": [
    "<table align=\"left\">\n",
    "  <td>\n",
    "    <a href=\"https://colab.research.google.com/github/jdecorte/machinelearning/blob/main/100-neural_nets_with_keras.ipynb\" target=\"_parent\"><img src=\"https://colab.research.google.com/assets/colab-badge.svg\" alt=\"Open In Colab\"/></a>\n",
    "  </td>\n",
    "</table>"
   ]
  },
  {
   "cell_type": "markdown",
   "metadata": {},
   "source": [
    "# Setup"
   ]
  },
  {
   "cell_type": "markdown",
   "metadata": {},
   "source": [
    "First, let's import a few common modules, ensure MatplotLib plots figures inline and prepare a function to save the figures. We also check that Python 3.5 or later is installed (although Python 2.x may work, it is deprecated so we strongly recommend you use Python 3 instead), as well as Scikit-Learn ≥0.20 and TensorFlow ≥2.0."
   ]
  },
  {
   "cell_type": "code",
   "execution_count": 72,
   "metadata": {},
   "outputs": [],
   "source": [
    "# Python ≥3.5 is required\n",
    "import sys\n",
    "assert sys.version_info >= (3, 5)\n",
    "\n",
    "# Scikit-Learn ≥0.20 is required\n",
    "import sklearn\n",
    "assert sklearn.__version__ >= \"0.20\"\n",
    "\n",
    "try:\n",
    "    # %tensorflow_version only exists in Colab.\n",
    "    %tensorflow_version 2.x\n",
    "except Exception:\n",
    "    pass\n",
    "\n",
    "# TensorFlow ≥2.0 is required\n",
    "import tensorflow as tf\n",
    "assert tf.__version__ >= \"2.0\"\n",
    "\n",
    "# Common imports\n",
    "import numpy as np\n",
    "import os\n",
    "\n",
    "# to make this notebook's output stable across runs\n",
    "np.random.seed(42)\n",
    "\n",
    "# To plot pretty figures\n",
    "%matplotlib inline\n",
    "import matplotlib as mpl\n",
    "import matplotlib.pyplot as plt\n",
    "mpl.rc('axes', labelsize=14)\n",
    "mpl.rc('xtick', labelsize=12)\n",
    "mpl.rc('ytick', labelsize=12)\n",
    "\n"
   ]
  },
  {
   "cell_type": "markdown",
   "metadata": {},
   "source": [
    "# Introduction\n",
    "\n",
    "- An _Artificial neural network_ (_ANN_) is a Machine Learning model inspired by the networks of biological neurons found in our brains.\n",
    "  \n",
    "  ![](img/brain.png)\n",
    "  - Biological neurons produce short electrical impulses called action potentials (APs, or just signals).\n",
    "  - These signals travel along the axons and make the synapses release chemical signals called neurotransmitters. \n",
    "  - When a neuron receives a sufficient amount of these neurotransmitters within a few milliseconds, it fires its own electrical impulses.\n",
    "  - Thus, individual biological neurons seem to behave in a rather simple way, but they are organized in a vast network of billions, with each neuron typically connected to thousands of other neurons.\n",
    "- ANNs are at the very core of Deep Learning. \n",
    "- They are versatile, powerful, and scalable, making them ideal to tackle large and highly complex Machine Learning tasks such as \n",
    "  - classifying billions of images (e.g.,Google Images)\n",
    "  - powering speech recognition services (e.g., Apple’s Siri)\n",
    "  - recommending the best videos to watch to hundreds of millions of users every day (e.g., YouTube)\n",
    "  - learning to beat the world champion at the game of Go (DeepMind’s AlphaGo)\n"
   ]
  },
  {
   "cell_type": "markdown",
   "metadata": {},
   "source": [
    "# Perceptrons\n",
    "- The Perceptron is one of the simplest ANN architectures, invented in 1957.\n",
    "- It is based on an artificial neuron called a _threshold logic unit_ (TLU), or sometimes a linear threshold unit (LTU).\n",
    "- The inputs and output are numbers and each input connection is associated with a weight.\n",
    "- The TLU computes a weighted sum of its inputs: $z = w_1x_1 + w_2x_2 + ... + w_nx_n$\n",
    "  ![](img/tlu.png)\n",
    "\n",
    "The most common step function used in Perceptrons is the Heaviside step function. Sometimes the sign function is used instead.\n",
    "\n",
    "![](img/step.png)\n",
    "- A single TLU can be used for simple linear binary classification. \n",
    "- It computes a linear combination of the inputs\n",
    "  - if the result exceeds a threshold, it outputs the positive class. \n",
    "  - otherwise it outputs the negative class (just like a Logistic Regression or linear SVM classifier). \n",
    "- You could, for example, use a single TLU to classify iris flowers based on petal length and width (also adding an extra bias feature x = 1, just like we did in previous chapters).   \n",
    "  \n",
    "- Training a TLU in this case means finding the right values for $w_0$ , $w_1$ and $w_2$.\n",
    "\n",
    "- A _Perceptron_ is simply composed of a single layer of TLUs, with each TLU connected to all the inputs.\n",
    "- When **all the neurons in a layer are connected to every neuron in the previous layer** (i.e., its input neurons), the layer is called a _fully connected layer_, or a _dense layer_.\n",
    "- The inputs of the Perceptron are fed to special passthrough neurons called input neurons: they output whatever input they are fed. \n",
    "- All the input neurons form the input layer. \n",
    "- Moreover, an extra bias feature is generally added ($x_0 = 1$): it is typically represented using a special type of neuron called a bias neuron, which outputs 1 all the time. \n",
    "- A Perceptron with two inputs and three outputs is represented here:\n",
    " ![](img/perceptron.png)\n",
    " - This Perceptron can classify instances simultaneously into three different binary classes, which makes it a multioutput classifier.\n",
    " - The following equation makes it possible to efficiently compute the outputs of a layer of artificial neurons for several instances at once.\n",
    "  $$\n",
    "  h_{\\mathbf{W},b}(\\mathbf{X}) = \\phi(\\mathbf{XW} + \\mathbf{b})\n",
    "  $$\n",
    "\n",
    "With:\n",
    "- $\\mathbf{X}$ = matrix of input features. It has one row per instance and one column per feature.\n",
    "- $\\mathbf{W}$ = weight matrix containing all the connection weights except for the ones from the bias neuron. It has one row per input neuron and one column per artificial neuron in the layer.\n",
    "- $\\mathbf{b}$ = bias vector containing all the connection weights between the bias neuron and the artificial neurons. It has one bias term per artificial neuron.\n",
    "- $\\phi$ = activation function. When the artificial neurons are TLUs, it is a step function (but we will discuss other activation functions shortly).\n",
    "\n",
    "Scikit-Learn provides a `Perceptron` class that implements a single-TLU network."
   ]
  },
  {
   "cell_type": "markdown",
   "metadata": {},
   "source": [
    "**Note**: we set `max_iter` and `tol` explicitly to avoid warnings about the fact that their default value will change in future versions of Scikit-Learn.\n",
    "\n",
    "Let's use a Percetron on the iris dataset. "
   ]
  },
  {
   "cell_type": "code",
   "execution_count": 8,
   "metadata": {},
   "outputs": [],
   "source": [
    "import numpy as np\n",
    "from sklearn.datasets import load_iris\n",
    "from sklearn.linear_model import Perceptron\n",
    "\n",
    "iris = load_iris()\n",
    "X = iris.data[:, (2, 3)]  # petal length, petal width\n",
    "y = (iris.target == 0).astype(int)   # is it an iris_setosa? \n",
    "\n",
    "per_clf = Perceptron(max_iter=1000, tol=1e-3, random_state=42)\n",
    "per_clf.fit(X, y)\n",
    "\n",
    "y_pred = per_clf.predict([[2, 0.5]])"
   ]
  },
  {
   "cell_type": "code",
   "execution_count": 88,
   "metadata": {},
   "outputs": [
    {
     "data": {
      "text/plain": [
       "array([1])"
      ]
     },
     "execution_count": 88,
     "metadata": {},
     "output_type": "execute_result"
    }
   ],
   "source": [
    "y_pred"
   ]
  },
  {
   "cell_type": "markdown",
   "metadata": {},
   "source": [
    "- The Perceptron learning algorithm strongly resembles Stochastic Gradient Descent. \n",
    "- In fact, Scikit-Learn’s Perceptron class is equivalent to using an SGDClassifier with the following hyperparameters: `loss=\"perceptron\"`, `learning_rate=\"constant\"`,\n",
    "`eta0=1` (the learning rate), and `penalty=Non`e (no regularization).\n",
    "- Note that contrary to Logistic Regression classifiers, Perceptrons do not output a class probability; rather, they make predictions based on a hard threshold. \n",
    "- This is one reason to prefer Logistic Regression over Perceptrons.\n",
    "- Perceptions suffer from a number of serious weaknesses: they are incapable of solving some trivial problems, e.g., the Exclusive OR (XOR) classification problem (because it is not linearly separable).\n",
    "- Some of the limitations of Perceptrons can be eliminated by stacking multiple Perceptrons. \n",
    "- The resulting ANN is called a Multilayer Perceptron (MLP).\n",
    "\n",
    "# The Multilayer Perceptron and Backpropagation\n",
    "\n",
    "- When an ANN contains a deep stack of hidden layers, it is called a _deep neural network_ (DNN).\n",
    "![](img/mlp.png)\n",
    "\n",
    "_Architecture of a Multilayer Perceptron with two inputs, one hidden layer of four neurons, and three output neurons (the bias neurons are shown here, but usually they are implicit)_\n",
    "\n",
    "**NOTE**  \n",
    "\n",
    "The signal flows only in one direction (from the inputs to the outputs), so this architecture is an example of a _feedforward neural network_ (FNN).\n",
    "\n",
    "**ALGORITHM**\n",
    "\n",
    "- The algorithm that is used for training MLP's was published in 1986 and is called _backpropagation_. \n",
    "- The algorithm looks likes this:\n",
    "  - Initialize all the hidden layers’ connection weights randomly. \n",
    "  - It handles one mini-batch at a time (for example, containing 32 instances each), and it goes through the full training set multiple times. Each pass through the full set is called an _epoch_.\n",
    "  - **Forward pass**\n",
    "    - Each mini-batch is passed to the network’s input layer, which sends it to the first hidden layer. \n",
    "    - The algorithm then computes the output of all the neurons in this layer (for every instance in the mini-batch). \n",
    "    - The result is passed on to the next layer, its output is computed and passed to the next layer, and so on until we get the output of the last layer, the output layer. \n",
    "    - The forward pass is exactly like making predictions, except all intermediate results are preserved since they are needed for the backward pass.\n",
    "  - **Backward pass**\n",
    "    - The algorithm measures the network’s output error (i.e., it uses a loss function that compares the desired output and the actual output of the network, and returns some measure of the error).\n",
    "    - Then it computes how much each output connection contributed to the error.\n",
    "    - The algorithm then measures how much of these error contributions came from each connection in the layer below, working backward until the algorithm\n",
    "reaches the input layer.\n",
    "    - This reverse pass efficiently measures the error gradient across all the connection weights in the network by propagating the error gradient backward through the network (hence the name of the algorithm). \n",
    "    - Finally, the algorithm performs a Gradient Descent step to tweak all the connection weights in the network, using the error gradients it just computed. Note the weights are updated after every mini-batch."
   ]
  },
  {
   "cell_type": "markdown",
   "metadata": {},
   "source": [
    "# Activation functions"
   ]
  },
  {
   "cell_type": "markdown",
   "metadata": {},
   "source": [
    "For this algorithm to work properly, its authors made a key change to the MLP’s architecture: they replaced the step function with the logistic (sigmoid) function\n",
    "$$\n",
    "\\sigma(t) = \\frac{1}{1 + e^{-t}}\n",
    "$$\n",
    "\n",
    "This was essential because the step function contains only flat segments, so there is no gradient to work with (Gradient Descent cannot move on a flat surface), while the logistic function has a well-defined nonzero derivative everywhere, allowing Gradient Descent to make some progress at every step. \n",
    "In fact, the backpropagation algorithm works well with many other activation functions, not just the logistic function. Here are two other popular choices:\n",
    "\n",
    "The _hyperbolic tangent_ function:\n",
    "$$\n",
    "tanh(z) = 2σ(2z) – 1\n",
    "$$\n",
    "- Just like the logistic function, this activation function is S-shaped, continuous, and differentiable, but its output value ranges from –1 to 1 (instead of 0 to 1 in the case of the logistic function). \n",
    "- That range tends to make each layer’s output more or less centered around 0 at the beginning of training, which often helps speed up convergence.\n",
    "\n",
    "The _Rectified Linear Unit_ function:\n",
    "$$\n",
    "ReLU(z) = max(0, z)\n",
    "$$\n",
    "- is continuous but unfortunately not differentiable at z = 0 (the slope changes abruptly, which can make Gradient Descent bounce around), and its derivative is 0 for z < 0. \n",
    "- In practice, however, it works very well and has the advantage of being fast to compute, so it has become the default. \n",
    "- Most importantly, the fact that it does not have a maximum output value helps reduce some issues during Gradient Descent. \n",
    "\n",
    "![](img/activation_functions_plot.png)\n",
    "\n"
   ]
  },
  {
   "cell_type": "markdown",
   "metadata": {},
   "source": [
    "## Why do we need activation functions?\n",
    "- If you chain several linear transformations, all you get is a linear transformation. \n",
    "- For example, if f(x) = 2x + 3 and g(x) = 5x – 1, then chaining these two linear functions gives you another linear function: f(g(x)) = 2(5x – 1) + 3 = 10x + 1. \n",
    "- So if you don’t have some nonlinearity between layers, then even a deep stack of layers is equivalent to a single layer, and you can’t solve very complex problems with that. \n",
    "- Conversely, a large enough DNN with nonlinear activations can theoretically approximate any continuous function."
   ]
  },
  {
   "cell_type": "markdown",
   "metadata": {},
   "source": [
    "# Regression MLPs\n",
    "- If you want to predict a single value (e.g., the price of a house, given many of its features), then you just need a single output neuron: its output is the predicted value. \n",
    "- For multivariate regression (i.e., to predict multiple values at once), you need one output neuron per output dimension. For example, to locate the center of an object in an image, you need to predict 2D coordinates, so you need two output neurons.\n",
    "- In general, when building an MLP for regression, you do not want to use any activation function for the output neurons, so they are free to output any range of values.\n",
    "- If you want to guarantee that the output will always be positive, then you can use the ReLU activation function in the output layer. \n",
    "- Alternatively, you can use the softplus activation function, which is a smooth variant of ReLU: softplus(z) = log(1 + exp(z)). It is close to 0 when z is negative, and close to z when z is positive. \n",
    "- Finally, if you want to guarantee that the predictions will fall within a given range of values, then you can use the logistic function or the hyperbolic tangent, and then scale the labels to the appropriate range: 0 to 1 for the logistic function and –1 to 1 for the hyperbolic tangent.\n",
    "- The loss function to use during training is typically the mean squared error, but if you have a lot of outliers in the training set, you may prefer to use the mean absolute error instead.\n",
    "- A typical regression MLP architecture:\n",
    "\n",
    "|Hyperparameter|Typical value|\n",
    "|---|---|\n",
    "|# input neurons|One per input feature (e.g. 28x28 = 784 for MNIST)|\n",
    "|# hidden layers|Depends on the problem, but typically 1 to 5|\n",
    "|# neurons per hidden layer|Depends on the problem, but typically 10 to 100|\n",
    "|# output neurons|1 per prediction dimension|\n",
    "|Hidden activation|mostly ReLU|\n",
    "|Output activation|None, or ReLU/softplus (if positive outputs) or logistic/tanh (if bounded outputs)|\n",
    "|Loss function|MSE or MAE|\n",
    "\n",
    "\n",
    "  "
   ]
  },
  {
   "cell_type": "markdown",
   "metadata": {},
   "source": [
    "# Classification MLPs\n",
    "- For a binary classification problem, you just need a single output neuron using the logistic activation function: the output will be a number between 0 and 1, which you can interpret as the estimated probability of the positive class.\n",
    "- The estimated probability of the negative class is equal to one minus that number.\n",
    "- MLPs can also easily handle **multilabel binary classification** tasks. For example, you could have an email classification system that predicts whether each incoming email is ham or spam, and simultaneously predicts whether it is an urgent or nonurgent email. In this case, you would need two output neurons, both using the logistic activation function: the first would output the probability that the email is spam, and the second would output the probability that it is urgent.\n",
    "- If each instance can belong only to a single class, out of three or more possible classes (e.g., classes 0 through 9 for digit image classification), then you need to have one output neuron per class, and you should use the softmax activation function for the whole output layer (see figure below).\n",
    "![](img/mlp_classification.png)\n",
    "-  The softmax function (introduced in Chapter 4) will ensure that all the estimated probabilities are between 0 and 1 and that they add up to 1 (which is required if the classes are exclusive. This is called **multiclass classification**.\n",
    "- A typical classification MLP architecture:\n",
    "\n",
    "|Hyperparameter|Binary Classification|Multilabel binary classification|Multiclass classification|\n",
    "|---|---|---|---|\n",
    "|Input and hidden layers|Same as regression|Same as regression|Same as regression|\n",
    "|# output neurons|1|1 per label|1 per class|\n",
    "|Output activation|Logistic|Logistic|Softmax|\n",
    "|Loss function|Cross entropy|Cross entropy|Cross entropy|\n",
    "\n",
    "- The objective is to have a model that estimates a high probability for the target class (and consequently a low probability for the other classes). \n",
    "- Minimizing the cost function using **cross entropy**, should lead to this objective because it penalizes the model when it estimates a low probability for a target class (so when the actual probability should be one)."
   ]
  },
  {
   "cell_type": "markdown",
   "metadata": {},
   "source": [
    "# Implementing MLPs with Keras\n",
    "- Keras is a high-level Deep Learning API that allows you to easily build, train, evaluate, and execute all sorts of neural networks. \n",
    "- Its documentation (or specification) is available at https://keras.io/.\n",
    "- It is based on a Tensorflow backend. \n",
    "- The most popular Deep Learning library, after Keras and TensorFlow, is Facebook’s PyTorch library. The good news is that its API is quite similar to Keras’s (in part because both APIs were inspired by Scikit-Learn and Chainer), so once you know Keras, it is not difficult to switch to PyTorch.\n",
    "## Building an Image Classifier\n",
    "- First, we need to load a dataset. In this chapter we will tackle Fashion MNIST, which is a drop-in replacement of MNIST (introduced in Chapter 3). It has the exact same format as MNIST (70,000 grayscale images of 28 × 28 pixels each, with 10 classes), but the images represent fashion items rather than handwritten digits, so each class is more diverse, and the problem turns out to be significantly more challenging than MNIST. \n",
    "- For example, a simple linear model reaches about 92% accuracy on MNIST, but only about 83% on Fashion MNIST."
   ]
  },
  {
   "cell_type": "markdown",
   "metadata": {},
   "source": [
    "First let's import TensorFlow and Keras."
   ]
  },
  {
   "cell_type": "code",
   "execution_count": 73,
   "metadata": {},
   "outputs": [],
   "source": [
    "import tensorflow as tf\n",
    "from tensorflow import keras"
   ]
  },
  {
   "cell_type": "code",
   "execution_count": 10,
   "metadata": {},
   "outputs": [
    {
     "data": {
      "text/plain": [
       "'2.8.0'"
      ]
     },
     "execution_count": 10,
     "metadata": {},
     "output_type": "execute_result"
    }
   ],
   "source": [
    "tf.__version__"
   ]
  },
  {
   "cell_type": "code",
   "execution_count": 74,
   "metadata": {},
   "outputs": [
    {
     "data": {
      "text/plain": [
       "'2.8.0'"
      ]
     },
     "execution_count": 74,
     "metadata": {},
     "output_type": "execute_result"
    }
   ],
   "source": [
    "keras.__version__"
   ]
  },
  {
   "cell_type": "markdown",
   "metadata": {},
   "source": [
    "Let's start by loading the fashion MNIST dataset. Keras has a number of functions to load popular datasets in `keras.datasets`. The dataset is already split for you between a training set and a test set, but it can be useful to split the training set further to have a validation set:"
   ]
  },
  {
   "cell_type": "code",
   "execution_count": 75,
   "metadata": {},
   "outputs": [],
   "source": [
    "fashion_mnist = keras.datasets.fashion_mnist\n",
    "(X_train_full, y_train_full), (X_test, y_test) = fashion_mnist.load_data()"
   ]
  },
  {
   "cell_type": "markdown",
   "metadata": {},
   "source": [
    "The training set contains 60,000 grayscale images, each 28x28 pixels:"
   ]
  },
  {
   "cell_type": "code",
   "execution_count": 76,
   "metadata": {},
   "outputs": [
    {
     "data": {
      "text/plain": [
       "(60000, 28, 28)"
      ]
     },
     "execution_count": 76,
     "metadata": {},
     "output_type": "execute_result"
    }
   ],
   "source": [
    "X_train_full.shape"
   ]
  },
  {
   "cell_type": "markdown",
   "metadata": {},
   "source": [
    "Each pixel intensity is represented as a byte (0 to 255):"
   ]
  },
  {
   "cell_type": "code",
   "execution_count": 77,
   "metadata": {},
   "outputs": [
    {
     "data": {
      "text/plain": [
       "dtype('uint8')"
      ]
     },
     "execution_count": 77,
     "metadata": {},
     "output_type": "execute_result"
    }
   ],
   "source": [
    "X_train_full.dtype"
   ]
  },
  {
   "cell_type": "markdown",
   "metadata": {},
   "source": [
    "Let's split the full training set into a validation set and a (smaller) training set. We also scale the pixel intensities down to the 0-1 range and convert them to floats, by dividing by 255."
   ]
  },
  {
   "cell_type": "code",
   "execution_count": 78,
   "metadata": {},
   "outputs": [],
   "source": [
    "X_valid, X_train = X_train_full[:5000] / 255., X_train_full[5000:] / 255.\n",
    "y_valid, y_train = y_train_full[:5000], y_train_full[5000:]\n",
    "X_test = X_test / 255."
   ]
  },
  {
   "cell_type": "markdown",
   "metadata": {},
   "source": [
    "You can plot an image using Matplotlib's `imshow()` function, with a `'binary'`\n",
    " color map:"
   ]
  },
  {
   "cell_type": "code",
   "execution_count": 79,
   "metadata": {},
   "outputs": [
    {
     "data": {
      "image/png": "[encoded data removed]",
      "text/plain": [
       "<Figure size 432x288 with 1 Axes>"
      ]
     },
     "metadata": {
      "needs_background": "light"
     },
     "output_type": "display_data"
    }
   ],
   "source": [
    "plt.imshow(X_train[0], cmap=\"binary\")\n",
    "plt.axis('off')\n",
    "plt.show()"
   ]
  },
  {
   "cell_type": "markdown",
   "metadata": {},
   "source": [
    "The labels are the class IDs (represented as uint8), from 0 to 9:"
   ]
  },
  {
   "cell_type": "code",
   "execution_count": 81,
   "metadata": {},
   "outputs": [
    {
     "data": {
      "text/plain": [
       "array([4, 0, 7, ..., 3, 0, 5], dtype=uint8)"
      ]
     },
     "execution_count": 81,
     "metadata": {},
     "output_type": "execute_result"
    }
   ],
   "source": [
    "y_train"
   ]
  },
  {
   "cell_type": "markdown",
   "metadata": {},
   "source": [
    "Here are the corresponding class names:"
   ]
  },
  {
   "cell_type": "code",
   "execution_count": 82,
   "metadata": {},
   "outputs": [],
   "source": [
    "class_names = [\"T-shirt/top\", \"Trouser\", \"Pullover\", \"Dress\", \"Coat\", \"Sandal\", \"Shirt\", \"Sneaker\", \"Bag\", \"Ankle boot\"]"
   ]
  },
  {
   "cell_type": "markdown",
   "metadata": {},
   "source": [
    "So the first image in the training set is a coat:"
   ]
  },
  {
   "cell_type": "code",
   "execution_count": 83,
   "metadata": {},
   "outputs": [
    {
     "data": {
      "text/plain": [
       "'Coat'"
      ]
     },
     "execution_count": 83,
     "metadata": {},
     "output_type": "execute_result"
    }
   ],
   "source": [
    "class_names[y_train[0]]"
   ]
  },
  {
   "cell_type": "markdown",
   "metadata": {},
   "source": [
    "The validation set contains 5,000 images, and the test set contains 10,000 images:"
   ]
  },
  {
   "cell_type": "code",
   "execution_count": 84,
   "metadata": {},
   "outputs": [
    {
     "data": {
      "text/plain": [
       "(5000, 28, 28)"
      ]
     },
     "execution_count": 84,
     "metadata": {},
     "output_type": "execute_result"
    }
   ],
   "source": [
    "X_valid.shape"
   ]
  },
  {
   "cell_type": "code",
   "execution_count": 85,
   "metadata": {},
   "outputs": [
    {
     "data": {
      "text/plain": [
       "(10000, 28, 28)"
      ]
     },
     "execution_count": 85,
     "metadata": {},
     "output_type": "execute_result"
    }
   ],
   "source": [
    "X_test.shape"
   ]
  },
  {
   "cell_type": "markdown",
   "metadata": {},
   "source": [
    "Let's take a look at a sample of the images in the dataset:"
   ]
  },
  {
   "cell_type": "code",
   "execution_count": 86,
   "metadata": {},
   "outputs": [
    {
     "data": {
      "image/png": "[encoded data removed]",
      "text/plain": [
       "<Figure size 864x345.6 with 40 Axes>"
      ]
     },
     "metadata": {
      "needs_background": "light"
     },
     "output_type": "display_data"
    }
   ],
   "source": [
    "n_rows = 4\n",
    "n_cols = 10\n",
    "plt.figure(figsize=(n_cols * 1.2, n_rows * 1.2))\n",
    "for row in range(n_rows):\n",
    "    for col in range(n_cols):\n",
    "        index = n_cols * row + col\n",
    "        plt.subplot(n_rows, n_cols, index + 1)\n",
    "        plt.imshow(X_train[index], cmap=\"binary\", interpolation=\"nearest\")\n",
    "        plt.axis('off')\n",
    "        plt.title(class_names[y_train[index]], fontsize=12)\n",
    "plt.subplots_adjust(wspace=0.2, hspace=0.5)\n",
    "plt.show()"
   ]
  },
  {
   "cell_type": "markdown",
   "metadata": {},
   "source": [
    "## Creating the model using the Sequential API"
   ]
  },
  {
   "cell_type": "code",
   "execution_count": 87,
   "metadata": {},
   "outputs": [],
   "source": [
    "model = keras.models.Sequential()\n",
    "model.add(keras.layers.Flatten(input_shape=[28, 28]))\n",
    "model.add(keras.layers.Dense(300, activation=\"relu\"))\n",
    "model.add(keras.layers.Dense(100, activation=\"relu\"))\n",
    "model.add(keras.layers.Dense(10, activation=\"softmax\"))"
   ]
  },
  {
   "cell_type": "markdown",
   "metadata": {},
   "source": [
    "Instead of adding the layers one by one as we just did, you can pass a list of layers when creating the `Sequential` model:"
   ]
  },
  {
   "cell_type": "code",
   "execution_count": 88,
   "metadata": {},
   "outputs": [],
   "source": [
    "keras.backend.clear_session()\n",
    "np.random.seed(42)\n",
    "tf.random.set_seed(42)"
   ]
  },
  {
   "cell_type": "code",
   "execution_count": 42,
   "metadata": {},
   "outputs": [],
   "source": [
    "model = keras.models.Sequential([\n",
    "    keras.layers.Flatten(input_shape=[28, 28]),\n",
    "    keras.layers.Dense(300, activation=\"relu\"),\n",
    "    keras.layers.Dense(100, activation=\"relu\"),\n",
    "    keras.layers.Dense(10, activation=\"softmax\")\n",
    "])"
   ]
  },
  {
   "cell_type": "markdown",
   "metadata": {},
   "source": [
    "Let’s go through this code line by line: \n",
    "- The first line creates a Sequential model. This is the simplest kind of Keras model for neural networks that are just composed of a single stack of layers connected sequentially. \n",
    "- This is called the Sequential API.\n",
    "- Next, we build the first layer and add it to the model. It is a Flatten layer whose role is to convert each input image into a 1D array.\n",
    "- This layer does not have any parameters; it is just there to do some simple preprocessing. \n",
    "- Since it is the first layer in the model, you should specify the input_shape, which doesn’t include the batch size, only the shape of the instances. \n",
    "- Next we add a Dense hidden layer with 300 neurons. It will use the ReLU activation function. Each Dense layer manages its own weight matrix, containing all the connection weights between the\n",
    "neurons and their inputs. It also manages a vector of bias terms (one per neuron).\n",
    "- Then we add a second Dense hidden layer with 100 neurons, also using the ReLU activation function.\n",
    "- Finally, we add a Dense output layer with 10 neurons (one per class), using the softmax activation function (because the classes are exclusive).\n"
   ]
  },
  {
   "cell_type": "code",
   "execution_count": 89,
   "metadata": {},
   "outputs": [
    {
     "data": {
      "text/plain": [
       "[<keras.layers.core.flatten.Flatten at 0x216f3ef9370>,\n",
       " <keras.layers.core.dense.Dense at 0x216f3ef93a0>,\n",
       " <keras.layers.core.dense.Dense at 0x216ea7b5250>,\n",
       " <keras.layers.core.dense.Dense at 0x216cddd4370>]"
      ]
     },
     "execution_count": 89,
     "metadata": {},
     "output_type": "execute_result"
    }
   ],
   "source": [
    "model.layers"
   ]
  },
  {
   "cell_type": "markdown",
   "metadata": {},
   "source": [
    "The model’s `summary()` method displays all the model’s layers, including each layer’s name (which is automatically generated unless you\n",
    "set it when creating the layer), its output shape (`None` means the batch size can be anything), and its number of parameters. The summary ends with\n",
    "the total number of parameters"
   ]
  },
  {
   "cell_type": "code",
   "execution_count": 90,
   "metadata": {},
   "outputs": [
    {
     "name": "stdout",
     "output_type": "stream",
     "text": [
      "Model: \"sequential_1\"\n",
      "_________________________________________________________________\n",
      " Layer (type)                Output Shape              Param #   \n",
      "=================================================================\n",
      " flatten (Flatten)           (None, 784)               0         \n",
      "                                                                 \n",
      " dense_3 (Dense)             (None, 300)               235500    \n",
      "                                                                 \n",
      " dense_4 (Dense)             (None, 100)               30100     \n",
      "                                                                 \n",
      " dense_5 (Dense)             (None, 10)                1010      \n",
      "                                                                 \n",
      "=================================================================\n",
      "Total params: 266,610\n",
      "Trainable params: 266,610\n",
      "Non-trainable params: 0\n",
      "_________________________________________________________________\n"
     ]
    }
   ],
   "source": [
    "model.summary()"
   ]
  },
  {
   "cell_type": "markdown",
   "metadata": {},
   "source": [
    "- Note that Dense layers often have a lot of parameters. \n",
    "- For example, the first hidden layer has 784 × 300 connection weights, plus 300 bias terms, which adds up to 235,500 parameters! \n",
    "-  This gives the model quite a lot of flexibility to fit the training data, but it also means that the model runs the risk of overfitting, especially when you do not have a lot of training data.\n",
    "- We will come back to this later.\n",
    "\n"
   ]
  },
  {
   "cell_type": "code",
   "execution_count": 91,
   "metadata": {},
   "outputs": [
    {
     "data": {
      "text/plain": [
       "'dense_3'"
      ]
     },
     "execution_count": 91,
     "metadata": {},
     "output_type": "execute_result"
    }
   ],
   "source": [
    "hidden1 = model.layers[1]\n",
    "hidden1.name"
   ]
  },
  {
   "cell_type": "code",
   "execution_count": 92,
   "metadata": {},
   "outputs": [
    {
     "data": {
      "text/plain": [
       "True"
      ]
     },
     "execution_count": 92,
     "metadata": {},
     "output_type": "execute_result"
    }
   ],
   "source": [
    "model.get_layer(hidden1.name) is hidden1"
   ]
  },
  {
   "cell_type": "markdown",
   "metadata": {},
   "source": [
    "All the parameters of a layer can be accessed using its `get_weights()` and `set_weights()` methods. For a `Dense` layer, this includes both the connection weights and the bias terms:"
   ]
  },
  {
   "cell_type": "code",
   "execution_count": 93,
   "metadata": {},
   "outputs": [],
   "source": [
    "weights, biases = hidden1.get_weights()"
   ]
  },
  {
   "cell_type": "code",
   "execution_count": 94,
   "metadata": {},
   "outputs": [
    {
     "data": {
      "text/plain": [
       "array([[ 0.03574536, -0.02389931,  0.01030421, ..., -0.06151724,\n",
       "        -0.0451347 ,  0.03140047],\n",
       "       [-0.05467119,  0.04656268, -0.07248728, ..., -0.07038655,\n",
       "        -0.03083268, -0.06513114],\n",
       "       [-0.03234808, -0.00317231,  0.04102226, ..., -0.03237895,\n",
       "         0.01965773, -0.00825518],\n",
       "       ...,\n",
       "       [-0.0630435 ,  0.07371157, -0.05752673, ...,  0.07049479,\n",
       "         0.05577183, -0.02518321],\n",
       "       [-0.02547856,  0.07304457,  0.04983643, ..., -0.05780029,\n",
       "         0.07438232, -0.0286764 ],\n",
       "       [-0.02862201,  0.01245171, -0.04573321, ...,  0.04891213,\n",
       "        -0.06256616, -0.02975626]], dtype=float32)"
      ]
     },
     "execution_count": 94,
     "metadata": {},
     "output_type": "execute_result"
    }
   ],
   "source": [
    "weights"
   ]
  },
  {
   "cell_type": "code",
   "execution_count": 95,
   "metadata": {},
   "outputs": [
    {
     "data": {
      "text/plain": [
       "(784, 300)"
      ]
     },
     "execution_count": 95,
     "metadata": {},
     "output_type": "execute_result"
    }
   ],
   "source": [
    "weights.shape"
   ]
  },
  {
   "cell_type": "code",
   "execution_count": 96,
   "metadata": {},
   "outputs": [
    {
     "data": {
      "text/plain": [
       "array([0., 0., 0., 0., 0., 0., 0., 0., 0., 0., 0., 0., 0., 0., 0., 0., 0.,\n",
       "       0., 0., 0., 0., 0., 0., 0., 0., 0., 0., 0., 0., 0., 0., 0., 0., 0.,\n",
       "       0., 0., 0., 0., 0., 0., 0., 0., 0., 0., 0., 0., 0., 0., 0., 0., 0.,\n",
       "       0., 0., 0., 0., 0., 0., 0., 0., 0., 0., 0., 0., 0., 0., 0., 0., 0.,\n",
       "       0., 0., 0., 0., 0., 0., 0., 0., 0., 0., 0., 0., 0., 0., 0., 0., 0.,\n",
       "       0., 0., 0., 0., 0., 0., 0., 0., 0., 0., 0., 0., 0., 0., 0., 0., 0.,\n",
       "       0., 0., 0., 0., 0., 0., 0., 0., 0., 0., 0., 0., 0., 0., 0., 0., 0.,\n",
       "       0., 0., 0., 0., 0., 0., 0., 0., 0., 0., 0., 0., 0., 0., 0., 0., 0.,\n",
       "       0., 0., 0., 0., 0., 0., 0., 0., 0., 0., 0., 0., 0., 0., 0., 0., 0.,\n",
       "       0., 0., 0., 0., 0., 0., 0., 0., 0., 0., 0., 0., 0., 0., 0., 0., 0.,\n",
       "       0., 0., 0., 0., 0., 0., 0., 0., 0., 0., 0., 0., 0., 0., 0., 0., 0.,\n",
       "       0., 0., 0., 0., 0., 0., 0., 0., 0., 0., 0., 0., 0., 0., 0., 0., 0.,\n",
       "       0., 0., 0., 0., 0., 0., 0., 0., 0., 0., 0., 0., 0., 0., 0., 0., 0.,\n",
       "       0., 0., 0., 0., 0., 0., 0., 0., 0., 0., 0., 0., 0., 0., 0., 0., 0.,\n",
       "       0., 0., 0., 0., 0., 0., 0., 0., 0., 0., 0., 0., 0., 0., 0., 0., 0.,\n",
       "       0., 0., 0., 0., 0., 0., 0., 0., 0., 0., 0., 0., 0., 0., 0., 0., 0.,\n",
       "       0., 0., 0., 0., 0., 0., 0., 0., 0., 0., 0., 0., 0., 0., 0., 0., 0.,\n",
       "       0., 0., 0., 0., 0., 0., 0., 0., 0., 0., 0.], dtype=float32)"
      ]
     },
     "execution_count": 96,
     "metadata": {},
     "output_type": "execute_result"
    }
   ],
   "source": [
    "biases"
   ]
  },
  {
   "cell_type": "code",
   "execution_count": 97,
   "metadata": {},
   "outputs": [
    {
     "data": {
      "text/plain": [
       "(300,)"
      ]
     },
     "execution_count": 97,
     "metadata": {},
     "output_type": "execute_result"
    }
   ],
   "source": [
    "biases.shape"
   ]
  },
  {
   "cell_type": "markdown",
   "metadata": {},
   "source": [
    "Notice that \n",
    "- the `Dense` layer initialized the connection weights randomly (which is needed to break symmetry, as we discussed earlier)\n",
    "- the biases were initialized to zeros, which is fine."
   ]
  },
  {
   "cell_type": "markdown",
   "metadata": {},
   "source": [
    "## Compiling the model\n",
    "- After a model is created, you must call its `compile()` method to specify the loss function and the optimizer to use. \n",
    "- Optionally, you can specify a list of extra metrics to compute during training and evaluation:"
   ]
  },
  {
   "cell_type": "code",
   "execution_count": 98,
   "metadata": {},
   "outputs": [],
   "source": [
    "model.compile(loss=\"sparse_categorical_crossentropy\",\n",
    "              optimizer=\"sgd\",\n",
    "              metrics=[\"accuracy\"])"
   ]
  },
  {
   "cell_type": "markdown",
   "metadata": {},
   "source": [
    "This is equivalent to:"
   ]
  },
  {
   "cell_type": "markdown",
   "metadata": {},
   "source": [
    "```python\n",
    "model.compile(loss=keras.losses.sparse_categorical_crossentropy,\n",
    "              optimizer=keras.optimizers.SGD(),\n",
    "              metrics=[keras.metrics.sparse_categorical_accuracy])\n",
    "```"
   ]
  },
  {
   "cell_type": "markdown",
   "metadata": {},
   "source": [
    "- We use the \"sparse_categorical_crossentropy\" loss because we have sparse (**input**) labels (i.e., for each instance, there is just a target class index, from 0 to 9 in this case), and the classes are exclusive. \n",
    "- If instead we had one target probability per class for each instance (such as one-hot vectors, e.g. [0.,0., 0., 1., 0., 0., 0., 0., 0., 0.] to represent class 3), then we would need to use the \"categorical_crossentropy\" loss instead. \n",
    "- If we were doing binary classification (with one or more binary labels), then we would use the \"sigmoid\" (i.e., logistic) activation function in the output layer instead of the \"softmax\" activation function, and we would use the \"binary_crossentropy\" loss.\n",
    "- Regarding the optimizer, \"sgd\" means that we will train the model using simple Stochastic Gradient Descent. In other words, Keras will perform the backpropagation algorithm described earlier. \n",
    "- Finally, since this is a classifier, it’s useful to measure its \"accuracy\" during training and evaluation.\n",
    "\n",
    "**TIP** \n",
    "\n",
    "- If you want to convert sparse labels (i.e., class indices) to one-hot vector labels, use the `keras.utils.to_categorical()` function. \n",
    "- To go the other way round, use the np.argmax() function with axis=1."
   ]
  },
  {
   "cell_type": "markdown",
   "metadata": {},
   "source": [
    "## Training and evaluating the model\n",
    "Now the model is ready to be trained. For this we simply need to call its `fit()` method:"
   ]
  },
  {
   "cell_type": "code",
   "execution_count": 104,
   "metadata": {},
   "outputs": [
    {
     "name": "stdout",
     "output_type": "stream",
     "text": [
      "Epoch 1/30\n",
      "1719/1719 [==============================] - 2s 1ms/step - loss: 0.2244 - accuracy: 0.9189 - val_loss: 0.2927 - val_accuracy: 0.8958\n",
      "Epoch 2/30\n",
      "1719/1719 [==============================] - 2s 1ms/step - loss: 0.2214 - accuracy: 0.9204 - val_loss: 0.2933 - val_accuracy: 0.8936\n",
      "Epoch 3/30\n",
      "1719/1719 [==============================] - 2s 1ms/step - loss: 0.2174 - accuracy: 0.9224 - val_loss: 0.3676 - val_accuracy: 0.8668\n",
      "Epoch 4/30\n",
      "1719/1719 [==============================] - 2s 1ms/step - loss: 0.2143 - accuracy: 0.9232 - val_loss: 0.2975 - val_accuracy: 0.8914\n",
      "Epoch 5/30\n",
      "1719/1719 [==============================] - 2s 1ms/step - loss: 0.2126 - accuracy: 0.9227 - val_loss: 0.2888 - val_accuracy: 0.8938\n",
      "Epoch 6/30\n",
      "1719/1719 [==============================] - 2s 1ms/step - loss: 0.2069 - accuracy: 0.9259 - val_loss: 0.2975 - val_accuracy: 0.8932\n",
      "Epoch 7/30\n",
      "1719/1719 [==============================] - 2s 1ms/step - loss: 0.2044 - accuracy: 0.9273 - val_loss: 0.2940 - val_accuracy: 0.8960\n",
      "Epoch 8/30\n",
      "1719/1719 [==============================] - 2s 1ms/step - loss: 0.2017 - accuracy: 0.9281 - val_loss: 0.3153 - val_accuracy: 0.8876\n",
      "Epoch 9/30\n",
      "1719/1719 [==============================] - 2s 1ms/step - loss: 0.1980 - accuracy: 0.9290 - val_loss: 0.3009 - val_accuracy: 0.8856\n",
      "Epoch 10/30\n",
      "1719/1719 [==============================] - 2s 1ms/step - loss: 0.1957 - accuracy: 0.9295 - val_loss: 0.2903 - val_accuracy: 0.8966\n",
      "Epoch 11/30\n",
      "1719/1719 [==============================] - 2s 1ms/step - loss: 0.1928 - accuracy: 0.9309 - val_loss: 0.2882 - val_accuracy: 0.8946\n",
      "Epoch 12/30\n",
      "1719/1719 [==============================] - 2s 1ms/step - loss: 0.1880 - accuracy: 0.9332 - val_loss: 0.3054 - val_accuracy: 0.8894\n",
      "Epoch 13/30\n",
      "1719/1719 [==============================] - 2s 1ms/step - loss: 0.1857 - accuracy: 0.9346 - val_loss: 0.2959 - val_accuracy: 0.8948\n",
      "Epoch 14/30\n",
      "1719/1719 [==============================] - 2s 1ms/step - loss: 0.1837 - accuracy: 0.9345 - val_loss: 0.2964 - val_accuracy: 0.8900\n",
      "Epoch 15/30\n",
      "1719/1719 [==============================] - 2s 1ms/step - loss: 0.1794 - accuracy: 0.9349 - val_loss: 0.3004 - val_accuracy: 0.8916\n",
      "Epoch 16/30\n",
      "1719/1719 [==============================] - 2s 1ms/step - loss: 0.1779 - accuracy: 0.9363 - val_loss: 0.2950 - val_accuracy: 0.8906\n",
      "Epoch 17/30\n",
      "1719/1719 [==============================] - 2s 1ms/step - loss: 0.1752 - accuracy: 0.9367 - val_loss: 0.3423 - val_accuracy: 0.8830\n",
      "Epoch 18/30\n",
      "1719/1719 [==============================] - 2s 1ms/step - loss: 0.1719 - accuracy: 0.9395 - val_loss: 0.2954 - val_accuracy: 0.8974\n",
      "Epoch 19/30\n",
      "1719/1719 [==============================] - 2s 1ms/step - loss: 0.1696 - accuracy: 0.9399 - val_loss: 0.2998 - val_accuracy: 0.8916\n",
      "Epoch 20/30\n",
      "1719/1719 [==============================] - 2s 1ms/step - loss: 0.1665 - accuracy: 0.9404 - val_loss: 0.3200 - val_accuracy: 0.8874\n",
      "Epoch 21/30\n",
      "1719/1719 [==============================] - 2s 1ms/step - loss: 0.1640 - accuracy: 0.9413 - val_loss: 0.3019 - val_accuracy: 0.8938\n",
      "Epoch 22/30\n",
      "1719/1719 [==============================] - 2s 1ms/step - loss: 0.1616 - accuracy: 0.9423 - val_loss: 0.2935 - val_accuracy: 0.8978\n",
      "Epoch 23/30\n",
      "1719/1719 [==============================] - 2s 1ms/step - loss: 0.1590 - accuracy: 0.9425 - val_loss: 0.3045 - val_accuracy: 0.8928\n",
      "Epoch 24/30\n",
      "1719/1719 [==============================] - 2s 1ms/step - loss: 0.1569 - accuracy: 0.9434 - val_loss: 0.3138 - val_accuracy: 0.8922\n",
      "Epoch 25/30\n",
      "1719/1719 [==============================] - 2s 1ms/step - loss: 0.1538 - accuracy: 0.9455 - val_loss: 0.2961 - val_accuracy: 0.8978\n",
      "Epoch 26/30\n",
      "1719/1719 [==============================] - 2s 1ms/step - loss: 0.1514 - accuracy: 0.9466 - val_loss: 0.3012 - val_accuracy: 0.8980\n",
      "Epoch 27/30\n",
      "1719/1719 [==============================] - 2s 1ms/step - loss: 0.1488 - accuracy: 0.9467 - val_loss: 0.3077 - val_accuracy: 0.8994\n",
      "Epoch 28/30\n",
      "1719/1719 [==============================] - 2s 1ms/step - loss: 0.1469 - accuracy: 0.9482 - val_loss: 0.3020 - val_accuracy: 0.8954\n",
      "Epoch 29/30\n",
      "1719/1719 [==============================] - 2s 1ms/step - loss: 0.1457 - accuracy: 0.9483 - val_loss: 0.3155 - val_accuracy: 0.8924\n",
      "Epoch 30/30\n",
      "1719/1719 [==============================] - 2s 1ms/step - loss: 0.1426 - accuracy: 0.9489 - val_loss: 0.3125 - val_accuracy: 0.8954\n"
     ]
    }
   ],
   "source": [
    "history = model.fit(X_train, y_train, epochs=30,\n",
    "                    validation_data=(X_valid, y_valid))"
   ]
  },
  {
   "cell_type": "markdown",
   "metadata": {},
   "source": [
    "- We passed a validation set (this is optional). Keras will measure the loss and the extra metrics on this set at the end of each epoch, which is very useful to see how well the model really performs. \n",
    "- If the performance on the training set is much better than on the validation set, your model is probably overfitting the training set (or there is a bug, such as a data\n",
    "mismatch between the training set and the validation set)."
   ]
  },
  {
   "cell_type": "markdown",
   "metadata": {},
   "source": [
    "The fit() method returns a History object containing \n",
    "- the training parameters (`history.params`), \n",
    "- the list of epochs it went through (`history.epoch`)\n",
    "- a dictionary (`history.history`) containing the loss and extra metrics it measured at the end of each epoch on the training set and on the validation set (if any). If you use this dictionary to create a pandas DataFrame and call its plot() method, you get the learning curves"
   ]
  },
  {
   "cell_type": "code",
   "execution_count": 100,
   "metadata": {},
   "outputs": [
    {
     "data": {
      "text/plain": [
       "{'verbose': 1, 'epochs': 30, 'steps': 1719}"
      ]
     },
     "execution_count": 100,
     "metadata": {},
     "output_type": "execute_result"
    }
   ],
   "source": [
    "history.params"
   ]
  },
  {
   "cell_type": "code",
   "execution_count": 101,
   "metadata": {},
   "outputs": [
    {
     "name": "stdout",
     "output_type": "stream",
     "text": [
      "[0, 1, 2, 3, 4, 5, 6, 7, 8, 9, 10, 11, 12, 13, 14, 15, 16, 17, 18, 19, 20, 21, 22, 23, 24, 25, 26, 27, 28, 29]\n"
     ]
    }
   ],
   "source": [
    "print(history.epoch)"
   ]
  },
  {
   "cell_type": "code",
   "execution_count": 102,
   "metadata": {},
   "outputs": [
    {
     "data": {
      "text/plain": [
       "dict_keys(['loss', 'accuracy', 'val_loss', 'val_accuracy'])"
      ]
     },
     "execution_count": 102,
     "metadata": {},
     "output_type": "execute_result"
    }
   ],
   "source": [
    "history.history.keys()"
   ]
  },
  {
   "cell_type": "code",
   "execution_count": 105,
   "metadata": {},
   "outputs": [
    {
     "data": {
      "image/png": "[encoded data removed]",
      "text/plain": [
       "<Figure size 576x360 with 1 Axes>"
      ]
     },
     "metadata": {
      "needs_background": "light"
     },
     "output_type": "display_data"
    }
   ],
   "source": [
    "import pandas as pd\n",
    "\n",
    "pd.DataFrame(history.history).plot(figsize=(8, 5))\n",
    "plt.grid(True)\n",
    "plt.gca().set_ylim(0, 1)\n",
    "plt.show()"
   ]
  },
  {
   "cell_type": "markdown",
   "metadata": {},
   "source": [
    "The validation curves are close to the training curves, which means that there is not too much overfitting.\n",
    "\n",
    "If the validation loss is still going down, you can call the `fit()` method again, Keras just continues training where it left off. \n",
    "\n",
    "Once you are satisfied with your model’s validation accuracy, you should evaluate it on the test set to estimate the generalization error before you deploy the model to production."
   ]
  },
  {
   "cell_type": "code",
   "execution_count": 48,
   "metadata": {},
   "outputs": [
    {
     "name": "stdout",
     "output_type": "stream",
     "text": [
      "313/313 [==============================] - 0s 883us/step - loss: 0.3611 - accuracy: 0.8862\n"
     ]
    },
    {
     "data": {
      "text/plain": [
       "[0.3610770106315613, 0.8862000107765198]"
      ]
     },
     "execution_count": 48,
     "metadata": {},
     "output_type": "execute_result"
    }
   ],
   "source": [
    "model.evaluate(X_test, y_test)"
   ]
  },
  {
   "cell_type": "markdown",
   "metadata": {},
   "source": [
    "## Using the model to make predictions"
   ]
  },
  {
   "cell_type": "code",
   "execution_count": 106,
   "metadata": {},
   "outputs": [
    {
     "name": "stdout",
     "output_type": "stream",
     "text": [
      "WARNING:tensorflow:5 out of the last 6 calls to <function Model.make_predict_function.<locals>.predict_function at 0x00000216EA70DB80> triggered tf.function retracing. Tracing is expensive and the excessive number of tracings could be due to (1) creating @tf.function repeatedly in a loop, (2) passing tensors with different shapes, (3) passing Python objects instead of tensors. For (1), please define your @tf.function outside of the loop. For (2), @tf.function has experimental_relax_shapes=True option that relaxes argument shapes that can avoid unnecessary retracing. For (3), please refer to https://www.tensorflow.org/guide/function#controlling_retracing and https://www.tensorflow.org/api_docs/python/tf/function for  more details.\n"
     ]
    },
    {
     "data": {
      "text/plain": [
       "array([[0., 0., 0., 0., 0., 0., 0., 0., 0., 1.],\n",
       "       [0., 0., 1., 0., 0., 0., 0., 0., 0., 0.],\n",
       "       [0., 1., 0., 0., 0., 0., 0., 0., 0., 0.]], dtype=float32)"
      ]
     },
     "execution_count": 106,
     "metadata": {},
     "output_type": "execute_result"
    }
   ],
   "source": [
    "X_new = X_test[:3]\n",
    "y_proba = model.predict(X_new)\n",
    "y_proba.round(2)"
   ]
  },
  {
   "cell_type": "markdown",
   "metadata": {},
   "source": [
    "**Warning**: `model.predict_classes(X_new)` is deprecated. It is replaced with `np.argmax(model.predict(X_new), axis=-1)`."
   ]
  },
  {
   "cell_type": "code",
   "execution_count": 107,
   "metadata": {},
   "outputs": [
    {
     "data": {
      "text/plain": [
       "array([9, 2, 1], dtype=int64)"
      ]
     },
     "execution_count": 107,
     "metadata": {},
     "output_type": "execute_result"
    }
   ],
   "source": [
    "#y_pred = model.predict_classes(X_new) # deprecated\n",
    "y_pred = np.argmax(model.predict(X_new), axis=-1)\n",
    "y_pred"
   ]
  },
  {
   "cell_type": "code",
   "execution_count": 108,
   "metadata": {},
   "outputs": [
    {
     "data": {
      "text/plain": [
       "array(['Ankle boot', 'Pullover', 'Trouser'], dtype='<U11')"
      ]
     },
     "execution_count": 108,
     "metadata": {},
     "output_type": "execute_result"
    }
   ],
   "source": [
    "np.array(class_names)[y_pred]"
   ]
  },
  {
   "cell_type": "markdown",
   "metadata": {},
   "source": [
    "The actual values: "
   ]
  },
  {
   "cell_type": "code",
   "execution_count": 109,
   "metadata": {},
   "outputs": [
    {
     "data": {
      "text/plain": [
       "array([9, 2, 1], dtype=uint8)"
      ]
     },
     "execution_count": 109,
     "metadata": {},
     "output_type": "execute_result"
    }
   ],
   "source": [
    "y_new = y_test[:3]\n",
    "y_new"
   ]
  },
  {
   "cell_type": "code",
   "execution_count": 110,
   "metadata": {},
   "outputs": [
    {
     "data": {
      "image/png": "[encoded data removed]",
      "text/plain": [
       "<Figure size 518.4x172.8 with 3 Axes>"
      ]
     },
     "metadata": {
      "needs_background": "light"
     },
     "output_type": "display_data"
    }
   ],
   "source": [
    "plt.figure(figsize=(7.2, 2.4))\n",
    "for index, image in enumerate(X_new):\n",
    "    plt.subplot(1, 3, index + 1)\n",
    "    plt.imshow(image, cmap=\"binary\", interpolation=\"nearest\")\n",
    "    plt.axis('off')\n",
    "    plt.title(class_names[y_test[index]], fontsize=12)\n",
    "plt.subplots_adjust(wspace=0.2, hspace=0.5)\n",
    "plt.show()"
   ]
  },
  {
   "cell_type": "markdown",
   "metadata": {},
   "source": [
    "# Regression MLP"
   ]
  },
  {
   "cell_type": "markdown",
   "metadata": {},
   "source": [
    "Let's load, split and scale the California housing dataset (the original one, not the modified one as in chapter 2). It contains only numerical features (there is no ocean_proximity feature), and there is no missing value."
   ]
  },
  {
   "cell_type": "code",
   "execution_count": 115,
   "metadata": {},
   "outputs": [],
   "source": [
    "from sklearn.datasets import fetch_california_housing\n",
    "from sklearn.model_selection import train_test_split\n",
    "from sklearn.preprocessing import StandardScaler\n",
    "\n",
    "housing = fetch_california_housing()\n",
    "\n",
    "X_train_full, X_test, y_train_full, y_test = train_test_split(housing.data, housing.target, random_state=42)\n",
    "X_train, X_valid, y_train, y_valid = train_test_split(X_train_full, y_train_full, random_state=42)\n",
    "\n",
    "scaler = StandardScaler()\n",
    "X_train = scaler.fit_transform(X_train)\n",
    "X_valid = scaler.transform(X_valid)\n",
    "X_test = scaler.transform(X_test)"
   ]
  },
  {
   "cell_type": "code",
   "execution_count": 116,
   "metadata": {},
   "outputs": [
    {
     "data": {
      "text/plain": [
       "array([0.477  , 0.458  , 5.00001, ..., 1.177  , 2.631  , 4.815  ])"
      ]
     },
     "execution_count": 116,
     "metadata": {},
     "output_type": "execute_result"
    }
   ],
   "source": [
    "y_test"
   ]
  },
  {
   "cell_type": "markdown",
   "metadata": {},
   "source": [
    "The main differences between regression and classification MLP are:\n",
    "- the output layer has a single neuron (since we only want to predict a single value) \n",
    "- no output activation function\n",
    "- the loss function is the mean squared error\n",
    "- since the dataset is quite noisy, we just use a single hidden layer with fewer neurons than before, to avoid overfitting:"
   ]
  },
  {
   "cell_type": "code",
   "execution_count": 117,
   "metadata": {},
   "outputs": [],
   "source": [
    "np.random.seed(42)\n",
    "tf.random.set_seed(42)"
   ]
  },
  {
   "cell_type": "code",
   "execution_count": 118,
   "metadata": {},
   "outputs": [
    {
     "name": "stdout",
     "output_type": "stream",
     "text": [
      "Epoch 1/20\n",
      "363/363 [==============================] - 0s 772us/step - loss: 1.6419 - val_loss: 0.8560\n",
      "Epoch 2/20\n",
      "363/363 [==============================] - 0s 503us/step - loss: 0.7047 - val_loss: 0.6531\n",
      "Epoch 3/20\n",
      "363/363 [==============================] - 0s 525us/step - loss: 0.6345 - val_loss: 0.6099\n",
      "Epoch 4/20\n",
      "363/363 [==============================] - 0s 511us/step - loss: 0.5977 - val_loss: 0.5658\n",
      "Epoch 5/20\n",
      "363/363 [==============================] - 0s 531us/step - loss: 0.5706 - val_loss: 0.5355\n",
      "Epoch 6/20\n",
      "363/363 [==============================] - 0s 536us/step - loss: 0.5472 - val_loss: 0.5173\n",
      "Epoch 7/20\n",
      "363/363 [==============================] - 0s 500us/step - loss: 0.5288 - val_loss: 0.5081\n",
      "Epoch 8/20\n",
      "363/363 [==============================] - 0s 511us/step - loss: 0.5130 - val_loss: 0.4799\n",
      "Epoch 9/20\n",
      "363/363 [==============================] - 0s 517us/step - loss: 0.4992 - val_loss: 0.4690\n",
      "Epoch 10/20\n",
      "363/363 [==============================] - 0s 491us/step - loss: 0.4875 - val_loss: 0.4656\n",
      "Epoch 11/20\n",
      "363/363 [==============================] - 0s 510us/step - loss: 0.4777 - val_loss: 0.4482\n",
      "Epoch 12/20\n",
      "363/363 [==============================] - 0s 499us/step - loss: 0.4688 - val_loss: 0.4479\n",
      "Epoch 13/20\n",
      "363/363 [==============================] - 0s 515us/step - loss: 0.4615 - val_loss: 0.4296\n",
      "Epoch 14/20\n",
      "363/363 [==============================] - 0s 527us/step - loss: 0.4547 - val_loss: 0.4233\n",
      "Epoch 15/20\n",
      "363/363 [==============================] - 0s 516us/step - loss: 0.4488 - val_loss: 0.4176\n",
      "Epoch 16/20\n",
      "363/363 [==============================] - 0s 493us/step - loss: 0.4435 - val_loss: 0.4123\n",
      "Epoch 17/20\n",
      "363/363 [==============================] - 0s 487us/step - loss: 0.4389 - val_loss: 0.4071\n",
      "Epoch 18/20\n",
      "363/363 [==============================] - 0s 497us/step - loss: 0.4347 - val_loss: 0.4037\n",
      "Epoch 19/20\n",
      "363/363 [==============================] - 0s 503us/step - loss: 0.4306 - val_loss: 0.4000\n",
      "Epoch 20/20\n",
      "363/363 [==============================] - 0s 502us/step - loss: 0.4273 - val_loss: 0.3969\n",
      "162/162 [==============================] - 0s 379us/step - loss: 0.4212\n",
      "0.4211779236793518\n"
     ]
    }
   ],
   "source": [
    "model = keras.models.Sequential([\n",
    "    keras.layers.Dense(30, activation=\"relu\", input_shape=X_train.shape[1:]),\n",
    "    keras.layers.Dense(1)\n",
    "])\n",
    "model.compile(loss=\"mean_squared_error\", optimizer=keras.optimizers.SGD(learning_rate=1e-3))\n",
    "history = model.fit(X_train, y_train, epochs=20, validation_data=(X_valid, y_valid))\n",
    "mse_test = model.evaluate(X_test, y_test)\n",
    "print(mse_test)\n",
    "X_new = X_test[:3]\n",
    "y_pred = model.predict(X_new)"
   ]
  },
  {
   "cell_type": "markdown",
   "metadata": {},
   "source": [
    "## Saving and Restoring a model"
   ]
  },
  {
   "cell_type": "code",
   "execution_count": 119,
   "metadata": {},
   "outputs": [],
   "source": [
    "np.random.seed(42)\n",
    "tf.random.set_seed(42)"
   ]
  },
  {
   "cell_type": "code",
   "execution_count": 120,
   "metadata": {},
   "outputs": [],
   "source": [
    "model = keras.models.Sequential([\n",
    "    keras.layers.Dense(30, activation=\"relu\", input_shape=[8]),\n",
    "    keras.layers.Dense(30, activation=\"relu\"),\n",
    "    keras.layers.Dense(1)\n",
    "])    "
   ]
  },
  {
   "cell_type": "code",
   "execution_count": 121,
   "metadata": {},
   "outputs": [
    {
     "name": "stdout",
     "output_type": "stream",
     "text": [
      "Epoch 1/10\n",
      "363/363 [==============================] - 0s 718us/step - loss: 1.8866 - val_loss: 0.7126\n",
      "Epoch 2/10\n",
      "363/363 [==============================] - 0s 582us/step - loss: 0.6577 - val_loss: 0.6880\n",
      "Epoch 3/10\n",
      "363/363 [==============================] - 0s 589us/step - loss: 0.5934 - val_loss: 0.5803\n",
      "Epoch 4/10\n",
      "363/363 [==============================] - 0s 582us/step - loss: 0.5557 - val_loss: 0.5166\n",
      "Epoch 5/10\n",
      "363/363 [==============================] - 0s 598us/step - loss: 0.5272 - val_loss: 0.4895\n",
      "Epoch 6/10\n",
      "363/363 [==============================] - 0s 596us/step - loss: 0.5033 - val_loss: 0.4951\n",
      "Epoch 7/10\n",
      "363/363 [==============================] - 0s 554us/step - loss: 0.4854 - val_loss: 0.4861\n",
      "Epoch 8/10\n",
      "363/363 [==============================] - 0s 575us/step - loss: 0.4709 - val_loss: 0.4554\n",
      "Epoch 9/10\n",
      "363/363 [==============================] - 0s 592us/step - loss: 0.4578 - val_loss: 0.4413\n",
      "Epoch 10/10\n",
      "363/363 [==============================] - 0s 598us/step - loss: 0.4474 - val_loss: 0.4379\n",
      "162/162 [==============================] - 0s 421us/step - loss: 0.4382\n"
     ]
    }
   ],
   "source": [
    "model.compile(loss=\"mse\", optimizer=keras.optimizers.SGD(learning_rate=1e-3))\n",
    "history = model.fit(X_train, y_train, epochs=10, validation_data=(X_valid, y_valid))\n",
    "mse_test = model.evaluate(X_test, y_test)"
   ]
  },
  {
   "cell_type": "code",
   "execution_count": 122,
   "metadata": {},
   "outputs": [],
   "source": [
    "model.save(\"my_keras_model.h5\")"
   ]
  },
  {
   "cell_type": "code",
   "execution_count": 123,
   "metadata": {},
   "outputs": [],
   "source": [
    "model = keras.models.load_model(\"my_keras_model.h5\")"
   ]
  },
  {
   "cell_type": "code",
   "execution_count": 124,
   "metadata": {},
   "outputs": [
    {
     "data": {
      "text/plain": [
       "array([[0.5400235],\n",
       "       [1.6505971],\n",
       "       [3.0098243]], dtype=float32)"
      ]
     },
     "execution_count": 124,
     "metadata": {},
     "output_type": "execute_result"
    }
   ],
   "source": [
    "model.predict(X_new)"
   ]
  },
  {
   "cell_type": "markdown",
   "metadata": {},
   "source": [
    "## Using Callbacks during Training"
   ]
  },
  {
   "cell_type": "code",
   "execution_count": 126,
   "metadata": {},
   "outputs": [],
   "source": [
    "keras.backend.clear_session()\n",
    "np.random.seed(42)\n",
    "tf.random.set_seed(42)"
   ]
  },
  {
   "cell_type": "code",
   "execution_count": 128,
   "metadata": {},
   "outputs": [],
   "source": [
    "model = keras.models.Sequential([\n",
    "    keras.layers.Dense(30, activation=\"relu\", input_shape=[8]),\n",
    "    keras.layers.Dense(30, activation=\"relu\"),\n",
    "    keras.layers.Dense(1)\n",
    "])    "
   ]
  },
  {
   "cell_type": "markdown",
   "metadata": {},
   "source": [
    "The `fit()` method accepts a callbacks argument that lets you specify a list of objects that Keras will call at the start and end of training, at the start and end of each epoch, and even before and after processing each batch.\n",
    "\n",
    "- You can implement early stopping by using the `EarlyStopping` callback. \n",
    "- It will interrupt training when it measures no progress on the validation set for a number of epochs (defined by the `patience` argument), and it will optionally roll back to the best model.\n"
   ]
  },
  {
   "cell_type": "code",
   "execution_count": 129,
   "metadata": {},
   "outputs": [
    {
     "name": "stdout",
     "output_type": "stream",
     "text": [
      "Epoch 1/100\n",
      "363/363 [==============================] - 0s 730us/step - loss: 1.8542 - val_loss: 1.3779\n",
      "Epoch 2/100\n",
      "363/363 [==============================] - 0s 614us/step - loss: 0.7854 - val_loss: 0.6885\n",
      "Epoch 3/100\n",
      "363/363 [==============================] - 0s 634us/step - loss: 0.6817 - val_loss: 0.6645\n",
      "Epoch 4/100\n",
      "363/363 [==============================] - 0s 669us/step - loss: 0.6283 - val_loss: 0.5944\n",
      "Epoch 5/100\n",
      "363/363 [==============================] - 0s 594us/step - loss: 0.5868 - val_loss: 0.5505\n",
      "Epoch 6/100\n",
      "363/363 [==============================] - 0s 576us/step - loss: 0.5510 - val_loss: 0.5211\n",
      "Epoch 7/100\n",
      "363/363 [==============================] - 0s 609us/step - loss: 0.5225 - val_loss: 0.5055\n",
      "Epoch 8/100\n",
      "363/363 [==============================] - 0s 590us/step - loss: 0.4993 - val_loss: 0.4648\n",
      "Epoch 9/100\n",
      "363/363 [==============================] - 0s 584us/step - loss: 0.4803 - val_loss: 0.4442\n",
      "Epoch 10/100\n",
      "363/363 [==============================] - 0s 644us/step - loss: 0.4649 - val_loss: 0.4304\n",
      "Epoch 11/100\n",
      "363/363 [==============================] - 0s 608us/step - loss: 0.4528 - val_loss: 0.4183\n",
      "Epoch 12/100\n",
      "363/363 [==============================] - 0s 614us/step - loss: 0.4425 - val_loss: 0.4100\n",
      "Epoch 13/100\n",
      "363/363 [==============================] - 0s 606us/step - loss: 0.4342 - val_loss: 0.4051\n",
      "Epoch 14/100\n",
      "363/363 [==============================] - 0s 607us/step - loss: 0.4269 - val_loss: 0.4001\n",
      "Epoch 15/100\n",
      "363/363 [==============================] - 0s 580us/step - loss: 0.4208 - val_loss: 0.3987\n",
      "Epoch 16/100\n",
      "363/363 [==============================] - 0s 576us/step - loss: 0.4154 - val_loss: 0.3908\n",
      "Epoch 17/100\n",
      "363/363 [==============================] - 0s 616us/step - loss: 0.4109 - val_loss: 0.4004\n",
      "Epoch 18/100\n",
      "363/363 [==============================] - 0s 604us/step - loss: 0.4070 - val_loss: 0.3939\n",
      "Epoch 19/100\n",
      "363/363 [==============================] - 0s 582us/step - loss: 0.4031 - val_loss: 0.3909\n",
      "Epoch 20/100\n",
      "363/363 [==============================] - 0s 600us/step - loss: 0.4002 - val_loss: 0.4167\n",
      "Epoch 21/100\n",
      "363/363 [==============================] - 0s 606us/step - loss: 0.3972 - val_loss: 0.4131\n",
      "Epoch 22/100\n",
      "363/363 [==============================] - 0s 578us/step - loss: 0.3947 - val_loss: 0.4209\n",
      "Epoch 23/100\n",
      "363/363 [==============================] - 0s 577us/step - loss: 0.3923 - val_loss: 0.3815\n",
      "Epoch 24/100\n",
      "363/363 [==============================] - 0s 584us/step - loss: 0.3901 - val_loss: 0.3955\n",
      "Epoch 25/100\n",
      "363/363 [==============================] - 0s 596us/step - loss: 0.3880 - val_loss: 0.4081\n",
      "Epoch 26/100\n",
      "363/363 [==============================] - 0s 606us/step - loss: 0.3862 - val_loss: 0.4143\n",
      "Epoch 27/100\n",
      "363/363 [==============================] - 0s 604us/step - loss: 0.3847 - val_loss: 0.3781\n",
      "Epoch 28/100\n",
      "363/363 [==============================] - 0s 567us/step - loss: 0.3829 - val_loss: 0.3959\n",
      "Epoch 29/100\n",
      "363/363 [==============================] - 0s 587us/step - loss: 0.3815 - val_loss: 0.3860\n",
      "Epoch 30/100\n",
      "363/363 [==============================] - 0s 585us/step - loss: 0.3799 - val_loss: 0.4012\n",
      "Epoch 31/100\n",
      "363/363 [==============================] - 0s 612us/step - loss: 0.3779 - val_loss: 0.3917\n",
      "Epoch 32/100\n",
      "363/363 [==============================] - 0s 578us/step - loss: 0.3771 - val_loss: 0.4158\n",
      "Epoch 33/100\n",
      "363/363 [==============================] - 0s 608us/step - loss: 0.3761 - val_loss: 0.3758\n",
      "Epoch 34/100\n",
      "363/363 [==============================] - 0s 583us/step - loss: 0.3744 - val_loss: 0.3739\n",
      "Epoch 35/100\n",
      "363/363 [==============================] - 0s 631us/step - loss: 0.3734 - val_loss: 0.4006\n",
      "Epoch 36/100\n",
      "363/363 [==============================] - 0s 585us/step - loss: 0.3721 - val_loss: 0.3648\n",
      "Epoch 37/100\n",
      "363/363 [==============================] - 0s 596us/step - loss: 0.3710 - val_loss: 0.3799\n",
      "Epoch 38/100\n",
      "363/363 [==============================] - 0s 648us/step - loss: 0.3701 - val_loss: 0.3631\n",
      "Epoch 39/100\n",
      "363/363 [==============================] - 0s 589us/step - loss: 0.3689 - val_loss: 0.3637\n",
      "Epoch 40/100\n",
      "363/363 [==============================] - 0s 594us/step - loss: 0.3678 - val_loss: 0.3704\n",
      "Epoch 41/100\n",
      "363/363 [==============================] - 0s 593us/step - loss: 0.3674 - val_loss: 0.3787\n",
      "Epoch 42/100\n",
      "363/363 [==============================] - 0s 589us/step - loss: 0.3666 - val_loss: 0.3813\n",
      "Epoch 43/100\n",
      "363/363 [==============================] - 0s 611us/step - loss: 0.3653 - val_loss: 0.3792\n",
      "Epoch 44/100\n",
      "363/363 [==============================] - 0s 617us/step - loss: 0.3643 - val_loss: 0.3975\n",
      "Epoch 45/100\n",
      "363/363 [==============================] - 0s 615us/step - loss: 0.3640 - val_loss: 0.3601\n",
      "Epoch 46/100\n",
      "363/363 [==============================] - 0s 603us/step - loss: 0.3628 - val_loss: 0.3611\n",
      "Epoch 47/100\n",
      "363/363 [==============================] - 0s 588us/step - loss: 0.3621 - val_loss: 0.3587\n",
      "Epoch 48/100\n",
      "363/363 [==============================] - 0s 593us/step - loss: 0.3612 - val_loss: 0.3784\n",
      "Epoch 49/100\n",
      "363/363 [==============================] - 0s 588us/step - loss: 0.3612 - val_loss: 0.3518\n",
      "Epoch 50/100\n",
      "363/363 [==============================] - 0s 568us/step - loss: 0.3599 - val_loss: 0.3456\n",
      "Epoch 51/100\n",
      "363/363 [==============================] - 0s 593us/step - loss: 0.3592 - val_loss: 0.3657\n",
      "Epoch 52/100\n",
      "363/363 [==============================] - 0s 609us/step - loss: 0.3586 - val_loss: 0.3437\n",
      "Epoch 53/100\n",
      "363/363 [==============================] - 0s 629us/step - loss: 0.3581 - val_loss: 0.3655\n",
      "Epoch 54/100\n",
      "363/363 [==============================] - 0s 606us/step - loss: 0.3573 - val_loss: 0.3463\n",
      "Epoch 55/100\n",
      "363/363 [==============================] - 0s 617us/step - loss: 0.3568 - val_loss: 0.3486\n",
      "Epoch 56/100\n",
      "363/363 [==============================] - 0s 604us/step - loss: 0.3561 - val_loss: 0.3464\n",
      "Epoch 57/100\n",
      "363/363 [==============================] - 0s 617us/step - loss: 0.3555 - val_loss: 0.3412\n",
      "Epoch 58/100\n",
      "363/363 [==============================] - 0s 601us/step - loss: 0.3549 - val_loss: 0.3537\n",
      "Epoch 59/100\n",
      "363/363 [==============================] - 0s 602us/step - loss: 0.3546 - val_loss: 0.3519\n",
      "Epoch 60/100\n",
      "363/363 [==============================] - 0s 568us/step - loss: 0.3539 - val_loss: 0.3442\n",
      "Epoch 61/100\n",
      "363/363 [==============================] - 0s 607us/step - loss: 0.3530 - val_loss: 0.3554\n",
      "Epoch 62/100\n",
      "363/363 [==============================] - 0s 597us/step - loss: 0.3531 - val_loss: 0.3474\n",
      "Epoch 63/100\n",
      "363/363 [==============================] - 0s 617us/step - loss: 0.3519 - val_loss: 0.3442\n",
      "Epoch 64/100\n",
      "363/363 [==============================] - 0s 619us/step - loss: 0.3521 - val_loss: 0.3367\n",
      "Epoch 65/100\n",
      "363/363 [==============================] - 0s 590us/step - loss: 0.3513 - val_loss: 0.3393\n",
      "Epoch 66/100\n",
      "363/363 [==============================] - 0s 592us/step - loss: 0.3507 - val_loss: 0.3389\n",
      "Epoch 67/100\n",
      "363/363 [==============================] - 0s 617us/step - loss: 0.3502 - val_loss: 0.3444\n",
      "Epoch 68/100\n",
      "363/363 [==============================] - 0s 609us/step - loss: 0.3498 - val_loss: 0.3392\n",
      "Epoch 69/100\n",
      "363/363 [==============================] - 0s 565us/step - loss: 0.3493 - val_loss: 0.3382\n",
      "Epoch 70/100\n",
      "363/363 [==============================] - 0s 588us/step - loss: 0.3487 - val_loss: 0.3492\n",
      "Epoch 71/100\n",
      "363/363 [==============================] - 0s 609us/step - loss: 0.3485 - val_loss: 0.3408\n",
      "Epoch 72/100\n",
      "363/363 [==============================] - 0s 611us/step - loss: 0.3479 - val_loss: 0.3356\n",
      "Epoch 73/100\n",
      "363/363 [==============================] - 0s 595us/step - loss: 0.3471 - val_loss: 0.3316\n",
      "Epoch 74/100\n",
      "363/363 [==============================] - 0s 606us/step - loss: 0.3473 - val_loss: 0.3403\n",
      "Epoch 75/100\n",
      "363/363 [==============================] - 0s 600us/step - loss: 0.3465 - val_loss: 0.3418\n",
      "Epoch 76/100\n",
      "363/363 [==============================] - 0s 582us/step - loss: 0.3463 - val_loss: 0.3306\n",
      "Epoch 77/100\n",
      "363/363 [==============================] - 0s 586us/step - loss: 0.3456 - val_loss: 0.3413\n",
      "Epoch 78/100\n",
      "363/363 [==============================] - 0s 571us/step - loss: 0.3453 - val_loss: 0.3355\n",
      "Epoch 79/100\n",
      "363/363 [==============================] - 0s 597us/step - loss: 0.3450 - val_loss: 0.3305\n",
      "Epoch 80/100\n",
      "363/363 [==============================] - 0s 591us/step - loss: 0.3444 - val_loss: 0.3301\n",
      "Epoch 81/100\n",
      "363/363 [==============================] - 0s 606us/step - loss: 0.3441 - val_loss: 0.3281\n",
      "Epoch 82/100\n",
      "363/363 [==============================] - 0s 626us/step - loss: 0.3437 - val_loss: 0.3326\n",
      "Epoch 83/100\n",
      "363/363 [==============================] - 0s 602us/step - loss: 0.3434 - val_loss: 0.3267\n",
      "Epoch 84/100\n",
      "363/363 [==============================] - 0s 610us/step - loss: 0.3428 - val_loss: 0.3381\n",
      "Epoch 85/100\n",
      "363/363 [==============================] - 0s 619us/step - loss: 0.3425 - val_loss: 0.3267\n",
      "Epoch 86/100\n",
      "363/363 [==============================] - 0s 616us/step - loss: 0.3422 - val_loss: 0.3358\n",
      "Epoch 87/100\n",
      "363/363 [==============================] - 0s 616us/step - loss: 0.3418 - val_loss: 0.3288\n",
      "Epoch 88/100\n",
      "363/363 [==============================] - 0s 600us/step - loss: 0.3414 - val_loss: 0.3276\n",
      "Epoch 89/100\n",
      "363/363 [==============================] - 0s 599us/step - loss: 0.3407 - val_loss: 0.3354\n",
      "Epoch 90/100\n",
      "363/363 [==============================] - 0s 581us/step - loss: 0.3406 - val_loss: 0.3285\n",
      "Epoch 91/100\n",
      "363/363 [==============================] - 0s 617us/step - loss: 0.3400 - val_loss: 0.3254\n",
      "Epoch 92/100\n",
      "363/363 [==============================] - 0s 598us/step - loss: 0.3397 - val_loss: 0.3264\n",
      "Epoch 93/100\n",
      "363/363 [==============================] - 0s 581us/step - loss: 0.3394 - val_loss: 0.3239\n",
      "Epoch 94/100\n",
      "363/363 [==============================] - 0s 578us/step - loss: 0.3390 - val_loss: 0.3237\n",
      "Epoch 95/100\n",
      "363/363 [==============================] - 0s 590us/step - loss: 0.3385 - val_loss: 0.3345\n",
      "Epoch 96/100\n",
      "363/363 [==============================] - 0s 595us/step - loss: 0.3382 - val_loss: 0.3219\n",
      "Epoch 97/100\n",
      "363/363 [==============================] - 0s 605us/step - loss: 0.3380 - val_loss: 0.3243\n",
      "Epoch 98/100\n",
      "363/363 [==============================] - 0s 600us/step - loss: 0.3377 - val_loss: 0.3218\n",
      "Epoch 99/100\n",
      "363/363 [==============================] - 0s 593us/step - loss: 0.3372 - val_loss: 0.3245\n",
      "Epoch 100/100\n",
      "363/363 [==============================] - 0s 588us/step - loss: 0.3366 - val_loss: 0.3246\n",
      "162/162 [==============================] - 0s 384us/step - loss: 0.3392\n"
     ]
    }
   ],
   "source": [
    "model.compile(loss=\"mse\", optimizer=keras.optimizers.SGD(learning_rate=1e-3))\n",
    "early_stopping_cb = keras.callbacks.EarlyStopping(patience=10,\n",
    "                                                  restore_best_weights=True)\n",
    "history = model.fit(X_train, y_train, epochs=100,\n",
    "                    validation_data=(X_valid, y_valid),\n",
    "                    callbacks=[early_stopping_cb])\n",
    "mse_test = model.evaluate(X_test, y_test)"
   ]
  },
  {
   "cell_type": "markdown",
   "metadata": {},
   "source": [
    "The number of epochs can be set to a large value since training will stop automatically when there is no more progress."
   ]
  },
  {
   "cell_type": "markdown",
   "metadata": {},
   "source": [
    "# Hyperparameter Tuning"
   ]
  },
  {
   "cell_type": "markdown",
   "metadata": {},
   "source": [
    "The flexibility of neural networks is also one of their main drawbacks: there are many hyperparameters to tweak. \n",
    "- network architecture\n",
    "- number of layers\n",
    "- number of neurons per layer\n",
    "- type of activation function to use in each layer\n",
    "- the weight initialization logic\n",
    "- ...\n",
    "\n",
    "How do you know what combination of hyperparameters is the best for your task?\n",
    "\n",
    "## Number of Hidden Layers\n",
    "- For many problems, you can begin with a single hidden layer and get reasonable results.\n",
    "- For complex problems, deep networks have a much higher parameter efficiency than shallow ones: they can model complex functions using exponentially fewer neurons than shallow nets, allowing them to reach much better performance with the same amount of training data.\n",
    "- Real-world data is often structured in  a hierarchical way, and deep neural networks automatically take advantage of this fact: \n",
    "  - lower hidden layers model lowlevel structures (e.g., line segments of various shapes and orientations)\n",
    "  - intermediate hidden layers combine these low-level structures to model intermediate-level structures (e.g., squares, circles)\n",
    "  - the highest hidden layers and the output layer combine these intermediate structures to model high-level structures (e.g., faces)\n",
    "- Not only does this hierarchical architecture help DNNs converge faster to a good solution, but it also improves their ability to generalize to new datasets.\n",
    "  - For example, if you have already trained a model to recognize faces in pictures and you now want to train a new neural network to recognize hairstyles, you can kickstart the training by **reusing the lower layers of the first network**.\n",
    "  - Instead of randomly initializing the weights and biases of the first few layers of the new neural network, you can initialize them to the values of the weights and biases of the lower layers of the first network.\n",
    "  - This way the network will not have to learn from scratch all the low-level structures that occur in most pictures; it will only have to learn the higher-level structures (e.g., hairstyles). - This is called _transfer learning_.\n",
    "\n",
    "\n",
    "## Number of Neurons per Hidden Layer\n",
    "- The number of neurons in the input and output layers is determined by the type of input and output your task requires.\n",
    "- In general it's fine to use the same number of neurons in each hidden layer. \n",
    "- Depending on the dataset, it can sometimes help to make the first hidden layer bigger than the others.\n",
    "- Just like the number of layers, you can try increasing the number of neurons gradually until the network starts overfitting. \n",
    "- But in practice, it’s often simpler and more efficient to pick a model with more layers and neurons than you actually need, then use early stopping and other regularization techniques to prevent it from overfitting.\n",
    "\n",
    "## Learning Rate, Batch Size, and Other Hyperparameters\n",
    "### Learning Rate\n",
    "- most important hyperparameter\n",
    "- train the model for a few hundred iterations, starting with a very low learning rate (e.g., $10^{-5}$) and gradually increase it up to a very large value (e.g., $10$).\n",
    "- this is done by multiplying the learning rate by a constant factor at each iteration. \n",
    "### Optimizer\n",
    "- Choosing a better optimizer than plain old Mini-batch Gradient Descent (and tuning its hyperparameters) is also quite important. \n",
    "- We will see several advanced optimizers in Chapter 11.\n",
    "### Batch size\n",
    "- can have a significant impact on your model’s performance and training time\n",
    "- the main benefit of using large batch sizes is that hardware accelerators like GPUs can process them efficiently, so the training algorithm will see more\n",
    "instances per second.\n",
    "- there’s a catch, though: in practice, large batch sizes often lead to training instabilities, especially at the beginning of training, and the resulting model may not generalize as well as a model trained with a small batch size."
   ]
  }
 ],
 "metadata": {
  "kernelspec": {
   "display_name": "Python 3",
   "language": "python",
   "name": "python3"
  },
  "language_info": {
   "codemirror_mode": {
    "name": "ipython",
    "version": 3
   },
   "file_extension": ".py",
   "mimetype": "text/x-python",
   "name": "python",
   "nbconvert_exporter": "python",
   "pygments_lexer": "ipython3",
   "version": "3.9.12"
  },
  "nav_menu": {
   "height": "264px",
   "width": "369px"
  },
  "toc": {
   "navigate_menu": true,
   "number_sections": true,
   "sideBar": true,
   "threshold": 6,
   "toc_cell": false,
   "toc_section_display": "block",
   "toc_window_display": false
  }
 },
 "nbformat": 4,
 "nbformat_minor": 4
}
