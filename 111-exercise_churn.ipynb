{
  "cells": [
    {
      "cell_type": "markdown",
      "metadata": {
        "id": "sKkJxTKxriAC"
      },
      "source": [
        "# Churn problem \n",
        "\n",
        "A bank is investigating a very high rate of customer leaving the bank. Here is a 10.000 records dataset to investigate and predict which of the customers are more likely to leave the bank soon."
      ]
    },
    {
      "cell_type": "code",
      "execution_count": 1,
      "metadata": {
        "colab": {
          "base_uri": "https://localhost:8080/"
        },
        "id": "qz-EnOORrhEb",
        "outputId": "8e2bcb32-015d-463d-c9aa-0a541238c5de"
      },
      "outputs": [],
      "source": [
        "# Importing the necessary packages\n",
        "import numpy as np                                  # \"Scientific computing\"\n",
        "import scipy.stats as stats                         # Statistical tests\n",
        "\n",
        "import pandas as pd                                 # Data Frame\n",
        "from pandas.api.types import CategoricalDtype\n",
        "\n",
        "import matplotlib.pyplot as plt                     # Basic visualisation\n",
        "import seaborn as sns                               # Advanced data visualisation\n",
        "\n",
        "%matplotlib inline"
      ]
    },
    {
      "cell_type": "markdown",
      "metadata": {
        "id": "t5wkD-a9uzhg"
      },
      "source": [
        "Read the file Churn_Modelling.csv.  \n",
        "Show the first few records."
      ]
    },
    {
      "cell_type": "code",
      "execution_count": 2,
      "metadata": {
        "colab": {
          "base_uri": "https://localhost:8080/",
          "height": 206
        },
        "id": "D2NiiqSsulls",
        "outputId": "3a75ba68-29a6-4a5c-ed4f-c06561309d44"
      },
      "outputs": [
        {
          "data": {
            "text/html": [
              "<div>\n",
              "<style scoped>\n",
              "    .dataframe tbody tr th:only-of-type {\n",
              "        vertical-align: middle;\n",
              "    }\n",
              "\n",
              "    .dataframe tbody tr th {\n",
              "        vertical-align: top;\n",
              "    }\n",
              "\n",
              "    .dataframe thead th {\n",
              "        text-align: right;\n",
              "    }\n",
              "</style>\n",
              "<table border=\"1\" class=\"dataframe\">\n",
              "  <thead>\n",
              "    <tr style=\"text-align: right;\">\n",
              "      <th></th>\n",
              "      <th>RowNumber</th>\n",
              "      <th>CustomerId</th>\n",
              "      <th>Surname</th>\n",
              "      <th>CreditScore</th>\n",
              "      <th>Geography</th>\n",
              "      <th>Gender</th>\n",
              "      <th>Age</th>\n",
              "      <th>Tenure</th>\n",
              "      <th>Balance</th>\n",
              "      <th>NumOfProducts</th>\n",
              "      <th>HasCrCard</th>\n",
              "      <th>IsActiveMember</th>\n",
              "      <th>EstimatedSalary</th>\n",
              "      <th>Exited</th>\n",
              "    </tr>\n",
              "  </thead>\n",
              "  <tbody>\n",
              "    <tr>\n",
              "      <th>0</th>\n",
              "      <td>1</td>\n",
              "      <td>15634602</td>\n",
              "      <td>Hargrave</td>\n",
              "      <td>619</td>\n",
              "      <td>France</td>\n",
              "      <td>Female</td>\n",
              "      <td>42</td>\n",
              "      <td>2</td>\n",
              "      <td>0.00</td>\n",
              "      <td>1</td>\n",
              "      <td>1</td>\n",
              "      <td>1</td>\n",
              "      <td>101348.88</td>\n",
              "      <td>1</td>\n",
              "    </tr>\n",
              "    <tr>\n",
              "      <th>1</th>\n",
              "      <td>2</td>\n",
              "      <td>15647311</td>\n",
              "      <td>Hill</td>\n",
              "      <td>608</td>\n",
              "      <td>Spain</td>\n",
              "      <td>Female</td>\n",
              "      <td>41</td>\n",
              "      <td>1</td>\n",
              "      <td>83807.86</td>\n",
              "      <td>1</td>\n",
              "      <td>0</td>\n",
              "      <td>1</td>\n",
              "      <td>112542.58</td>\n",
              "      <td>0</td>\n",
              "    </tr>\n",
              "    <tr>\n",
              "      <th>2</th>\n",
              "      <td>3</td>\n",
              "      <td>15619304</td>\n",
              "      <td>Onio</td>\n",
              "      <td>502</td>\n",
              "      <td>France</td>\n",
              "      <td>Female</td>\n",
              "      <td>42</td>\n",
              "      <td>8</td>\n",
              "      <td>159660.80</td>\n",
              "      <td>3</td>\n",
              "      <td>1</td>\n",
              "      <td>0</td>\n",
              "      <td>113931.57</td>\n",
              "      <td>1</td>\n",
              "    </tr>\n",
              "    <tr>\n",
              "      <th>3</th>\n",
              "      <td>4</td>\n",
              "      <td>15701354</td>\n",
              "      <td>Boni</td>\n",
              "      <td>699</td>\n",
              "      <td>France</td>\n",
              "      <td>Female</td>\n",
              "      <td>39</td>\n",
              "      <td>1</td>\n",
              "      <td>0.00</td>\n",
              "      <td>2</td>\n",
              "      <td>0</td>\n",
              "      <td>0</td>\n",
              "      <td>93826.63</td>\n",
              "      <td>0</td>\n",
              "    </tr>\n",
              "    <tr>\n",
              "      <th>4</th>\n",
              "      <td>5</td>\n",
              "      <td>15737888</td>\n",
              "      <td>Mitchell</td>\n",
              "      <td>850</td>\n",
              "      <td>Spain</td>\n",
              "      <td>Female</td>\n",
              "      <td>43</td>\n",
              "      <td>2</td>\n",
              "      <td>125510.82</td>\n",
              "      <td>1</td>\n",
              "      <td>1</td>\n",
              "      <td>1</td>\n",
              "      <td>79084.10</td>\n",
              "      <td>0</td>\n",
              "    </tr>\n",
              "  </tbody>\n",
              "</table>\n",
              "</div>"
            ],
            "text/plain": [
              "   RowNumber  CustomerId   Surname  CreditScore Geography  Gender  Age  \\\n",
              "0          1    15634602  Hargrave          619    France  Female   42   \n",
              "1          2    15647311      Hill          608     Spain  Female   41   \n",
              "2          3    15619304      Onio          502    France  Female   42   \n",
              "3          4    15701354      Boni          699    France  Female   39   \n",
              "4          5    15737888  Mitchell          850     Spain  Female   43   \n",
              "\n",
              "   Tenure    Balance  NumOfProducts  HasCrCard  IsActiveMember  \\\n",
              "0       2       0.00              1          1               1   \n",
              "1       1   83807.86              1          0               1   \n",
              "2       8  159660.80              3          1               0   \n",
              "3       1       0.00              2          0               0   \n",
              "4       2  125510.82              1          1               1   \n",
              "\n",
              "   EstimatedSalary  Exited  \n",
              "0        101348.88       1  \n",
              "1        112542.58       0  \n",
              "2        113931.57       1  \n",
              "3         93826.63       0  \n",
              "4         79084.10       0  "
            ]
          },
          "execution_count": 2,
          "metadata": {},
          "output_type": "execute_result"
        }
      ],
      "source": [
        "df = pd.read_csv('https://raw.githubusercontent.com/jdecorte/machinelearning/main/datasets/churn_modelling.csv')\n",
        "df.head()"
      ]
    },
    {
      "cell_type": "markdown",
      "metadata": {
        "id": "PoZMt4fBu_7R"
      },
      "source": [
        "What are the dimensions of the datasets?"
      ]
    },
    {
      "cell_type": "code",
      "execution_count": 3,
      "metadata": {
        "colab": {
          "base_uri": "https://localhost:8080/"
        },
        "id": "gu96SUXIvtVp",
        "outputId": "2771d8d7-1636-4b1b-9466-583bc713d4a2"
      },
      "outputs": [
        {
          "data": {
            "text/plain": [
              "(10000, 14)"
            ]
          },
          "execution_count": 3,
          "metadata": {},
          "output_type": "execute_result"
        }
      ],
      "source": [
        "df.shape"
      ]
    },
    {
      "cell_type": "markdown",
      "metadata": {
        "id": "gRPEvj9Fz0v1"
      },
      "source": [
        "Is this a skewed dataset?"
      ]
    },
    {
      "cell_type": "code",
      "execution_count": 4,
      "metadata": {
        "colab": {
          "base_uri": "https://localhost:8080/"
        },
        "id": "fUVf9c2Pz4Fq",
        "outputId": "bddbb4bf-7ff6-4d9c-cc4d-e204cb5a3ae7"
      },
      "outputs": [
        {
          "data": {
            "text/plain": [
              "0    7963\n",
              "1    2037\n",
              "Name: Exited, dtype: int64"
            ]
          },
          "execution_count": 4,
          "metadata": {},
          "output_type": "execute_result"
        }
      ],
      "source": [
        "df['Exited'].value_counts()"
      ]
    },
    {
      "cell_type": "markdown",
      "metadata": {
        "id": "u_Okz9HpVwrs"
      },
      "source": [
        "Drop the columns RowNumber, CustomerId and Surname"
      ]
    },
    {
      "cell_type": "code",
      "execution_count": 5,
      "metadata": {
        "id": "COu29D2QVv49"
      },
      "outputs": [],
      "source": [
        "df = df.drop(['RowNumber','CustomerId','Surname'],axis=1)"
      ]
    },
    {
      "cell_type": "markdown",
      "metadata": {
        "id": "6rwj9YHWWEKF"
      },
      "source": [
        "What are the different values for Geography?"
      ]
    },
    {
      "cell_type": "code",
      "execution_count": 6,
      "metadata": {
        "colab": {
          "base_uri": "https://localhost:8080/"
        },
        "id": "HjwJQqlsWCN4",
        "outputId": "8174727f-874e-40a8-a128-80ee7e404ae4"
      },
      "outputs": [
        {
          "data": {
            "text/plain": [
              "France     5014\n",
              "Germany    2509\n",
              "Spain      2477\n",
              "Name: Geography, dtype: int64"
            ]
          },
          "execution_count": 6,
          "metadata": {},
          "output_type": "execute_result"
        }
      ],
      "source": [
        "df['Geography'].value_counts()"
      ]
    },
    {
      "cell_type": "markdown",
      "metadata": {
        "id": "bgSmTrrTWedU"
      },
      "source": [
        "Use one-hot encoding to replace Gender and Geography."
      ]
    },
    {
      "cell_type": "code",
      "execution_count": 7,
      "metadata": {
        "colab": {
          "base_uri": "https://localhost:8080/",
          "height": 206
        },
        "id": "u9u3w17IWdvf",
        "outputId": "202b2a84-0b18-4bf7-fa3a-94b96b69ea1a"
      },
      "outputs": [
        {
          "data": {
            "text/html": [
              "<div>\n",
              "<style scoped>\n",
              "    .dataframe tbody tr th:only-of-type {\n",
              "        vertical-align: middle;\n",
              "    }\n",
              "\n",
              "    .dataframe tbody tr th {\n",
              "        vertical-align: top;\n",
              "    }\n",
              "\n",
              "    .dataframe thead th {\n",
              "        text-align: right;\n",
              "    }\n",
              "</style>\n",
              "<table border=\"1\" class=\"dataframe\">\n",
              "  <thead>\n",
              "    <tr style=\"text-align: right;\">\n",
              "      <th></th>\n",
              "      <th>CreditScore</th>\n",
              "      <th>Age</th>\n",
              "      <th>Tenure</th>\n",
              "      <th>Balance</th>\n",
              "      <th>NumOfProducts</th>\n",
              "      <th>HasCrCard</th>\n",
              "      <th>IsActiveMember</th>\n",
              "      <th>EstimatedSalary</th>\n",
              "      <th>Exited</th>\n",
              "      <th>Geography_France</th>\n",
              "      <th>Geography_Germany</th>\n",
              "      <th>Geography_Spain</th>\n",
              "      <th>Gender_Female</th>\n",
              "      <th>Gender_Male</th>\n",
              "    </tr>\n",
              "  </thead>\n",
              "  <tbody>\n",
              "    <tr>\n",
              "      <th>0</th>\n",
              "      <td>619</td>\n",
              "      <td>42</td>\n",
              "      <td>2</td>\n",
              "      <td>0.00</td>\n",
              "      <td>1</td>\n",
              "      <td>1</td>\n",
              "      <td>1</td>\n",
              "      <td>101348.88</td>\n",
              "      <td>1</td>\n",
              "      <td>1</td>\n",
              "      <td>0</td>\n",
              "      <td>0</td>\n",
              "      <td>1</td>\n",
              "      <td>0</td>\n",
              "    </tr>\n",
              "    <tr>\n",
              "      <th>1</th>\n",
              "      <td>608</td>\n",
              "      <td>41</td>\n",
              "      <td>1</td>\n",
              "      <td>83807.86</td>\n",
              "      <td>1</td>\n",
              "      <td>0</td>\n",
              "      <td>1</td>\n",
              "      <td>112542.58</td>\n",
              "      <td>0</td>\n",
              "      <td>0</td>\n",
              "      <td>0</td>\n",
              "      <td>1</td>\n",
              "      <td>1</td>\n",
              "      <td>0</td>\n",
              "    </tr>\n",
              "    <tr>\n",
              "      <th>2</th>\n",
              "      <td>502</td>\n",
              "      <td>42</td>\n",
              "      <td>8</td>\n",
              "      <td>159660.80</td>\n",
              "      <td>3</td>\n",
              "      <td>1</td>\n",
              "      <td>0</td>\n",
              "      <td>113931.57</td>\n",
              "      <td>1</td>\n",
              "      <td>1</td>\n",
              "      <td>0</td>\n",
              "      <td>0</td>\n",
              "      <td>1</td>\n",
              "      <td>0</td>\n",
              "    </tr>\n",
              "    <tr>\n",
              "      <th>3</th>\n",
              "      <td>699</td>\n",
              "      <td>39</td>\n",
              "      <td>1</td>\n",
              "      <td>0.00</td>\n",
              "      <td>2</td>\n",
              "      <td>0</td>\n",
              "      <td>0</td>\n",
              "      <td>93826.63</td>\n",
              "      <td>0</td>\n",
              "      <td>1</td>\n",
              "      <td>0</td>\n",
              "      <td>0</td>\n",
              "      <td>1</td>\n",
              "      <td>0</td>\n",
              "    </tr>\n",
              "    <tr>\n",
              "      <th>4</th>\n",
              "      <td>850</td>\n",
              "      <td>43</td>\n",
              "      <td>2</td>\n",
              "      <td>125510.82</td>\n",
              "      <td>1</td>\n",
              "      <td>1</td>\n",
              "      <td>1</td>\n",
              "      <td>79084.10</td>\n",
              "      <td>0</td>\n",
              "      <td>0</td>\n",
              "      <td>0</td>\n",
              "      <td>1</td>\n",
              "      <td>1</td>\n",
              "      <td>0</td>\n",
              "    </tr>\n",
              "  </tbody>\n",
              "</table>\n",
              "</div>"
            ],
            "text/plain": [
              "   CreditScore  Age  Tenure    Balance  NumOfProducts  HasCrCard  \\\n",
              "0          619   42       2       0.00              1          1   \n",
              "1          608   41       1   83807.86              1          0   \n",
              "2          502   42       8  159660.80              3          1   \n",
              "3          699   39       1       0.00              2          0   \n",
              "4          850   43       2  125510.82              1          1   \n",
              "\n",
              "   IsActiveMember  EstimatedSalary  Exited  Geography_France  \\\n",
              "0               1        101348.88       1                 1   \n",
              "1               1        112542.58       0                 0   \n",
              "2               0        113931.57       1                 1   \n",
              "3               0         93826.63       0                 1   \n",
              "4               1         79084.10       0                 0   \n",
              "\n",
              "   Geography_Germany  Geography_Spain  Gender_Female  Gender_Male  \n",
              "0                  0                0              1            0  \n",
              "1                  0                1              1            0  \n",
              "2                  0                0              1            0  \n",
              "3                  0                0              1            0  \n",
              "4                  0                1              1            0  "
            ]
          },
          "execution_count": 7,
          "metadata": {},
          "output_type": "execute_result"
        }
      ],
      "source": [
        "df = pd.get_dummies(df,columns=['Geography','Gender'],prefix=['Geography','Gender'])\n",
        "df.head()"
      ]
    },
    {
      "cell_type": "code",
      "execution_count": null,
      "metadata": {
        "colab": {
          "base_uri": "https://localhost:8080/",
          "height": 270
        },
        "id": "qfrkXeHSW4S9",
        "outputId": "294b1270-4bd3-4297-fb55-6bdcd1ac6593"
      },
      "outputs": [],
      "source": []
    },
    {
      "cell_type": "markdown",
      "metadata": {},
      "source": [
        "Make sure you understand this function. We will use is later on to evaluate the ANN."
      ]
    },
    {
      "cell_type": "code",
      "execution_count": 8,
      "metadata": {
        "id": "o_2arcO2yiR2"
      },
      "outputs": [],
      "source": [
        "def plot_history(history):\n",
        "  plt.figure(figsize = (12,4))\n",
        "  plt.subplot(1,2,1)\n",
        "\n",
        "  plt.xlabel('Epoch')\n",
        "  plt.ylabel('Accuracy')\n",
        "  plt.plot(history.epoch, np.array(history.history['accuracy']),'g-',\n",
        "           label='Train accuracy')\n",
        "  plt.plot(history.epoch, np.array(history.history['val_accuracy']),'r-',\n",
        "           label = 'Validation accuracy')\n",
        "  plt.legend()\n",
        "\n",
        "  plt.subplot(1,2,2)\n",
        "  plt.xlabel('Epoch')\n",
        "  plt.ylabel('Loss minimised by model')\n",
        "  plt.plot(history.epoch, np.array(history.history['loss']),'g-',\n",
        "           label='Train loss')\n",
        "  plt.plot(history.epoch, np.array(history.history['val_loss']),'r-',\n",
        "           label = 'Validation loss')\n",
        "  plt.legend()"
      ]
    },
    {
      "cell_type": "markdown",
      "metadata": {
        "id": "O3gSSfm9WkLQ"
      },
      "source": [
        "What is X and what is y?"
      ]
    },
    {
      "cell_type": "code",
      "execution_count": 9,
      "metadata": {
        "id": "Kr9_Xm8OJs8F"
      },
      "outputs": [],
      "source": [
        "X = df.drop(['Exited'],axis=1)\n",
        "y = df['Exited']"
      ]
    },
    {
      "cell_type": "markdown",
      "metadata": {
        "id": "s7n0sO0PWov_"
      },
      "source": [
        "What is X_train, y_train, X_test, y_test?"
      ]
    },
    {
      "cell_type": "code",
      "execution_count": 10,
      "metadata": {
        "id": "IA_DKfYRKsq3"
      },
      "outputs": [],
      "source": [
        "from sklearn.model_selection import train_test_split\n",
        "X_train, X_test, y_train,y_test = train_test_split(X,y,test_size=0.15,random_state=42)"
      ]
    },
    {
      "cell_type": "markdown",
      "metadata": {
        "id": "XCHe3JqRWrFX"
      },
      "source": [
        "What is X_train, y_train, X_val, y_val?"
      ]
    },
    {
      "cell_type": "code",
      "execution_count": 11,
      "metadata": {
        "id": "mrAdQRBHK0sH"
      },
      "outputs": [],
      "source": [
        "X_train,X_val,y_train,y_val = train_test_split(X_train,y_train,test_size=0.15,random_state=42)"
      ]
    },
    {
      "cell_type": "markdown",
      "metadata": {
        "id": "u4ts-oEUWyMm"
      },
      "source": [
        "What are the dimensions of X_train, X_val, X_test, y_train, y_val, y_test?"
      ]
    },
    {
      "cell_type": "code",
      "execution_count": 12,
      "metadata": {
        "colab": {
          "base_uri": "https://localhost:8080/"
        },
        "id": "5xtda5DVK98F",
        "outputId": "2e2f2c58-eb4d-4ab0-8378-ca68f652f0af"
      },
      "outputs": [
        {
          "name": "stdout",
          "output_type": "stream",
          "text": [
            "(7225, 13)\n",
            "(1275, 13)\n",
            "(1500, 13)\n",
            "(7225,)\n",
            "(1275,)\n",
            "(1500,)\n"
          ]
        }
      ],
      "source": [
        "print(X_train.shape)\n",
        "print(X_val.shape)\n",
        "print(X_test.shape)\n",
        "\n",
        "print(y_train.shape)\n",
        "print(y_val.shape)\n",
        "print(y_test.shape)\n"
      ]
    },
    {
      "cell_type": "markdown",
      "metadata": {
        "id": "vL83lw5TXgSp"
      },
      "source": [
        "Standardize the data before providing it as training data.  \n",
        "You should only use the training data to fit the scaler transformation\n",
        "and use the same fitted object to transform the validation and test input\n",
        "data."
      ]
    },
    {
      "cell_type": "code",
      "execution_count": 13,
      "metadata": {
        "id": "7TgXTCmYLtat"
      },
      "outputs": [],
      "source": [
        "from sklearn.preprocessing import StandardScaler\n",
        "\n",
        "scaler= StandardScaler()\n",
        "scaler.fit(X_train)\n",
        "\n",
        "X_train_scaled = scaler.transform(X_train)\n",
        "X_test_scaled = scaler.transform(X_test)\n",
        "X_val_scaled = scaler.transform(X_val)"
      ]
    },
    {
      "cell_type": "markdown",
      "metadata": {
        "id": "o4Le__cyMD7o"
      },
      "source": [
        "* First create a small ANN model.  \n",
        "* Add BatchNormalization\n",
        "* Add Dropout\n",
        "* Evaluate the results after each fine tuning.\n"
      ]
    },
    {
      "cell_type": "code",
      "execution_count": 14,
      "metadata": {},
      "outputs": [],
      "source": [
        "import tensorflow as tf\n",
        "from tensorflow import keras\n",
        "\n",
        "model = keras.models.Sequential()\n",
        "\n",
        "model.add(keras.layers.Dense(128,activation=\"relu\",input_dim = X_train_scaled.shape[1]))\n",
        "\n",
        "model.add(keras.layers.Dropout(rate=0.2))\n",
        "model.add(keras.layers.BatchNormalization())\n",
        "\n",
        "model.add(keras.layers.Dense(64,activation=\"relu\"))\n",
        "model.add(keras.layers.Dropout(rate=0.4))\n",
        "model.add(keras.layers.BatchNormalization())\n",
        "\n",
        "model.add(keras.layers.Dense(64,activation=\"relu\"))\n",
        "model.add(keras.layers.Dropout(rate=0.4))\n",
        "model.add(keras.layers.BatchNormalization())\n",
        "\n",
        "\n",
        "model.add(keras.layers.Dense(1,activation='sigmoid'))\n"
      ]
    },
    {
      "cell_type": "code",
      "execution_count": 15,
      "metadata": {},
      "outputs": [],
      "source": [
        "model.compile(loss='binary_crossentropy',optimizer=\"adam\",metrics=[\"accuracy\"])"
      ]
    },
    {
      "cell_type": "code",
      "execution_count": 16,
      "metadata": {},
      "outputs": [
        {
          "name": "stdout",
          "output_type": "stream",
          "text": [
            "Epoch 1/30\n",
            "113/113 [==============================] - 1s 3ms/step - loss: 0.7081 - accuracy: 0.6159 - val_loss: 0.5287 - val_accuracy: 0.7804\n",
            "Epoch 2/30\n",
            "113/113 [==============================] - 0s 2ms/step - loss: 0.5516 - accuracy: 0.7506 - val_loss: 0.4984 - val_accuracy: 0.7804\n",
            "Epoch 3/30\n",
            "113/113 [==============================] - 0s 2ms/step - loss: 0.5121 - accuracy: 0.7740 - val_loss: 0.4563 - val_accuracy: 0.7906\n",
            "Epoch 4/30\n",
            "113/113 [==============================] - 0s 2ms/step - loss: 0.4903 - accuracy: 0.7867 - val_loss: 0.4353 - val_accuracy: 0.8000\n",
            "Epoch 5/30\n",
            "113/113 [==============================] - 0s 2ms/step - loss: 0.4666 - accuracy: 0.7943 - val_loss: 0.4163 - val_accuracy: 0.8212\n",
            "Epoch 6/30\n",
            "113/113 [==============================] - 0s 2ms/step - loss: 0.4533 - accuracy: 0.8004 - val_loss: 0.4109 - val_accuracy: 0.8110\n",
            "Epoch 7/30\n",
            "113/113 [==============================] - 0s 2ms/step - loss: 0.4359 - accuracy: 0.8090 - val_loss: 0.3992 - val_accuracy: 0.8141\n",
            "Epoch 8/30\n",
            "113/113 [==============================] - 0s 2ms/step - loss: 0.4243 - accuracy: 0.8176 - val_loss: 0.3909 - val_accuracy: 0.8251\n",
            "Epoch 9/30\n",
            "113/113 [==============================] - 0s 2ms/step - loss: 0.4139 - accuracy: 0.8183 - val_loss: 0.3852 - val_accuracy: 0.8384\n",
            "Epoch 10/30\n",
            "113/113 [==============================] - 0s 2ms/step - loss: 0.4099 - accuracy: 0.8206 - val_loss: 0.3806 - val_accuracy: 0.8384\n",
            "Epoch 11/30\n",
            "113/113 [==============================] - 0s 2ms/step - loss: 0.3978 - accuracy: 0.8237 - val_loss: 0.3815 - val_accuracy: 0.8400\n",
            "Epoch 12/30\n",
            "113/113 [==============================] - 0s 2ms/step - loss: 0.3958 - accuracy: 0.8256 - val_loss: 0.3737 - val_accuracy: 0.8518\n",
            "Epoch 13/30\n",
            "113/113 [==============================] - 0s 2ms/step - loss: 0.3863 - accuracy: 0.8339 - val_loss: 0.3689 - val_accuracy: 0.8486\n",
            "Epoch 14/30\n",
            "113/113 [==============================] - 0s 2ms/step - loss: 0.3880 - accuracy: 0.8291 - val_loss: 0.3728 - val_accuracy: 0.8376\n",
            "Epoch 15/30\n",
            "113/113 [==============================] - 0s 2ms/step - loss: 0.3841 - accuracy: 0.8386 - val_loss: 0.3690 - val_accuracy: 0.8525\n",
            "Epoch 16/30\n",
            "113/113 [==============================] - 0s 2ms/step - loss: 0.3801 - accuracy: 0.8394 - val_loss: 0.3675 - val_accuracy: 0.8494\n",
            "Epoch 17/30\n",
            "113/113 [==============================] - 0s 2ms/step - loss: 0.3807 - accuracy: 0.8360 - val_loss: 0.3649 - val_accuracy: 0.8525\n",
            "Epoch 18/30\n",
            "113/113 [==============================] - 0s 2ms/step - loss: 0.3727 - accuracy: 0.8397 - val_loss: 0.3650 - val_accuracy: 0.8494\n",
            "Epoch 19/30\n",
            "113/113 [==============================] - 0s 2ms/step - loss: 0.3711 - accuracy: 0.8385 - val_loss: 0.3626 - val_accuracy: 0.8455\n",
            "Epoch 20/30\n",
            "113/113 [==============================] - 0s 2ms/step - loss: 0.3742 - accuracy: 0.8419 - val_loss: 0.3611 - val_accuracy: 0.8549\n",
            "Epoch 21/30\n",
            "113/113 [==============================] - 0s 2ms/step - loss: 0.3704 - accuracy: 0.8425 - val_loss: 0.3600 - val_accuracy: 0.8573\n",
            "Epoch 22/30\n",
            "113/113 [==============================] - 0s 2ms/step - loss: 0.3712 - accuracy: 0.8394 - val_loss: 0.3632 - val_accuracy: 0.8502\n",
            "Epoch 23/30\n",
            "113/113 [==============================] - 0s 2ms/step - loss: 0.3675 - accuracy: 0.8439 - val_loss: 0.3622 - val_accuracy: 0.8502\n",
            "Epoch 24/30\n",
            "113/113 [==============================] - 0s 2ms/step - loss: 0.3675 - accuracy: 0.8468 - val_loss: 0.3644 - val_accuracy: 0.8486\n",
            "Epoch 25/30\n",
            "113/113 [==============================] - 0s 2ms/step - loss: 0.3617 - accuracy: 0.8480 - val_loss: 0.3627 - val_accuracy: 0.8494\n",
            "Epoch 26/30\n",
            "113/113 [==============================] - 0s 2ms/step - loss: 0.3623 - accuracy: 0.8399 - val_loss: 0.3598 - val_accuracy: 0.8588\n",
            "Epoch 27/30\n",
            "113/113 [==============================] - 0s 2ms/step - loss: 0.3576 - accuracy: 0.8483 - val_loss: 0.3598 - val_accuracy: 0.8557\n",
            "Epoch 28/30\n",
            "113/113 [==============================] - 0s 2ms/step - loss: 0.3597 - accuracy: 0.8509 - val_loss: 0.3567 - val_accuracy: 0.8596\n",
            "Epoch 29/30\n",
            "113/113 [==============================] - 0s 2ms/step - loss: 0.3606 - accuracy: 0.8448 - val_loss: 0.3609 - val_accuracy: 0.8502\n",
            "Epoch 30/30\n",
            "113/113 [==============================] - 0s 2ms/step - loss: 0.3583 - accuracy: 0.8508 - val_loss: 0.3577 - val_accuracy: 0.8588\n"
          ]
        }
      ],
      "source": [
        "history = model.fit(X_train_scaled,y_train,epochs=30,batch_size=64,validation_data=(X_val_scaled,y_val))"
      ]
    },
    {
      "cell_type": "code",
      "execution_count": 17,
      "metadata": {},
      "outputs": [
        {
          "data": {
            "image/png": "[encoded data removed]",
            "text/plain": [
              "<Figure size 864x288 with 2 Axes>"
            ]
          },
          "metadata": {
            "needs_background": "light"
          },
          "output_type": "display_data"
        }
      ],
      "source": [
        "plot_history(history)"
      ]
    }
  ],
  "metadata": {
    "colab": {
      "collapsed_sections": [],
      "name": "Chapter 11 Exercise Churn Modelling Solution.ipynb",
      "provenance": []
    },
    "kernelspec": {
      "display_name": "Python 3",
      "name": "python3"
    },
    "language_info": {
      "codemirror_mode": {
        "name": "ipython",
        "version": 3
      },
      "file_extension": ".py",
      "mimetype": "text/x-python",
      "name": "python",
      "nbconvert_exporter": "python",
      "pygments_lexer": "ipython3",
      "version": "3.9.12"
    }
  },
  "nbformat": 4,
  "nbformat_minor": 0
}
