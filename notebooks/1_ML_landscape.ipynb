{
 "cells": [
  {
   "cell_type": "markdown",
   "metadata": {},
   "source": [
    "# What Is Machine Learning?\n",
    "## Definitions\n",
    ">_Machine Learning is the science (and art) of programming computers so they can learn from data._\n",
    "\n",
    ">_[Machine Learning is the] field of study that gives computers the ability to learn without being explicitly programmed._\n",
    ">\n",
    ">Arthur Samuel, 1959\n",
    "\n",
    ">_A computer program is said to learn from experience E with respect to some task T and some performance measure P,_\n",
    "> if its performance on T, as measured by P, improves with experience E._\n",
    ">\n",
    ">Tom Mitchell, 1997\n",
    "\n",
    "## Examples\n",
    "- spam filter\n",
    "## Why use machine learning? \n"
   ]
  }
 ],
 "metadata": {
  "language_info": {
   "name": "python"
  },
  "orig_nbformat": 4
 },
 "nbformat": 4,
 "nbformat_minor": 2
}
